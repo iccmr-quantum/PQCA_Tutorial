{
 "cells": [
  {
   "cell_type": "markdown",
   "id": "beautiful-melissa",
   "metadata": {},
   "source": [
    "# Synthesising music from a 2D Quantum Cellular Automaton"
   ]
  },
  {
   "cell_type": "markdown",
   "id": "imported-worst",
   "metadata": {},
   "source": [
    "This tutorial follows on from the tutorial `pqca_to_midi`. In this tutorial we will be using a more complicated automaton, and a correspondingly more complicated music synthesis procedure."
   ]
  },
  {
   "cell_type": "markdown",
   "id": "complicated-graph",
   "metadata": {},
   "source": [
    "We will be using `music21` to turns notes into chords into MusicXML."
   ]
  },
  {
   "cell_type": "code",
   "execution_count": 1,
   "id": "equivalent-aspect",
   "metadata": {},
   "outputs": [
    {
     "name": "stderr",
     "output_type": "stream",
     "text": [
      "music21: Certain music21 functions might need the optional package matplotlib;\n",
      "                  if you run into errors, install it by following the instructions at\n",
      "                  http://mit.edu/music21/doc/installing/installAdditional.html\n"
     ]
    }
   ],
   "source": [
    "import music21\n",
    "import math\n",
    "import midiutil"
   ]
  },
  {
   "cell_type": "markdown",
   "id": "fewer-affiliate",
   "metadata": {},
   "source": [
    "## Starting classically"
   ]
  },
  {
   "cell_type": "markdown",
   "id": "another-paintball",
   "metadata": {},
   "source": [
    "Before constructing the automaton we will show how we will turn its output into music. We will be using a variant on the [CAMUS procedure](https://link.springer.com/chapter/10.1007/978-1-84628-600-1_8) to generate music, but all that will be explained below. We will be working with *grids* of bits of shape $9 \\times 4$.\n",
    "We aren't really using a bitstring anymore, now that it's 2D, but we will work analogously to the 1D case, and here is a bit generator that creates classically-random grids of bits of the right shape."
   ]
  },
  {
   "cell_type": "code",
   "execution_count": 2,
   "id": "broke-booth",
   "metadata": {},
   "outputs": [],
   "source": [
    "import random\n",
    "class Bit_Generator:\n",
    "    def __next__(self):\n",
    "        return [[random.choice([0,1]) for i in range(0,9)] for j in range(0,4)]\n",
    "BG = Bit_Generator()"
   ]
  },
  {
   "cell_type": "code",
   "execution_count": 3,
   "id": "fixed-cycling",
   "metadata": {},
   "outputs": [
    {
     "data": {
      "text/plain": [
       "[[1, 1, 1, 0, 0, 0, 0, 1, 1],\n",
       " [0, 0, 0, 0, 1, 1, 1, 1, 1],\n",
       " [0, 0, 1, 1, 1, 1, 0, 1, 1],\n",
       " [1, 1, 0, 1, 1, 0, 1, 1, 1]]"
      ]
     },
     "execution_count": 3,
     "metadata": {},
     "output_type": "execute_result"
    }
   ],
   "source": [
    "next(BG)"
   ]
  },
  {
   "cell_type": "markdown",
   "id": "seven-platform",
   "metadata": {},
   "source": [
    "## Drawing this state"
   ]
  },
  {
   "cell_type": "markdown",
   "id": "victorian-split",
   "metadata": {},
   "source": [
    "In earlier examples we had a _one dimensional_ automaton, meaning the state was a list of 0s and 1s. We then draw subsequent states of the automaton as subsequent rows down the page.\n",
    "Now that we have a _two dimensional_ state we will be drawing just one state at a time as a grid of squares."
   ]
  },
  {
   "cell_type": "markdown",
   "id": "violent-cloud",
   "metadata": {},
   "source": [
    "So that we can clearly indicate certain squares we will want to be able to draw coloured markers on the squares. The function below draws out this grid and also marks any squares passed via the `marked` argument."
   ]
  },
  {
   "cell_type": "code",
   "execution_count": 4,
   "id": "fuzzy-firmware",
   "metadata": {},
   "outputs": [],
   "source": [
    "import drawSvg\n",
    "def draw_bits(nine_by_four_bits, marked=None, mark_colour=None):\n",
    "    \"\"\"Draw the bits as a shaded grid, marking special points\"\"\"\n",
    "    # Understanding this code is not important to the tutorial\n",
    "    square_size = 20 # in pixels\n",
    "    drawing = drawSvg.Drawing(square_size*9, square_size*4)\n",
    "    for row in range(4):\n",
    "        for index, bit in enumerate(nine_by_four_bits[row]):\n",
    "            colour = '#eeeeee' if bit else '#000000'\n",
    "            rect = drawSvg.Rectangle(index*square_size,(3-row)*square_size,square_size,square_size, fill=colour)\n",
    "            drawing.append(rect)\n",
    "    if marked is None:\n",
    "        marked = []\n",
    "    for index, mark in enumerate(marked):\n",
    "        # Mark each coordinate in the list `marked`\n",
    "        x = mark[0]\n",
    "        y = mark[1]\n",
    "        colour = \"#5af\" if mark_colour is None else mark_colour\n",
    "        circle = drawSvg.Circle((x+0.5)*square_size,(3.5-y)*square_size,square_size/6, fill=colour)\n",
    "        drawing.append(circle)\n",
    "    return drawing"
   ]
  },
  {
   "cell_type": "markdown",
   "id": "turned-supervision",
   "metadata": {},
   "source": [
    "Let's draw three of these, each drawing shows a single state of 9 by 4 bits. The first has no marked squares."
   ]
  },
  {
   "cell_type": "code",
   "execution_count": 5,
   "id": "overhead-blend",
   "metadata": {},
   "outputs": [
    {
     "data": {
      "image/svg+xml": [
       "<?xml version=\"1.0\" encoding=\"UTF-8\"?>\n",
       "<svg xmlns=\"http://www.w3.org/2000/svg\" xmlns:xlink=\"http://www.w3.org/1999/xlink\"\n",
       "     width=\"180\" height=\"80\" viewBox=\"0 -80 180 80\">\n",
       "<defs>\n",
       "</defs>\n",
       "<rect x=\"0\" y=\"-80\" width=\"20\" height=\"20\" fill=\"#000000\" />\n",
       "<rect x=\"20\" y=\"-80\" width=\"20\" height=\"20\" fill=\"#000000\" />\n",
       "<rect x=\"40\" y=\"-80\" width=\"20\" height=\"20\" fill=\"#eeeeee\" />\n",
       "<rect x=\"60\" y=\"-80\" width=\"20\" height=\"20\" fill=\"#eeeeee\" />\n",
       "<rect x=\"80\" y=\"-80\" width=\"20\" height=\"20\" fill=\"#000000\" />\n",
       "<rect x=\"100\" y=\"-80\" width=\"20\" height=\"20\" fill=\"#eeeeee\" />\n",
       "<rect x=\"120\" y=\"-80\" width=\"20\" height=\"20\" fill=\"#eeeeee\" />\n",
       "<rect x=\"140\" y=\"-80\" width=\"20\" height=\"20\" fill=\"#eeeeee\" />\n",
       "<rect x=\"160\" y=\"-80\" width=\"20\" height=\"20\" fill=\"#eeeeee\" />\n",
       "<rect x=\"0\" y=\"-60\" width=\"20\" height=\"20\" fill=\"#eeeeee\" />\n",
       "<rect x=\"20\" y=\"-60\" width=\"20\" height=\"20\" fill=\"#000000\" />\n",
       "<rect x=\"40\" y=\"-60\" width=\"20\" height=\"20\" fill=\"#eeeeee\" />\n",
       "<rect x=\"60\" y=\"-60\" width=\"20\" height=\"20\" fill=\"#000000\" />\n",
       "<rect x=\"80\" y=\"-60\" width=\"20\" height=\"20\" fill=\"#000000\" />\n",
       "<rect x=\"100\" y=\"-60\" width=\"20\" height=\"20\" fill=\"#000000\" />\n",
       "<rect x=\"120\" y=\"-60\" width=\"20\" height=\"20\" fill=\"#000000\" />\n",
       "<rect x=\"140\" y=\"-60\" width=\"20\" height=\"20\" fill=\"#eeeeee\" />\n",
       "<rect x=\"160\" y=\"-60\" width=\"20\" height=\"20\" fill=\"#000000\" />\n",
       "<rect x=\"0\" y=\"-40\" width=\"20\" height=\"20\" fill=\"#eeeeee\" />\n",
       "<rect x=\"20\" y=\"-40\" width=\"20\" height=\"20\" fill=\"#000000\" />\n",
       "<rect x=\"40\" y=\"-40\" width=\"20\" height=\"20\" fill=\"#000000\" />\n",
       "<rect x=\"60\" y=\"-40\" width=\"20\" height=\"20\" fill=\"#000000\" />\n",
       "<rect x=\"80\" y=\"-40\" width=\"20\" height=\"20\" fill=\"#000000\" />\n",
       "<rect x=\"100\" y=\"-40\" width=\"20\" height=\"20\" fill=\"#000000\" />\n",
       "<rect x=\"120\" y=\"-40\" width=\"20\" height=\"20\" fill=\"#eeeeee\" />\n",
       "<rect x=\"140\" y=\"-40\" width=\"20\" height=\"20\" fill=\"#000000\" />\n",
       "<rect x=\"160\" y=\"-40\" width=\"20\" height=\"20\" fill=\"#eeeeee\" />\n",
       "<rect x=\"0\" y=\"-20\" width=\"20\" height=\"20\" fill=\"#eeeeee\" />\n",
       "<rect x=\"20\" y=\"-20\" width=\"20\" height=\"20\" fill=\"#000000\" />\n",
       "<rect x=\"40\" y=\"-20\" width=\"20\" height=\"20\" fill=\"#000000\" />\n",
       "<rect x=\"60\" y=\"-20\" width=\"20\" height=\"20\" fill=\"#000000\" />\n",
       "<rect x=\"80\" y=\"-20\" width=\"20\" height=\"20\" fill=\"#000000\" />\n",
       "<rect x=\"100\" y=\"-20\" width=\"20\" height=\"20\" fill=\"#000000\" />\n",
       "<rect x=\"120\" y=\"-20\" width=\"20\" height=\"20\" fill=\"#eeeeee\" />\n",
       "<rect x=\"140\" y=\"-20\" width=\"20\" height=\"20\" fill=\"#eeeeee\" />\n",
       "<rect x=\"160\" y=\"-20\" width=\"20\" height=\"20\" fill=\"#000000\" />\n",
       "</svg>"
      ],
      "text/plain": [
       "<drawSvg.drawing.Drawing at 0x7f87594d06d0>"
      ]
     },
     "execution_count": 5,
     "metadata": {},
     "output_type": "execute_result"
    }
   ],
   "source": [
    "draw_bits(next(BG))"
   ]
  },
  {
   "cell_type": "markdown",
   "id": "mobile-blink",
   "metadata": {},
   "source": [
    "For the next one we will mark point `[0,0]`, which is the top left hand corner. Recall that arrays start at 0 in python."
   ]
  },
  {
   "cell_type": "code",
   "execution_count": 6,
   "id": "confidential-nigeria",
   "metadata": {},
   "outputs": [
    {
     "data": {
      "image/svg+xml": [
       "<?xml version=\"1.0\" encoding=\"UTF-8\"?>\n",
       "<svg xmlns=\"http://www.w3.org/2000/svg\" xmlns:xlink=\"http://www.w3.org/1999/xlink\"\n",
       "     width=\"180\" height=\"80\" viewBox=\"0 -80 180 80\">\n",
       "<defs>\n",
       "</defs>\n",
       "<rect x=\"0\" y=\"-80\" width=\"20\" height=\"20\" fill=\"#eeeeee\" />\n",
       "<rect x=\"20\" y=\"-80\" width=\"20\" height=\"20\" fill=\"#eeeeee\" />\n",
       "<rect x=\"40\" y=\"-80\" width=\"20\" height=\"20\" fill=\"#eeeeee\" />\n",
       "<rect x=\"60\" y=\"-80\" width=\"20\" height=\"20\" fill=\"#eeeeee\" />\n",
       "<rect x=\"80\" y=\"-80\" width=\"20\" height=\"20\" fill=\"#eeeeee\" />\n",
       "<rect x=\"100\" y=\"-80\" width=\"20\" height=\"20\" fill=\"#eeeeee\" />\n",
       "<rect x=\"120\" y=\"-80\" width=\"20\" height=\"20\" fill=\"#eeeeee\" />\n",
       "<rect x=\"140\" y=\"-80\" width=\"20\" height=\"20\" fill=\"#000000\" />\n",
       "<rect x=\"160\" y=\"-80\" width=\"20\" height=\"20\" fill=\"#eeeeee\" />\n",
       "<rect x=\"0\" y=\"-60\" width=\"20\" height=\"20\" fill=\"#eeeeee\" />\n",
       "<rect x=\"20\" y=\"-60\" width=\"20\" height=\"20\" fill=\"#000000\" />\n",
       "<rect x=\"40\" y=\"-60\" width=\"20\" height=\"20\" fill=\"#eeeeee\" />\n",
       "<rect x=\"60\" y=\"-60\" width=\"20\" height=\"20\" fill=\"#000000\" />\n",
       "<rect x=\"80\" y=\"-60\" width=\"20\" height=\"20\" fill=\"#000000\" />\n",
       "<rect x=\"100\" y=\"-60\" width=\"20\" height=\"20\" fill=\"#000000\" />\n",
       "<rect x=\"120\" y=\"-60\" width=\"20\" height=\"20\" fill=\"#000000\" />\n",
       "<rect x=\"140\" y=\"-60\" width=\"20\" height=\"20\" fill=\"#eeeeee\" />\n",
       "<rect x=\"160\" y=\"-60\" width=\"20\" height=\"20\" fill=\"#000000\" />\n",
       "<rect x=\"0\" y=\"-40\" width=\"20\" height=\"20\" fill=\"#000000\" />\n",
       "<rect x=\"20\" y=\"-40\" width=\"20\" height=\"20\" fill=\"#000000\" />\n",
       "<rect x=\"40\" y=\"-40\" width=\"20\" height=\"20\" fill=\"#eeeeee\" />\n",
       "<rect x=\"60\" y=\"-40\" width=\"20\" height=\"20\" fill=\"#eeeeee\" />\n",
       "<rect x=\"80\" y=\"-40\" width=\"20\" height=\"20\" fill=\"#000000\" />\n",
       "<rect x=\"100\" y=\"-40\" width=\"20\" height=\"20\" fill=\"#eeeeee\" />\n",
       "<rect x=\"120\" y=\"-40\" width=\"20\" height=\"20\" fill=\"#eeeeee\" />\n",
       "<rect x=\"140\" y=\"-40\" width=\"20\" height=\"20\" fill=\"#eeeeee\" />\n",
       "<rect x=\"160\" y=\"-40\" width=\"20\" height=\"20\" fill=\"#000000\" />\n",
       "<rect x=\"0\" y=\"-20\" width=\"20\" height=\"20\" fill=\"#000000\" />\n",
       "<rect x=\"20\" y=\"-20\" width=\"20\" height=\"20\" fill=\"#000000\" />\n",
       "<rect x=\"40\" y=\"-20\" width=\"20\" height=\"20\" fill=\"#000000\" />\n",
       "<rect x=\"60\" y=\"-20\" width=\"20\" height=\"20\" fill=\"#eeeeee\" />\n",
       "<rect x=\"80\" y=\"-20\" width=\"20\" height=\"20\" fill=\"#eeeeee\" />\n",
       "<rect x=\"100\" y=\"-20\" width=\"20\" height=\"20\" fill=\"#eeeeee\" />\n",
       "<rect x=\"120\" y=\"-20\" width=\"20\" height=\"20\" fill=\"#000000\" />\n",
       "<rect x=\"140\" y=\"-20\" width=\"20\" height=\"20\" fill=\"#000000\" />\n",
       "<rect x=\"160\" y=\"-20\" width=\"20\" height=\"20\" fill=\"#000000\" />\n",
       "<circle cx=\"10.0\" cy=\"-70.0\" r=\"3.3333333333333335\" fill=\"#5af\" />\n",
       "</svg>"
      ],
      "text/plain": [
       "<drawSvg.drawing.Drawing at 0x7f87980116d0>"
      ]
     },
     "execution_count": 6,
     "metadata": {},
     "output_type": "execute_result"
    }
   ],
   "source": [
    "draw_bits(next(BG), [[0,0]])"
   ]
  },
  {
   "cell_type": "markdown",
   "id": "chief-canada",
   "metadata": {},
   "source": [
    "And for this one we will mark `[1,1]` which is one in and one down from the top left, and also `[8,3]` which is the bottom right hand corner."
   ]
  },
  {
   "cell_type": "code",
   "execution_count": 7,
   "id": "lesbian-material",
   "metadata": {},
   "outputs": [
    {
     "data": {
      "image/svg+xml": [
       "<?xml version=\"1.0\" encoding=\"UTF-8\"?>\n",
       "<svg xmlns=\"http://www.w3.org/2000/svg\" xmlns:xlink=\"http://www.w3.org/1999/xlink\"\n",
       "     width=\"180\" height=\"80\" viewBox=\"0 -80 180 80\">\n",
       "<defs>\n",
       "</defs>\n",
       "<rect x=\"0\" y=\"-80\" width=\"20\" height=\"20\" fill=\"#eeeeee\" />\n",
       "<rect x=\"20\" y=\"-80\" width=\"20\" height=\"20\" fill=\"#eeeeee\" />\n",
       "<rect x=\"40\" y=\"-80\" width=\"20\" height=\"20\" fill=\"#eeeeee\" />\n",
       "<rect x=\"60\" y=\"-80\" width=\"20\" height=\"20\" fill=\"#eeeeee\" />\n",
       "<rect x=\"80\" y=\"-80\" width=\"20\" height=\"20\" fill=\"#eeeeee\" />\n",
       "<rect x=\"100\" y=\"-80\" width=\"20\" height=\"20\" fill=\"#eeeeee\" />\n",
       "<rect x=\"120\" y=\"-80\" width=\"20\" height=\"20\" fill=\"#eeeeee\" />\n",
       "<rect x=\"140\" y=\"-80\" width=\"20\" height=\"20\" fill=\"#eeeeee\" />\n",
       "<rect x=\"160\" y=\"-80\" width=\"20\" height=\"20\" fill=\"#eeeeee\" />\n",
       "<rect x=\"0\" y=\"-60\" width=\"20\" height=\"20\" fill=\"#000000\" />\n",
       "<rect x=\"20\" y=\"-60\" width=\"20\" height=\"20\" fill=\"#000000\" />\n",
       "<rect x=\"40\" y=\"-60\" width=\"20\" height=\"20\" fill=\"#eeeeee\" />\n",
       "<rect x=\"60\" y=\"-60\" width=\"20\" height=\"20\" fill=\"#000000\" />\n",
       "<rect x=\"80\" y=\"-60\" width=\"20\" height=\"20\" fill=\"#000000\" />\n",
       "<rect x=\"100\" y=\"-60\" width=\"20\" height=\"20\" fill=\"#eeeeee\" />\n",
       "<rect x=\"120\" y=\"-60\" width=\"20\" height=\"20\" fill=\"#eeeeee\" />\n",
       "<rect x=\"140\" y=\"-60\" width=\"20\" height=\"20\" fill=\"#000000\" />\n",
       "<rect x=\"160\" y=\"-60\" width=\"20\" height=\"20\" fill=\"#eeeeee\" />\n",
       "<rect x=\"0\" y=\"-40\" width=\"20\" height=\"20\" fill=\"#eeeeee\" />\n",
       "<rect x=\"20\" y=\"-40\" width=\"20\" height=\"20\" fill=\"#000000\" />\n",
       "<rect x=\"40\" y=\"-40\" width=\"20\" height=\"20\" fill=\"#000000\" />\n",
       "<rect x=\"60\" y=\"-40\" width=\"20\" height=\"20\" fill=\"#eeeeee\" />\n",
       "<rect x=\"80\" y=\"-40\" width=\"20\" height=\"20\" fill=\"#000000\" />\n",
       "<rect x=\"100\" y=\"-40\" width=\"20\" height=\"20\" fill=\"#000000\" />\n",
       "<rect x=\"120\" y=\"-40\" width=\"20\" height=\"20\" fill=\"#eeeeee\" />\n",
       "<rect x=\"140\" y=\"-40\" width=\"20\" height=\"20\" fill=\"#000000\" />\n",
       "<rect x=\"160\" y=\"-40\" width=\"20\" height=\"20\" fill=\"#eeeeee\" />\n",
       "<rect x=\"0\" y=\"-20\" width=\"20\" height=\"20\" fill=\"#eeeeee\" />\n",
       "<rect x=\"20\" y=\"-20\" width=\"20\" height=\"20\" fill=\"#000000\" />\n",
       "<rect x=\"40\" y=\"-20\" width=\"20\" height=\"20\" fill=\"#000000\" />\n",
       "<rect x=\"60\" y=\"-20\" width=\"20\" height=\"20\" fill=\"#eeeeee\" />\n",
       "<rect x=\"80\" y=\"-20\" width=\"20\" height=\"20\" fill=\"#000000\" />\n",
       "<rect x=\"100\" y=\"-20\" width=\"20\" height=\"20\" fill=\"#eeeeee\" />\n",
       "<rect x=\"120\" y=\"-20\" width=\"20\" height=\"20\" fill=\"#000000\" />\n",
       "<rect x=\"140\" y=\"-20\" width=\"20\" height=\"20\" fill=\"#000000\" />\n",
       "<rect x=\"160\" y=\"-20\" width=\"20\" height=\"20\" fill=\"#000000\" />\n",
       "<circle cx=\"30.0\" cy=\"-50.0\" r=\"3.3333333333333335\" fill=\"#5af\" />\n",
       "<circle cx=\"170.0\" cy=\"-10.0\" r=\"3.3333333333333335\" fill=\"#5af\" />\n",
       "</svg>"
      ],
      "text/plain": [
       "<drawSvg.drawing.Drawing at 0x7f8798019850>"
      ]
     },
     "execution_count": 7,
     "metadata": {},
     "output_type": "execute_result"
    }
   ],
   "source": [
    "draw_bits(next(BG), [[1,1], [8,3]])"
   ]
  },
  {
   "cell_type": "markdown",
   "id": "nearby-triangle",
   "metadata": {},
   "source": [
    "# From a grid of bits to music"
   ]
  },
  {
   "cell_type": "markdown",
   "id": "available-accused",
   "metadata": {},
   "source": [
    "Here we describe (a variant on) the CAMUS protocol for music synthesis."
   ]
  },
  {
   "cell_type": "markdown",
   "id": "offensive-pavilion",
   "metadata": {},
   "source": [
    "Each grid will determine _a sequence of triads_, rather than a single chord as in the 1D case. How many triads depends on how many $1$s are in the relevant part of the grid. This grid will be split into three parts:\n",
    " - The first column dictates the fundamental of this sequence of triads\n",
    " - The next 4 columns describe a sequence of triads by way of intervals above the fundamental\n",
    " - The final 4 columns describe which instrument will play the notes\n",
    "\n",
    "The timings of the voices in the triads will be determined in a way we cover later on."
   ]
  },
  {
   "cell_type": "markdown",
   "id": "interim-river",
   "metadata": {},
   "source": [
    "![A diagram showing how the grid of bits is split under CAMUS](images/split_CAMUS.svg)"
   ]
  },
  {
   "cell_type": "markdown",
   "id": "rural-cigarette",
   "metadata": {},
   "source": [
    "## Showing this on a grid"
   ]
  },
  {
   "cell_type": "markdown",
   "id": "encouraging-offering",
   "metadata": {},
   "source": [
    "To illustrate this we will fix an example 9 by 4 grid."
   ]
  },
  {
   "cell_type": "code",
   "execution_count": 8,
   "id": "public-foundation",
   "metadata": {},
   "outputs": [
    {
     "data": {
      "text/plain": [
       "[[1, 1, 1, 0, 1, 1, 1, 0, 0],\n",
       " [0, 0, 0, 1, 1, 1, 1, 0, 1],\n",
       " [1, 0, 1, 1, 1, 0, 1, 1, 1],\n",
       " [1, 0, 1, 0, 1, 1, 1, 0, 1]]"
      ]
     },
     "execution_count": 8,
     "metadata": {},
     "output_type": "execute_result"
    }
   ],
   "source": [
    "example_bits = next(BG)\n",
    "example_bits"
   ]
  },
  {
   "cell_type": "markdown",
   "id": "after-drama",
   "metadata": {},
   "source": [
    "What does this look like?"
   ]
  },
  {
   "cell_type": "code",
   "execution_count": 9,
   "id": "hungarian-store",
   "metadata": {},
   "outputs": [
    {
     "data": {
      "image/svg+xml": [
       "<?xml version=\"1.0\" encoding=\"UTF-8\"?>\n",
       "<svg xmlns=\"http://www.w3.org/2000/svg\" xmlns:xlink=\"http://www.w3.org/1999/xlink\"\n",
       "     width=\"180\" height=\"80\" viewBox=\"0 -80 180 80\">\n",
       "<defs>\n",
       "</defs>\n",
       "<rect x=\"0\" y=\"-80\" width=\"20\" height=\"20\" fill=\"#eeeeee\" />\n",
       "<rect x=\"20\" y=\"-80\" width=\"20\" height=\"20\" fill=\"#eeeeee\" />\n",
       "<rect x=\"40\" y=\"-80\" width=\"20\" height=\"20\" fill=\"#eeeeee\" />\n",
       "<rect x=\"60\" y=\"-80\" width=\"20\" height=\"20\" fill=\"#000000\" />\n",
       "<rect x=\"80\" y=\"-80\" width=\"20\" height=\"20\" fill=\"#eeeeee\" />\n",
       "<rect x=\"100\" y=\"-80\" width=\"20\" height=\"20\" fill=\"#eeeeee\" />\n",
       "<rect x=\"120\" y=\"-80\" width=\"20\" height=\"20\" fill=\"#eeeeee\" />\n",
       "<rect x=\"140\" y=\"-80\" width=\"20\" height=\"20\" fill=\"#000000\" />\n",
       "<rect x=\"160\" y=\"-80\" width=\"20\" height=\"20\" fill=\"#000000\" />\n",
       "<rect x=\"0\" y=\"-60\" width=\"20\" height=\"20\" fill=\"#000000\" />\n",
       "<rect x=\"20\" y=\"-60\" width=\"20\" height=\"20\" fill=\"#000000\" />\n",
       "<rect x=\"40\" y=\"-60\" width=\"20\" height=\"20\" fill=\"#000000\" />\n",
       "<rect x=\"60\" y=\"-60\" width=\"20\" height=\"20\" fill=\"#eeeeee\" />\n",
       "<rect x=\"80\" y=\"-60\" width=\"20\" height=\"20\" fill=\"#eeeeee\" />\n",
       "<rect x=\"100\" y=\"-60\" width=\"20\" height=\"20\" fill=\"#eeeeee\" />\n",
       "<rect x=\"120\" y=\"-60\" width=\"20\" height=\"20\" fill=\"#eeeeee\" />\n",
       "<rect x=\"140\" y=\"-60\" width=\"20\" height=\"20\" fill=\"#000000\" />\n",
       "<rect x=\"160\" y=\"-60\" width=\"20\" height=\"20\" fill=\"#eeeeee\" />\n",
       "<rect x=\"0\" y=\"-40\" width=\"20\" height=\"20\" fill=\"#eeeeee\" />\n",
       "<rect x=\"20\" y=\"-40\" width=\"20\" height=\"20\" fill=\"#000000\" />\n",
       "<rect x=\"40\" y=\"-40\" width=\"20\" height=\"20\" fill=\"#eeeeee\" />\n",
       "<rect x=\"60\" y=\"-40\" width=\"20\" height=\"20\" fill=\"#eeeeee\" />\n",
       "<rect x=\"80\" y=\"-40\" width=\"20\" height=\"20\" fill=\"#eeeeee\" />\n",
       "<rect x=\"100\" y=\"-40\" width=\"20\" height=\"20\" fill=\"#000000\" />\n",
       "<rect x=\"120\" y=\"-40\" width=\"20\" height=\"20\" fill=\"#eeeeee\" />\n",
       "<rect x=\"140\" y=\"-40\" width=\"20\" height=\"20\" fill=\"#eeeeee\" />\n",
       "<rect x=\"160\" y=\"-40\" width=\"20\" height=\"20\" fill=\"#eeeeee\" />\n",
       "<rect x=\"0\" y=\"-20\" width=\"20\" height=\"20\" fill=\"#eeeeee\" />\n",
       "<rect x=\"20\" y=\"-20\" width=\"20\" height=\"20\" fill=\"#000000\" />\n",
       "<rect x=\"40\" y=\"-20\" width=\"20\" height=\"20\" fill=\"#eeeeee\" />\n",
       "<rect x=\"60\" y=\"-20\" width=\"20\" height=\"20\" fill=\"#000000\" />\n",
       "<rect x=\"80\" y=\"-20\" width=\"20\" height=\"20\" fill=\"#eeeeee\" />\n",
       "<rect x=\"100\" y=\"-20\" width=\"20\" height=\"20\" fill=\"#eeeeee\" />\n",
       "<rect x=\"120\" y=\"-20\" width=\"20\" height=\"20\" fill=\"#eeeeee\" />\n",
       "<rect x=\"140\" y=\"-20\" width=\"20\" height=\"20\" fill=\"#000000\" />\n",
       "<rect x=\"160\" y=\"-20\" width=\"20\" height=\"20\" fill=\"#eeeeee\" />\n",
       "</svg>"
      ],
      "text/plain": [
       "<drawSvg.drawing.Drawing at 0x7f87980238b0>"
      ]
     },
     "execution_count": 9,
     "metadata": {},
     "output_type": "execute_result"
    }
   ],
   "source": [
    "draw_bits(example_bits)"
   ]
  },
  {
   "cell_type": "markdown",
   "id": "extraordinary-marriage",
   "metadata": {},
   "source": [
    "These bits determine the fundamental:"
   ]
  },
  {
   "cell_type": "code",
   "execution_count": 10,
   "id": "short-tooth",
   "metadata": {},
   "outputs": [
    {
     "data": {
      "image/svg+xml": [
       "<?xml version=\"1.0\" encoding=\"UTF-8\"?>\n",
       "<svg xmlns=\"http://www.w3.org/2000/svg\" xmlns:xlink=\"http://www.w3.org/1999/xlink\"\n",
       "     width=\"180\" height=\"80\" viewBox=\"0 -80 180 80\">\n",
       "<defs>\n",
       "</defs>\n",
       "<rect x=\"0\" y=\"-80\" width=\"20\" height=\"20\" fill=\"#eeeeee\" />\n",
       "<rect x=\"20\" y=\"-80\" width=\"20\" height=\"20\" fill=\"#eeeeee\" />\n",
       "<rect x=\"40\" y=\"-80\" width=\"20\" height=\"20\" fill=\"#eeeeee\" />\n",
       "<rect x=\"60\" y=\"-80\" width=\"20\" height=\"20\" fill=\"#000000\" />\n",
       "<rect x=\"80\" y=\"-80\" width=\"20\" height=\"20\" fill=\"#eeeeee\" />\n",
       "<rect x=\"100\" y=\"-80\" width=\"20\" height=\"20\" fill=\"#eeeeee\" />\n",
       "<rect x=\"120\" y=\"-80\" width=\"20\" height=\"20\" fill=\"#eeeeee\" />\n",
       "<rect x=\"140\" y=\"-80\" width=\"20\" height=\"20\" fill=\"#000000\" />\n",
       "<rect x=\"160\" y=\"-80\" width=\"20\" height=\"20\" fill=\"#000000\" />\n",
       "<rect x=\"0\" y=\"-60\" width=\"20\" height=\"20\" fill=\"#000000\" />\n",
       "<rect x=\"20\" y=\"-60\" width=\"20\" height=\"20\" fill=\"#000000\" />\n",
       "<rect x=\"40\" y=\"-60\" width=\"20\" height=\"20\" fill=\"#000000\" />\n",
       "<rect x=\"60\" y=\"-60\" width=\"20\" height=\"20\" fill=\"#eeeeee\" />\n",
       "<rect x=\"80\" y=\"-60\" width=\"20\" height=\"20\" fill=\"#eeeeee\" />\n",
       "<rect x=\"100\" y=\"-60\" width=\"20\" height=\"20\" fill=\"#eeeeee\" />\n",
       "<rect x=\"120\" y=\"-60\" width=\"20\" height=\"20\" fill=\"#eeeeee\" />\n",
       "<rect x=\"140\" y=\"-60\" width=\"20\" height=\"20\" fill=\"#000000\" />\n",
       "<rect x=\"160\" y=\"-60\" width=\"20\" height=\"20\" fill=\"#eeeeee\" />\n",
       "<rect x=\"0\" y=\"-40\" width=\"20\" height=\"20\" fill=\"#eeeeee\" />\n",
       "<rect x=\"20\" y=\"-40\" width=\"20\" height=\"20\" fill=\"#000000\" />\n",
       "<rect x=\"40\" y=\"-40\" width=\"20\" height=\"20\" fill=\"#eeeeee\" />\n",
       "<rect x=\"60\" y=\"-40\" width=\"20\" height=\"20\" fill=\"#eeeeee\" />\n",
       "<rect x=\"80\" y=\"-40\" width=\"20\" height=\"20\" fill=\"#eeeeee\" />\n",
       "<rect x=\"100\" y=\"-40\" width=\"20\" height=\"20\" fill=\"#000000\" />\n",
       "<rect x=\"120\" y=\"-40\" width=\"20\" height=\"20\" fill=\"#eeeeee\" />\n",
       "<rect x=\"140\" y=\"-40\" width=\"20\" height=\"20\" fill=\"#eeeeee\" />\n",
       "<rect x=\"160\" y=\"-40\" width=\"20\" height=\"20\" fill=\"#eeeeee\" />\n",
       "<rect x=\"0\" y=\"-20\" width=\"20\" height=\"20\" fill=\"#eeeeee\" />\n",
       "<rect x=\"20\" y=\"-20\" width=\"20\" height=\"20\" fill=\"#000000\" />\n",
       "<rect x=\"40\" y=\"-20\" width=\"20\" height=\"20\" fill=\"#eeeeee\" />\n",
       "<rect x=\"60\" y=\"-20\" width=\"20\" height=\"20\" fill=\"#000000\" />\n",
       "<rect x=\"80\" y=\"-20\" width=\"20\" height=\"20\" fill=\"#eeeeee\" />\n",
       "<rect x=\"100\" y=\"-20\" width=\"20\" height=\"20\" fill=\"#eeeeee\" />\n",
       "<rect x=\"120\" y=\"-20\" width=\"20\" height=\"20\" fill=\"#eeeeee\" />\n",
       "<rect x=\"140\" y=\"-20\" width=\"20\" height=\"20\" fill=\"#000000\" />\n",
       "<rect x=\"160\" y=\"-20\" width=\"20\" height=\"20\" fill=\"#eeeeee\" />\n",
       "<circle cx=\"10.0\" cy=\"-70.0\" r=\"3.3333333333333335\" fill=\"red\" />\n",
       "<circle cx=\"10.0\" cy=\"-50.0\" r=\"3.3333333333333335\" fill=\"red\" />\n",
       "<circle cx=\"10.0\" cy=\"-30.0\" r=\"3.3333333333333335\" fill=\"red\" />\n",
       "<circle cx=\"10.0\" cy=\"-10.0\" r=\"3.3333333333333335\" fill=\"red\" />\n",
       "</svg>"
      ],
      "text/plain": [
       "<drawSvg.drawing.Drawing at 0x7f87980292e0>"
      ]
     },
     "execution_count": 10,
     "metadata": {},
     "output_type": "execute_result"
    }
   ],
   "source": [
    "draw_bits(example_bits, [[0, row] for row in range(0,4)], \"red\")"
   ]
  },
  {
   "cell_type": "markdown",
   "id": "indian-batman",
   "metadata": {},
   "source": [
    "This 4 by 4 subgrid determines the triads."
   ]
  },
  {
   "cell_type": "code",
   "execution_count": 11,
   "id": "embedded-bankruptcy",
   "metadata": {},
   "outputs": [
    {
     "data": {
      "image/svg+xml": [
       "<?xml version=\"1.0\" encoding=\"UTF-8\"?>\n",
       "<svg xmlns=\"http://www.w3.org/2000/svg\" xmlns:xlink=\"http://www.w3.org/1999/xlink\"\n",
       "     width=\"180\" height=\"80\" viewBox=\"0 -80 180 80\">\n",
       "<defs>\n",
       "</defs>\n",
       "<rect x=\"0\" y=\"-80\" width=\"20\" height=\"20\" fill=\"#eeeeee\" />\n",
       "<rect x=\"20\" y=\"-80\" width=\"20\" height=\"20\" fill=\"#eeeeee\" />\n",
       "<rect x=\"40\" y=\"-80\" width=\"20\" height=\"20\" fill=\"#eeeeee\" />\n",
       "<rect x=\"60\" y=\"-80\" width=\"20\" height=\"20\" fill=\"#000000\" />\n",
       "<rect x=\"80\" y=\"-80\" width=\"20\" height=\"20\" fill=\"#eeeeee\" />\n",
       "<rect x=\"100\" y=\"-80\" width=\"20\" height=\"20\" fill=\"#eeeeee\" />\n",
       "<rect x=\"120\" y=\"-80\" width=\"20\" height=\"20\" fill=\"#eeeeee\" />\n",
       "<rect x=\"140\" y=\"-80\" width=\"20\" height=\"20\" fill=\"#000000\" />\n",
       "<rect x=\"160\" y=\"-80\" width=\"20\" height=\"20\" fill=\"#000000\" />\n",
       "<rect x=\"0\" y=\"-60\" width=\"20\" height=\"20\" fill=\"#000000\" />\n",
       "<rect x=\"20\" y=\"-60\" width=\"20\" height=\"20\" fill=\"#000000\" />\n",
       "<rect x=\"40\" y=\"-60\" width=\"20\" height=\"20\" fill=\"#000000\" />\n",
       "<rect x=\"60\" y=\"-60\" width=\"20\" height=\"20\" fill=\"#eeeeee\" />\n",
       "<rect x=\"80\" y=\"-60\" width=\"20\" height=\"20\" fill=\"#eeeeee\" />\n",
       "<rect x=\"100\" y=\"-60\" width=\"20\" height=\"20\" fill=\"#eeeeee\" />\n",
       "<rect x=\"120\" y=\"-60\" width=\"20\" height=\"20\" fill=\"#eeeeee\" />\n",
       "<rect x=\"140\" y=\"-60\" width=\"20\" height=\"20\" fill=\"#000000\" />\n",
       "<rect x=\"160\" y=\"-60\" width=\"20\" height=\"20\" fill=\"#eeeeee\" />\n",
       "<rect x=\"0\" y=\"-40\" width=\"20\" height=\"20\" fill=\"#eeeeee\" />\n",
       "<rect x=\"20\" y=\"-40\" width=\"20\" height=\"20\" fill=\"#000000\" />\n",
       "<rect x=\"40\" y=\"-40\" width=\"20\" height=\"20\" fill=\"#eeeeee\" />\n",
       "<rect x=\"60\" y=\"-40\" width=\"20\" height=\"20\" fill=\"#eeeeee\" />\n",
       "<rect x=\"80\" y=\"-40\" width=\"20\" height=\"20\" fill=\"#eeeeee\" />\n",
       "<rect x=\"100\" y=\"-40\" width=\"20\" height=\"20\" fill=\"#000000\" />\n",
       "<rect x=\"120\" y=\"-40\" width=\"20\" height=\"20\" fill=\"#eeeeee\" />\n",
       "<rect x=\"140\" y=\"-40\" width=\"20\" height=\"20\" fill=\"#eeeeee\" />\n",
       "<rect x=\"160\" y=\"-40\" width=\"20\" height=\"20\" fill=\"#eeeeee\" />\n",
       "<rect x=\"0\" y=\"-20\" width=\"20\" height=\"20\" fill=\"#eeeeee\" />\n",
       "<rect x=\"20\" y=\"-20\" width=\"20\" height=\"20\" fill=\"#000000\" />\n",
       "<rect x=\"40\" y=\"-20\" width=\"20\" height=\"20\" fill=\"#eeeeee\" />\n",
       "<rect x=\"60\" y=\"-20\" width=\"20\" height=\"20\" fill=\"#000000\" />\n",
       "<rect x=\"80\" y=\"-20\" width=\"20\" height=\"20\" fill=\"#eeeeee\" />\n",
       "<rect x=\"100\" y=\"-20\" width=\"20\" height=\"20\" fill=\"#eeeeee\" />\n",
       "<rect x=\"120\" y=\"-20\" width=\"20\" height=\"20\" fill=\"#eeeeee\" />\n",
       "<rect x=\"140\" y=\"-20\" width=\"20\" height=\"20\" fill=\"#000000\" />\n",
       "<rect x=\"160\" y=\"-20\" width=\"20\" height=\"20\" fill=\"#eeeeee\" />\n",
       "<circle cx=\"30.0\" cy=\"-70.0\" r=\"3.3333333333333335\" fill=\"green\" />\n",
       "<circle cx=\"30.0\" cy=\"-50.0\" r=\"3.3333333333333335\" fill=\"green\" />\n",
       "<circle cx=\"30.0\" cy=\"-30.0\" r=\"3.3333333333333335\" fill=\"green\" />\n",
       "<circle cx=\"30.0\" cy=\"-10.0\" r=\"3.3333333333333335\" fill=\"green\" />\n",
       "<circle cx=\"50.0\" cy=\"-70.0\" r=\"3.3333333333333335\" fill=\"green\" />\n",
       "<circle cx=\"50.0\" cy=\"-50.0\" r=\"3.3333333333333335\" fill=\"green\" />\n",
       "<circle cx=\"50.0\" cy=\"-30.0\" r=\"3.3333333333333335\" fill=\"green\" />\n",
       "<circle cx=\"50.0\" cy=\"-10.0\" r=\"3.3333333333333335\" fill=\"green\" />\n",
       "<circle cx=\"70.0\" cy=\"-70.0\" r=\"3.3333333333333335\" fill=\"green\" />\n",
       "<circle cx=\"70.0\" cy=\"-50.0\" r=\"3.3333333333333335\" fill=\"green\" />\n",
       "<circle cx=\"70.0\" cy=\"-30.0\" r=\"3.3333333333333335\" fill=\"green\" />\n",
       "<circle cx=\"70.0\" cy=\"-10.0\" r=\"3.3333333333333335\" fill=\"green\" />\n",
       "<circle cx=\"90.0\" cy=\"-70.0\" r=\"3.3333333333333335\" fill=\"green\" />\n",
       "<circle cx=\"90.0\" cy=\"-50.0\" r=\"3.3333333333333335\" fill=\"green\" />\n",
       "<circle cx=\"90.0\" cy=\"-30.0\" r=\"3.3333333333333335\" fill=\"green\" />\n",
       "<circle cx=\"90.0\" cy=\"-10.0\" r=\"3.3333333333333335\" fill=\"green\" />\n",
       "</svg>"
      ],
      "text/plain": [
       "<drawSvg.drawing.Drawing at 0x7f879803c1f0>"
      ]
     },
     "execution_count": 11,
     "metadata": {},
     "output_type": "execute_result"
    }
   ],
   "source": [
    "draw_bits(example_bits, [[column, row] for column in range(1,5) for row in range(0,4)], \"green\")"
   ]
  },
  {
   "cell_type": "markdown",
   "id": "color-verification",
   "metadata": {},
   "source": [
    "This final 4 by 4 subgrid determines the instruments."
   ]
  },
  {
   "cell_type": "code",
   "execution_count": 12,
   "id": "matched-huntington",
   "metadata": {},
   "outputs": [
    {
     "data": {
      "image/svg+xml": [
       "<?xml version=\"1.0\" encoding=\"UTF-8\"?>\n",
       "<svg xmlns=\"http://www.w3.org/2000/svg\" xmlns:xlink=\"http://www.w3.org/1999/xlink\"\n",
       "     width=\"180\" height=\"80\" viewBox=\"0 -80 180 80\">\n",
       "<defs>\n",
       "</defs>\n",
       "<rect x=\"0\" y=\"-80\" width=\"20\" height=\"20\" fill=\"#eeeeee\" />\n",
       "<rect x=\"20\" y=\"-80\" width=\"20\" height=\"20\" fill=\"#eeeeee\" />\n",
       "<rect x=\"40\" y=\"-80\" width=\"20\" height=\"20\" fill=\"#eeeeee\" />\n",
       "<rect x=\"60\" y=\"-80\" width=\"20\" height=\"20\" fill=\"#000000\" />\n",
       "<rect x=\"80\" y=\"-80\" width=\"20\" height=\"20\" fill=\"#eeeeee\" />\n",
       "<rect x=\"100\" y=\"-80\" width=\"20\" height=\"20\" fill=\"#eeeeee\" />\n",
       "<rect x=\"120\" y=\"-80\" width=\"20\" height=\"20\" fill=\"#eeeeee\" />\n",
       "<rect x=\"140\" y=\"-80\" width=\"20\" height=\"20\" fill=\"#000000\" />\n",
       "<rect x=\"160\" y=\"-80\" width=\"20\" height=\"20\" fill=\"#000000\" />\n",
       "<rect x=\"0\" y=\"-60\" width=\"20\" height=\"20\" fill=\"#000000\" />\n",
       "<rect x=\"20\" y=\"-60\" width=\"20\" height=\"20\" fill=\"#000000\" />\n",
       "<rect x=\"40\" y=\"-60\" width=\"20\" height=\"20\" fill=\"#000000\" />\n",
       "<rect x=\"60\" y=\"-60\" width=\"20\" height=\"20\" fill=\"#eeeeee\" />\n",
       "<rect x=\"80\" y=\"-60\" width=\"20\" height=\"20\" fill=\"#eeeeee\" />\n",
       "<rect x=\"100\" y=\"-60\" width=\"20\" height=\"20\" fill=\"#eeeeee\" />\n",
       "<rect x=\"120\" y=\"-60\" width=\"20\" height=\"20\" fill=\"#eeeeee\" />\n",
       "<rect x=\"140\" y=\"-60\" width=\"20\" height=\"20\" fill=\"#000000\" />\n",
       "<rect x=\"160\" y=\"-60\" width=\"20\" height=\"20\" fill=\"#eeeeee\" />\n",
       "<rect x=\"0\" y=\"-40\" width=\"20\" height=\"20\" fill=\"#eeeeee\" />\n",
       "<rect x=\"20\" y=\"-40\" width=\"20\" height=\"20\" fill=\"#000000\" />\n",
       "<rect x=\"40\" y=\"-40\" width=\"20\" height=\"20\" fill=\"#eeeeee\" />\n",
       "<rect x=\"60\" y=\"-40\" width=\"20\" height=\"20\" fill=\"#eeeeee\" />\n",
       "<rect x=\"80\" y=\"-40\" width=\"20\" height=\"20\" fill=\"#eeeeee\" />\n",
       "<rect x=\"100\" y=\"-40\" width=\"20\" height=\"20\" fill=\"#000000\" />\n",
       "<rect x=\"120\" y=\"-40\" width=\"20\" height=\"20\" fill=\"#eeeeee\" />\n",
       "<rect x=\"140\" y=\"-40\" width=\"20\" height=\"20\" fill=\"#eeeeee\" />\n",
       "<rect x=\"160\" y=\"-40\" width=\"20\" height=\"20\" fill=\"#eeeeee\" />\n",
       "<rect x=\"0\" y=\"-20\" width=\"20\" height=\"20\" fill=\"#eeeeee\" />\n",
       "<rect x=\"20\" y=\"-20\" width=\"20\" height=\"20\" fill=\"#000000\" />\n",
       "<rect x=\"40\" y=\"-20\" width=\"20\" height=\"20\" fill=\"#eeeeee\" />\n",
       "<rect x=\"60\" y=\"-20\" width=\"20\" height=\"20\" fill=\"#000000\" />\n",
       "<rect x=\"80\" y=\"-20\" width=\"20\" height=\"20\" fill=\"#eeeeee\" />\n",
       "<rect x=\"100\" y=\"-20\" width=\"20\" height=\"20\" fill=\"#eeeeee\" />\n",
       "<rect x=\"120\" y=\"-20\" width=\"20\" height=\"20\" fill=\"#eeeeee\" />\n",
       "<rect x=\"140\" y=\"-20\" width=\"20\" height=\"20\" fill=\"#000000\" />\n",
       "<rect x=\"160\" y=\"-20\" width=\"20\" height=\"20\" fill=\"#eeeeee\" />\n",
       "<circle cx=\"110.0\" cy=\"-70.0\" r=\"3.3333333333333335\" fill=\"purple\" />\n",
       "<circle cx=\"110.0\" cy=\"-50.0\" r=\"3.3333333333333335\" fill=\"purple\" />\n",
       "<circle cx=\"110.0\" cy=\"-30.0\" r=\"3.3333333333333335\" fill=\"purple\" />\n",
       "<circle cx=\"110.0\" cy=\"-10.0\" r=\"3.3333333333333335\" fill=\"purple\" />\n",
       "<circle cx=\"130.0\" cy=\"-70.0\" r=\"3.3333333333333335\" fill=\"purple\" />\n",
       "<circle cx=\"130.0\" cy=\"-50.0\" r=\"3.3333333333333335\" fill=\"purple\" />\n",
       "<circle cx=\"130.0\" cy=\"-30.0\" r=\"3.3333333333333335\" fill=\"purple\" />\n",
       "<circle cx=\"130.0\" cy=\"-10.0\" r=\"3.3333333333333335\" fill=\"purple\" />\n",
       "<circle cx=\"150.0\" cy=\"-70.0\" r=\"3.3333333333333335\" fill=\"purple\" />\n",
       "<circle cx=\"150.0\" cy=\"-50.0\" r=\"3.3333333333333335\" fill=\"purple\" />\n",
       "<circle cx=\"150.0\" cy=\"-30.0\" r=\"3.3333333333333335\" fill=\"purple\" />\n",
       "<circle cx=\"150.0\" cy=\"-10.0\" r=\"3.3333333333333335\" fill=\"purple\" />\n",
       "<circle cx=\"170.0\" cy=\"-70.0\" r=\"3.3333333333333335\" fill=\"purple\" />\n",
       "<circle cx=\"170.0\" cy=\"-50.0\" r=\"3.3333333333333335\" fill=\"purple\" />\n",
       "<circle cx=\"170.0\" cy=\"-30.0\" r=\"3.3333333333333335\" fill=\"purple\" />\n",
       "<circle cx=\"170.0\" cy=\"-10.0\" r=\"3.3333333333333335\" fill=\"purple\" />\n",
       "</svg>"
      ],
      "text/plain": [
       "<drawSvg.drawing.Drawing at 0x7f8798029430>"
      ]
     },
     "execution_count": 12,
     "metadata": {},
     "output_type": "execute_result"
    }
   ],
   "source": [
    "draw_bits(example_bits, [[column, row] for column in range(5,9) for row in range(0,4)], \"purple\")"
   ]
  },
  {
   "cell_type": "markdown",
   "id": "senior-margin",
   "metadata": {},
   "source": [
    "## Using the bits directly"
   ]
  },
  {
   "cell_type": "markdown",
   "id": "massive-marsh",
   "metadata": {},
   "source": [
    "Let's break this grid into sections. We'll explain each part in detail afterwards."
   ]
  },
  {
   "cell_type": "code",
   "execution_count": 13,
   "id": "cordless-updating",
   "metadata": {},
   "outputs": [],
   "source": [
    "def bit_breakdown(four_by_nine_bits):\n",
    "    \"\"\"Split the large grid into appropriate subgrids.\"\"\"\n",
    "    return {\"fundamental\": [row[0] for row in four_by_nine_bits],\n",
    "            \"triads\": [row[1:5] for row in four_by_nine_bits],\n",
    "            \"instruments\": [row[5:9] for row in four_by_nine_bits],\n",
    "    }"
   ]
  },
  {
   "cell_type": "code",
   "execution_count": 14,
   "id": "exact-uzbekistan",
   "metadata": {},
   "outputs": [
    {
     "data": {
      "text/plain": [
       "{'fundamental': [1, 0, 1, 1],\n",
       " 'triads': [[1, 1, 0, 1], [0, 0, 1, 1], [0, 1, 1, 1], [0, 1, 0, 1]],\n",
       " 'instruments': [[1, 1, 0, 0], [1, 1, 0, 1], [0, 1, 1, 1], [1, 1, 0, 1]]}"
      ]
     },
     "execution_count": 14,
     "metadata": {},
     "output_type": "execute_result"
    }
   ],
   "source": [
    "bit_breakdown(example_bits)"
   ]
  },
  {
   "cell_type": "markdown",
   "id": "eleven-basics",
   "metadata": {},
   "source": [
    "### What's the fundamental"
   ]
  },
  {
   "cell_type": "markdown",
   "id": "authentic-sugar",
   "metadata": {},
   "source": [
    "The fundamental is determined by the four bits in the first column, giving us 16 options.\n",
    "Each option will correspond to a number of semitones above our `base` note, which defaults to C4 (\"low C\").\n",
    "For example:\n",
    " - The sequence `[0, 0, 0, 0]` corresponds to the base note\n",
    " - `[0, 0, 0, 1]` corresponds to one semitone above the base note\n",
    " - `[1, 0, 1, 0]` corresponds to 10 semitones above the base note"
   ]
  },
  {
   "cell_type": "code",
   "execution_count": 15,
   "id": "improving-education",
   "metadata": {},
   "outputs": [],
   "source": [
    "def breakdown_to_semitone_shift(bits):\n",
    "    \"\"\"Treat the sequence of bits as though it were a binary number.\"\"\"\n",
    "    return int(\"\".join(map(str, bits)),2)"
   ]
  },
  {
   "cell_type": "code",
   "execution_count": 16,
   "id": "faced-equipment",
   "metadata": {},
   "outputs": [
    {
     "data": {
      "text/plain": [
       "11"
      ]
     },
     "execution_count": 16,
     "metadata": {},
     "output_type": "execute_result"
    }
   ],
   "source": [
    "breakdown_to_semitone_shift(bit_breakdown(example_bits)[\"fundamental\"])"
   ]
  },
  {
   "cell_type": "markdown",
   "id": "isolated-sequence",
   "metadata": {},
   "source": [
    "### What are the triads"
   ]
  },
  {
   "cell_type": "markdown",
   "id": "resident-plenty",
   "metadata": {},
   "source": [
    "According to the CAMUS protocol each _live_ cell (i.e. a 1) in the grid will be turned into a triad in the following way:\n",
    " - the x coordinate of the cell gives the interval between the fundamental and the first note\n",
    " - the y coordinate of the cell gives the interval between the first and second notes\n"
   ]
  },
  {
   "cell_type": "markdown",
   "id": "intense-breakfast",
   "metadata": {},
   "source": [
    "These `x` and `y` coordinates are measured from the top-left square in the `triads` section of the grid."
   ]
  },
  {
   "cell_type": "markdown",
   "id": "isolated-agency",
   "metadata": {},
   "source": [
    "![How we measure the x and y coordinate of a cell in the triads section of the grid](images/xy_CAMUS.svg)"
   ]
  },
  {
   "cell_type": "markdown",
   "id": "bibliographic-antenna",
   "metadata": {},
   "source": [
    "The first thing we will need is a list of all the live cells in the grid. Here's our example grid with the `triad` cells marked."
   ]
  },
  {
   "cell_type": "code",
   "execution_count": 17,
   "id": "sought-desire",
   "metadata": {},
   "outputs": [
    {
     "data": {
      "image/svg+xml": [
       "<?xml version=\"1.0\" encoding=\"UTF-8\"?>\n",
       "<svg xmlns=\"http://www.w3.org/2000/svg\" xmlns:xlink=\"http://www.w3.org/1999/xlink\"\n",
       "     width=\"180\" height=\"80\" viewBox=\"0 -80 180 80\">\n",
       "<defs>\n",
       "</defs>\n",
       "<rect x=\"0\" y=\"-80\" width=\"20\" height=\"20\" fill=\"#eeeeee\" />\n",
       "<rect x=\"20\" y=\"-80\" width=\"20\" height=\"20\" fill=\"#eeeeee\" />\n",
       "<rect x=\"40\" y=\"-80\" width=\"20\" height=\"20\" fill=\"#eeeeee\" />\n",
       "<rect x=\"60\" y=\"-80\" width=\"20\" height=\"20\" fill=\"#000000\" />\n",
       "<rect x=\"80\" y=\"-80\" width=\"20\" height=\"20\" fill=\"#eeeeee\" />\n",
       "<rect x=\"100\" y=\"-80\" width=\"20\" height=\"20\" fill=\"#eeeeee\" />\n",
       "<rect x=\"120\" y=\"-80\" width=\"20\" height=\"20\" fill=\"#eeeeee\" />\n",
       "<rect x=\"140\" y=\"-80\" width=\"20\" height=\"20\" fill=\"#000000\" />\n",
       "<rect x=\"160\" y=\"-80\" width=\"20\" height=\"20\" fill=\"#000000\" />\n",
       "<rect x=\"0\" y=\"-60\" width=\"20\" height=\"20\" fill=\"#000000\" />\n",
       "<rect x=\"20\" y=\"-60\" width=\"20\" height=\"20\" fill=\"#000000\" />\n",
       "<rect x=\"40\" y=\"-60\" width=\"20\" height=\"20\" fill=\"#000000\" />\n",
       "<rect x=\"60\" y=\"-60\" width=\"20\" height=\"20\" fill=\"#eeeeee\" />\n",
       "<rect x=\"80\" y=\"-60\" width=\"20\" height=\"20\" fill=\"#eeeeee\" />\n",
       "<rect x=\"100\" y=\"-60\" width=\"20\" height=\"20\" fill=\"#eeeeee\" />\n",
       "<rect x=\"120\" y=\"-60\" width=\"20\" height=\"20\" fill=\"#eeeeee\" />\n",
       "<rect x=\"140\" y=\"-60\" width=\"20\" height=\"20\" fill=\"#000000\" />\n",
       "<rect x=\"160\" y=\"-60\" width=\"20\" height=\"20\" fill=\"#eeeeee\" />\n",
       "<rect x=\"0\" y=\"-40\" width=\"20\" height=\"20\" fill=\"#eeeeee\" />\n",
       "<rect x=\"20\" y=\"-40\" width=\"20\" height=\"20\" fill=\"#000000\" />\n",
       "<rect x=\"40\" y=\"-40\" width=\"20\" height=\"20\" fill=\"#eeeeee\" />\n",
       "<rect x=\"60\" y=\"-40\" width=\"20\" height=\"20\" fill=\"#eeeeee\" />\n",
       "<rect x=\"80\" y=\"-40\" width=\"20\" height=\"20\" fill=\"#eeeeee\" />\n",
       "<rect x=\"100\" y=\"-40\" width=\"20\" height=\"20\" fill=\"#000000\" />\n",
       "<rect x=\"120\" y=\"-40\" width=\"20\" height=\"20\" fill=\"#eeeeee\" />\n",
       "<rect x=\"140\" y=\"-40\" width=\"20\" height=\"20\" fill=\"#eeeeee\" />\n",
       "<rect x=\"160\" y=\"-40\" width=\"20\" height=\"20\" fill=\"#eeeeee\" />\n",
       "<rect x=\"0\" y=\"-20\" width=\"20\" height=\"20\" fill=\"#eeeeee\" />\n",
       "<rect x=\"20\" y=\"-20\" width=\"20\" height=\"20\" fill=\"#000000\" />\n",
       "<rect x=\"40\" y=\"-20\" width=\"20\" height=\"20\" fill=\"#eeeeee\" />\n",
       "<rect x=\"60\" y=\"-20\" width=\"20\" height=\"20\" fill=\"#000000\" />\n",
       "<rect x=\"80\" y=\"-20\" width=\"20\" height=\"20\" fill=\"#eeeeee\" />\n",
       "<rect x=\"100\" y=\"-20\" width=\"20\" height=\"20\" fill=\"#eeeeee\" />\n",
       "<rect x=\"120\" y=\"-20\" width=\"20\" height=\"20\" fill=\"#eeeeee\" />\n",
       "<rect x=\"140\" y=\"-20\" width=\"20\" height=\"20\" fill=\"#000000\" />\n",
       "<rect x=\"160\" y=\"-20\" width=\"20\" height=\"20\" fill=\"#eeeeee\" />\n",
       "<circle cx=\"30.0\" cy=\"-70.0\" r=\"3.3333333333333335\" fill=\"purple\" />\n",
       "<circle cx=\"30.0\" cy=\"-50.0\" r=\"3.3333333333333335\" fill=\"purple\" />\n",
       "<circle cx=\"30.0\" cy=\"-30.0\" r=\"3.3333333333333335\" fill=\"purple\" />\n",
       "<circle cx=\"30.0\" cy=\"-10.0\" r=\"3.3333333333333335\" fill=\"purple\" />\n",
       "<circle cx=\"50.0\" cy=\"-70.0\" r=\"3.3333333333333335\" fill=\"purple\" />\n",
       "<circle cx=\"50.0\" cy=\"-50.0\" r=\"3.3333333333333335\" fill=\"purple\" />\n",
       "<circle cx=\"50.0\" cy=\"-30.0\" r=\"3.3333333333333335\" fill=\"purple\" />\n",
       "<circle cx=\"50.0\" cy=\"-10.0\" r=\"3.3333333333333335\" fill=\"purple\" />\n",
       "<circle cx=\"70.0\" cy=\"-70.0\" r=\"3.3333333333333335\" fill=\"purple\" />\n",
       "<circle cx=\"70.0\" cy=\"-50.0\" r=\"3.3333333333333335\" fill=\"purple\" />\n",
       "<circle cx=\"70.0\" cy=\"-30.0\" r=\"3.3333333333333335\" fill=\"purple\" />\n",
       "<circle cx=\"70.0\" cy=\"-10.0\" r=\"3.3333333333333335\" fill=\"purple\" />\n",
       "<circle cx=\"90.0\" cy=\"-70.0\" r=\"3.3333333333333335\" fill=\"purple\" />\n",
       "<circle cx=\"90.0\" cy=\"-50.0\" r=\"3.3333333333333335\" fill=\"purple\" />\n",
       "<circle cx=\"90.0\" cy=\"-30.0\" r=\"3.3333333333333335\" fill=\"purple\" />\n",
       "<circle cx=\"90.0\" cy=\"-10.0\" r=\"3.3333333333333335\" fill=\"purple\" />\n",
       "</svg>"
      ],
      "text/plain": [
       "<drawSvg.drawing.Drawing at 0x7f8797fe37f0>"
      ]
     },
     "execution_count": 17,
     "metadata": {},
     "output_type": "execute_result"
    }
   ],
   "source": [
    "draw_bits(example_bits, [[column, row] for column in range(1,5) for row in range(0,4)], \"purple\")"
   ]
  },
  {
   "cell_type": "markdown",
   "id": "persistent-heater",
   "metadata": {},
   "source": [
    "Our function will take in the triad bits and return a sequnce of coordinates. These return coordinates are measured from the top left triad bit, not from the top left bit of the overall grid."
   ]
  },
  {
   "cell_type": "code",
   "execution_count": 18,
   "id": "occupational-learning",
   "metadata": {},
   "outputs": [],
   "source": [
    "def triad_bits_to_coordinate_sequence(triad_bits):\n",
    "    \"\"\"Given just the triad subgrid get the coordinates of each live cell.\"\"\"\n",
    "    triads = []\n",
    "    for j in range(0, len(triad_bits)):\n",
    "        for i in range(0,len(triad_bits[j])):\n",
    "            if triad_bits[j][i]:\n",
    "                triads.append([i,j])\n",
    "    return triads"
   ]
  },
  {
   "cell_type": "code",
   "execution_count": 19,
   "id": "pressing-border",
   "metadata": {},
   "outputs": [
    {
     "data": {
      "text/plain": [
       "[[0, 0],\n",
       " [1, 0],\n",
       " [3, 0],\n",
       " [2, 1],\n",
       " [3, 1],\n",
       " [1, 2],\n",
       " [2, 2],\n",
       " [3, 2],\n",
       " [1, 3],\n",
       " [3, 3]]"
      ]
     },
     "execution_count": 19,
     "metadata": {},
     "output_type": "execute_result"
    }
   ],
   "source": [
    "triad_bits_to_coordinate_sequence(bit_breakdown(example_bits)[\"triads\"])"
   ]
  },
  {
   "cell_type": "markdown",
   "id": "difficult-graphic",
   "metadata": {},
   "source": [
    "Let's double check by marking these on our grid. Note that the reported coordinates are measured from the top left of the `triad` sub-grid, and so we need to shift these coordinates over to overlay them on the entire grid."
   ]
  },
  {
   "cell_type": "code",
   "execution_count": 20,
   "id": "statutory-patrol",
   "metadata": {},
   "outputs": [
    {
     "data": {
      "image/svg+xml": [
       "<?xml version=\"1.0\" encoding=\"UTF-8\"?>\n",
       "<svg xmlns=\"http://www.w3.org/2000/svg\" xmlns:xlink=\"http://www.w3.org/1999/xlink\"\n",
       "     width=\"180\" height=\"80\" viewBox=\"0 -80 180 80\">\n",
       "<defs>\n",
       "</defs>\n",
       "<rect x=\"0\" y=\"-80\" width=\"20\" height=\"20\" fill=\"#eeeeee\" />\n",
       "<rect x=\"20\" y=\"-80\" width=\"20\" height=\"20\" fill=\"#eeeeee\" />\n",
       "<rect x=\"40\" y=\"-80\" width=\"20\" height=\"20\" fill=\"#eeeeee\" />\n",
       "<rect x=\"60\" y=\"-80\" width=\"20\" height=\"20\" fill=\"#000000\" />\n",
       "<rect x=\"80\" y=\"-80\" width=\"20\" height=\"20\" fill=\"#eeeeee\" />\n",
       "<rect x=\"100\" y=\"-80\" width=\"20\" height=\"20\" fill=\"#eeeeee\" />\n",
       "<rect x=\"120\" y=\"-80\" width=\"20\" height=\"20\" fill=\"#eeeeee\" />\n",
       "<rect x=\"140\" y=\"-80\" width=\"20\" height=\"20\" fill=\"#000000\" />\n",
       "<rect x=\"160\" y=\"-80\" width=\"20\" height=\"20\" fill=\"#000000\" />\n",
       "<rect x=\"0\" y=\"-60\" width=\"20\" height=\"20\" fill=\"#000000\" />\n",
       "<rect x=\"20\" y=\"-60\" width=\"20\" height=\"20\" fill=\"#000000\" />\n",
       "<rect x=\"40\" y=\"-60\" width=\"20\" height=\"20\" fill=\"#000000\" />\n",
       "<rect x=\"60\" y=\"-60\" width=\"20\" height=\"20\" fill=\"#eeeeee\" />\n",
       "<rect x=\"80\" y=\"-60\" width=\"20\" height=\"20\" fill=\"#eeeeee\" />\n",
       "<rect x=\"100\" y=\"-60\" width=\"20\" height=\"20\" fill=\"#eeeeee\" />\n",
       "<rect x=\"120\" y=\"-60\" width=\"20\" height=\"20\" fill=\"#eeeeee\" />\n",
       "<rect x=\"140\" y=\"-60\" width=\"20\" height=\"20\" fill=\"#000000\" />\n",
       "<rect x=\"160\" y=\"-60\" width=\"20\" height=\"20\" fill=\"#eeeeee\" />\n",
       "<rect x=\"0\" y=\"-40\" width=\"20\" height=\"20\" fill=\"#eeeeee\" />\n",
       "<rect x=\"20\" y=\"-40\" width=\"20\" height=\"20\" fill=\"#000000\" />\n",
       "<rect x=\"40\" y=\"-40\" width=\"20\" height=\"20\" fill=\"#eeeeee\" />\n",
       "<rect x=\"60\" y=\"-40\" width=\"20\" height=\"20\" fill=\"#eeeeee\" />\n",
       "<rect x=\"80\" y=\"-40\" width=\"20\" height=\"20\" fill=\"#eeeeee\" />\n",
       "<rect x=\"100\" y=\"-40\" width=\"20\" height=\"20\" fill=\"#000000\" />\n",
       "<rect x=\"120\" y=\"-40\" width=\"20\" height=\"20\" fill=\"#eeeeee\" />\n",
       "<rect x=\"140\" y=\"-40\" width=\"20\" height=\"20\" fill=\"#eeeeee\" />\n",
       "<rect x=\"160\" y=\"-40\" width=\"20\" height=\"20\" fill=\"#eeeeee\" />\n",
       "<rect x=\"0\" y=\"-20\" width=\"20\" height=\"20\" fill=\"#eeeeee\" />\n",
       "<rect x=\"20\" y=\"-20\" width=\"20\" height=\"20\" fill=\"#000000\" />\n",
       "<rect x=\"40\" y=\"-20\" width=\"20\" height=\"20\" fill=\"#eeeeee\" />\n",
       "<rect x=\"60\" y=\"-20\" width=\"20\" height=\"20\" fill=\"#000000\" />\n",
       "<rect x=\"80\" y=\"-20\" width=\"20\" height=\"20\" fill=\"#eeeeee\" />\n",
       "<rect x=\"100\" y=\"-20\" width=\"20\" height=\"20\" fill=\"#eeeeee\" />\n",
       "<rect x=\"120\" y=\"-20\" width=\"20\" height=\"20\" fill=\"#eeeeee\" />\n",
       "<rect x=\"140\" y=\"-20\" width=\"20\" height=\"20\" fill=\"#000000\" />\n",
       "<rect x=\"160\" y=\"-20\" width=\"20\" height=\"20\" fill=\"#eeeeee\" />\n",
       "<circle cx=\"30.0\" cy=\"-70.0\" r=\"3.3333333333333335\" fill=\"purple\" />\n",
       "<circle cx=\"50.0\" cy=\"-70.0\" r=\"3.3333333333333335\" fill=\"purple\" />\n",
       "<circle cx=\"90.0\" cy=\"-70.0\" r=\"3.3333333333333335\" fill=\"purple\" />\n",
       "<circle cx=\"70.0\" cy=\"-50.0\" r=\"3.3333333333333335\" fill=\"purple\" />\n",
       "<circle cx=\"90.0\" cy=\"-50.0\" r=\"3.3333333333333335\" fill=\"purple\" />\n",
       "<circle cx=\"50.0\" cy=\"-30.0\" r=\"3.3333333333333335\" fill=\"purple\" />\n",
       "<circle cx=\"70.0\" cy=\"-30.0\" r=\"3.3333333333333335\" fill=\"purple\" />\n",
       "<circle cx=\"90.0\" cy=\"-30.0\" r=\"3.3333333333333335\" fill=\"purple\" />\n",
       "<circle cx=\"50.0\" cy=\"-10.0\" r=\"3.3333333333333335\" fill=\"purple\" />\n",
       "<circle cx=\"90.0\" cy=\"-10.0\" r=\"3.3333333333333335\" fill=\"purple\" />\n",
       "</svg>"
      ],
      "text/plain": [
       "<drawSvg.drawing.Drawing at 0x7f8797fef940>"
      ]
     },
     "execution_count": 20,
     "metadata": {},
     "output_type": "execute_result"
    }
   ],
   "source": [
    "draw_bits(example_bits, map(lambda xy: [xy[0]+1,xy[1]], triad_bits_to_coordinate_sequence(bit_breakdown(example_bits)[\"triads\"])), \"purple\")"
   ]
  },
  {
   "cell_type": "markdown",
   "id": "educational-garbage",
   "metadata": {},
   "source": [
    "You should see that every light-grey square inside the triads subgrid has a marker on it."
   ]
  },
  {
   "cell_type": "markdown",
   "id": "little-attraction",
   "metadata": {},
   "source": [
    "For each of these we want to generate a triad."
   ]
  },
  {
   "cell_type": "code",
   "execution_count": 21,
   "id": "unsigned-legend",
   "metadata": {},
   "outputs": [],
   "source": [
    "def intervals_to_triad(fundamental, coordinate):\n",
    "    \"\"\"Turn a single coordinate into the appropriate triad formed above the given fundamental.\"\"\"\n",
    "    notes = []\n",
    "    notes.append(fundamental)\n",
    "    notes.append(notes[0] + coordinate[0]) # x coordinate determines first interval\n",
    "    notes.append(notes[1] + coordinate[1]) # y coordinate determines second interval\n",
    "    return notes"
   ]
  },
  {
   "cell_type": "markdown",
   "id": "arbitrary-mercy",
   "metadata": {},
   "source": [
    "As an example: A triad based on a fundamental of 0, at point `[2,1]` has first note 0 (base) then up two semitones to the next note, then up one semitone to the next note."
   ]
  },
  {
   "cell_type": "code",
   "execution_count": 22,
   "id": "polyphonic-princess",
   "metadata": {},
   "outputs": [
    {
     "data": {
      "text/plain": [
       "[0, 2, 3]"
      ]
     },
     "execution_count": 22,
     "metadata": {},
     "output_type": "execute_result"
    }
   ],
   "source": [
    "intervals_to_triad(0,[2,1])"
   ]
  },
  {
   "cell_type": "markdown",
   "id": "relevant-convertible",
   "metadata": {},
   "source": [
    "We can then use list comprehension to send a list of triad coordinates to a list of triads."
   ]
  },
  {
   "cell_type": "code",
   "execution_count": 23,
   "id": "external-pickup",
   "metadata": {},
   "outputs": [],
   "source": [
    "def triad_interval_sequence(bits):\n",
    "    \"\"\"Given the large grid of bits provide a sequence of triads.\"\"\"\n",
    "    breakdown = bit_breakdown(bits)\n",
    "    fundamental = breakdown_to_semitone_shift(breakdown[\"fundamental\"])\n",
    "    triad_bit_sequence = triad_bits_to_coordinate_sequence(breakdown[\"triads\"])\n",
    "    return [intervals_to_triad(fundamental, coordinate) for coordinate in triad_bit_sequence]"
   ]
  },
  {
   "cell_type": "code",
   "execution_count": 24,
   "id": "violent-facial",
   "metadata": {},
   "outputs": [
    {
     "data": {
      "text/plain": [
       "[[11, 11, 11],\n",
       " [11, 12, 12],\n",
       " [11, 14, 14],\n",
       " [11, 13, 14],\n",
       " [11, 14, 15],\n",
       " [11, 12, 14],\n",
       " [11, 13, 15],\n",
       " [11, 14, 16],\n",
       " [11, 12, 15],\n",
       " [11, 14, 17]]"
      ]
     },
     "execution_count": 24,
     "metadata": {},
     "output_type": "execute_result"
    }
   ],
   "source": [
    "triad_interval_sequence(example_bits)"
   ]
  },
  {
   "cell_type": "markdown",
   "id": "upset-entity",
   "metadata": {},
   "source": [
    "We now have a list of triads expressed as semitones above low C."
   ]
  },
  {
   "cell_type": "markdown",
   "id": "recovered-entity",
   "metadata": {},
   "source": [
    "### Neighbours"
   ]
  },
  {
   "cell_type": "markdown",
   "id": "sufficient-authentication",
   "metadata": {},
   "source": [
    "In what follows we are going to need to look up the values of cells arround our target cell. Quite apart from it being useful to have a function to do this we also need to specify what happens if we look up a cell outside the range of our grid. In these instances we will simply return the value `0`."
   ]
  },
  {
   "cell_type": "code",
   "execution_count": 25,
   "id": "cooked-ferry",
   "metadata": {},
   "outputs": [],
   "source": [
    "def lookup(bit_grid, coordinates):\n",
    "    \"\"\"Find the value at the specified point in the bit_grid.\n",
    "    \n",
    "    If the coordinates fall outside of the grid then return 0.\n",
    "    \"\"\"\n",
    "    if coordinates[1] < 0 or coordinates[1] >= len(bit_grid):\n",
    "        return 0\n",
    "    if coordinates[0] < 0 or coordinates[0] >= len(bit_grid[0]):\n",
    "        return 0\n",
    "    return bit_grid[coordinates[1]][coordinates[0]]"
   ]
  },
  {
   "cell_type": "markdown",
   "id": "western-violin",
   "metadata": {},
   "source": [
    "Here are the bits again:"
   ]
  },
  {
   "cell_type": "code",
   "execution_count": 26,
   "id": "annual-feature",
   "metadata": {},
   "outputs": [
    {
     "data": {
      "image/svg+xml": [
       "<?xml version=\"1.0\" encoding=\"UTF-8\"?>\n",
       "<svg xmlns=\"http://www.w3.org/2000/svg\" xmlns:xlink=\"http://www.w3.org/1999/xlink\"\n",
       "     width=\"180\" height=\"80\" viewBox=\"0 -80 180 80\">\n",
       "<defs>\n",
       "</defs>\n",
       "<rect x=\"0\" y=\"-80\" width=\"20\" height=\"20\" fill=\"#eeeeee\" />\n",
       "<rect x=\"20\" y=\"-80\" width=\"20\" height=\"20\" fill=\"#eeeeee\" />\n",
       "<rect x=\"40\" y=\"-80\" width=\"20\" height=\"20\" fill=\"#eeeeee\" />\n",
       "<rect x=\"60\" y=\"-80\" width=\"20\" height=\"20\" fill=\"#000000\" />\n",
       "<rect x=\"80\" y=\"-80\" width=\"20\" height=\"20\" fill=\"#eeeeee\" />\n",
       "<rect x=\"100\" y=\"-80\" width=\"20\" height=\"20\" fill=\"#eeeeee\" />\n",
       "<rect x=\"120\" y=\"-80\" width=\"20\" height=\"20\" fill=\"#eeeeee\" />\n",
       "<rect x=\"140\" y=\"-80\" width=\"20\" height=\"20\" fill=\"#000000\" />\n",
       "<rect x=\"160\" y=\"-80\" width=\"20\" height=\"20\" fill=\"#000000\" />\n",
       "<rect x=\"0\" y=\"-60\" width=\"20\" height=\"20\" fill=\"#000000\" />\n",
       "<rect x=\"20\" y=\"-60\" width=\"20\" height=\"20\" fill=\"#000000\" />\n",
       "<rect x=\"40\" y=\"-60\" width=\"20\" height=\"20\" fill=\"#000000\" />\n",
       "<rect x=\"60\" y=\"-60\" width=\"20\" height=\"20\" fill=\"#eeeeee\" />\n",
       "<rect x=\"80\" y=\"-60\" width=\"20\" height=\"20\" fill=\"#eeeeee\" />\n",
       "<rect x=\"100\" y=\"-60\" width=\"20\" height=\"20\" fill=\"#eeeeee\" />\n",
       "<rect x=\"120\" y=\"-60\" width=\"20\" height=\"20\" fill=\"#eeeeee\" />\n",
       "<rect x=\"140\" y=\"-60\" width=\"20\" height=\"20\" fill=\"#000000\" />\n",
       "<rect x=\"160\" y=\"-60\" width=\"20\" height=\"20\" fill=\"#eeeeee\" />\n",
       "<rect x=\"0\" y=\"-40\" width=\"20\" height=\"20\" fill=\"#eeeeee\" />\n",
       "<rect x=\"20\" y=\"-40\" width=\"20\" height=\"20\" fill=\"#000000\" />\n",
       "<rect x=\"40\" y=\"-40\" width=\"20\" height=\"20\" fill=\"#eeeeee\" />\n",
       "<rect x=\"60\" y=\"-40\" width=\"20\" height=\"20\" fill=\"#eeeeee\" />\n",
       "<rect x=\"80\" y=\"-40\" width=\"20\" height=\"20\" fill=\"#eeeeee\" />\n",
       "<rect x=\"100\" y=\"-40\" width=\"20\" height=\"20\" fill=\"#000000\" />\n",
       "<rect x=\"120\" y=\"-40\" width=\"20\" height=\"20\" fill=\"#eeeeee\" />\n",
       "<rect x=\"140\" y=\"-40\" width=\"20\" height=\"20\" fill=\"#eeeeee\" />\n",
       "<rect x=\"160\" y=\"-40\" width=\"20\" height=\"20\" fill=\"#eeeeee\" />\n",
       "<rect x=\"0\" y=\"-20\" width=\"20\" height=\"20\" fill=\"#eeeeee\" />\n",
       "<rect x=\"20\" y=\"-20\" width=\"20\" height=\"20\" fill=\"#000000\" />\n",
       "<rect x=\"40\" y=\"-20\" width=\"20\" height=\"20\" fill=\"#eeeeee\" />\n",
       "<rect x=\"60\" y=\"-20\" width=\"20\" height=\"20\" fill=\"#000000\" />\n",
       "<rect x=\"80\" y=\"-20\" width=\"20\" height=\"20\" fill=\"#eeeeee\" />\n",
       "<rect x=\"100\" y=\"-20\" width=\"20\" height=\"20\" fill=\"#eeeeee\" />\n",
       "<rect x=\"120\" y=\"-20\" width=\"20\" height=\"20\" fill=\"#eeeeee\" />\n",
       "<rect x=\"140\" y=\"-20\" width=\"20\" height=\"20\" fill=\"#000000\" />\n",
       "<rect x=\"160\" y=\"-20\" width=\"20\" height=\"20\" fill=\"#eeeeee\" />\n",
       "</svg>"
      ],
      "text/plain": [
       "<drawSvg.drawing.Drawing at 0x7f8797ffa8e0>"
      ]
     },
     "execution_count": 26,
     "metadata": {},
     "output_type": "execute_result"
    }
   ],
   "source": [
    "draw_bits(example_bits)"
   ]
  },
  {
   "cell_type": "markdown",
   "id": "operating-button",
   "metadata": {},
   "source": [
    "What's the value of the top left bit?"
   ]
  },
  {
   "cell_type": "code",
   "execution_count": 27,
   "id": "collaborative-accordance",
   "metadata": {},
   "outputs": [
    {
     "data": {
      "text/plain": [
       "1"
      ]
     },
     "execution_count": 27,
     "metadata": {},
     "output_type": "execute_result"
    }
   ],
   "source": [
    "lookup(example_bits, [0,0])"
   ]
  },
  {
   "cell_type": "markdown",
   "id": "graphic-ebony",
   "metadata": {},
   "source": [
    "What is the value of the bit one across and two down?"
   ]
  },
  {
   "cell_type": "code",
   "execution_count": 28,
   "id": "creative-policy",
   "metadata": {},
   "outputs": [
    {
     "data": {
      "text/plain": [
       "0"
      ]
     },
     "execution_count": 28,
     "metadata": {},
     "output_type": "execute_result"
    }
   ],
   "source": [
    "lookup(example_bits, [1,2])"
   ]
  },
  {
   "cell_type": "markdown",
   "id": "processed-sister",
   "metadata": {},
   "source": [
    "Now let's mark on the grid both a target point and all its neighbours."
   ]
  },
  {
   "cell_type": "code",
   "execution_count": 29,
   "id": "rocky-cheat",
   "metadata": {},
   "outputs": [],
   "source": [
    "def draw_neighbours(bits, point):\n",
    "    \"\"\"Draw the grid of bits and mark all cells surrounding and including the named point.\"\"\"\n",
    "    return draw_bits(bits, [[x,y] for x in range(point[0]-1,point[0]+2) for y in range(point[1]-1,point[1]+2)])"
   ]
  },
  {
   "cell_type": "code",
   "execution_count": 30,
   "id": "static-batman",
   "metadata": {},
   "outputs": [
    {
     "data": {
      "image/svg+xml": [
       "<?xml version=\"1.0\" encoding=\"UTF-8\"?>\n",
       "<svg xmlns=\"http://www.w3.org/2000/svg\" xmlns:xlink=\"http://www.w3.org/1999/xlink\"\n",
       "     width=\"180\" height=\"80\" viewBox=\"0 -80 180 80\">\n",
       "<defs>\n",
       "</defs>\n",
       "<rect x=\"0\" y=\"-80\" width=\"20\" height=\"20\" fill=\"#eeeeee\" />\n",
       "<rect x=\"20\" y=\"-80\" width=\"20\" height=\"20\" fill=\"#eeeeee\" />\n",
       "<rect x=\"40\" y=\"-80\" width=\"20\" height=\"20\" fill=\"#eeeeee\" />\n",
       "<rect x=\"60\" y=\"-80\" width=\"20\" height=\"20\" fill=\"#000000\" />\n",
       "<rect x=\"80\" y=\"-80\" width=\"20\" height=\"20\" fill=\"#eeeeee\" />\n",
       "<rect x=\"100\" y=\"-80\" width=\"20\" height=\"20\" fill=\"#eeeeee\" />\n",
       "<rect x=\"120\" y=\"-80\" width=\"20\" height=\"20\" fill=\"#eeeeee\" />\n",
       "<rect x=\"140\" y=\"-80\" width=\"20\" height=\"20\" fill=\"#000000\" />\n",
       "<rect x=\"160\" y=\"-80\" width=\"20\" height=\"20\" fill=\"#000000\" />\n",
       "<rect x=\"0\" y=\"-60\" width=\"20\" height=\"20\" fill=\"#000000\" />\n",
       "<rect x=\"20\" y=\"-60\" width=\"20\" height=\"20\" fill=\"#000000\" />\n",
       "<rect x=\"40\" y=\"-60\" width=\"20\" height=\"20\" fill=\"#000000\" />\n",
       "<rect x=\"60\" y=\"-60\" width=\"20\" height=\"20\" fill=\"#eeeeee\" />\n",
       "<rect x=\"80\" y=\"-60\" width=\"20\" height=\"20\" fill=\"#eeeeee\" />\n",
       "<rect x=\"100\" y=\"-60\" width=\"20\" height=\"20\" fill=\"#eeeeee\" />\n",
       "<rect x=\"120\" y=\"-60\" width=\"20\" height=\"20\" fill=\"#eeeeee\" />\n",
       "<rect x=\"140\" y=\"-60\" width=\"20\" height=\"20\" fill=\"#000000\" />\n",
       "<rect x=\"160\" y=\"-60\" width=\"20\" height=\"20\" fill=\"#eeeeee\" />\n",
       "<rect x=\"0\" y=\"-40\" width=\"20\" height=\"20\" fill=\"#eeeeee\" />\n",
       "<rect x=\"20\" y=\"-40\" width=\"20\" height=\"20\" fill=\"#000000\" />\n",
       "<rect x=\"40\" y=\"-40\" width=\"20\" height=\"20\" fill=\"#eeeeee\" />\n",
       "<rect x=\"60\" y=\"-40\" width=\"20\" height=\"20\" fill=\"#eeeeee\" />\n",
       "<rect x=\"80\" y=\"-40\" width=\"20\" height=\"20\" fill=\"#eeeeee\" />\n",
       "<rect x=\"100\" y=\"-40\" width=\"20\" height=\"20\" fill=\"#000000\" />\n",
       "<rect x=\"120\" y=\"-40\" width=\"20\" height=\"20\" fill=\"#eeeeee\" />\n",
       "<rect x=\"140\" y=\"-40\" width=\"20\" height=\"20\" fill=\"#eeeeee\" />\n",
       "<rect x=\"160\" y=\"-40\" width=\"20\" height=\"20\" fill=\"#eeeeee\" />\n",
       "<rect x=\"0\" y=\"-20\" width=\"20\" height=\"20\" fill=\"#eeeeee\" />\n",
       "<rect x=\"20\" y=\"-20\" width=\"20\" height=\"20\" fill=\"#000000\" />\n",
       "<rect x=\"40\" y=\"-20\" width=\"20\" height=\"20\" fill=\"#eeeeee\" />\n",
       "<rect x=\"60\" y=\"-20\" width=\"20\" height=\"20\" fill=\"#000000\" />\n",
       "<rect x=\"80\" y=\"-20\" width=\"20\" height=\"20\" fill=\"#eeeeee\" />\n",
       "<rect x=\"100\" y=\"-20\" width=\"20\" height=\"20\" fill=\"#eeeeee\" />\n",
       "<rect x=\"120\" y=\"-20\" width=\"20\" height=\"20\" fill=\"#eeeeee\" />\n",
       "<rect x=\"140\" y=\"-20\" width=\"20\" height=\"20\" fill=\"#000000\" />\n",
       "<rect x=\"160\" y=\"-20\" width=\"20\" height=\"20\" fill=\"#eeeeee\" />\n",
       "<circle cx=\"10.0\" cy=\"-50.0\" r=\"3.3333333333333335\" fill=\"#5af\" />\n",
       "<circle cx=\"10.0\" cy=\"-30.0\" r=\"3.3333333333333335\" fill=\"#5af\" />\n",
       "<circle cx=\"10.0\" cy=\"-10.0\" r=\"3.3333333333333335\" fill=\"#5af\" />\n",
       "<circle cx=\"30.0\" cy=\"-50.0\" r=\"3.3333333333333335\" fill=\"#5af\" />\n",
       "<circle cx=\"30.0\" cy=\"-30.0\" r=\"3.3333333333333335\" fill=\"#5af\" />\n",
       "<circle cx=\"30.0\" cy=\"-10.0\" r=\"3.3333333333333335\" fill=\"#5af\" />\n",
       "<circle cx=\"50.0\" cy=\"-50.0\" r=\"3.3333333333333335\" fill=\"#5af\" />\n",
       "<circle cx=\"50.0\" cy=\"-30.0\" r=\"3.3333333333333335\" fill=\"#5af\" />\n",
       "<circle cx=\"50.0\" cy=\"-10.0\" r=\"3.3333333333333335\" fill=\"#5af\" />\n",
       "</svg>"
      ],
      "text/plain": [
       "<drawSvg.drawing.Drawing at 0x7f8797f8a190>"
      ]
     },
     "execution_count": 30,
     "metadata": {},
     "output_type": "execute_result"
    }
   ],
   "source": [
    "draw_neighbours(example_bits,[1,2])"
   ]
  },
  {
   "cell_type": "markdown",
   "id": "polar-mistress",
   "metadata": {},
   "source": [
    "The CAMUS protocol assigns names to the eight neighbours, and so we will do the same."
   ]
  },
  {
   "cell_type": "markdown",
   "id": "sufficient-nature",
   "metadata": {},
   "source": [
    " - `a` is North\n",
    " - `b` is South\n",
    " - `c` is East\n",
    " - `d` is West\n",
    " - `m` is North-West\n",
    " - `n` is South-East\n",
    " - `o` is North-East\n",
    " - `p` is South-West"
   ]
  },
  {
   "cell_type": "markdown",
   "id": "tight-medline",
   "metadata": {},
   "source": [
    "![The names of the neighbours of a cell in CAMUS](images/neighbours_CAMUS.svg)"
   ]
  },
  {
   "cell_type": "markdown",
   "id": "medical-stomach",
   "metadata": {},
   "source": [
    "We don't want the *coordinates* of the neighbours as much as the values of the neighbours."
   ]
  },
  {
   "cell_type": "code",
   "execution_count": 31,
   "id": "pressed-discretion",
   "metadata": {},
   "outputs": [],
   "source": [
    "def neighbours(bit_grid, coordinate):\n",
    "    \"\"\"For the specified point in the grid return a dictionary of names to cell values.\n",
    "    \n",
    "    The names for the neighbours are from the CAMUS specification.\n",
    "    \"\"\"\n",
    "    x_mid = coordinate[0]\n",
    "    y_mid = coordinate[1]\n",
    "    ordered = [lookup(bit_grid,[x,y]) \n",
    "            for y in (y_mid-1, y_mid, y_mid+1)\n",
    "            for x in (x_mid-1, x_mid, x_mid+1)\n",
    "           ]\n",
    "    return {\n",
    "        \"a\": ordered[1],\n",
    "        \"b\": ordered[7],\n",
    "        \"c\": ordered[5],\n",
    "        \"d\": ordered[3],\n",
    "        \"m\": ordered[0],\n",
    "        \"n\": ordered[8],\n",
    "        \"o\": ordered[2],\n",
    "        \"p\": ordered[6]\n",
    "    }"
   ]
  },
  {
   "cell_type": "code",
   "execution_count": 32,
   "id": "different-donor",
   "metadata": {},
   "outputs": [
    {
     "data": {
      "text/plain": [
       "{'a': 0, 'b': 0, 'c': 1, 'd': 1, 'm': 0, 'n': 1, 'o': 0, 'p': 1}"
      ]
     },
     "execution_count": 32,
     "metadata": {},
     "output_type": "execute_result"
    }
   ],
   "source": [
    "neighbours(example_bits,[1,2])"
   ]
  },
  {
   "cell_type": "markdown",
   "id": "recorded-convert",
   "metadata": {},
   "source": [
    "We will refer to these neighbours just using these single-letter names in what follows."
   ]
  },
  {
   "cell_type": "markdown",
   "id": "appreciated-haiti",
   "metadata": {},
   "source": [
    "### Instrumentation"
   ]
  },
  {
   "cell_type": "markdown",
   "id": "wound-adelaide",
   "metadata": {},
   "source": [
    "The CAMUS protocol comes with a couple of optional variations, and we will use one where the notes of each triad can be played on different instruments. We choose the instruments by thinking of the `triad` and `instrument` subgrids of our bit-grid as two separate grids. We move through the points (x,y) looking at the value in both grids. The first grid determines whether the triad (fundamental, fundamental + x, fundamental+x+y) is played. The second grid determines which instruments play the triad. To allow us to have multiple instruments we will use the following scheme:\n",
    " - neighbour `a` determines if the bottom note is on instrument 0 or 1\n",
    " - neighbour `b` determines if the middle note is on instrument 0 or 1\n",
    " - neighbour `c` determines if the top note is on instrument 0 or 1"
   ]
  },
  {
   "cell_type": "markdown",
   "id": "worldwide-stanford",
   "metadata": {},
   "source": [
    "As an example let's assume that cell `[2,1]` in the triad subgrid has value `1`. We look at the corresponding cell in the instrumentation subgrid, and then look at that cell's neighbours."
   ]
  },
  {
   "cell_type": "markdown",
   "id": "lesser-struggle",
   "metadata": {},
   "source": [
    "To show this in action we will pick a point in the `triads` grid and see the corresponding neighbours in the `instrumentation` grid."
   ]
  },
  {
   "cell_type": "markdown",
   "id": "english-virginia",
   "metadata": {},
   "source": [
    "![Moving from the triad subgrid to the instrumentation subgrid](images/instrumentation_CAMUS.svg)"
   ]
  },
  {
   "cell_type": "markdown",
   "id": "comic-nutrition",
   "metadata": {},
   "source": [
    "Let's make some functions so we can see this on our grid of example bits."
   ]
  },
  {
   "cell_type": "code",
   "execution_count": 33,
   "id": "renewable-antarctica",
   "metadata": {},
   "outputs": [],
   "source": [
    "def mark_triad_and_instrument(bits, triad_coord):\n",
    "    \"\"\"Mark the cell determining the intervals, and the cells determining the instrumentation on the same grid.\"\"\"\n",
    "    return draw_bits(bits, [[triad_coord[0]+1, triad_coord[1]],\n",
    "                            [triad_coord[0]+5, triad_coord[1]-1],\n",
    "                            [triad_coord[0]+6, triad_coord[1]],\n",
    "                            [triad_coord[0]+5, triad_coord[1]+1]])"
   ]
  },
  {
   "cell_type": "markdown",
   "id": "capable-comparison",
   "metadata": {},
   "source": [
    "Remember that the triad coordinate indicates the location just inside the `triad` subgrid, which starts at the second column."
   ]
  },
  {
   "cell_type": "code",
   "execution_count": 34,
   "id": "stable-friend",
   "metadata": {},
   "outputs": [
    {
     "data": {
      "image/svg+xml": [
       "<?xml version=\"1.0\" encoding=\"UTF-8\"?>\n",
       "<svg xmlns=\"http://www.w3.org/2000/svg\" xmlns:xlink=\"http://www.w3.org/1999/xlink\"\n",
       "     width=\"180\" height=\"80\" viewBox=\"0 -80 180 80\">\n",
       "<defs>\n",
       "</defs>\n",
       "<rect x=\"0\" y=\"-80\" width=\"20\" height=\"20\" fill=\"#eeeeee\" />\n",
       "<rect x=\"20\" y=\"-80\" width=\"20\" height=\"20\" fill=\"#eeeeee\" />\n",
       "<rect x=\"40\" y=\"-80\" width=\"20\" height=\"20\" fill=\"#eeeeee\" />\n",
       "<rect x=\"60\" y=\"-80\" width=\"20\" height=\"20\" fill=\"#000000\" />\n",
       "<rect x=\"80\" y=\"-80\" width=\"20\" height=\"20\" fill=\"#eeeeee\" />\n",
       "<rect x=\"100\" y=\"-80\" width=\"20\" height=\"20\" fill=\"#eeeeee\" />\n",
       "<rect x=\"120\" y=\"-80\" width=\"20\" height=\"20\" fill=\"#eeeeee\" />\n",
       "<rect x=\"140\" y=\"-80\" width=\"20\" height=\"20\" fill=\"#000000\" />\n",
       "<rect x=\"160\" y=\"-80\" width=\"20\" height=\"20\" fill=\"#000000\" />\n",
       "<rect x=\"0\" y=\"-60\" width=\"20\" height=\"20\" fill=\"#000000\" />\n",
       "<rect x=\"20\" y=\"-60\" width=\"20\" height=\"20\" fill=\"#000000\" />\n",
       "<rect x=\"40\" y=\"-60\" width=\"20\" height=\"20\" fill=\"#000000\" />\n",
       "<rect x=\"60\" y=\"-60\" width=\"20\" height=\"20\" fill=\"#eeeeee\" />\n",
       "<rect x=\"80\" y=\"-60\" width=\"20\" height=\"20\" fill=\"#eeeeee\" />\n",
       "<rect x=\"100\" y=\"-60\" width=\"20\" height=\"20\" fill=\"#eeeeee\" />\n",
       "<rect x=\"120\" y=\"-60\" width=\"20\" height=\"20\" fill=\"#eeeeee\" />\n",
       "<rect x=\"140\" y=\"-60\" width=\"20\" height=\"20\" fill=\"#000000\" />\n",
       "<rect x=\"160\" y=\"-60\" width=\"20\" height=\"20\" fill=\"#eeeeee\" />\n",
       "<rect x=\"0\" y=\"-40\" width=\"20\" height=\"20\" fill=\"#eeeeee\" />\n",
       "<rect x=\"20\" y=\"-40\" width=\"20\" height=\"20\" fill=\"#000000\" />\n",
       "<rect x=\"40\" y=\"-40\" width=\"20\" height=\"20\" fill=\"#eeeeee\" />\n",
       "<rect x=\"60\" y=\"-40\" width=\"20\" height=\"20\" fill=\"#eeeeee\" />\n",
       "<rect x=\"80\" y=\"-40\" width=\"20\" height=\"20\" fill=\"#eeeeee\" />\n",
       "<rect x=\"100\" y=\"-40\" width=\"20\" height=\"20\" fill=\"#000000\" />\n",
       "<rect x=\"120\" y=\"-40\" width=\"20\" height=\"20\" fill=\"#eeeeee\" />\n",
       "<rect x=\"140\" y=\"-40\" width=\"20\" height=\"20\" fill=\"#eeeeee\" />\n",
       "<rect x=\"160\" y=\"-40\" width=\"20\" height=\"20\" fill=\"#eeeeee\" />\n",
       "<rect x=\"0\" y=\"-20\" width=\"20\" height=\"20\" fill=\"#eeeeee\" />\n",
       "<rect x=\"20\" y=\"-20\" width=\"20\" height=\"20\" fill=\"#000000\" />\n",
       "<rect x=\"40\" y=\"-20\" width=\"20\" height=\"20\" fill=\"#eeeeee\" />\n",
       "<rect x=\"60\" y=\"-20\" width=\"20\" height=\"20\" fill=\"#000000\" />\n",
       "<rect x=\"80\" y=\"-20\" width=\"20\" height=\"20\" fill=\"#eeeeee\" />\n",
       "<rect x=\"100\" y=\"-20\" width=\"20\" height=\"20\" fill=\"#eeeeee\" />\n",
       "<rect x=\"120\" y=\"-20\" width=\"20\" height=\"20\" fill=\"#eeeeee\" />\n",
       "<rect x=\"140\" y=\"-20\" width=\"20\" height=\"20\" fill=\"#000000\" />\n",
       "<rect x=\"160\" y=\"-20\" width=\"20\" height=\"20\" fill=\"#eeeeee\" />\n",
       "<circle cx=\"50.0\" cy=\"-50.0\" r=\"3.3333333333333335\" fill=\"#5af\" />\n",
       "<circle cx=\"130.0\" cy=\"-70.0\" r=\"3.3333333333333335\" fill=\"#5af\" />\n",
       "<circle cx=\"150.0\" cy=\"-50.0\" r=\"3.3333333333333335\" fill=\"#5af\" />\n",
       "<circle cx=\"130.0\" cy=\"-30.0\" r=\"3.3333333333333335\" fill=\"#5af\" />\n",
       "</svg>"
      ],
      "text/plain": [
       "<drawSvg.drawing.Drawing at 0x7f8797fa26d0>"
      ]
     },
     "execution_count": 34,
     "metadata": {},
     "output_type": "execute_result"
    }
   ],
   "source": [
    "mark_triad_and_instrument(example_bits, [1,1])"
   ]
  },
  {
   "cell_type": "code",
   "execution_count": 35,
   "id": "super-mexico",
   "metadata": {},
   "outputs": [],
   "source": [
    "def instrument_from_triad_coord(bits, triad_coord):\n",
    "    \"\"\"Given a triad coordinate find the appropriate list of instruments to play each voice.\"\"\"\n",
    "    instrument_coord = [triad_coord[0]+5, triad_coord[0]] # measured from the top left of the large grid\n",
    "    n = neighbours(bits, instrument_coord)\n",
    "    return [n[\"a\"], n[\"b\"], n[\"c\"]]"
   ]
  },
  {
   "cell_type": "code",
   "execution_count": 36,
   "id": "affecting-authentication",
   "metadata": {},
   "outputs": [
    {
     "data": {
      "text/plain": [
       "[1, 1, 0]"
      ]
     },
     "execution_count": 36,
     "metadata": {},
     "output_type": "execute_result"
    }
   ],
   "source": [
    "instrument_from_triad_coord(example_bits, [1,1])"
   ]
  },
  {
   "cell_type": "markdown",
   "id": "motivated-hawaii",
   "metadata": {},
   "source": [
    "Recall that any cell not inside the grid boundary is treated as having value 0."
   ]
  },
  {
   "cell_type": "code",
   "execution_count": 37,
   "id": "engaging-division",
   "metadata": {},
   "outputs": [
    {
     "data": {
      "image/svg+xml": [
       "<?xml version=\"1.0\" encoding=\"UTF-8\"?>\n",
       "<svg xmlns=\"http://www.w3.org/2000/svg\" xmlns:xlink=\"http://www.w3.org/1999/xlink\"\n",
       "     width=\"180\" height=\"80\" viewBox=\"0 -80 180 80\">\n",
       "<defs>\n",
       "</defs>\n",
       "<rect x=\"0\" y=\"-80\" width=\"20\" height=\"20\" fill=\"#eeeeee\" />\n",
       "<rect x=\"20\" y=\"-80\" width=\"20\" height=\"20\" fill=\"#eeeeee\" />\n",
       "<rect x=\"40\" y=\"-80\" width=\"20\" height=\"20\" fill=\"#eeeeee\" />\n",
       "<rect x=\"60\" y=\"-80\" width=\"20\" height=\"20\" fill=\"#000000\" />\n",
       "<rect x=\"80\" y=\"-80\" width=\"20\" height=\"20\" fill=\"#eeeeee\" />\n",
       "<rect x=\"100\" y=\"-80\" width=\"20\" height=\"20\" fill=\"#eeeeee\" />\n",
       "<rect x=\"120\" y=\"-80\" width=\"20\" height=\"20\" fill=\"#eeeeee\" />\n",
       "<rect x=\"140\" y=\"-80\" width=\"20\" height=\"20\" fill=\"#000000\" />\n",
       "<rect x=\"160\" y=\"-80\" width=\"20\" height=\"20\" fill=\"#000000\" />\n",
       "<rect x=\"0\" y=\"-60\" width=\"20\" height=\"20\" fill=\"#000000\" />\n",
       "<rect x=\"20\" y=\"-60\" width=\"20\" height=\"20\" fill=\"#000000\" />\n",
       "<rect x=\"40\" y=\"-60\" width=\"20\" height=\"20\" fill=\"#000000\" />\n",
       "<rect x=\"60\" y=\"-60\" width=\"20\" height=\"20\" fill=\"#eeeeee\" />\n",
       "<rect x=\"80\" y=\"-60\" width=\"20\" height=\"20\" fill=\"#eeeeee\" />\n",
       "<rect x=\"100\" y=\"-60\" width=\"20\" height=\"20\" fill=\"#eeeeee\" />\n",
       "<rect x=\"120\" y=\"-60\" width=\"20\" height=\"20\" fill=\"#eeeeee\" />\n",
       "<rect x=\"140\" y=\"-60\" width=\"20\" height=\"20\" fill=\"#000000\" />\n",
       "<rect x=\"160\" y=\"-60\" width=\"20\" height=\"20\" fill=\"#eeeeee\" />\n",
       "<rect x=\"0\" y=\"-40\" width=\"20\" height=\"20\" fill=\"#eeeeee\" />\n",
       "<rect x=\"20\" y=\"-40\" width=\"20\" height=\"20\" fill=\"#000000\" />\n",
       "<rect x=\"40\" y=\"-40\" width=\"20\" height=\"20\" fill=\"#eeeeee\" />\n",
       "<rect x=\"60\" y=\"-40\" width=\"20\" height=\"20\" fill=\"#eeeeee\" />\n",
       "<rect x=\"80\" y=\"-40\" width=\"20\" height=\"20\" fill=\"#eeeeee\" />\n",
       "<rect x=\"100\" y=\"-40\" width=\"20\" height=\"20\" fill=\"#000000\" />\n",
       "<rect x=\"120\" y=\"-40\" width=\"20\" height=\"20\" fill=\"#eeeeee\" />\n",
       "<rect x=\"140\" y=\"-40\" width=\"20\" height=\"20\" fill=\"#eeeeee\" />\n",
       "<rect x=\"160\" y=\"-40\" width=\"20\" height=\"20\" fill=\"#eeeeee\" />\n",
       "<rect x=\"0\" y=\"-20\" width=\"20\" height=\"20\" fill=\"#eeeeee\" />\n",
       "<rect x=\"20\" y=\"-20\" width=\"20\" height=\"20\" fill=\"#000000\" />\n",
       "<rect x=\"40\" y=\"-20\" width=\"20\" height=\"20\" fill=\"#eeeeee\" />\n",
       "<rect x=\"60\" y=\"-20\" width=\"20\" height=\"20\" fill=\"#000000\" />\n",
       "<rect x=\"80\" y=\"-20\" width=\"20\" height=\"20\" fill=\"#eeeeee\" />\n",
       "<rect x=\"100\" y=\"-20\" width=\"20\" height=\"20\" fill=\"#eeeeee\" />\n",
       "<rect x=\"120\" y=\"-20\" width=\"20\" height=\"20\" fill=\"#eeeeee\" />\n",
       "<rect x=\"140\" y=\"-20\" width=\"20\" height=\"20\" fill=\"#000000\" />\n",
       "<rect x=\"160\" y=\"-20\" width=\"20\" height=\"20\" fill=\"#eeeeee\" />\n",
       "<circle cx=\"30.0\" cy=\"-70.0\" r=\"3.3333333333333335\" fill=\"#5af\" />\n",
       "<circle cx=\"110.0\" cy=\"-90.0\" r=\"3.3333333333333335\" fill=\"#5af\" />\n",
       "<circle cx=\"130.0\" cy=\"-70.0\" r=\"3.3333333333333335\" fill=\"#5af\" />\n",
       "<circle cx=\"110.0\" cy=\"-50.0\" r=\"3.3333333333333335\" fill=\"#5af\" />\n",
       "</svg>"
      ],
      "text/plain": [
       "<drawSvg.drawing.Drawing at 0x7f8797f9ddf0>"
      ]
     },
     "execution_count": 37,
     "metadata": {},
     "output_type": "execute_result"
    }
   ],
   "source": [
    "mark_triad_and_instrument(example_bits, [0,0])"
   ]
  },
  {
   "cell_type": "code",
   "execution_count": 38,
   "id": "interim-verification",
   "metadata": {},
   "outputs": [
    {
     "data": {
      "text/plain": [
       "[0, 1, 1]"
      ]
     },
     "execution_count": 38,
     "metadata": {},
     "output_type": "execute_result"
    }
   ],
   "source": [
    "instrument_from_triad_coord(example_bits, [0,0])"
   ]
  },
  {
   "cell_type": "markdown",
   "id": "surrounded-armor",
   "metadata": {},
   "source": [
    "### Timing"
   ]
  },
  {
   "cell_type": "markdown",
   "id": "obvious-cocktail",
   "metadata": {},
   "source": [
    "The original CAMUS protocol had an incomplete collection of \"temporal morphologies\" i.e. timing templates indicating when each voice of the triad starts and stops in the bar. We expand on that here in the following way:\n",
    " - `a` indicates whether the bottom note of the triad starts on the first beat of the bar or waits a little\n",
    " - `b` indicates whether the middle note of the triad starts on the first beat of the bar or waits a little\n",
    " - `c` indicates whether the upper note of the triad starts on the first beat of the bar or waits a little\n",
    " - `d` determines how long the wait is. If `1` then wait a quaver, if `0` then wait a crotchet\n",
    " "
   ]
  },
  {
   "cell_type": "markdown",
   "id": "critical-reasoning",
   "metadata": {},
   "source": [
    "Similarly we use `mnop` for the timings at the end of the bar:\n",
    "\n",
    " - `m` indicates whether the bottom note of the triad goes to the end of the bar or finishes early \n",
    " - `n` indicates whether the middle note of the triad goes to the end of the bar or finishes early\n",
    " - `o` indicates whether the upper note of the triad goes to the end of the bar or finishes early\n",
    " - `p` determines what _finishes early_ means. If `1` then a quaver early, if `0` then a crotchet early"
   ]
  },
  {
   "cell_type": "markdown",
   "id": "approximate-companion",
   "metadata": {},
   "source": [
    "Using dark bars to indicate note placement and duration here is a diagram showing how the values in neighbouring cells affect the timings of the notes played."
   ]
  },
  {
   "cell_type": "markdown",
   "id": "false-desert",
   "metadata": {},
   "source": [
    "![How to determine timings under CAMUS](images/timings_CAMUS.svg)"
   ]
  },
  {
   "cell_type": "code",
   "execution_count": 39,
   "id": "collect-magic",
   "metadata": {},
   "outputs": [],
   "source": [
    "def timings(bits, triad_coord, short_wait=0.5, long_wait=1):\n",
    "    \"\"\"Given a triad coordinate find the lengths of the rests (if any) before and after the part is played.\n",
    "    \n",
    "    `short_wait` is the length of the rest if the appropriate cell's value is `1`,\n",
    "    and `long_wait` is the length of the rest if the appropriate cell's value is `0`.\n",
    "    \n",
    "    `offset` is used when concatenating data, and shifts all timings the specified amount.\n",
    "    \"\"\"\n",
    "    n = neighbours(bits, [triad_coord[0]+1, triad_coord[1]])\n",
    "    entry = [n[direction] * (short_wait if n[\"d\"] else long_wait) for direction in \"abc\"]\n",
    "    exit = [n[direction] * (short_wait if n[\"p\"] else long_wait) for direction in \"mno\"]\n",
    "    return {\"entry\": entry, \"exit\": exit }"
   ]
  },
  {
   "cell_type": "markdown",
   "id": "swiss-latvia",
   "metadata": {},
   "source": [
    "Remember that triad bit coordinates are shifted over by one from general grid coordinates."
   ]
  },
  {
   "cell_type": "code",
   "execution_count": 40,
   "id": "victorian-egyptian",
   "metadata": {},
   "outputs": [
    {
     "data": {
      "image/svg+xml": [
       "<?xml version=\"1.0\" encoding=\"UTF-8\"?>\n",
       "<svg xmlns=\"http://www.w3.org/2000/svg\" xmlns:xlink=\"http://www.w3.org/1999/xlink\"\n",
       "     width=\"180\" height=\"80\" viewBox=\"0 -80 180 80\">\n",
       "<defs>\n",
       "</defs>\n",
       "<rect x=\"0\" y=\"-80\" width=\"20\" height=\"20\" fill=\"#eeeeee\" />\n",
       "<rect x=\"20\" y=\"-80\" width=\"20\" height=\"20\" fill=\"#eeeeee\" />\n",
       "<rect x=\"40\" y=\"-80\" width=\"20\" height=\"20\" fill=\"#eeeeee\" />\n",
       "<rect x=\"60\" y=\"-80\" width=\"20\" height=\"20\" fill=\"#000000\" />\n",
       "<rect x=\"80\" y=\"-80\" width=\"20\" height=\"20\" fill=\"#eeeeee\" />\n",
       "<rect x=\"100\" y=\"-80\" width=\"20\" height=\"20\" fill=\"#eeeeee\" />\n",
       "<rect x=\"120\" y=\"-80\" width=\"20\" height=\"20\" fill=\"#eeeeee\" />\n",
       "<rect x=\"140\" y=\"-80\" width=\"20\" height=\"20\" fill=\"#000000\" />\n",
       "<rect x=\"160\" y=\"-80\" width=\"20\" height=\"20\" fill=\"#000000\" />\n",
       "<rect x=\"0\" y=\"-60\" width=\"20\" height=\"20\" fill=\"#000000\" />\n",
       "<rect x=\"20\" y=\"-60\" width=\"20\" height=\"20\" fill=\"#000000\" />\n",
       "<rect x=\"40\" y=\"-60\" width=\"20\" height=\"20\" fill=\"#000000\" />\n",
       "<rect x=\"60\" y=\"-60\" width=\"20\" height=\"20\" fill=\"#eeeeee\" />\n",
       "<rect x=\"80\" y=\"-60\" width=\"20\" height=\"20\" fill=\"#eeeeee\" />\n",
       "<rect x=\"100\" y=\"-60\" width=\"20\" height=\"20\" fill=\"#eeeeee\" />\n",
       "<rect x=\"120\" y=\"-60\" width=\"20\" height=\"20\" fill=\"#eeeeee\" />\n",
       "<rect x=\"140\" y=\"-60\" width=\"20\" height=\"20\" fill=\"#000000\" />\n",
       "<rect x=\"160\" y=\"-60\" width=\"20\" height=\"20\" fill=\"#eeeeee\" />\n",
       "<rect x=\"0\" y=\"-40\" width=\"20\" height=\"20\" fill=\"#eeeeee\" />\n",
       "<rect x=\"20\" y=\"-40\" width=\"20\" height=\"20\" fill=\"#000000\" />\n",
       "<rect x=\"40\" y=\"-40\" width=\"20\" height=\"20\" fill=\"#eeeeee\" />\n",
       "<rect x=\"60\" y=\"-40\" width=\"20\" height=\"20\" fill=\"#eeeeee\" />\n",
       "<rect x=\"80\" y=\"-40\" width=\"20\" height=\"20\" fill=\"#eeeeee\" />\n",
       "<rect x=\"100\" y=\"-40\" width=\"20\" height=\"20\" fill=\"#000000\" />\n",
       "<rect x=\"120\" y=\"-40\" width=\"20\" height=\"20\" fill=\"#eeeeee\" />\n",
       "<rect x=\"140\" y=\"-40\" width=\"20\" height=\"20\" fill=\"#eeeeee\" />\n",
       "<rect x=\"160\" y=\"-40\" width=\"20\" height=\"20\" fill=\"#eeeeee\" />\n",
       "<rect x=\"0\" y=\"-20\" width=\"20\" height=\"20\" fill=\"#eeeeee\" />\n",
       "<rect x=\"20\" y=\"-20\" width=\"20\" height=\"20\" fill=\"#000000\" />\n",
       "<rect x=\"40\" y=\"-20\" width=\"20\" height=\"20\" fill=\"#eeeeee\" />\n",
       "<rect x=\"60\" y=\"-20\" width=\"20\" height=\"20\" fill=\"#000000\" />\n",
       "<rect x=\"80\" y=\"-20\" width=\"20\" height=\"20\" fill=\"#eeeeee\" />\n",
       "<rect x=\"100\" y=\"-20\" width=\"20\" height=\"20\" fill=\"#eeeeee\" />\n",
       "<rect x=\"120\" y=\"-20\" width=\"20\" height=\"20\" fill=\"#eeeeee\" />\n",
       "<rect x=\"140\" y=\"-20\" width=\"20\" height=\"20\" fill=\"#000000\" />\n",
       "<rect x=\"160\" y=\"-20\" width=\"20\" height=\"20\" fill=\"#eeeeee\" />\n",
       "<circle cx=\"30.0\" cy=\"-70.0\" r=\"3.3333333333333335\" fill=\"#5af\" />\n",
       "<circle cx=\"30.0\" cy=\"-50.0\" r=\"3.3333333333333335\" fill=\"#5af\" />\n",
       "<circle cx=\"30.0\" cy=\"-30.0\" r=\"3.3333333333333335\" fill=\"#5af\" />\n",
       "<circle cx=\"50.0\" cy=\"-70.0\" r=\"3.3333333333333335\" fill=\"#5af\" />\n",
       "<circle cx=\"50.0\" cy=\"-50.0\" r=\"3.3333333333333335\" fill=\"#5af\" />\n",
       "<circle cx=\"50.0\" cy=\"-30.0\" r=\"3.3333333333333335\" fill=\"#5af\" />\n",
       "<circle cx=\"70.0\" cy=\"-70.0\" r=\"3.3333333333333335\" fill=\"#5af\" />\n",
       "<circle cx=\"70.0\" cy=\"-50.0\" r=\"3.3333333333333335\" fill=\"#5af\" />\n",
       "<circle cx=\"70.0\" cy=\"-30.0\" r=\"3.3333333333333335\" fill=\"#5af\" />\n",
       "</svg>"
      ],
      "text/plain": [
       "<drawSvg.drawing.Drawing at 0x7f8797faf0d0>"
      ]
     },
     "execution_count": 40,
     "metadata": {},
     "output_type": "execute_result"
    }
   ],
   "source": [
    "draw_neighbours(example_bits,[2,1])"
   ]
  },
  {
   "cell_type": "code",
   "execution_count": 41,
   "id": "alive-publicity",
   "metadata": {},
   "outputs": [
    {
     "data": {
      "text/plain": [
       "{'entry': [1, 1, 1], 'exit': [1, 1, 0]}"
      ]
     },
     "execution_count": 41,
     "metadata": {},
     "output_type": "execute_result"
    }
   ],
   "source": [
    "timings(example_bits, [1,1])"
   ]
  },
  {
   "cell_type": "markdown",
   "id": "existing-consultancy",
   "metadata": {},
   "source": [
    "### Putting it together (bit by bit)"
   ]
  },
  {
   "cell_type": "markdown",
   "id": "biological-commander",
   "metadata": {},
   "source": [
    "We now have everything we need to start making music, so let's gather it all into one place."
   ]
  },
  {
   "cell_type": "code",
   "execution_count": 42,
   "id": "institutional-treat",
   "metadata": {},
   "outputs": [],
   "source": [
    "def bits_to_triad_sequence(bits):\n",
    "    \"\"\"From a grid of bits make a list of triads with instrumentation and timing information included.\n",
    "    \"\"\"\n",
    "    breakdown = bit_breakdown(bits)\n",
    "    fundamental = breakdown_to_semitone_shift(breakdown[\"fundamental\"])\n",
    "    triad_coordinates = triad_bits_to_coordinate_sequence(breakdown[\"triads\"])\n",
    "    triad_data = [{\"intervals\": intervals_to_triad(fundamental, coordinate),\n",
    "                  \"instruments\": instrument_from_triad_coord(bits, coordinate),\n",
    "                  \"timings\": timings(bits, coordinate)}\n",
    "                  for coordinate in triad_coordinates] \n",
    "    return triad_data"
   ]
  },
  {
   "cell_type": "code",
   "execution_count": 43,
   "id": "constant-galaxy",
   "metadata": {},
   "outputs": [
    {
     "data": {
      "text/plain": [
       "[{'intervals': [11, 11, 11],\n",
       "  'instruments': [0, 1, 1],\n",
       "  'timings': {'entry': [0.0, 0.0, 0.5], 'exit': [0, 0, 0]}},\n",
       " {'intervals': [11, 12, 12],\n",
       "  'instruments': [1, 1, 0],\n",
       "  'timings': {'entry': [0.0, 0.0, 0.0], 'exit': [0, 1, 0]}},\n",
       " {'intervals': [11, 14, 14],\n",
       "  'instruments': [1, 0, 0],\n",
       "  'timings': {'entry': [0, 1, 1], 'exit': [0.0, 0.5, 0.0]}},\n",
       " {'intervals': [11, 13, 14],\n",
       "  'instruments': [0, 0, 1],\n",
       "  'timings': {'entry': [0, 1, 1], 'exit': [0.5, 0.5, 0.5]}},\n",
       " {'intervals': [11, 14, 15],\n",
       "  'instruments': [1, 0, 0],\n",
       "  'timings': {'entry': [0.5, 0.5, 0.5], 'exit': [0.0, 0.0, 0.5]}},\n",
       " {'intervals': [11, 12, 14],\n",
       "  'instruments': [1, 1, 0],\n",
       "  'timings': {'entry': [0, 1, 1], 'exit': [0, 0, 1]}},\n",
       " {'intervals': [11, 13, 15],\n",
       "  'instruments': [0, 0, 1],\n",
       "  'timings': {'entry': [0.5, 0.0, 0.5], 'exit': [0.0, 0.5, 0.5]}},\n",
       " {'intervals': [11, 14, 16],\n",
       "  'instruments': [1, 0, 0],\n",
       "  'timings': {'entry': [0.5, 0.5, 0.0], 'exit': [1, 1, 1]}},\n",
       " {'intervals': [11, 12, 15],\n",
       "  'instruments': [1, 1, 0],\n",
       "  'timings': {'entry': [1, 0, 0], 'exit': [0, 0, 1]}},\n",
       " {'intervals': [11, 14, 17],\n",
       "  'instruments': [1, 0, 0],\n",
       "  'timings': {'entry': [1, 0, 1], 'exit': [1, 0, 0]}}]"
      ]
     },
     "execution_count": 43,
     "metadata": {},
     "output_type": "execute_result"
    }
   ],
   "source": [
    "bits_to_triad_sequence(example_bits)"
   ]
  },
  {
   "cell_type": "markdown",
   "id": "retired-triangle",
   "metadata": {},
   "source": [
    "### Sequence of bit grids"
   ]
  },
  {
   "cell_type": "markdown",
   "id": "thick-coral",
   "metadata": {},
   "source": [
    "We will want to be able to chain bit grids together into one long composition."
   ]
  },
  {
   "cell_type": "code",
   "execution_count": 44,
   "id": "equivalent-measurement",
   "metadata": {},
   "outputs": [],
   "source": [
    "def sequence_of_bit_grids_to_triads(list_of_bit_grids):\n",
    "    return [triad \n",
    "            for bits in list_of_bit_grids\n",
    "            for triad in bits_to_triad_sequence(bits)]"
   ]
  },
  {
   "cell_type": "markdown",
   "id": "underlying-monroe",
   "metadata": {},
   "source": [
    "Here's how to produce triad data from inputting the same example bits twice."
   ]
  },
  {
   "cell_type": "code",
   "execution_count": 45,
   "id": "antique-collector",
   "metadata": {},
   "outputs": [
    {
     "data": {
      "text/plain": [
       "[{'intervals': [11, 11, 11],\n",
       "  'instruments': [0, 1, 1],\n",
       "  'timings': {'entry': [0.0, 0.0, 0.5], 'exit': [0, 0, 0]}},\n",
       " {'intervals': [11, 12, 12],\n",
       "  'instruments': [1, 1, 0],\n",
       "  'timings': {'entry': [0.0, 0.0, 0.0], 'exit': [0, 1, 0]}},\n",
       " {'intervals': [11, 14, 14],\n",
       "  'instruments': [1, 0, 0],\n",
       "  'timings': {'entry': [0, 1, 1], 'exit': [0.0, 0.5, 0.0]}},\n",
       " {'intervals': [11, 13, 14],\n",
       "  'instruments': [0, 0, 1],\n",
       "  'timings': {'entry': [0, 1, 1], 'exit': [0.5, 0.5, 0.5]}},\n",
       " {'intervals': [11, 14, 15],\n",
       "  'instruments': [1, 0, 0],\n",
       "  'timings': {'entry': [0.5, 0.5, 0.5], 'exit': [0.0, 0.0, 0.5]}},\n",
       " {'intervals': [11, 12, 14],\n",
       "  'instruments': [1, 1, 0],\n",
       "  'timings': {'entry': [0, 1, 1], 'exit': [0, 0, 1]}},\n",
       " {'intervals': [11, 13, 15],\n",
       "  'instruments': [0, 0, 1],\n",
       "  'timings': {'entry': [0.5, 0.0, 0.5], 'exit': [0.0, 0.5, 0.5]}},\n",
       " {'intervals': [11, 14, 16],\n",
       "  'instruments': [1, 0, 0],\n",
       "  'timings': {'entry': [0.5, 0.5, 0.0], 'exit': [1, 1, 1]}},\n",
       " {'intervals': [11, 12, 15],\n",
       "  'instruments': [1, 1, 0],\n",
       "  'timings': {'entry': [1, 0, 0], 'exit': [0, 0, 1]}},\n",
       " {'intervals': [11, 14, 17],\n",
       "  'instruments': [1, 0, 0],\n",
       "  'timings': {'entry': [1, 0, 1], 'exit': [1, 0, 0]}},\n",
       " {'intervals': [11, 11, 11],\n",
       "  'instruments': [0, 1, 1],\n",
       "  'timings': {'entry': [0.0, 0.0, 0.5], 'exit': [0, 0, 0]}},\n",
       " {'intervals': [11, 12, 12],\n",
       "  'instruments': [1, 1, 0],\n",
       "  'timings': {'entry': [0.0, 0.0, 0.0], 'exit': [0, 1, 0]}},\n",
       " {'intervals': [11, 14, 14],\n",
       "  'instruments': [1, 0, 0],\n",
       "  'timings': {'entry': [0, 1, 1], 'exit': [0.0, 0.5, 0.0]}},\n",
       " {'intervals': [11, 13, 14],\n",
       "  'instruments': [0, 0, 1],\n",
       "  'timings': {'entry': [0, 1, 1], 'exit': [0.5, 0.5, 0.5]}},\n",
       " {'intervals': [11, 14, 15],\n",
       "  'instruments': [1, 0, 0],\n",
       "  'timings': {'entry': [0.5, 0.5, 0.5], 'exit': [0.0, 0.0, 0.5]}},\n",
       " {'intervals': [11, 12, 14],\n",
       "  'instruments': [1, 1, 0],\n",
       "  'timings': {'entry': [0, 1, 1], 'exit': [0, 0, 1]}},\n",
       " {'intervals': [11, 13, 15],\n",
       "  'instruments': [0, 0, 1],\n",
       "  'timings': {'entry': [0.5, 0.0, 0.5], 'exit': [0.0, 0.5, 0.5]}},\n",
       " {'intervals': [11, 14, 16],\n",
       "  'instruments': [1, 0, 0],\n",
       "  'timings': {'entry': [0.5, 0.5, 0.0], 'exit': [1, 1, 1]}},\n",
       " {'intervals': [11, 12, 15],\n",
       "  'instruments': [1, 1, 0],\n",
       "  'timings': {'entry': [1, 0, 0], 'exit': [0, 0, 1]}},\n",
       " {'intervals': [11, 14, 17],\n",
       "  'instruments': [1, 0, 0],\n",
       "  'timings': {'entry': [1, 0, 1], 'exit': [1, 0, 0]}}]"
      ]
     },
     "execution_count": 45,
     "metadata": {},
     "output_type": "execute_result"
    }
   ],
   "source": [
    "sequence_of_bit_grids_to_triads([example_bits, example_bits])"
   ]
  },
  {
   "cell_type": "markdown",
   "id": "normal-assets",
   "metadata": {},
   "source": [
    "### Putting it together (part by part)"
   ]
  },
  {
   "cell_type": "markdown",
   "id": "collective-azerbaijan",
   "metadata": {},
   "source": [
    "The above data is segmented into triads, but we would rather have this data by _instrument_ for turning it into MIDI."
   ]
  },
  {
   "cell_type": "code",
   "execution_count": 46,
   "id": "phantom-cleveland",
   "metadata": {},
   "outputs": [],
   "source": [
    "def triads_to_instrument_parts(triad_data, offset = 0):\n",
    "    \"\"\"From a grid of bits construct instructions for each instrument part.\n",
    "    \n",
    "    `offset`: shift all timings by the specified amount.\n",
    "    \"\"\"\n",
    "    instruments = [[],[]]\n",
    "    for index, triad in enumerate(triad_data):\n",
    "        for part in [0,1,2]:\n",
    "            instruments[triad[\"instruments\"][part]].append({\n",
    "                \"pitch\": triad[\"intervals\"][part],\n",
    "                \"entry\": offset + index*3 + triad[\"timings\"][\"entry\"][part],\n",
    "                \"exit\": offset + (index+1)*3 - triad[\"timings\"][\"exit\"][part]\n",
    "            })\n",
    "    return instruments"
   ]
  },
  {
   "cell_type": "code",
   "execution_count": 47,
   "id": "convertible-merchandise",
   "metadata": {},
   "outputs": [
    {
     "data": {
      "text/plain": [
       "[[{'pitch': 11, 'entry': 0.0, 'exit': 3},\n",
       "  {'pitch': 12, 'entry': 3.0, 'exit': 6},\n",
       "  {'pitch': 14, 'entry': 7, 'exit': 8.5},\n",
       "  {'pitch': 14, 'entry': 7, 'exit': 9.0},\n",
       "  {'pitch': 11, 'entry': 9, 'exit': 11.5},\n",
       "  {'pitch': 13, 'entry': 10, 'exit': 11.5},\n",
       "  {'pitch': 14, 'entry': 12.5, 'exit': 15.0},\n",
       "  {'pitch': 15, 'entry': 12.5, 'exit': 14.5},\n",
       "  {'pitch': 14, 'entry': 16, 'exit': 17},\n",
       "  {'pitch': 11, 'entry': 18.5, 'exit': 21.0},\n",
       "  {'pitch': 13, 'entry': 18.0, 'exit': 20.5},\n",
       "  {'pitch': 14, 'entry': 21.5, 'exit': 23},\n",
       "  {'pitch': 16, 'entry': 21.0, 'exit': 23},\n",
       "  {'pitch': 15, 'entry': 24, 'exit': 26},\n",
       "  {'pitch': 14, 'entry': 27, 'exit': 30},\n",
       "  {'pitch': 17, 'entry': 28, 'exit': 30}],\n",
       " [{'pitch': 11, 'entry': 0.0, 'exit': 3},\n",
       "  {'pitch': 11, 'entry': 0.5, 'exit': 3},\n",
       "  {'pitch': 11, 'entry': 3.0, 'exit': 6},\n",
       "  {'pitch': 12, 'entry': 3.0, 'exit': 5},\n",
       "  {'pitch': 11, 'entry': 6, 'exit': 9.0},\n",
       "  {'pitch': 14, 'entry': 10, 'exit': 11.5},\n",
       "  {'pitch': 11, 'entry': 12.5, 'exit': 15.0},\n",
       "  {'pitch': 11, 'entry': 15, 'exit': 18},\n",
       "  {'pitch': 12, 'entry': 16, 'exit': 18},\n",
       "  {'pitch': 15, 'entry': 18.5, 'exit': 20.5},\n",
       "  {'pitch': 11, 'entry': 21.5, 'exit': 23},\n",
       "  {'pitch': 11, 'entry': 25, 'exit': 27},\n",
       "  {'pitch': 12, 'entry': 24, 'exit': 27},\n",
       "  {'pitch': 11, 'entry': 28, 'exit': 29}]]"
      ]
     },
     "execution_count": 47,
     "metadata": {},
     "output_type": "execute_result"
    }
   ],
   "source": [
    "triads_to_instrument_parts(bits_to_triad_sequence(example_bits))"
   ]
  },
  {
   "cell_type": "code",
   "execution_count": 48,
   "id": "acknowledged-encyclopedia",
   "metadata": {},
   "outputs": [],
   "source": [
    "def triads_to_voice_parts(triad_data):\n",
    "    \"\"\"From a grid of bits construct instructions for each instrument part.\n",
    "    \n",
    "    `offset`: shift all timings by the specified amount.\n",
    "    \"\"\"\n",
    "    voices = [[],[],[]]\n",
    "    for index, triad in enumerate(triad_data):\n",
    "        for voice in [0,1,2]:\n",
    "            voices[voice].append({\n",
    "                \"pitch\": triad[\"intervals\"][voice],\n",
    "                \"entry\": index*3 + triad[\"timings\"][\"entry\"][voice],\n",
    "                \"exit\": (index+1)*3 - triad[\"timings\"][\"exit\"][voice],\n",
    "                \"instrument\": triad[\"instruments\"][voice]\n",
    "            })\n",
    "    return voices"
   ]
  },
  {
   "cell_type": "code",
   "execution_count": 49,
   "id": "optimum-chile",
   "metadata": {},
   "outputs": [
    {
     "data": {
      "text/plain": [
       "[[{'pitch': 11, 'entry': 0.0, 'exit': 3, 'instrument': 0},\n",
       "  {'pitch': 11, 'entry': 3.0, 'exit': 6, 'instrument': 1},\n",
       "  {'pitch': 11, 'entry': 6, 'exit': 9.0, 'instrument': 1},\n",
       "  {'pitch': 11, 'entry': 9, 'exit': 11.5, 'instrument': 0},\n",
       "  {'pitch': 11, 'entry': 12.5, 'exit': 15.0, 'instrument': 1},\n",
       "  {'pitch': 11, 'entry': 15, 'exit': 18, 'instrument': 1},\n",
       "  {'pitch': 11, 'entry': 18.5, 'exit': 21.0, 'instrument': 0},\n",
       "  {'pitch': 11, 'entry': 21.5, 'exit': 23, 'instrument': 1},\n",
       "  {'pitch': 11, 'entry': 25, 'exit': 27, 'instrument': 1},\n",
       "  {'pitch': 11, 'entry': 28, 'exit': 29, 'instrument': 1}],\n",
       " [{'pitch': 11, 'entry': 0.0, 'exit': 3, 'instrument': 1},\n",
       "  {'pitch': 12, 'entry': 3.0, 'exit': 5, 'instrument': 1},\n",
       "  {'pitch': 14, 'entry': 7, 'exit': 8.5, 'instrument': 0},\n",
       "  {'pitch': 13, 'entry': 10, 'exit': 11.5, 'instrument': 0},\n",
       "  {'pitch': 14, 'entry': 12.5, 'exit': 15.0, 'instrument': 0},\n",
       "  {'pitch': 12, 'entry': 16, 'exit': 18, 'instrument': 1},\n",
       "  {'pitch': 13, 'entry': 18.0, 'exit': 20.5, 'instrument': 0},\n",
       "  {'pitch': 14, 'entry': 21.5, 'exit': 23, 'instrument': 0},\n",
       "  {'pitch': 12, 'entry': 24, 'exit': 27, 'instrument': 1},\n",
       "  {'pitch': 14, 'entry': 27, 'exit': 30, 'instrument': 0}],\n",
       " [{'pitch': 11, 'entry': 0.5, 'exit': 3, 'instrument': 1},\n",
       "  {'pitch': 12, 'entry': 3.0, 'exit': 6, 'instrument': 0},\n",
       "  {'pitch': 14, 'entry': 7, 'exit': 9.0, 'instrument': 0},\n",
       "  {'pitch': 14, 'entry': 10, 'exit': 11.5, 'instrument': 1},\n",
       "  {'pitch': 15, 'entry': 12.5, 'exit': 14.5, 'instrument': 0},\n",
       "  {'pitch': 14, 'entry': 16, 'exit': 17, 'instrument': 0},\n",
       "  {'pitch': 15, 'entry': 18.5, 'exit': 20.5, 'instrument': 1},\n",
       "  {'pitch': 16, 'entry': 21.0, 'exit': 23, 'instrument': 0},\n",
       "  {'pitch': 15, 'entry': 24, 'exit': 26, 'instrument': 0},\n",
       "  {'pitch': 17, 'entry': 28, 'exit': 30, 'instrument': 0}]]"
      ]
     },
     "execution_count": 49,
     "metadata": {},
     "output_type": "execute_result"
    }
   ],
   "source": [
    "triads_to_voice_parts(bits_to_triad_sequence(example_bits))"
   ]
  },
  {
   "cell_type": "markdown",
   "id": "intimate-pearl",
   "metadata": {},
   "source": [
    "# Making Music"
   ]
  },
  {
   "cell_type": "markdown",
   "id": "handmade-leadership",
   "metadata": {},
   "source": [
    "Now we turn all of the information above into music. We will actually want the following ways of representing our music:\n",
    " - Split by instrument\n",
    " - Split by voice (low, middle, high)\n",
    "\n",
    "We will want to be able to save this information in the following formats:\n",
    " - A MIDI file, with instruments specified\n",
    " - MusicXML format"
   ]
  },
  {
   "cell_type": "markdown",
   "id": "animated-picture",
   "metadata": {},
   "source": [
    "## Making the MusicXML"
   ]
  },
  {
   "cell_type": "markdown",
   "id": "moved-report",
   "metadata": {},
   "source": [
    "The `music21` package holds sequences of notes and chords in a `Stream` object. Knowing the mechanics of this isn't necessary for understanding this tutorial, and we wrap all of that functionality inside the function below."
   ]
  },
  {
   "cell_type": "code",
   "execution_count": 50,
   "id": "accessory-fever",
   "metadata": {},
   "outputs": [],
   "source": [
    "# This is the default instrumentation the composition will use, unless you override it in the function calls\n",
    "instrumentation = (music21.instrument.Vibraphone, music21.instrument.Marimba)"
   ]
  },
  {
   "cell_type": "markdown",
   "id": "quantitative-southwest",
   "metadata": {},
   "source": [
    "### Streams split by instrument"
   ]
  },
  {
   "cell_type": "markdown",
   "id": "present-occasion",
   "metadata": {},
   "source": [
    "We have been using numbers to represent notes, so here is a function that turns a number (representing the number of semitones above low C) into its MIDI name."
   ]
  },
  {
   "cell_type": "code",
   "execution_count": 51,
   "id": "adjusted-marathon",
   "metadata": {},
   "outputs": [],
   "source": [
    "import musical_scales\n",
    "def int_to_midi(note_int, shift = 0):\n",
    "    \"\"\"Get the note name from a specification of semitones above middle C.\n",
    "    \n",
    "    Use the `shift` parameter to transpose the entire piece that many semitones up.\n",
    "    For example use `shift = -12` to transpose the piece down an octave.\n",
    "    \"\"\"\n",
    "    return musical_scales.Note(semitones_above_middle_c=note_int+12 + shift).midi"
   ]
  },
  {
   "cell_type": "code",
   "execution_count": 52,
   "id": "hundred-catalyst",
   "metadata": {},
   "outputs": [],
   "source": [
    "def bit_grid_to_chord_sequence_with_instruments_stream(triad_sequence, instruments=instrumentation):\n",
    "    \"\"\"Construct a stream as two parts, one for each instrument.\"\"\"\n",
    "    instrument_parts = triads_to_instrument_parts(triad_sequence)\n",
    "\n",
    "    piece_length_in_beats = max(map(lambda note: note[\"exit\"], [note\n",
    "                                                                for part in instrument_parts\n",
    "                                                                for note in part]))\n",
    "    piece_length_in_bars = math.ceil(piece_length_in_beats / 3)\n",
    "\n",
    "    def notes_in_bar(notes, bar):\n",
    "        \"\"\"Only those notes that sound in the given bar.\"\"\"\n",
    "        return [note for note in notes if note[\"entry\"] >= bar*3 and note[\"exit\"] <= (bar+1)*3]\n",
    "\n",
    "    def notes_playing_at_time(notes, time):\n",
    "        \"\"\"Only those notes that sound in the given bar.\"\"\"\n",
    "        return [note for note in notes if note[\"entry\"] <= time and note[\"exit\"] > time]\n",
    "    stream = music21.stream.Stream()\n",
    "    stream.insert(0, music21.layout.ScoreLayout(isNew=True))\n",
    "    parts = []\n",
    "    for instrument_index, instrument in enumerate([instruments[0](), instruments[1]()]):\n",
    "        notes_for_this_instrument = instrument_parts[instrument_index]\n",
    "        part = music21.stream.Part(str(instrument))\n",
    "\n",
    "        for bar in range(piece_length_in_bars):\n",
    "            measure = music21.stream.Measure(number=bar)\n",
    "            \n",
    "            if bar == 0:\n",
    "                measure.insert(0, instrument)\n",
    "                measure.insert(0, music21.meter.TimeSignature('3/4'))\n",
    "            relevant_notes = notes_in_bar(notes_for_this_instrument, bar)\n",
    "            event_timings = sorted([note[\"entry\"] for note in relevant_notes] +\n",
    "                                   [note[\"exit\"] for note in relevant_notes] +\n",
    "                                   [bar*3, (bar+1)*3])\n",
    "\n",
    "            timings_and_durations = []\n",
    "            for index in range(len(event_timings) - 1):\n",
    "                timings_and_durations.append(\n",
    "                    (event_timings[index], event_timings[index+1] - event_timings[index]))\n",
    "            \n",
    "            # Need to keep handles on the generated chords so we can add ties\n",
    "            chords_in_this_bar = []\n",
    "            for timing, duration in timings_and_durations:\n",
    "                if duration > 0:\n",
    "                    notes_playing = notes_playing_at_time(\n",
    "                        relevant_notes, timing)\n",
    "                    music21_duration = music21.duration.Duration(duration)\n",
    "                    if len(notes_playing) == 0:\n",
    "                        measure.insert(timing - 3*bar, music21.note.Rest(\n",
    "                            duration=music21_duration))\n",
    "                    else:\n",
    "                        pitches = [int_to_midi(note[\"pitch\"]) for note in notes_playing]\n",
    "                        chord = music21.chord.Chord(pitches, duration=music21_duration)\n",
    "                        chords_in_this_bar.append(chord)\n",
    "                        measure.insert(timing - 3*bar, chord)\n",
    "                        \n",
    "                        \n",
    "            # Add the ties to the chords\n",
    "            if len(chords_in_this_bar) < 2:\n",
    "                pass\n",
    "            else:\n",
    "                # Set everything to a \"continue\" tie, then overwrite the first and final chords\n",
    "                for n in range(len(chords_in_this_bar)):\n",
    "                    chords_in_this_bar[n].tie = music21.tie.Tie(\"continue\")\n",
    "                chords_in_this_bar[0].tie = music21.tie.Tie(\"start\")\n",
    "                chords_in_this_bar[-1].tie = music21.tie.Tie(\"stop\")\n",
    "            \n",
    "            # Add the bar to the part\n",
    "            part.insert(3*bar, measure)\n",
    "            \n",
    "        parts.append(part)\n",
    "        \n",
    "    # Add the parts to the stream\n",
    "    for part in parts:\n",
    "        stream.insert(0, part)\n",
    "        \n",
    "    # Tell the stream to band the parts together\n",
    "    stream.insert(0, music21.layout.StaffGroup(parts, symbol=\"brace\"))\n",
    "    \n",
    "    return stream\n"
   ]
  },
  {
   "cell_type": "markdown",
   "id": "orange-raising",
   "metadata": {},
   "source": [
    "### Streams split by voice"
   ]
  },
  {
   "cell_type": "code",
   "execution_count": 53,
   "id": "broken-union",
   "metadata": {},
   "outputs": [],
   "source": [
    "def bit_grid_to_voices_stream(triad_sequence, instruments = []):\n",
    "    \"\"\"Construct a stream as three voices, ignoring instrument information.\"\"\"\n",
    "    stream = music21.stream.Score()\n",
    "    stream.insert(0, music21.layout.ScoreLayout(isNew=True))\n",
    "    \n",
    "    parts = [music21.stream.Part() for i in range(3)]\n",
    "    \n",
    "    for index, instrument in enumerate(instruments):\n",
    "        parts[index].insert(0, instrument())\n",
    "    \n",
    "    for index, triad in enumerate(triad_sequence):\n",
    "        measures = [music21.stream.Measure(number=index) for i in range(3)]\n",
    "        if index == 0:\n",
    "            for m_index, measure in enumerate(measures):\n",
    "                measure.insert(0, music21.meter.TimeSignature('3/4'))\n",
    "        for voice in [0,1,2]:\n",
    "            instrument_index = triad[\"instruments\"][voice]\n",
    "            entry = triad[\"timings\"][\"entry\"][voice]\n",
    "            if entry > 0:\n",
    "                measures[voice].insert(0, music21.note.Rest(duration=music21.duration.Duration(entry)))\n",
    "            exit = triad[\"timings\"][\"exit\"][voice]\n",
    "            note = music21.note.Note(int_to_midi(triad[\"intervals\"][voice]),\n",
    "                                     duration=music21.duration.Duration(3-exit-entry))\n",
    "            measures[voice].insert(entry, note)\n",
    "            if exit > 0:\n",
    "                measures[voice].insert(3-exit, music21.note.Rest(duration=music21.duration.Duration(exit)))\n",
    "        [parts[i].insert(3*index, measures[i]) for i in range(3)]\n",
    "        \n",
    "    for part in parts:\n",
    "        stream.insert(0, part)\n",
    "    stream.insert(0, music21.layout.StaffGroup(parts, symbol=\"brace\"))\n",
    "    return stream"
   ]
  },
  {
   "cell_type": "markdown",
   "id": "informal-diamond",
   "metadata": {},
   "source": [
    "### Exporting the streams to MusicXML"
   ]
  },
  {
   "cell_type": "markdown",
   "id": "cloudy-browser",
   "metadata": {},
   "source": [
    "Having created a `stream` we will now show how to export that information to MusicXML."
   ]
  },
  {
   "cell_type": "markdown",
   "id": "conventional-taylor",
   "metadata": {},
   "source": [
    "`music21` will interface with [MuseScore](https://musescore.org) to create MusicXML files. If you don't have MuseScore installed then don't worry about this part."
   ]
  },
  {
   "cell_type": "code",
   "execution_count": 54,
   "id": "romance-running",
   "metadata": {},
   "outputs": [],
   "source": [
    "def save_musicxml(stream, file=\"temp.xml\"):\n",
    "    stream.write(\"musicxml\", file)"
   ]
  },
  {
   "cell_type": "code",
   "execution_count": 55,
   "id": "higher-romance",
   "metadata": {},
   "outputs": [],
   "source": [
    "def bit_grids_to_musicxml_instrumentation_by_voice(list_of_bit_grids, filename = \"temp.xml\"):\n",
    "    save_musicxml(bit_grid_to_voices_stream(sequence_of_bit_grids_to_triads(list_of_bit_grids)), filename)"
   ]
  },
  {
   "cell_type": "code",
   "execution_count": 56,
   "id": "specified-shannon",
   "metadata": {},
   "outputs": [],
   "source": [
    "def bit_grids_to_musicxml_instrumentation_from_CAMUS(list_of_bit_grids, filename = \"temp.xml\"):\n",
    "    save_musicxml(bit_grid_to_chord_sequence_with_instruments_stream(sequence_of_bit_grids_to_triads(list_of_bit_grids)), filename)"
   ]
  },
  {
   "cell_type": "markdown",
   "id": "architectural-portuguese",
   "metadata": {},
   "source": [
    "**The following lines require MuseScore to be installed.** Uncomment the lines before running them."
   ]
  },
  {
   "cell_type": "code",
   "execution_count": 57,
   "id": "caroline-portsmouth",
   "metadata": {},
   "outputs": [],
   "source": [
    "bit_grids_to_musicxml_instrumentation_from_CAMUS([example_bits])"
   ]
  },
  {
   "cell_type": "code",
   "execution_count": 58,
   "id": "according-glenn",
   "metadata": {},
   "outputs": [],
   "source": [
    "bit_grids_to_musicxml_instrumentation_by_voice([example_bits])"
   ]
  },
  {
   "cell_type": "markdown",
   "id": "hazardous-county",
   "metadata": {},
   "source": [
    "## Making MIDI"
   ]
  },
  {
   "cell_type": "markdown",
   "id": "breeding-objective",
   "metadata": {},
   "source": [
    "### Instrumentation as specified by CAMUS"
   ]
  },
  {
   "cell_type": "code",
   "execution_count": 59,
   "id": "flying-celtic",
   "metadata": {
    "tags": []
   },
   "outputs": [],
   "source": [
    "def bit_grids_to_midi_instrumentation_from_CAMUS(list_of_bit_grids, filename=\"temp.midi\", shift=0, tempo=120, instruments = instrumentation):\n",
    "    \"\"\"Save a MIDI file, instrumentation determined by CAMUS.\n",
    "    \n",
    "    filename: Name of the saved MIDI file\n",
    "    shift: Transpose the piece that many semitonrs\n",
    "    tempo: Tempo\n",
    "    instruments: The two instruments that CAMUS can use\n",
    "    \"\"\"\n",
    "    midiFile = midiutil.MIDIFile(1) # 1 track\n",
    "    midiFile.addTempo(0,0,tempo)\n",
    "    \n",
    "    voice_parts = triads_to_voice_parts(sequence_of_bit_grids_to_triads(list_of_bit_grids))\n",
    "    \n",
    "    \n",
    "    for voice, voice_part in enumerate(voice_parts):\n",
    "        for note in voice_part:\n",
    "            pitch = note[\"pitch\"] + 42 + shift\n",
    "            instrument =  instruments[note[\"instrument\"]]().midiProgram\n",
    "            entry = float(note[\"entry\"])\n",
    "            duration = float(note[\"exit\"] - note[\"entry\"])\n",
    "            if duration > 0:\n",
    "                midiFile.addProgramChange(0, voice, entry, instrument)\n",
    "                midiFile.addNote(0, voice, pitch, entry, duration, 100)\n",
    "    \n",
    "    with open(filename, \"wb\") as output_file:\n",
    "        midiFile.writeFile(output_file)"
   ]
  },
  {
   "cell_type": "code",
   "execution_count": 60,
   "id": "virgin-papua",
   "metadata": {},
   "outputs": [],
   "source": [
    "bit_grids_to_midi_instrumentation_from_CAMUS([example_bits])"
   ]
  },
  {
   "cell_type": "markdown",
   "id": "dying-anthony",
   "metadata": {},
   "source": [
    "### Each voice given a different instrument"
   ]
  },
  {
   "cell_type": "code",
   "execution_count": 61,
   "id": "funny-corps",
   "metadata": {},
   "outputs": [],
   "source": [
    "def bit_grids_to_midi_instrumentation_by_voice(list_of_bit_grids, instruments, filename=\"temp.midi\", shift=0, tempo=120):\n",
    "    \"\"\"Save a MIDI file, instrumetnation determined by voice.\n",
    "    \n",
    "    instruments: The three isntruments to use, one per voice\n",
    "    filename: Name of the saved MIDI file\n",
    "    shift: Transpose the piece that many semitonrs\n",
    "    tempo: Tempo\n",
    "    \"\"\"\n",
    "    midiFile = midiutil.MIDIFile(1) # 1 track\n",
    "    midiFile.addTempo(0,0,tempo)\n",
    "    \n",
    "    voice_parts = triads_to_voice_parts(sequence_of_bit_grids_to_triads(list_of_bit_grids))\n",
    "    \n",
    "    \n",
    "    for voice, voice_part in enumerate(voice_parts):\n",
    "        for note in voice_part:\n",
    "            pitch = note[\"pitch\"] + 42 + shift\n",
    "            instrument =  instruments[voice]().midiProgram\n",
    "            entry = float(note[\"entry\"])\n",
    "            duration = float(note[\"exit\"] - note[\"entry\"])\n",
    "            if duration > 0:\n",
    "                midiFile.addProgramChange(0, voice, entry, instrument)\n",
    "                midiFile.addNote(0, voice, pitch, entry, duration, 100)\n",
    "    \n",
    "    with open(filename, \"wb\") as output_file:\n",
    "        midiFile.writeFile(output_file)"
   ]
  },
  {
   "cell_type": "code",
   "execution_count": 62,
   "id": "assigned-employer",
   "metadata": {},
   "outputs": [],
   "source": [
    "bit_grids_to_midi_instrumentation_by_voice([example_bits], [music21.instrument.Piano, music21.instrument.Xylophone, music21.instrument.Marimba])"
   ]
  },
  {
   "cell_type": "markdown",
   "id": "trained-steam",
   "metadata": {},
   "source": [
    "### Summary of creating outputs"
   ]
  },
  {
   "cell_type": "markdown",
   "id": "dependent-publicity",
   "metadata": {},
   "source": [
    "Creating MusicXML:\n",
    " - `save_musicxml(bit_grid_to_voices_stream(example_bits), \"voices.xml\")` - one instrument per voice, defaults to \"temp.xml\"\n",
    " - `save_musicxml(bit_grid_to_chord_sequence_with_instruments_stream(example_bits))` - instruments determined by CAMUS, defaults to \"temp.xml\""
   ]
  },
  {
   "cell_type": "markdown",
   "id": "altered-stranger",
   "metadata": {},
   "source": [
    "Creating MIDI:\n",
    " - `bit_grid_to_midi_instrumentation_from_CAMUS(example_bits)` - instruments determined by CAMUS, defaults to \"temp.midi\"\n",
    " - `bit_grid_to_midi_instrumentation_by_voice(example_bits, [music21.instrument.Piano, music21.instrument.Xylophone, music21.instrument.Marimba])` - one instrument per voice, defaults to \"temp.midi\""
   ]
  },
  {
   "cell_type": "markdown",
   "id": "junior-drive",
   "metadata": {},
   "source": [
    "# Making it your own"
   ]
  },
  {
   "cell_type": "markdown",
   "id": "heard-preparation",
   "metadata": {},
   "source": [
    "All that matters in the above is that we start with a grid of bits and end with musical instructions. For example you can:\n",
    " - Change the instrumentation by altering the `instruments` argument for `bit_grid_to_chord_sequence`\n",
    "   - Remember you can write `music21.instrument.` and then press `tab` to see a list of options\n",
    "   - The list of instruments afforded by `music21` is also found in the right hand side of [this page](http://web.mit.edu/music21/doc/moduleReference/moduleInstrument.html)\n",
    "   - You can also specify a [MIDI program number](http://www.ccarh.org/courses/253/handout/gminstruments/)\n",
    "       using `music21.instrument.instrumentFromMidiProgram(number-1)`\n",
    " - Change how long the rests are by altering the values of `long_rest` and `short_rest` in the function `timings`\n",
    " - Change the default value of the `shift` parameter in `int_to_midi` to transpose your composition up or down"
   ]
  },
  {
   "cell_type": "markdown",
   "id": "sublime-couple",
   "metadata": {},
   "source": [
    "# Making it Quantum"
   ]
  },
  {
   "cell_type": "markdown",
   "id": "minute-episode",
   "metadata": {},
   "source": [
    "As with the 1D case we will need `pqca` to provide the Automaton, and `qiskit` so we can draw out quantum circuits."
   ]
  },
  {
   "cell_type": "code",
   "execution_count": 63,
   "id": "appropriate-window",
   "metadata": {},
   "outputs": [],
   "source": [
    "import qiskit"
   ]
  },
  {
   "cell_type": "code",
   "execution_count": 64,
   "id": "excellent-andrews",
   "metadata": {},
   "outputs": [],
   "source": [
    "import pqca"
   ]
  },
  {
   "cell_type": "markdown",
   "id": "orange-florence",
   "metadata": {},
   "source": [
    "Let's start everything in the state where it's all $0$s. Note that the Automaton expects a list of qubits rather than a grid. We encode the grid structure when we describe the update frames later on."
   ]
  },
  {
   "cell_type": "code",
   "execution_count": 65,
   "id": "level-plasma",
   "metadata": {},
   "outputs": [],
   "source": [
    "initial_state = [0]*9*4"
   ]
  },
  {
   "cell_type": "markdown",
   "id": "obvious-clarity",
   "metadata": {},
   "source": [
    "Rather than describe a circuit that acts on $36$ qubits we will describe two circuits - one that acts on just two qubits (that acts \"vertically\") and one on three qubits (that acts \"horizontally\")."
   ]
  },
  {
   "cell_type": "markdown",
   "id": "comic-belief",
   "metadata": {},
   "source": [
    "![A grid 9 wide and 4 tall split into cells 1 wide and 2 tall](images/vertical_9_by_4.svg)"
   ]
  },
  {
   "cell_type": "code",
   "execution_count": 66,
   "id": "objective-testimony",
   "metadata": {},
   "outputs": [],
   "source": [
    "tes_1 = pqca.tessellation.n_dimensional([9,4],[1,2])"
   ]
  },
  {
   "cell_type": "markdown",
   "id": "composed-tuition",
   "metadata": {},
   "source": [
    "![A grid 9 wide and 4 tall split into cells 3 wide and 1 tall](images/horizontal_9_by_4.svg)"
   ]
  },
  {
   "cell_type": "code",
   "execution_count": 67,
   "id": "creative-kelly",
   "metadata": {},
   "outputs": [],
   "source": [
    "tes_2 = pqca.tessellation.n_dimensional([9,4],[3,1])"
   ]
  },
  {
   "cell_type": "markdown",
   "id": "stopped-howard",
   "metadata": {},
   "source": [
    "What should our circuits be? That's up to you! Here are two examples; note that since the automaton state starts in all $0$s you will want at least one gate that sends a $0$ state to something else."
   ]
  },
  {
   "cell_type": "code",
   "execution_count": 68,
   "id": "instructional-concentrate",
   "metadata": {},
   "outputs": [
    {
     "data": {
      "text/html": [
       "<pre style=\"word-wrap: normal;white-space: pre;background: #fff0;line-height: 1.1;font-family: &quot;Courier New&quot;,Courier,monospace\">          ┌───┐\n",
       "q_0: ──■──┤ H ├\n",
       "     ┌─┴─┐└───┘\n",
       "q_1: ┤ X ├─────\n",
       "     └───┘     </pre>"
      ],
      "text/plain": [
       "          ┌───┐\n",
       "q_0: ──■──┤ H ├\n",
       "     ┌─┴─┐└───┘\n",
       "q_1: ┤ X ├─────\n",
       "     └───┘     "
      ]
     },
     "execution_count": 68,
     "metadata": {},
     "output_type": "execute_result"
    }
   ],
   "source": [
    "two_qubit_circuit = qiskit.QuantumCircuit(2)\n",
    "two_qubit_circuit.cx(0,1)\n",
    "two_qubit_circuit.h(0)\n",
    "two_qubit_circuit.draw()"
   ]
  },
  {
   "cell_type": "code",
   "execution_count": 69,
   "id": "favorite-integration",
   "metadata": {},
   "outputs": [
    {
     "data": {
      "text/html": [
       "<pre style=\"word-wrap: normal;white-space: pre;background: #fff0;line-height: 1.1;font-family: &quot;Courier New&quot;,Courier,monospace\">                    \n",
       "q_0: ──■────────────\n",
       "     ┌─┴─┐┌───┐     \n",
       "q_1: ┤ X ├┤ X ├──■──\n",
       "     └───┘└───┘┌─┴─┐\n",
       "q_2: ──────────┤ X ├\n",
       "               └───┘</pre>"
      ],
      "text/plain": [
       "                    \n",
       "q_0: ──■────────────\n",
       "     ┌─┴─┐┌───┐     \n",
       "q_1: ┤ X ├┤ X ├──■──\n",
       "     └───┘└───┘┌─┴─┐\n",
       "q_2: ──────────┤ X ├\n",
       "               └───┘"
      ]
     },
     "execution_count": 69,
     "metadata": {},
     "output_type": "execute_result"
    }
   ],
   "source": [
    "three_qubit_circuit = qiskit.QuantumCircuit(3)\n",
    "three_qubit_circuit.cx(0,1)\n",
    "three_qubit_circuit.x(1)\n",
    "three_qubit_circuit.cx(1,2)\n",
    "three_qubit_circuit.draw()"
   ]
  },
  {
   "cell_type": "markdown",
   "id": "finnish-training",
   "metadata": {},
   "source": [
    "Now to put this all together; remember that an Update Frame is a tessellation of the qubits into cells, and a circuit that acts on each cell."
   ]
  },
  {
   "cell_type": "code",
   "execution_count": 70,
   "id": "legendary-division",
   "metadata": {},
   "outputs": [],
   "source": [
    "update_frame_1 = pqca.UpdateFrame(tes_1, qiskit_circuit=two_qubit_circuit)"
   ]
  },
  {
   "cell_type": "code",
   "execution_count": 71,
   "id": "swiss-appraisal",
   "metadata": {},
   "outputs": [],
   "source": [
    "update_frame_2 = pqca.UpdateFrame(tes_2,  qiskit_circuit=three_qubit_circuit)"
   ]
  },
  {
   "cell_type": "markdown",
   "id": "clinical-shepherd",
   "metadata": {},
   "source": [
    "And we combine this with the Aer qiskit simulator backend to apply our big circuit to the current state."
   ]
  },
  {
   "cell_type": "code",
   "execution_count": 72,
   "id": "based-halifax",
   "metadata": {},
   "outputs": [],
   "source": [
    "automaton = pqca.Automaton(initial_state, [update_frame_1, update_frame_2], pqca.backend.qiskit())"
   ]
  },
  {
   "cell_type": "markdown",
   "id": "effective-recipient",
   "metadata": {},
   "source": [
    "Just how big is this update circuit?"
   ]
  },
  {
   "cell_type": "code",
   "execution_count": 73,
   "id": "ecological-latino",
   "metadata": {},
   "outputs": [
    {
     "data": {
      "text/html": [
       "<pre style=\"word-wrap: normal;white-space: pre;background: #fff0;line-height: 1.1;font-family: &quot;Courier New&quot;,Courier,monospace\">           ┌───┐                                        \n",
       " q_0: ──■──┤ H ├────────────■───────────────────────────\n",
       "      ┌─┴─┐└───┘            │                           \n",
       " q_1: ┤ X ├───────■─────────┼───────────────────────────\n",
       "      └───┘┌───┐  │         │                           \n",
       " q_2: ──■──┤ H ├──┼─────────┼────■──────────────────────\n",
       "      ┌─┴─┐└───┘  │         │    │                      \n",
       " q_3: ┤ X ├───────┼────■────┼────┼──────────────────────\n",
       "      └───┘┌───┐  │    │  ┌─┴─┐  │  ┌───┐               \n",
       " q_4: ──■──┤ H ├──┼────┼──┤ X ├──┼──┤ X ├───────■───────\n",
       "      ┌─┴─┐└───┘┌─┴─┐  │  ├───┤  │  └───┘       │       \n",
       " q_5: ┤ X ├─────┤ X ├──┼──┤ X ├──┼────■─────────┼───────\n",
       "      └───┘┌───┐└───┘  │  └───┘┌─┴─┐  │  ┌───┐  │       \n",
       " q_6: ──■──┤ H ├───────┼───────┤ X ├──┼──┤ X ├──┼────■──\n",
       "      ┌─┴─┐└───┘     ┌─┴─┐┌───┐└───┘  │  └───┘  │    │  \n",
       " q_7: ┤ X ├──────────┤ X ├┤ X ├──■────┼─────────┼────┼──\n",
       "      └───┘┌───┐     └───┘└───┘  │    │       ┌─┴─┐  │  \n",
       " q_8: ──■──┤ H ├─────────────────┼────┼───────┤ X ├──┼──\n",
       "      ┌─┴─┐└───┘                 │  ┌─┴─┐     └───┘  │  \n",
       " q_9: ┤ X ├──────────────────────┼──┤ X ├────────────┼──\n",
       "      └───┘┌───┐                 │  └───┘          ┌─┴─┐\n",
       "q_10: ──■──┤ H ├─────────────────┼─────────────────┤ X ├\n",
       "      ┌─┴─┐└───┘               ┌─┴─┐               └───┘\n",
       "q_11: ┤ X ├────────────────────┤ X ├────────────────────\n",
       "      └───┘┌───┐               └───┘                    \n",
       "q_12: ──■──┤ H ├────────────■───────────────────────────\n",
       "      ┌─┴─┐└───┘            │                           \n",
       "q_13: ┤ X ├───────■─────────┼───────────────────────────\n",
       "      └───┘┌───┐  │         │                           \n",
       "q_14: ──■──┤ H ├──┼─────────┼────■──────────────────────\n",
       "      ┌─┴─┐└───┘  │         │    │                      \n",
       "q_15: ┤ X ├───────┼────■────┼────┼──────────────────────\n",
       "      └───┘┌───┐  │    │  ┌─┴─┐  │  ┌───┐               \n",
       "q_16: ──■──┤ H ├──┼────┼──┤ X ├──┼──┤ X ├───────■───────\n",
       "      ┌─┴─┐└───┘┌─┴─┐  │  ├───┤  │  └───┘       │       \n",
       "q_17: ┤ X ├─────┤ X ├──┼──┤ X ├──┼────■─────────┼───────\n",
       "      └───┘┌───┐└───┘  │  └───┘┌─┴─┐  │  ┌───┐  │       \n",
       "q_18: ──■──┤ H ├───────┼───────┤ X ├──┼──┤ X ├──┼────■──\n",
       "      ┌─┴─┐└───┘     ┌─┴─┐┌───┐└───┘  │  └───┘  │    │  \n",
       "q_19: ┤ X ├──────────┤ X ├┤ X ├──■────┼─────────┼────┼──\n",
       "      └───┘┌───┐     └───┘└───┘  │    │       ┌─┴─┐  │  \n",
       "q_20: ──■──┤ H ├─────────────────┼────┼───────┤ X ├──┼──\n",
       "      ┌─┴─┐└───┘                 │  ┌─┴─┐     └───┘  │  \n",
       "q_21: ┤ X ├──────────────────────┼──┤ X ├────────────┼──\n",
       "      └───┘┌───┐                 │  └───┘          ┌─┴─┐\n",
       "q_22: ──■──┤ H ├─────────────────┼─────────────────┤ X ├\n",
       "      ┌─┴─┐└───┘               ┌─┴─┐               └───┘\n",
       "q_23: ┤ X ├────────────────────┤ X ├────────────────────\n",
       "      └───┘┌───┐               └───┘                    \n",
       "q_24: ──■──┤ H ├────────────■───────────────────────────\n",
       "      ┌─┴─┐└───┘            │                           \n",
       "q_25: ┤ X ├───────■─────────┼───────────────────────────\n",
       "      └───┘┌───┐  │         │                           \n",
       "q_26: ──■──┤ H ├──┼─────────┼────■──────────────────────\n",
       "      ┌─┴─┐└───┘  │         │    │                      \n",
       "q_27: ┤ X ├───────┼────■────┼────┼──────────────────────\n",
       "      └───┘┌───┐  │    │  ┌─┴─┐  │  ┌───┐               \n",
       "q_28: ──■──┤ H ├──┼────┼──┤ X ├──┼──┤ X ├───────■───────\n",
       "      ┌─┴─┐└───┘┌─┴─┐  │  ├───┤  │  └───┘       │       \n",
       "q_29: ┤ X ├─────┤ X ├──┼──┤ X ├──┼────■─────────┼───────\n",
       "      └───┘┌───┐└───┘  │  └───┘┌─┴─┐  │  ┌───┐  │       \n",
       "q_30: ──■──┤ H ├───────┼───────┤ X ├──┼──┤ X ├──┼────■──\n",
       "      ┌─┴─┐└───┘     ┌─┴─┐┌───┐└───┘  │  └───┘  │    │  \n",
       "q_31: ┤ X ├──────────┤ X ├┤ X ├──■────┼─────────┼────┼──\n",
       "      └───┘┌───┐     └───┘└───┘  │    │       ┌─┴─┐  │  \n",
       "q_32: ──■──┤ H ├─────────────────┼────┼───────┤ X ├──┼──\n",
       "      ┌─┴─┐└───┘                 │  ┌─┴─┐     └───┘  │  \n",
       "q_33: ┤ X ├──────────────────────┼──┤ X ├────────────┼──\n",
       "      └───┘┌───┐                 │  └───┘          ┌─┴─┐\n",
       "q_34: ──■──┤ H ├─────────────────┼─────────────────┤ X ├\n",
       "      ┌─┴─┐└───┘               ┌─┴─┐               └───┘\n",
       "q_35: ┤ X ├────────────────────┤ X ├────────────────────\n",
       "      └───┘                    └───┘                    </pre>"
      ],
      "text/plain": [
       "           ┌───┐                                        \n",
       " q_0: ──■──┤ H ├────────────■───────────────────────────\n",
       "      ┌─┴─┐└───┘            │                           \n",
       " q_1: ┤ X ├───────■─────────┼───────────────────────────\n",
       "      └───┘┌───┐  │         │                           \n",
       " q_2: ──■──┤ H ├──┼─────────┼────■──────────────────────\n",
       "      ┌─┴─┐└───┘  │         │    │                      \n",
       " q_3: ┤ X ├───────┼────■────┼────┼──────────────────────\n",
       "      └───┘┌───┐  │    │  ┌─┴─┐  │  ┌───┐               \n",
       " q_4: ──■──┤ H ├──┼────┼──┤ X ├──┼──┤ X ├───────■───────\n",
       "      ┌─┴─┐└───┘┌─┴─┐  │  ├───┤  │  └───┘       │       \n",
       " q_5: ┤ X ├─────┤ X ├──┼──┤ X ├──┼────■─────────┼───────\n",
       "      └───┘┌───┐└───┘  │  └───┘┌─┴─┐  │  ┌───┐  │       \n",
       " q_6: ──■──┤ H ├───────┼───────┤ X ├──┼──┤ X ├──┼────■──\n",
       "      ┌─┴─┐└───┘     ┌─┴─┐┌───┐└───┘  │  └───┘  │    │  \n",
       " q_7: ┤ X ├──────────┤ X ├┤ X ├──■────┼─────────┼────┼──\n",
       "      └───┘┌───┐     └───┘└───┘  │    │       ┌─┴─┐  │  \n",
       " q_8: ──■──┤ H ├─────────────────┼────┼───────┤ X ├──┼──\n",
       "      ┌─┴─┐└───┘                 │  ┌─┴─┐     └───┘  │  \n",
       " q_9: ┤ X ├──────────────────────┼──┤ X ├────────────┼──\n",
       "      └───┘┌───┐                 │  └───┘          ┌─┴─┐\n",
       "q_10: ──■──┤ H ├─────────────────┼─────────────────┤ X ├\n",
       "      ┌─┴─┐└───┘               ┌─┴─┐               └───┘\n",
       "q_11: ┤ X ├────────────────────┤ X ├────────────────────\n",
       "      └───┘┌───┐               └───┘                    \n",
       "q_12: ──■──┤ H ├────────────■───────────────────────────\n",
       "      ┌─┴─┐└───┘            │                           \n",
       "q_13: ┤ X ├───────■─────────┼───────────────────────────\n",
       "      └───┘┌───┐  │         │                           \n",
       "q_14: ──■──┤ H ├──┼─────────┼────■──────────────────────\n",
       "      ┌─┴─┐└───┘  │         │    │                      \n",
       "q_15: ┤ X ├───────┼────■────┼────┼──────────────────────\n",
       "      └───┘┌───┐  │    │  ┌─┴─┐  │  ┌───┐               \n",
       "q_16: ──■──┤ H ├──┼────┼──┤ X ├──┼──┤ X ├───────■───────\n",
       "      ┌─┴─┐└───┘┌─┴─┐  │  ├───┤  │  └───┘       │       \n",
       "q_17: ┤ X ├─────┤ X ├──┼──┤ X ├──┼────■─────────┼───────\n",
       "      └───┘┌───┐└───┘  │  └───┘┌─┴─┐  │  ┌───┐  │       \n",
       "q_18: ──■──┤ H ├───────┼───────┤ X ├──┼──┤ X ├──┼────■──\n",
       "      ┌─┴─┐└───┘     ┌─┴─┐┌───┐└───┘  │  └───┘  │    │  \n",
       "q_19: ┤ X ├──────────┤ X ├┤ X ├──■────┼─────────┼────┼──\n",
       "      └───┘┌───┐     └───┘└───┘  │    │       ┌─┴─┐  │  \n",
       "q_20: ──■──┤ H ├─────────────────┼────┼───────┤ X ├──┼──\n",
       "      ┌─┴─┐└───┘                 │  ┌─┴─┐     └───┘  │  \n",
       "q_21: ┤ X ├──────────────────────┼──┤ X ├────────────┼──\n",
       "      └───┘┌───┐                 │  └───┘          ┌─┴─┐\n",
       "q_22: ──■──┤ H ├─────────────────┼─────────────────┤ X ├\n",
       "      ┌─┴─┐└───┘               ┌─┴─┐               └───┘\n",
       "q_23: ┤ X ├────────────────────┤ X ├────────────────────\n",
       "      └───┘┌───┐               └───┘                    \n",
       "q_24: ──■──┤ H ├────────────■───────────────────────────\n",
       "      ┌─┴─┐└───┘            │                           \n",
       "q_25: ┤ X ├───────■─────────┼───────────────────────────\n",
       "      └───┘┌───┐  │         │                           \n",
       "q_26: ──■──┤ H ├──┼─────────┼────■──────────────────────\n",
       "      ┌─┴─┐└───┘  │         │    │                      \n",
       "q_27: ┤ X ├───────┼────■────┼────┼──────────────────────\n",
       "      └───┘┌───┐  │    │  ┌─┴─┐  │  ┌───┐               \n",
       "q_28: ──■──┤ H ├──┼────┼──┤ X ├──┼──┤ X ├───────■───────\n",
       "      ┌─┴─┐└───┘┌─┴─┐  │  ├───┤  │  └───┘       │       \n",
       "q_29: ┤ X ├─────┤ X ├──┼──┤ X ├──┼────■─────────┼───────\n",
       "      └───┘┌───┐└───┘  │  └───┘┌─┴─┐  │  ┌───┐  │       \n",
       "q_30: ──■──┤ H ├───────┼───────┤ X ├──┼──┤ X ├──┼────■──\n",
       "      ┌─┴─┐└───┘     ┌─┴─┐┌───┐└───┘  │  └───┘  │    │  \n",
       "q_31: ┤ X ├──────────┤ X ├┤ X ├──■────┼─────────┼────┼──\n",
       "      └───┘┌───┐     └───┘└───┘  │    │       ┌─┴─┐  │  \n",
       "q_32: ──■──┤ H ├─────────────────┼────┼───────┤ X ├──┼──\n",
       "      ┌─┴─┐└───┘                 │  ┌─┴─┐     └───┘  │  \n",
       "q_33: ┤ X ├──────────────────────┼──┤ X ├────────────┼──\n",
       "      └───┘┌───┐                 │  └───┘          ┌─┴─┐\n",
       "q_34: ──■──┤ H ├─────────────────┼─────────────────┤ X ├\n",
       "      ┌─┴─┐└───┘               ┌─┴─┐               └───┘\n",
       "q_35: ┤ X ├────────────────────┤ X ├────────────────────\n",
       "      └───┘                    └───┘                    "
      ]
     },
     "execution_count": 73,
     "metadata": {},
     "output_type": "execute_result"
    }
   ],
   "source": [
    "automaton.update_circuit.draw()"
   ]
  },
  {
   "cell_type": "markdown",
   "id": "eleven-tourism",
   "metadata": {},
   "source": [
    "That's bigger than I, personally, would like to write out by hand. The automaton handles all the repeated structure for us."
   ]
  },
  {
   "cell_type": "markdown",
   "id": "stunning-index",
   "metadata": {},
   "source": [
    "## Plugging the automaton into the composer"
   ]
  },
  {
   "cell_type": "markdown",
   "id": "enormous-contemporary",
   "metadata": {},
   "source": [
    "At the end of the day what we really want is music, and for that we want a grid of bits to pass to our `compose` function."
   ]
  },
  {
   "cell_type": "code",
   "execution_count": 74,
   "id": "dressed-providence",
   "metadata": {},
   "outputs": [],
   "source": [
    "class Qubit_Generator:\n",
    "    def __next__(self):\n",
    "        thirty_six_bits = next(automaton)\n",
    "        return [[thirty_six_bits[i+j] for j in range(9)] for i in range(4)]\n",
    "QBG = Qubit_Generator()"
   ]
  },
  {
   "cell_type": "markdown",
   "id": "chicken-belgium",
   "metadata": {},
   "source": [
    "Let's check it's the right shape:"
   ]
  },
  {
   "cell_type": "code",
   "execution_count": 75,
   "id": "obvious-discharge",
   "metadata": {},
   "outputs": [
    {
     "data": {
      "text/plain": [
       "[[1, 0, 0, 0, 1, 1, 0, 1, 1],\n",
       " [0, 0, 0, 1, 1, 0, 1, 1, 1],\n",
       " [0, 0, 1, 1, 0, 1, 1, 1, 0],\n",
       " [0, 1, 1, 0, 1, 1, 1, 0, 1]]"
      ]
     },
     "execution_count": 75,
     "metadata": {},
     "output_type": "execute_result"
    }
   ],
   "source": [
    "bits = next(QBG)\n",
    "bits"
   ]
  },
  {
   "cell_type": "markdown",
   "id": "regional-evanescence",
   "metadata": {},
   "source": [
    "Perfect!"
   ]
  },
  {
   "cell_type": "code",
   "execution_count": 76,
   "id": "approximate-jaguar",
   "metadata": {},
   "outputs": [],
   "source": [
    "bit_grids_to_midi_instrumentation_from_CAMUS([bits])"
   ]
  },
  {
   "cell_type": "markdown",
   "id": "likely-general",
   "metadata": {},
   "source": [
    "There we have it! Stored in `temp.midi` you should have the midi generated by your quantum cellular automaton."
   ]
  },
  {
   "cell_type": "markdown",
   "id": "unusual-zealand",
   "metadata": {},
   "source": [
    "# Visualising the automaton over time"
   ]
  },
  {
   "cell_type": "markdown",
   "id": "baking-worst",
   "metadata": {},
   "source": [
    "Let's create sequence of grids so we can see how the automaton state changes over time."
   ]
  },
  {
   "cell_type": "code",
   "execution_count": 77,
   "id": "everyday-eugene",
   "metadata": {},
   "outputs": [],
   "source": [
    "import ipywidgets"
   ]
  },
  {
   "cell_type": "code",
   "execution_count": 78,
   "id": "latest-recognition",
   "metadata": {},
   "outputs": [
    {
     "data": {
      "application/vnd.jupyter.widget-view+json": {
       "model_id": "104efeaf6ceb444bbb60b4944f24991e",
       "version_major": 2,
       "version_minor": 0
      },
      "text/plain": [
       "interactive(children=(IntSlider(value=0, description='iteration', max=19), Output()), _dom_classes=('widget-in…"
      ]
     },
     "metadata": {},
     "output_type": "display_data"
    }
   ],
   "source": [
    "def visualise_next_n_steps(bit_generator, n):\n",
    "    cached_states = [next(bit_generator) for _ in range(n)]\n",
    "    def show_step(iteration):\n",
    "        return draw_bits(cached_states[iteration])\n",
    "    return ipywidgets.interact(show_step,iteration=ipywidgets.IntSlider(min=0, max=n-1, step=1, value=0))\n",
    "visualise_next_n_steps(QBG, 20)\n",
    "pass"
   ]
  },
  {
   "cell_type": "markdown",
   "id": "persistent-gazette",
   "metadata": {},
   "source": [
    "# Iterated composition"
   ]
  },
  {
   "cell_type": "markdown",
   "id": "loved-vehicle",
   "metadata": {},
   "source": [
    "We built our MIDI and MusicXML synthesis functions take sequences of bit grids, so let's use this to construct a longer piece from succesive states of the automaton."
   ]
  },
  {
   "cell_type": "code",
   "execution_count": 79,
   "id": "musical-steps",
   "metadata": {},
   "outputs": [],
   "source": [
    "bit_grids_to_midi_instrumentation_from_CAMUS([next(QBG) for _ in range(5)])"
   ]
  },
  {
   "cell_type": "markdown",
   "id": "polar-oracle",
   "metadata": {},
   "source": [
    "(Recall that this function defaults to exporting a midi file at `temp.midi`.)"
   ]
  },
  {
   "cell_type": "markdown",
   "id": "piano-indonesian",
   "metadata": {},
   "source": [
    "That's it! Thank you for reading this tutorial."
   ]
  },
  {
   "cell_type": "markdown",
   "id": "communist-kelly",
   "metadata": {},
   "source": [
    "Detailed documentation can be found at [readthedocs.io](https://partitioned-quantum-cellular-automata.readthedocs.io/en/latest/) as well as in the docstrings of the python files themselves. The pqca module and these tutorials are available under the MIT licence, with source code available at [Hector Miller-Bakewell’s github](https://github.com/hmillerbakewell/partitioned-quantum-cellular-automata). This package was created as part of the [QuTune Project](https://iccmr-quantum.github.io/)."
   ]
  }
 ],
 "metadata": {
  "kernelspec": {
   "display_name": "QCAs-miranda",
   "language": "python",
   "name": "qcas-miranda"
  },
  "language_info": {
   "codemirror_mode": {
    "name": "ipython",
    "version": 3
   },
   "file_extension": ".py",
   "mimetype": "text/x-python",
   "name": "python",
   "nbconvert_exporter": "python",
   "pygments_lexer": "ipython3",
   "version": "3.8.10"
  }
 },
 "nbformat": 4,
 "nbformat_minor": 5
}
