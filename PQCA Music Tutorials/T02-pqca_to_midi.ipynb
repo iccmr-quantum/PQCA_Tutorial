{
 "cells": [
  {
   "cell_type": "markdown",
   "id": "informal-corner",
   "metadata": {},
   "source": [
    "# Synthesising music from a Quantum Cellular Automaton"
   ]
  },
  {
   "cell_type": "markdown",
   "id": "useful-cowboy",
   "metadata": {},
   "source": [
    "This tutorial will show you a method of turning the output of a Quantum Cellular Automaton into music. No knowledge of music or quantum cellular automata will be needed, but a little knowledge of music and a little knowledge of quantum circuits will be helpful."
   ]
  },
  {
   "cell_type": "markdown",
   "id": "valid-demographic",
   "metadata": {},
   "source": [
    "We will be viewing a partitioned quantum cellular automaton (PQCA) as a piece of software that produces $n$ bits every time we ask it to. For us $n$ will always be 12, so an example output from a PQCA will be:"
   ]
  },
  {
   "cell_type": "code",
   "execution_count": 1,
   "id": "understanding-devon",
   "metadata": {},
   "outputs": [],
   "source": [
    "example_twelve_bits = [0,0,0,1,0,0,1,0,1,0,1,1]"
   ]
  },
  {
   "cell_type": "markdown",
   "id": "brilliant-cleaning",
   "metadata": {},
   "source": [
    "We will go through how to turn these 12 bits into music first, and then show how to set up the PQCA."
   ]
  },
  {
   "cell_type": "markdown",
   "id": "violent-encyclopedia",
   "metadata": {},
   "source": [
    "The packages used in this tutorial are:\n",
    " - music21\n",
    " - musical-scales\n",
    " - pqca\n",
    " - qiskit"
   ]
  },
  {
   "cell_type": "code",
   "execution_count": 2,
   "id": "divided-fashion",
   "metadata": {},
   "outputs": [
    {
     "name": "stderr",
     "output_type": "stream",
     "text": [
      "music21: Certain music21 functions might need the optional package matplotlib;\n",
      "                  if you run into errors, install it by following the instructions at\n",
      "                  http://mit.edu/music21/doc/installing/installAdditional.html\n"
     ]
    }
   ],
   "source": [
    "import music21\n",
    "import musical_scales\n",
    "import pqca\n",
    "import qiskit"
   ]
  },
  {
   "cell_type": "markdown",
   "id": "executive-paris",
   "metadata": {},
   "source": [
    "`music21` may be showing a warning about potentially needing `matplotlib` - we will not require this functionality."
   ]
  },
  {
   "cell_type": "markdown",
   "id": "fitting-burner",
   "metadata": {},
   "source": [
    "## From bits to a chord of notes"
   ]
  },
  {
   "cell_type": "markdown",
   "id": "vietnamese-messaging",
   "metadata": {},
   "source": [
    "We will split this bitstring into four parts.\n",
    " - Bit 0 denotes whether this chord will simply be a rest or not\n",
    " - Bit 1 denotes whether this chord be long or short\n",
    " - Bits 2 and 3 denote the mode\n",
    " - Bits 4-11 denote which notes from the scale to play together as a chord"
   ]
  },
  {
   "cell_type": "markdown",
   "id": "biological-seeker",
   "metadata": {},
   "source": [
    "![A breakdown of 12 bits into sections as described above](images/split_12_bits.svg)"
   ]
  },
  {
   "cell_type": "markdown",
   "id": "fantastic-withdrawal",
   "metadata": {},
   "source": [
    "An example mode is \"A major\", and if our bitstring indicated we should play notes 1, 2, and 3 in this mode then our chord would be \"A B C#\"."
   ]
  },
  {
   "cell_type": "markdown",
   "id": "tribal-dodge",
   "metadata": {},
   "source": [
    "We will be using the `musical_scales` package for easy access to these modes and notes."
   ]
  },
  {
   "cell_type": "code",
   "execution_count": 3,
   "id": "future-transmission",
   "metadata": {},
   "outputs": [],
   "source": [
    "from musical_scales import scale"
   ]
  },
  {
   "cell_type": "markdown",
   "id": "operating-passage",
   "metadata": {},
   "source": [
    "Let's break our bitstring up into the sections we declared above."
   ]
  },
  {
   "cell_type": "code",
   "execution_count": 4,
   "id": "martial-netherlands",
   "metadata": {},
   "outputs": [],
   "source": [
    "def bit_breakdown(twelve_bits_long):\n",
    "    return {\"rest\": twelve_bits_long[0],\n",
    "            \"long\": twelve_bits_long[1],\n",
    "            \"scale\": twelve_bits_long[2:4],\n",
    "            \"notes\": twelve_bits_long[4:12]\n",
    "    }"
   ]
  },
  {
   "cell_type": "markdown",
   "id": "needed-garbage",
   "metadata": {},
   "source": [
    "And here's an example of this breakdown in action:"
   ]
  },
  {
   "cell_type": "code",
   "execution_count": 5,
   "id": "right-thumb",
   "metadata": {},
   "outputs": [
    {
     "data": {
      "text/plain": [
       "{'rest': 0, 'long': 0, 'scale': [0, 1], 'notes': [0, 0, 1, 0, 1, 0, 1, 1]}"
      ]
     },
     "execution_count": 5,
     "metadata": {},
     "output_type": "execute_result"
    }
   ],
   "source": [
    "bit_breakdown(example_twelve_bits)"
   ]
  },
  {
   "cell_type": "markdown",
   "id": "civic-display",
   "metadata": {},
   "source": [
    "Let's pick some modes for this project. Below we give a function that maps just the `scale` section of bits onto one of 4 modes. The modes we've chosen are inspired by the Axis Of Awesome's song \"Four Chords\", which are themselves just a specific incarnation of the doo-wop chord progression `I - VIm - IV - V`:\n",
    " - E major\n",
    " - C# harmonic minor\n",
    " - A major\n",
    " - B major"
   ]
  },
  {
   "cell_type": "code",
   "execution_count": 6,
   "id": "infrared-security",
   "metadata": {},
   "outputs": [],
   "source": [
    "modes_to_choose_from = [\n",
    "    (\"E\", \"major\"), (\"B\", \"major\"), (\"C#\", \"harmonic minor\"), (\"A\", \"major\")\n",
    "]\n",
    "def bits_to_scale_data(mode_bits, modes = modes_to_choose_from):\n",
    "    def note_mode_pair_to_object(note_mode_pair):\n",
    "        note, mode = note_mode_pair\n",
    "        return {\"fundamental\": note, \"mode\": mode}\n",
    "    \n",
    "    if mode_bits[0]:\n",
    "        if mode_bits[1]:\n",
    "            return note_mode_pair_to_object(modes[0])\n",
    "        return note_mode_pair_to_object(modes[1])\n",
    "    if mode_bits[1]:\n",
    "        return note_mode_pair_to_object(modes[2])\n",
    "    return note_mode_pair_to_object(modes[3])"
   ]
  },
  {
   "cell_type": "markdown",
   "id": "broad-alert",
   "metadata": {},
   "source": [
    "This is enough information for someone to sit down and work out the chord on a piano. We want this music to be stored as a MIDI file so our computers can play it for us. We will be using the `music21` package to handle MIDI creation."
   ]
  },
  {
   "cell_type": "code",
   "execution_count": 7,
   "id": "hispanic-invitation",
   "metadata": {},
   "outputs": [],
   "source": [
    "def chord_from_bits(bits, note_lengths=[\"quarter\",\"eighth\"]):\n",
    "    breakdown = bit_breakdown(bits)\n",
    "    duration = note_lengths[0] if breakdown[\"long\"] else note_lengths[1]\n",
    "    if breakdown[\"rest\"]:\n",
    "        this_chord = music21.note.Rest(duration=music21.duration.Duration(duration))\n",
    "    else:\n",
    "        scale_data = bits_to_scale_data(breakdown[\"scale\"])\n",
    "        scale_notes = scale(scale_data[\"fundamental\"], scale_data[\"mode\"])\n",
    "        list_of_notes = [str(note) for index, note in enumerate(scale_notes)\n",
    "               if breakdown[\"notes\"][index]]\n",
    "        this_chord = music21.chord.Chord(list_of_notes)\n",
    "        this_chord.duration.type = duration\n",
    "    return this_chord"
   ]
  },
  {
   "cell_type": "code",
   "execution_count": 8,
   "id": "durable-sleeping",
   "metadata": {},
   "outputs": [
    {
     "data": {
      "text/plain": [
       "<music21.chord.Chord E3 G#3 C4 C#4>"
      ]
     },
     "execution_count": 8,
     "metadata": {},
     "output_type": "execute_result"
    }
   ],
   "source": [
    "chord_from_bits(example_twelve_bits)"
   ]
  },
  {
   "cell_type": "markdown",
   "id": "anonymous-publication",
   "metadata": {},
   "source": [
    "### (Non-quantum) example bits"
   ]
  },
  {
   "cell_type": "markdown",
   "id": "handmade-christmas",
   "metadata": {},
   "source": [
    "Our first demonstration will use a _classical_ bitstream generator. We will replace this with a partitioned quantum cellular automaton later on."
   ]
  },
  {
   "cell_type": "code",
   "execution_count": 9,
   "id": "disabled-thesaurus",
   "metadata": {},
   "outputs": [],
   "source": [
    "import random"
   ]
  },
  {
   "cell_type": "code",
   "execution_count": 10,
   "id": "regional-reserve",
   "metadata": {},
   "outputs": [],
   "source": [
    "class Bit_Generator:\n",
    "    def __next__(self):\n",
    "        return [random.random() > 0.5 for i in range(0,12)]\n",
    "BG = Bit_Generator()"
   ]
  },
  {
   "cell_type": "markdown",
   "id": "subsequent-growth",
   "metadata": {},
   "source": [
    "This just generates 12 bits as a time each time we call `next(BG)`, with each entry in the sequence having a 50/50 chance of being 0 or 1. With our classical bitstream generator we can generate sequences of chords."
   ]
  },
  {
   "cell_type": "code",
   "execution_count": 11,
   "id": "several-voluntary",
   "metadata": {},
   "outputs": [],
   "source": [
    "chord_sequence = [chord_from_bits(next(BG)) for i in range(0,20)]"
   ]
  },
  {
   "cell_type": "markdown",
   "id": "figured-officer",
   "metadata": {},
   "source": [
    "A `stream` is how music21 handles a sequence of chords."
   ]
  },
  {
   "cell_type": "code",
   "execution_count": 12,
   "id": "dirty-metro",
   "metadata": {},
   "outputs": [],
   "source": [
    "instrumentation = music21.instrument.Vibraphone() # Vibraphone\n",
    "\n",
    "#instrumentation = music21.instrument.instrumentFromMidiProgram(24) # Acoustic Nylon Guitar\n",
    "#instrumentation = music21.instrument.Harpsichord() # Harpsichord\n",
    "def stream_from_chords(chords, instrument=instrumentation):\n",
    "    stream = music21.stream.Stream()\n",
    "    stream.insert(0, instrument)\n",
    "    for chord in chords:\n",
    "        stream.append(chord)\n",
    "    return stream"
   ]
  },
  {
   "cell_type": "markdown",
   "id": "nutritional-essence",
   "metadata": {},
   "source": [
    "That's all the data we need, so write it to a MIDI file.\n",
    "    "
   ]
  },
  {
   "cell_type": "code",
   "execution_count": 13,
   "id": "satisfied-struggle",
   "metadata": {},
   "outputs": [],
   "source": [
    "def save_midi(stream, output_midi_file=\"temp.midi\"):\n",
    "    stream.write(\"midi\",output_midi_file)"
   ]
  },
  {
   "cell_type": "code",
   "execution_count": 14,
   "id": "ready-phase",
   "metadata": {},
   "outputs": [],
   "source": [
    "save_midi(stream_from_chords(chord_sequence)) # Saves to \"temp.midi\" by default"
   ]
  },
  {
   "cell_type": "markdown",
   "id": "sophisticated-transfer",
   "metadata": {},
   "source": [
    "To draw the score we'll need access to `ipython`'s `Image` class:"
   ]
  },
  {
   "cell_type": "code",
   "execution_count": 15,
   "id": "acceptable-chrome",
   "metadata": {},
   "outputs": [],
   "source": [
    "from IPython.display import Image"
   ]
  },
  {
   "cell_type": "code",
   "execution_count": 16,
   "id": "grand-garage",
   "metadata": {},
   "outputs": [],
   "source": [
    "def show_score(stream):\n",
    "    return Image(stream.write(\"lily.png\"))"
   ]
  },
  {
   "cell_type": "code",
   "execution_count": 17,
   "id": "daily-drama",
   "metadata": {},
   "outputs": [
    {
     "data": {
      "image/png": "[encoded data removed]",
      "text/plain": [
       "<IPython.core.display.Image object>"
      ]
     },
     "execution_count": 17,
     "metadata": {},
     "output_type": "execute_result"
    }
   ],
   "source": [
    "show_score(stream_from_chords(chord_sequence))"
   ]
  },
  {
   "cell_type": "markdown",
   "id": "natural-place",
   "metadata": {},
   "source": [
    "Give it a listen! Each chord has a 50/50 chance to be a rest, and each note of the scale has a 50/50 chance to be included in each chord. That's because we used a classical random number generator for each bit. Now let's make it quantum."
   ]
  },
  {
   "cell_type": "markdown",
   "id": "technical-howard",
   "metadata": {},
   "source": [
    "# Making it your own"
   ]
  },
  {
   "cell_type": "markdown",
   "id": "strong-bolivia",
   "metadata": {},
   "source": [
    "Remember that the entire process of turning bits into chords is given by the functions above. For example you can:\n",
    " - Change the modes used by changing the value of `chords_to_choose_from`. See the [musical-scales](https://pypi.org/project/musical-scales/) package for a list of the modes available.\n",
    " - Change the timings by changing the `note_lengths` argument in the `chord_from_bits` function. `music21` uses American-style note lengths (\"half\" rather than \"minim\", \"quarter\" rather than \"crotchet\", etc.)\n",
    " - Change the instrument used via the `instrument` variable.\n",
    "   - Remember you can write `music21.instrument.` and then press `tab` to see a list of options\n",
    "   - The list of instruments afforded by `music21` is also found in the right hand side of [this page](http://web.mit.edu/music21/doc/moduleReference/moduleInstrument.html)\n",
    "   - You can also specify a [MIDI program number](http://www.ccarh.org/courses/253/handout/gminstruments/)\n",
    "       using `music21.instrument.instrumentFromMidiProgram(number-1)`\n",
    " - Change any other aspect of how chords are created. All that matters is that we start with 12 bits and end with chords."
   ]
  },
  {
   "cell_type": "markdown",
   "id": "prime-rubber",
   "metadata": {},
   "source": [
    "# Drawing the states"
   ]
  },
  {
   "cell_type": "markdown",
   "id": "formal-breathing",
   "metadata": {},
   "source": [
    "Many people find it easier to imagine the state of a cellular automaton as a sequence of squares (white for 1, black for 0).\n",
    "This was discussed a little in the Getting Started tutorial, and we will use similar code here to represent what is going on with our `Bit_Generator`."
   ]
  },
  {
   "cell_type": "code",
   "execution_count": 18,
   "id": "fatty-trinidad",
   "metadata": {},
   "outputs": [],
   "source": [
    "import drawSvg\n",
    "def quilt(bit_generator, number_of_iterations):\n",
    "    # This code just draws things, understanding it isn't necessary for the tutorial\n",
    "    square_size = 20 # in pixels\n",
    "    number_of_bits = 12\n",
    "    drawing = drawSvg.Drawing(square_size*number_of_bits, square_size*number_of_iterations)\n",
    "    for iteration in range(number_of_iterations):\n",
    "        state = next(bit_generator)\n",
    "        for index, bit in enumerate(state):\n",
    "            colour = '#eeeeee' if bit else '#000000'\n",
    "            rect = drawSvg.Rectangle(index*square_size,(number_of_iterations-iteration-1)*square_size,square_size,square_size, fill=colour)\n",
    "            drawing.append(rect)\n",
    "    return drawing"
   ]
  },
  {
   "cell_type": "markdown",
   "id": "needed-concert",
   "metadata": {},
   "source": [
    "Let's call on `BG` 20 times, drawing each result as a new row in the quilt."
   ]
  },
  {
   "cell_type": "code",
   "execution_count": 19,
   "id": "technical-triumph",
   "metadata": {},
   "outputs": [
    {
     "data": {
      "image/svg+xml": [
       "<?xml version=\"1.0\" encoding=\"UTF-8\"?>\n",
       "<svg xmlns=\"http://www.w3.org/2000/svg\" xmlns:xlink=\"http://www.w3.org/1999/xlink\"\n",
       "     width=\"240\" height=\"400\" viewBox=\"0 -400 240 400\">\n",
       "<defs>\n",
       "</defs>\n",
       "<rect x=\"0\" y=\"-400\" width=\"20\" height=\"20\" fill=\"#000000\" />\n",
       "<rect x=\"20\" y=\"-400\" width=\"20\" height=\"20\" fill=\"#eeeeee\" />\n",
       "<rect x=\"40\" y=\"-400\" width=\"20\" height=\"20\" fill=\"#000000\" />\n",
       "<rect x=\"60\" y=\"-400\" width=\"20\" height=\"20\" fill=\"#eeeeee\" />\n",
       "<rect x=\"80\" y=\"-400\" width=\"20\" height=\"20\" fill=\"#eeeeee\" />\n",
       "<rect x=\"100\" y=\"-400\" width=\"20\" height=\"20\" fill=\"#000000\" />\n",
       "<rect x=\"120\" y=\"-400\" width=\"20\" height=\"20\" fill=\"#eeeeee\" />\n",
       "<rect x=\"140\" y=\"-400\" width=\"20\" height=\"20\" fill=\"#000000\" />\n",
       "<rect x=\"160\" y=\"-400\" width=\"20\" height=\"20\" fill=\"#000000\" />\n",
       "<rect x=\"180\" y=\"-400\" width=\"20\" height=\"20\" fill=\"#000000\" />\n",
       "<rect x=\"200\" y=\"-400\" width=\"20\" height=\"20\" fill=\"#000000\" />\n",
       "<rect x=\"220\" y=\"-400\" width=\"20\" height=\"20\" fill=\"#000000\" />\n",
       "<rect x=\"0\" y=\"-380\" width=\"20\" height=\"20\" fill=\"#eeeeee\" />\n",
       "<rect x=\"20\" y=\"-380\" width=\"20\" height=\"20\" fill=\"#000000\" />\n",
       "<rect x=\"40\" y=\"-380\" width=\"20\" height=\"20\" fill=\"#eeeeee\" />\n",
       "<rect x=\"60\" y=\"-380\" width=\"20\" height=\"20\" fill=\"#eeeeee\" />\n",
       "<rect x=\"80\" y=\"-380\" width=\"20\" height=\"20\" fill=\"#eeeeee\" />\n",
       "<rect x=\"100\" y=\"-380\" width=\"20\" height=\"20\" fill=\"#000000\" />\n",
       "<rect x=\"120\" y=\"-380\" width=\"20\" height=\"20\" fill=\"#eeeeee\" />\n",
       "<rect x=\"140\" y=\"-380\" width=\"20\" height=\"20\" fill=\"#eeeeee\" />\n",
       "<rect x=\"160\" y=\"-380\" width=\"20\" height=\"20\" fill=\"#000000\" />\n",
       "<rect x=\"180\" y=\"-380\" width=\"20\" height=\"20\" fill=\"#000000\" />\n",
       "<rect x=\"200\" y=\"-380\" width=\"20\" height=\"20\" fill=\"#000000\" />\n",
       "<rect x=\"220\" y=\"-380\" width=\"20\" height=\"20\" fill=\"#eeeeee\" />\n",
       "<rect x=\"0\" y=\"-360\" width=\"20\" height=\"20\" fill=\"#eeeeee\" />\n",
       "<rect x=\"20\" y=\"-360\" width=\"20\" height=\"20\" fill=\"#eeeeee\" />\n",
       "<rect x=\"40\" y=\"-360\" width=\"20\" height=\"20\" fill=\"#eeeeee\" />\n",
       "<rect x=\"60\" y=\"-360\" width=\"20\" height=\"20\" fill=\"#eeeeee\" />\n",
       "<rect x=\"80\" y=\"-360\" width=\"20\" height=\"20\" fill=\"#eeeeee\" />\n",
       "<rect x=\"100\" y=\"-360\" width=\"20\" height=\"20\" fill=\"#000000\" />\n",
       "<rect x=\"120\" y=\"-360\" width=\"20\" height=\"20\" fill=\"#000000\" />\n",
       "<rect x=\"140\" y=\"-360\" width=\"20\" height=\"20\" fill=\"#000000\" />\n",
       "<rect x=\"160\" y=\"-360\" width=\"20\" height=\"20\" fill=\"#eeeeee\" />\n",
       "<rect x=\"180\" y=\"-360\" width=\"20\" height=\"20\" fill=\"#000000\" />\n",
       "<rect x=\"200\" y=\"-360\" width=\"20\" height=\"20\" fill=\"#000000\" />\n",
       "<rect x=\"220\" y=\"-360\" width=\"20\" height=\"20\" fill=\"#000000\" />\n",
       "<rect x=\"0\" y=\"-340\" width=\"20\" height=\"20\" fill=\"#000000\" />\n",
       "<rect x=\"20\" y=\"-340\" width=\"20\" height=\"20\" fill=\"#000000\" />\n",
       "<rect x=\"40\" y=\"-340\" width=\"20\" height=\"20\" fill=\"#eeeeee\" />\n",
       "<rect x=\"60\" y=\"-340\" width=\"20\" height=\"20\" fill=\"#000000\" />\n",
       "<rect x=\"80\" y=\"-340\" width=\"20\" height=\"20\" fill=\"#000000\" />\n",
       "<rect x=\"100\" y=\"-340\" width=\"20\" height=\"20\" fill=\"#000000\" />\n",
       "<rect x=\"120\" y=\"-340\" width=\"20\" height=\"20\" fill=\"#eeeeee\" />\n",
       "<rect x=\"140\" y=\"-340\" width=\"20\" height=\"20\" fill=\"#000000\" />\n",
       "<rect x=\"160\" y=\"-340\" width=\"20\" height=\"20\" fill=\"#eeeeee\" />\n",
       "<rect x=\"180\" y=\"-340\" width=\"20\" height=\"20\" fill=\"#000000\" />\n",
       "<rect x=\"200\" y=\"-340\" width=\"20\" height=\"20\" fill=\"#000000\" />\n",
       "<rect x=\"220\" y=\"-340\" width=\"20\" height=\"20\" fill=\"#eeeeee\" />\n",
       "<rect x=\"0\" y=\"-320\" width=\"20\" height=\"20\" fill=\"#000000\" />\n",
       "<rect x=\"20\" y=\"-320\" width=\"20\" height=\"20\" fill=\"#000000\" />\n",
       "<rect x=\"40\" y=\"-320\" width=\"20\" height=\"20\" fill=\"#eeeeee\" />\n",
       "<rect x=\"60\" y=\"-320\" width=\"20\" height=\"20\" fill=\"#000000\" />\n",
       "<rect x=\"80\" y=\"-320\" width=\"20\" height=\"20\" fill=\"#000000\" />\n",
       "<rect x=\"100\" y=\"-320\" width=\"20\" height=\"20\" fill=\"#eeeeee\" />\n",
       "<rect x=\"120\" y=\"-320\" width=\"20\" height=\"20\" fill=\"#eeeeee\" />\n",
       "<rect x=\"140\" y=\"-320\" width=\"20\" height=\"20\" fill=\"#eeeeee\" />\n",
       "<rect x=\"160\" y=\"-320\" width=\"20\" height=\"20\" fill=\"#eeeeee\" />\n",
       "<rect x=\"180\" y=\"-320\" width=\"20\" height=\"20\" fill=\"#000000\" />\n",
       "<rect x=\"200\" y=\"-320\" width=\"20\" height=\"20\" fill=\"#000000\" />\n",
       "<rect x=\"220\" y=\"-320\" width=\"20\" height=\"20\" fill=\"#eeeeee\" />\n",
       "<rect x=\"0\" y=\"-300\" width=\"20\" height=\"20\" fill=\"#eeeeee\" />\n",
       "<rect x=\"20\" y=\"-300\" width=\"20\" height=\"20\" fill=\"#eeeeee\" />\n",
       "<rect x=\"40\" y=\"-300\" width=\"20\" height=\"20\" fill=\"#eeeeee\" />\n",
       "<rect x=\"60\" y=\"-300\" width=\"20\" height=\"20\" fill=\"#eeeeee\" />\n",
       "<rect x=\"80\" y=\"-300\" width=\"20\" height=\"20\" fill=\"#000000\" />\n",
       "<rect x=\"100\" y=\"-300\" width=\"20\" height=\"20\" fill=\"#eeeeee\" />\n",
       "<rect x=\"120\" y=\"-300\" width=\"20\" height=\"20\" fill=\"#000000\" />\n",
       "<rect x=\"140\" y=\"-300\" width=\"20\" height=\"20\" fill=\"#000000\" />\n",
       "<rect x=\"160\" y=\"-300\" width=\"20\" height=\"20\" fill=\"#000000\" />\n",
       "<rect x=\"180\" y=\"-300\" width=\"20\" height=\"20\" fill=\"#eeeeee\" />\n",
       "<rect x=\"200\" y=\"-300\" width=\"20\" height=\"20\" fill=\"#eeeeee\" />\n",
       "<rect x=\"220\" y=\"-300\" width=\"20\" height=\"20\" fill=\"#000000\" />\n",
       "<rect x=\"0\" y=\"-280\" width=\"20\" height=\"20\" fill=\"#000000\" />\n",
       "<rect x=\"20\" y=\"-280\" width=\"20\" height=\"20\" fill=\"#000000\" />\n",
       "<rect x=\"40\" y=\"-280\" width=\"20\" height=\"20\" fill=\"#eeeeee\" />\n",
       "<rect x=\"60\" y=\"-280\" width=\"20\" height=\"20\" fill=\"#000000\" />\n",
       "<rect x=\"80\" y=\"-280\" width=\"20\" height=\"20\" fill=\"#000000\" />\n",
       "<rect x=\"100\" y=\"-280\" width=\"20\" height=\"20\" fill=\"#eeeeee\" />\n",
       "<rect x=\"120\" y=\"-280\" width=\"20\" height=\"20\" fill=\"#000000\" />\n",
       "<rect x=\"140\" y=\"-280\" width=\"20\" height=\"20\" fill=\"#eeeeee\" />\n",
       "<rect x=\"160\" y=\"-280\" width=\"20\" height=\"20\" fill=\"#eeeeee\" />\n",
       "<rect x=\"180\" y=\"-280\" width=\"20\" height=\"20\" fill=\"#eeeeee\" />\n",
       "<rect x=\"200\" y=\"-280\" width=\"20\" height=\"20\" fill=\"#eeeeee\" />\n",
       "<rect x=\"220\" y=\"-280\" width=\"20\" height=\"20\" fill=\"#000000\" />\n",
       "<rect x=\"0\" y=\"-260\" width=\"20\" height=\"20\" fill=\"#eeeeee\" />\n",
       "<rect x=\"20\" y=\"-260\" width=\"20\" height=\"20\" fill=\"#000000\" />\n",
       "<rect x=\"40\" y=\"-260\" width=\"20\" height=\"20\" fill=\"#000000\" />\n",
       "<rect x=\"60\" y=\"-260\" width=\"20\" height=\"20\" fill=\"#000000\" />\n",
       "<rect x=\"80\" y=\"-260\" width=\"20\" height=\"20\" fill=\"#000000\" />\n",
       "<rect x=\"100\" y=\"-260\" width=\"20\" height=\"20\" fill=\"#000000\" />\n",
       "<rect x=\"120\" y=\"-260\" width=\"20\" height=\"20\" fill=\"#000000\" />\n",
       "<rect x=\"140\" y=\"-260\" width=\"20\" height=\"20\" fill=\"#000000\" />\n",
       "<rect x=\"160\" y=\"-260\" width=\"20\" height=\"20\" fill=\"#000000\" />\n",
       "<rect x=\"180\" y=\"-260\" width=\"20\" height=\"20\" fill=\"#000000\" />\n",
       "<rect x=\"200\" y=\"-260\" width=\"20\" height=\"20\" fill=\"#eeeeee\" />\n",
       "<rect x=\"220\" y=\"-260\" width=\"20\" height=\"20\" fill=\"#eeeeee\" />\n",
       "<rect x=\"0\" y=\"-240\" width=\"20\" height=\"20\" fill=\"#eeeeee\" />\n",
       "<rect x=\"20\" y=\"-240\" width=\"20\" height=\"20\" fill=\"#000000\" />\n",
       "<rect x=\"40\" y=\"-240\" width=\"20\" height=\"20\" fill=\"#000000\" />\n",
       "<rect x=\"60\" y=\"-240\" width=\"20\" height=\"20\" fill=\"#000000\" />\n",
       "<rect x=\"80\" y=\"-240\" width=\"20\" height=\"20\" fill=\"#000000\" />\n",
       "<rect x=\"100\" y=\"-240\" width=\"20\" height=\"20\" fill=\"#eeeeee\" />\n",
       "<rect x=\"120\" y=\"-240\" width=\"20\" height=\"20\" fill=\"#eeeeee\" />\n",
       "<rect x=\"140\" y=\"-240\" width=\"20\" height=\"20\" fill=\"#eeeeee\" />\n",
       "<rect x=\"160\" y=\"-240\" width=\"20\" height=\"20\" fill=\"#000000\" />\n",
       "<rect x=\"180\" y=\"-240\" width=\"20\" height=\"20\" fill=\"#eeeeee\" />\n",
       "<rect x=\"200\" y=\"-240\" width=\"20\" height=\"20\" fill=\"#eeeeee\" />\n",
       "<rect x=\"220\" y=\"-240\" width=\"20\" height=\"20\" fill=\"#eeeeee\" />\n",
       "<rect x=\"0\" y=\"-220\" width=\"20\" height=\"20\" fill=\"#eeeeee\" />\n",
       "<rect x=\"20\" y=\"-220\" width=\"20\" height=\"20\" fill=\"#eeeeee\" />\n",
       "<rect x=\"40\" y=\"-220\" width=\"20\" height=\"20\" fill=\"#000000\" />\n",
       "<rect x=\"60\" y=\"-220\" width=\"20\" height=\"20\" fill=\"#000000\" />\n",
       "<rect x=\"80\" y=\"-220\" width=\"20\" height=\"20\" fill=\"#eeeeee\" />\n",
       "<rect x=\"100\" y=\"-220\" width=\"20\" height=\"20\" fill=\"#eeeeee\" />\n",
       "<rect x=\"120\" y=\"-220\" width=\"20\" height=\"20\" fill=\"#eeeeee\" />\n",
       "<rect x=\"140\" y=\"-220\" width=\"20\" height=\"20\" fill=\"#eeeeee\" />\n",
       "<rect x=\"160\" y=\"-220\" width=\"20\" height=\"20\" fill=\"#eeeeee\" />\n",
       "<rect x=\"180\" y=\"-220\" width=\"20\" height=\"20\" fill=\"#eeeeee\" />\n",
       "<rect x=\"200\" y=\"-220\" width=\"20\" height=\"20\" fill=\"#000000\" />\n",
       "<rect x=\"220\" y=\"-220\" width=\"20\" height=\"20\" fill=\"#000000\" />\n",
       "<rect x=\"0\" y=\"-200\" width=\"20\" height=\"20\" fill=\"#eeeeee\" />\n",
       "<rect x=\"20\" y=\"-200\" width=\"20\" height=\"20\" fill=\"#000000\" />\n",
       "<rect x=\"40\" y=\"-200\" width=\"20\" height=\"20\" fill=\"#000000\" />\n",
       "<rect x=\"60\" y=\"-200\" width=\"20\" height=\"20\" fill=\"#eeeeee\" />\n",
       "<rect x=\"80\" y=\"-200\" width=\"20\" height=\"20\" fill=\"#000000\" />\n",
       "<rect x=\"100\" y=\"-200\" width=\"20\" height=\"20\" fill=\"#eeeeee\" />\n",
       "<rect x=\"120\" y=\"-200\" width=\"20\" height=\"20\" fill=\"#eeeeee\" />\n",
       "<rect x=\"140\" y=\"-200\" width=\"20\" height=\"20\" fill=\"#000000\" />\n",
       "<rect x=\"160\" y=\"-200\" width=\"20\" height=\"20\" fill=\"#000000\" />\n",
       "<rect x=\"180\" y=\"-200\" width=\"20\" height=\"20\" fill=\"#eeeeee\" />\n",
       "<rect x=\"200\" y=\"-200\" width=\"20\" height=\"20\" fill=\"#000000\" />\n",
       "<rect x=\"220\" y=\"-200\" width=\"20\" height=\"20\" fill=\"#eeeeee\" />\n",
       "<rect x=\"0\" y=\"-180\" width=\"20\" height=\"20\" fill=\"#eeeeee\" />\n",
       "<rect x=\"20\" y=\"-180\" width=\"20\" height=\"20\" fill=\"#000000\" />\n",
       "<rect x=\"40\" y=\"-180\" width=\"20\" height=\"20\" fill=\"#eeeeee\" />\n",
       "<rect x=\"60\" y=\"-180\" width=\"20\" height=\"20\" fill=\"#eeeeee\" />\n",
       "<rect x=\"80\" y=\"-180\" width=\"20\" height=\"20\" fill=\"#eeeeee\" />\n",
       "<rect x=\"100\" y=\"-180\" width=\"20\" height=\"20\" fill=\"#eeeeee\" />\n",
       "<rect x=\"120\" y=\"-180\" width=\"20\" height=\"20\" fill=\"#eeeeee\" />\n",
       "<rect x=\"140\" y=\"-180\" width=\"20\" height=\"20\" fill=\"#eeeeee\" />\n",
       "<rect x=\"160\" y=\"-180\" width=\"20\" height=\"20\" fill=\"#eeeeee\" />\n",
       "<rect x=\"180\" y=\"-180\" width=\"20\" height=\"20\" fill=\"#000000\" />\n",
       "<rect x=\"200\" y=\"-180\" width=\"20\" height=\"20\" fill=\"#eeeeee\" />\n",
       "<rect x=\"220\" y=\"-180\" width=\"20\" height=\"20\" fill=\"#eeeeee\" />\n",
       "<rect x=\"0\" y=\"-160\" width=\"20\" height=\"20\" fill=\"#eeeeee\" />\n",
       "<rect x=\"20\" y=\"-160\" width=\"20\" height=\"20\" fill=\"#000000\" />\n",
       "<rect x=\"40\" y=\"-160\" width=\"20\" height=\"20\" fill=\"#eeeeee\" />\n",
       "<rect x=\"60\" y=\"-160\" width=\"20\" height=\"20\" fill=\"#000000\" />\n",
       "<rect x=\"80\" y=\"-160\" width=\"20\" height=\"20\" fill=\"#000000\" />\n",
       "<rect x=\"100\" y=\"-160\" width=\"20\" height=\"20\" fill=\"#000000\" />\n",
       "<rect x=\"120\" y=\"-160\" width=\"20\" height=\"20\" fill=\"#000000\" />\n",
       "<rect x=\"140\" y=\"-160\" width=\"20\" height=\"20\" fill=\"#000000\" />\n",
       "<rect x=\"160\" y=\"-160\" width=\"20\" height=\"20\" fill=\"#eeeeee\" />\n",
       "<rect x=\"180\" y=\"-160\" width=\"20\" height=\"20\" fill=\"#eeeeee\" />\n",
       "<rect x=\"200\" y=\"-160\" width=\"20\" height=\"20\" fill=\"#eeeeee\" />\n",
       "<rect x=\"220\" y=\"-160\" width=\"20\" height=\"20\" fill=\"#000000\" />\n",
       "<rect x=\"0\" y=\"-140\" width=\"20\" height=\"20\" fill=\"#eeeeee\" />\n",
       "<rect x=\"20\" y=\"-140\" width=\"20\" height=\"20\" fill=\"#eeeeee\" />\n",
       "<rect x=\"40\" y=\"-140\" width=\"20\" height=\"20\" fill=\"#000000\" />\n",
       "<rect x=\"60\" y=\"-140\" width=\"20\" height=\"20\" fill=\"#eeeeee\" />\n",
       "<rect x=\"80\" y=\"-140\" width=\"20\" height=\"20\" fill=\"#eeeeee\" />\n",
       "<rect x=\"100\" y=\"-140\" width=\"20\" height=\"20\" fill=\"#eeeeee\" />\n",
       "<rect x=\"120\" y=\"-140\" width=\"20\" height=\"20\" fill=\"#000000\" />\n",
       "<rect x=\"140\" y=\"-140\" width=\"20\" height=\"20\" fill=\"#000000\" />\n",
       "<rect x=\"160\" y=\"-140\" width=\"20\" height=\"20\" fill=\"#eeeeee\" />\n",
       "<rect x=\"180\" y=\"-140\" width=\"20\" height=\"20\" fill=\"#000000\" />\n",
       "<rect x=\"200\" y=\"-140\" width=\"20\" height=\"20\" fill=\"#000000\" />\n",
       "<rect x=\"220\" y=\"-140\" width=\"20\" height=\"20\" fill=\"#eeeeee\" />\n",
       "<rect x=\"0\" y=\"-120\" width=\"20\" height=\"20\" fill=\"#000000\" />\n",
       "<rect x=\"20\" y=\"-120\" width=\"20\" height=\"20\" fill=\"#000000\" />\n",
       "<rect x=\"40\" y=\"-120\" width=\"20\" height=\"20\" fill=\"#eeeeee\" />\n",
       "<rect x=\"60\" y=\"-120\" width=\"20\" height=\"20\" fill=\"#eeeeee\" />\n",
       "<rect x=\"80\" y=\"-120\" width=\"20\" height=\"20\" fill=\"#000000\" />\n",
       "<rect x=\"100\" y=\"-120\" width=\"20\" height=\"20\" fill=\"#000000\" />\n",
       "<rect x=\"120\" y=\"-120\" width=\"20\" height=\"20\" fill=\"#000000\" />\n",
       "<rect x=\"140\" y=\"-120\" width=\"20\" height=\"20\" fill=\"#eeeeee\" />\n",
       "<rect x=\"160\" y=\"-120\" width=\"20\" height=\"20\" fill=\"#eeeeee\" />\n",
       "<rect x=\"180\" y=\"-120\" width=\"20\" height=\"20\" fill=\"#eeeeee\" />\n",
       "<rect x=\"200\" y=\"-120\" width=\"20\" height=\"20\" fill=\"#000000\" />\n",
       "<rect x=\"220\" y=\"-120\" width=\"20\" height=\"20\" fill=\"#000000\" />\n",
       "<rect x=\"0\" y=\"-100\" width=\"20\" height=\"20\" fill=\"#000000\" />\n",
       "<rect x=\"20\" y=\"-100\" width=\"20\" height=\"20\" fill=\"#eeeeee\" />\n",
       "<rect x=\"40\" y=\"-100\" width=\"20\" height=\"20\" fill=\"#000000\" />\n",
       "<rect x=\"60\" y=\"-100\" width=\"20\" height=\"20\" fill=\"#eeeeee\" />\n",
       "<rect x=\"80\" y=\"-100\" width=\"20\" height=\"20\" fill=\"#000000\" />\n",
       "<rect x=\"100\" y=\"-100\" width=\"20\" height=\"20\" fill=\"#000000\" />\n",
       "<rect x=\"120\" y=\"-100\" width=\"20\" height=\"20\" fill=\"#eeeeee\" />\n",
       "<rect x=\"140\" y=\"-100\" width=\"20\" height=\"20\" fill=\"#000000\" />\n",
       "<rect x=\"160\" y=\"-100\" width=\"20\" height=\"20\" fill=\"#000000\" />\n",
       "<rect x=\"180\" y=\"-100\" width=\"20\" height=\"20\" fill=\"#eeeeee\" />\n",
       "<rect x=\"200\" y=\"-100\" width=\"20\" height=\"20\" fill=\"#000000\" />\n",
       "<rect x=\"220\" y=\"-100\" width=\"20\" height=\"20\" fill=\"#eeeeee\" />\n",
       "<rect x=\"0\" y=\"-80\" width=\"20\" height=\"20\" fill=\"#000000\" />\n",
       "<rect x=\"20\" y=\"-80\" width=\"20\" height=\"20\" fill=\"#eeeeee\" />\n",
       "<rect x=\"40\" y=\"-80\" width=\"20\" height=\"20\" fill=\"#eeeeee\" />\n",
       "<rect x=\"60\" y=\"-80\" width=\"20\" height=\"20\" fill=\"#eeeeee\" />\n",
       "<rect x=\"80\" y=\"-80\" width=\"20\" height=\"20\" fill=\"#000000\" />\n",
       "<rect x=\"100\" y=\"-80\" width=\"20\" height=\"20\" fill=\"#000000\" />\n",
       "<rect x=\"120\" y=\"-80\" width=\"20\" height=\"20\" fill=\"#000000\" />\n",
       "<rect x=\"140\" y=\"-80\" width=\"20\" height=\"20\" fill=\"#000000\" />\n",
       "<rect x=\"160\" y=\"-80\" width=\"20\" height=\"20\" fill=\"#000000\" />\n",
       "<rect x=\"180\" y=\"-80\" width=\"20\" height=\"20\" fill=\"#000000\" />\n",
       "<rect x=\"200\" y=\"-80\" width=\"20\" height=\"20\" fill=\"#000000\" />\n",
       "<rect x=\"220\" y=\"-80\" width=\"20\" height=\"20\" fill=\"#eeeeee\" />\n",
       "<rect x=\"0\" y=\"-60\" width=\"20\" height=\"20\" fill=\"#000000\" />\n",
       "<rect x=\"20\" y=\"-60\" width=\"20\" height=\"20\" fill=\"#000000\" />\n",
       "<rect x=\"40\" y=\"-60\" width=\"20\" height=\"20\" fill=\"#000000\" />\n",
       "<rect x=\"60\" y=\"-60\" width=\"20\" height=\"20\" fill=\"#eeeeee\" />\n",
       "<rect x=\"80\" y=\"-60\" width=\"20\" height=\"20\" fill=\"#000000\" />\n",
       "<rect x=\"100\" y=\"-60\" width=\"20\" height=\"20\" fill=\"#eeeeee\" />\n",
       "<rect x=\"120\" y=\"-60\" width=\"20\" height=\"20\" fill=\"#000000\" />\n",
       "<rect x=\"140\" y=\"-60\" width=\"20\" height=\"20\" fill=\"#000000\" />\n",
       "<rect x=\"160\" y=\"-60\" width=\"20\" height=\"20\" fill=\"#eeeeee\" />\n",
       "<rect x=\"180\" y=\"-60\" width=\"20\" height=\"20\" fill=\"#eeeeee\" />\n",
       "<rect x=\"200\" y=\"-60\" width=\"20\" height=\"20\" fill=\"#000000\" />\n",
       "<rect x=\"220\" y=\"-60\" width=\"20\" height=\"20\" fill=\"#eeeeee\" />\n",
       "<rect x=\"0\" y=\"-40\" width=\"20\" height=\"20\" fill=\"#000000\" />\n",
       "<rect x=\"20\" y=\"-40\" width=\"20\" height=\"20\" fill=\"#eeeeee\" />\n",
       "<rect x=\"40\" y=\"-40\" width=\"20\" height=\"20\" fill=\"#000000\" />\n",
       "<rect x=\"60\" y=\"-40\" width=\"20\" height=\"20\" fill=\"#eeeeee\" />\n",
       "<rect x=\"80\" y=\"-40\" width=\"20\" height=\"20\" fill=\"#000000\" />\n",
       "<rect x=\"100\" y=\"-40\" width=\"20\" height=\"20\" fill=\"#000000\" />\n",
       "<rect x=\"120\" y=\"-40\" width=\"20\" height=\"20\" fill=\"#000000\" />\n",
       "<rect x=\"140\" y=\"-40\" width=\"20\" height=\"20\" fill=\"#000000\" />\n",
       "<rect x=\"160\" y=\"-40\" width=\"20\" height=\"20\" fill=\"#000000\" />\n",
       "<rect x=\"180\" y=\"-40\" width=\"20\" height=\"20\" fill=\"#eeeeee\" />\n",
       "<rect x=\"200\" y=\"-40\" width=\"20\" height=\"20\" fill=\"#eeeeee\" />\n",
       "<rect x=\"220\" y=\"-40\" width=\"20\" height=\"20\" fill=\"#000000\" />\n",
       "<rect x=\"0\" y=\"-20\" width=\"20\" height=\"20\" fill=\"#eeeeee\" />\n",
       "<rect x=\"20\" y=\"-20\" width=\"20\" height=\"20\" fill=\"#000000\" />\n",
       "<rect x=\"40\" y=\"-20\" width=\"20\" height=\"20\" fill=\"#eeeeee\" />\n",
       "<rect x=\"60\" y=\"-20\" width=\"20\" height=\"20\" fill=\"#eeeeee\" />\n",
       "<rect x=\"80\" y=\"-20\" width=\"20\" height=\"20\" fill=\"#000000\" />\n",
       "<rect x=\"100\" y=\"-20\" width=\"20\" height=\"20\" fill=\"#000000\" />\n",
       "<rect x=\"120\" y=\"-20\" width=\"20\" height=\"20\" fill=\"#000000\" />\n",
       "<rect x=\"140\" y=\"-20\" width=\"20\" height=\"20\" fill=\"#eeeeee\" />\n",
       "<rect x=\"160\" y=\"-20\" width=\"20\" height=\"20\" fill=\"#eeeeee\" />\n",
       "<rect x=\"180\" y=\"-20\" width=\"20\" height=\"20\" fill=\"#000000\" />\n",
       "<rect x=\"200\" y=\"-20\" width=\"20\" height=\"20\" fill=\"#eeeeee\" />\n",
       "<rect x=\"220\" y=\"-20\" width=\"20\" height=\"20\" fill=\"#eeeeee\" />\n",
       "</svg>"
      ],
      "text/plain": [
       "<drawSvg.drawing.Drawing at 0x7f74e3b02250>"
      ]
     },
     "execution_count": 19,
     "metadata": {},
     "output_type": "execute_result"
    }
   ],
   "source": [
    "quilt(BG, 20)"
   ]
  },
  {
   "cell_type": "markdown",
   "id": "discrete-earthquake",
   "metadata": {},
   "source": [
    "# Making it quantum"
   ]
  },
  {
   "cell_type": "markdown",
   "id": "likely-rates",
   "metadata": {},
   "source": [
    "`pqca` is a module that allows us to easily construct partitioned quantum cellular automata (PQCAs). It is built on top of `qiskit`, so it may be a little slow to load in."
   ]
  },
  {
   "cell_type": "code",
   "execution_count": 20,
   "id": "visible-momentum",
   "metadata": {},
   "outputs": [],
   "source": [
    "import pqca"
   ]
  },
  {
   "cell_type": "markdown",
   "id": "junior-antigua",
   "metadata": {},
   "source": [
    "We want our PQCA to have 12 qubits, just like our classical bit generator generated sequences of 12 (classical) bits. In this tutorial we are going to partition these 12 qubits into 4 _cells_, each containing 3 qubits."
   ]
  },
  {
   "cell_type": "markdown",
   "id": "according-botswana",
   "metadata": {},
   "source": [
    "![A grid of 12 bits split into 4 cells each of width 3](images/12_by_1_split_into_3s.svg)"
   ]
  },
  {
   "cell_type": "code",
   "execution_count": 21,
   "id": "bibliographic-pulse",
   "metadata": {},
   "outputs": [],
   "source": [
    "num_qubits = 12\n",
    "tessellated_line = pqca.tessellation.one_dimensional(num_qubits,3)"
   ]
  },
  {
   "cell_type": "code",
   "execution_count": 22,
   "id": "english-intervention",
   "metadata": {},
   "outputs": [
    {
     "name": "stdout",
     "output_type": "stream",
     "text": [
      "Tessellation(12 qubits as 4 cells, first cell: [0, 1, 2])\n"
     ]
    }
   ],
   "source": [
    "print(tessellated_line)"
   ]
  },
  {
   "cell_type": "markdown",
   "id": "outdoor-recall",
   "metadata": {},
   "source": [
    "With this partition in place we can specify an update circuit that will be applied to each cell of 3 qubits. Here's an example circuit."
   ]
  },
  {
   "cell_type": "code",
   "execution_count": 23,
   "id": "latest-result",
   "metadata": {},
   "outputs": [
    {
     "data": {
      "text/html": [
       "<pre style=\"word-wrap: normal;white-space: pre;background: #fff0;line-height: 1.1;font-family: &quot;Courier New&quot;,Courier,monospace\">     ┌───┐          \n",
       "q_0: ┤ H ├──■───────\n",
       "     └───┘┌─┴─┐┌───┐\n",
       "q_1: ─────┤ X ├┤ X ├\n",
       "     ┌───┐└───┘└─┬─┘\n",
       "q_2: ┤ Z ├───────■──\n",
       "     └───┘          </pre>"
      ],
      "text/plain": [
       "     ┌───┐          \n",
       "q_0: ┤ H ├──■───────\n",
       "     └───┘┌─┴─┐┌───┐\n",
       "q_1: ─────┤ X ├┤ X ├\n",
       "     ┌───┐└───┘└─┬─┘\n",
       "q_2: ┤ Z ├───────■──\n",
       "     └───┘          "
      ]
     },
     "execution_count": 23,
     "metadata": {},
     "output_type": "execute_result"
    }
   ],
   "source": [
    "import qiskit\n",
    "cell_circuit = qiskit.QuantumCircuit(3)\n",
    "cell_circuit.h(0)\n",
    "cell_circuit.cx(0,1)\n",
    "cell_circuit.z(2)\n",
    "cell_circuit.cx(2,1)\n",
    "cell_circuit.draw()"
   ]
  },
  {
   "cell_type": "markdown",
   "id": "binding-uniform",
   "metadata": {},
   "source": [
    "You don't need to use the circuit we've provided! Play around with this circuit, or see the other tutorials for how to make more complicated update circuits. An Update Frame combines the update circuit we just drew with the tessellation."
   ]
  },
  {
   "cell_type": "code",
   "execution_count": 24,
   "id": "allied-behalf",
   "metadata": {},
   "outputs": [],
   "source": [
    "update_frame_1 = pqca.UpdateFrame(tessellated_line, qiskit_circuit=cell_circuit)"
   ]
  },
  {
   "cell_type": "markdown",
   "id": "productive-valley",
   "metadata": {},
   "source": [
    "An automaton has a starting state and way of updating that state. For our automaton we will need to provide:\n",
    " - An initial state\n",
    " - A list of update frames\n",
    " - A circuit simulator\n",
    " "
   ]
  },
  {
   "cell_type": "markdown",
   "id": "otherwise-software",
   "metadata": {},
   "source": [
    "We will set our initial states as a 1 followed by eleven 0s. We will be using the Aer qasm simulator provided as part of qiskit. If you have access to a quantum computer, or want a different simulator, see the section on \"changing the backend\" in the `getting_started` tutorial."
   ]
  },
  {
   "cell_type": "code",
   "execution_count": 25,
   "id": "fresh-correlation",
   "metadata": {},
   "outputs": [],
   "source": [
    "initial_state = [0]*num_qubits\n",
    "initial_state[0] = 1"
   ]
  },
  {
   "cell_type": "markdown",
   "id": "statistical-terrorist",
   "metadata": {},
   "source": [
    "That's our initial state done, and we only have one update frame, so let's make the automaton."
   ]
  },
  {
   "cell_type": "code",
   "execution_count": 26,
   "id": "patient-correlation",
   "metadata": {},
   "outputs": [],
   "source": [
    "automaton = pqca.Automaton(initial_state, [update_frame_1], pqca.backend.qiskit())"
   ]
  },
  {
   "cell_type": "markdown",
   "id": "happy-serum",
   "metadata": {},
   "source": [
    "An automaton only knows its current state and how to update that state. Here's our starting state:"
   ]
  },
  {
   "cell_type": "code",
   "execution_count": 27,
   "id": "worthy-monroe",
   "metadata": {},
   "outputs": [
    {
     "data": {
      "text/plain": [
       "[1, 0, 0, 0, 0, 0, 0, 0, 0, 0, 0, 0]"
      ]
     },
     "execution_count": 27,
     "metadata": {},
     "output_type": "execute_result"
    }
   ],
   "source": [
    "automaton.state"
   ]
  },
  {
   "cell_type": "markdown",
   "id": "greek-renewal",
   "metadata": {},
   "source": [
    "But what will it actually do? Well, the full update circuit can be accessed via `automaton.update_circuit`."
   ]
  },
  {
   "cell_type": "code",
   "execution_count": 28,
   "id": "outdoor-layout",
   "metadata": {},
   "outputs": [
    {
     "data": {
      "text/html": [
       "<pre style=\"word-wrap: normal;white-space: pre;background: #fff0;line-height: 1.1;font-family: &quot;Courier New&quot;,Courier,monospace\">      ┌───┐          \n",
       " q_0: ┤ H ├──■───────\n",
       "      └───┘┌─┴─┐┌───┐\n",
       " q_1: ─────┤ X ├┤ X ├\n",
       "      ┌───┐└───┘└─┬─┘\n",
       " q_2: ┤ Z ├───────■──\n",
       "      ├───┤          \n",
       " q_3: ┤ H ├──■───────\n",
       "      └───┘┌─┴─┐┌───┐\n",
       " q_4: ─────┤ X ├┤ X ├\n",
       "      ┌───┐└───┘└─┬─┘\n",
       " q_5: ┤ Z ├───────■──\n",
       "      ├───┤          \n",
       " q_6: ┤ H ├──■───────\n",
       "      └───┘┌─┴─┐┌───┐\n",
       " q_7: ─────┤ X ├┤ X ├\n",
       "      ┌───┐└───┘└─┬─┘\n",
       " q_8: ┤ Z ├───────■──\n",
       "      ├───┤          \n",
       " q_9: ┤ H ├──■───────\n",
       "      └───┘┌─┴─┐┌───┐\n",
       "q_10: ─────┤ X ├┤ X ├\n",
       "      ┌───┐└───┘└─┬─┘\n",
       "q_11: ┤ Z ├───────■──\n",
       "      └───┘          </pre>"
      ],
      "text/plain": [
       "      ┌───┐          \n",
       " q_0: ┤ H ├──■───────\n",
       "      └───┘┌─┴─┐┌───┐\n",
       " q_1: ─────┤ X ├┤ X ├\n",
       "      ┌───┐└───┘└─┬─┘\n",
       " q_2: ┤ Z ├───────■──\n",
       "      ├───┤          \n",
       " q_3: ┤ H ├──■───────\n",
       "      └───┘┌─┴─┐┌───┐\n",
       " q_4: ─────┤ X ├┤ X ├\n",
       "      ┌───┐└───┘└─┬─┘\n",
       " q_5: ┤ Z ├───────■──\n",
       "      ├───┤          \n",
       " q_6: ┤ H ├──■───────\n",
       "      └───┘┌─┴─┐┌───┐\n",
       " q_7: ─────┤ X ├┤ X ├\n",
       "      ┌───┐└───┘└─┬─┘\n",
       " q_8: ┤ Z ├───────■──\n",
       "      ├───┤          \n",
       " q_9: ┤ H ├──■───────\n",
       "      └───┘┌─┴─┐┌───┐\n",
       "q_10: ─────┤ X ├┤ X ├\n",
       "      ┌───┐└───┘└─┬─┘\n",
       "q_11: ┤ Z ├───────■──\n",
       "      └───┘          "
      ]
     },
     "execution_count": 28,
     "metadata": {},
     "output_type": "execute_result"
    }
   ],
   "source": [
    "automaton.update_circuit.draw()"
   ]
  },
  {
   "cell_type": "markdown",
   "id": "varied-minneapolis",
   "metadata": {},
   "source": [
    "The automaton will create a circuit that:\n",
    " - Initialises the qubits (based on current state)\n",
    " - Applies the update_circuit\n",
    " - Measures the qubits\n",
    "\n",
    "The automaton will then update its state with the newly measured results."
   ]
  },
  {
   "cell_type": "markdown",
   "id": "twelve-valuation",
   "metadata": {},
   "source": [
    "## Actually running it"
   ]
  },
  {
   "cell_type": "code",
   "execution_count": 29,
   "id": "developing-williams",
   "metadata": {},
   "outputs": [
    {
     "data": {
      "text/plain": [
       "[0, 0, 0, 0, 0, 0, 1, 1, 0, 1, 1, 0]"
      ]
     },
     "execution_count": 29,
     "metadata": {},
     "output_type": "execute_result"
    }
   ],
   "source": [
    "next(automaton)"
   ]
  },
  {
   "cell_type": "markdown",
   "id": "greenhouse-functionality",
   "metadata": {},
   "source": [
    "Just as with the classical bit generator we can draw a quilt of squares, with each row representing a new state of the automaton."
   ]
  },
  {
   "cell_type": "code",
   "execution_count": 30,
   "id": "alleged-burton",
   "metadata": {},
   "outputs": [
    {
     "data": {
      "image/svg+xml": [
       "<?xml version=\"1.0\" encoding=\"UTF-8\"?>\n",
       "<svg xmlns=\"http://www.w3.org/2000/svg\" xmlns:xlink=\"http://www.w3.org/1999/xlink\"\n",
       "     width=\"240\" height=\"400\" viewBox=\"0 -400 240 400\">\n",
       "<defs>\n",
       "</defs>\n",
       "<rect x=\"0\" y=\"-400\" width=\"20\" height=\"20\" fill=\"#000000\" />\n",
       "<rect x=\"20\" y=\"-400\" width=\"20\" height=\"20\" fill=\"#000000\" />\n",
       "<rect x=\"40\" y=\"-400\" width=\"20\" height=\"20\" fill=\"#000000\" />\n",
       "<rect x=\"60\" y=\"-400\" width=\"20\" height=\"20\" fill=\"#eeeeee\" />\n",
       "<rect x=\"80\" y=\"-400\" width=\"20\" height=\"20\" fill=\"#eeeeee\" />\n",
       "<rect x=\"100\" y=\"-400\" width=\"20\" height=\"20\" fill=\"#000000\" />\n",
       "<rect x=\"120\" y=\"-400\" width=\"20\" height=\"20\" fill=\"#000000\" />\n",
       "<rect x=\"140\" y=\"-400\" width=\"20\" height=\"20\" fill=\"#eeeeee\" />\n",
       "<rect x=\"160\" y=\"-400\" width=\"20\" height=\"20\" fill=\"#000000\" />\n",
       "<rect x=\"180\" y=\"-400\" width=\"20\" height=\"20\" fill=\"#000000\" />\n",
       "<rect x=\"200\" y=\"-400\" width=\"20\" height=\"20\" fill=\"#eeeeee\" />\n",
       "<rect x=\"220\" y=\"-400\" width=\"20\" height=\"20\" fill=\"#000000\" />\n",
       "<rect x=\"0\" y=\"-380\" width=\"20\" height=\"20\" fill=\"#eeeeee\" />\n",
       "<rect x=\"20\" y=\"-380\" width=\"20\" height=\"20\" fill=\"#eeeeee\" />\n",
       "<rect x=\"40\" y=\"-380\" width=\"20\" height=\"20\" fill=\"#000000\" />\n",
       "<rect x=\"60\" y=\"-380\" width=\"20\" height=\"20\" fill=\"#eeeeee\" />\n",
       "<rect x=\"80\" y=\"-380\" width=\"20\" height=\"20\" fill=\"#000000\" />\n",
       "<rect x=\"100\" y=\"-380\" width=\"20\" height=\"20\" fill=\"#000000\" />\n",
       "<rect x=\"120\" y=\"-380\" width=\"20\" height=\"20\" fill=\"#000000\" />\n",
       "<rect x=\"140\" y=\"-380\" width=\"20\" height=\"20\" fill=\"#eeeeee\" />\n",
       "<rect x=\"160\" y=\"-380\" width=\"20\" height=\"20\" fill=\"#000000\" />\n",
       "<rect x=\"180\" y=\"-380\" width=\"20\" height=\"20\" fill=\"#000000\" />\n",
       "<rect x=\"200\" y=\"-380\" width=\"20\" height=\"20\" fill=\"#eeeeee\" />\n",
       "<rect x=\"220\" y=\"-380\" width=\"20\" height=\"20\" fill=\"#000000\" />\n",
       "<rect x=\"0\" y=\"-360\" width=\"20\" height=\"20\" fill=\"#eeeeee\" />\n",
       "<rect x=\"20\" y=\"-360\" width=\"20\" height=\"20\" fill=\"#000000\" />\n",
       "<rect x=\"40\" y=\"-360\" width=\"20\" height=\"20\" fill=\"#000000\" />\n",
       "<rect x=\"60\" y=\"-360\" width=\"20\" height=\"20\" fill=\"#000000\" />\n",
       "<rect x=\"80\" y=\"-360\" width=\"20\" height=\"20\" fill=\"#000000\" />\n",
       "<rect x=\"100\" y=\"-360\" width=\"20\" height=\"20\" fill=\"#000000\" />\n",
       "<rect x=\"120\" y=\"-360\" width=\"20\" height=\"20\" fill=\"#000000\" />\n",
       "<rect x=\"140\" y=\"-360\" width=\"20\" height=\"20\" fill=\"#eeeeee\" />\n",
       "<rect x=\"160\" y=\"-360\" width=\"20\" height=\"20\" fill=\"#000000\" />\n",
       "<rect x=\"180\" y=\"-360\" width=\"20\" height=\"20\" fill=\"#000000\" />\n",
       "<rect x=\"200\" y=\"-360\" width=\"20\" height=\"20\" fill=\"#eeeeee\" />\n",
       "<rect x=\"220\" y=\"-360\" width=\"20\" height=\"20\" fill=\"#000000\" />\n",
       "<rect x=\"0\" y=\"-340\" width=\"20\" height=\"20\" fill=\"#000000\" />\n",
       "<rect x=\"20\" y=\"-340\" width=\"20\" height=\"20\" fill=\"#000000\" />\n",
       "<rect x=\"40\" y=\"-340\" width=\"20\" height=\"20\" fill=\"#000000\" />\n",
       "<rect x=\"60\" y=\"-340\" width=\"20\" height=\"20\" fill=\"#000000\" />\n",
       "<rect x=\"80\" y=\"-340\" width=\"20\" height=\"20\" fill=\"#000000\" />\n",
       "<rect x=\"100\" y=\"-340\" width=\"20\" height=\"20\" fill=\"#000000\" />\n",
       "<rect x=\"120\" y=\"-340\" width=\"20\" height=\"20\" fill=\"#eeeeee\" />\n",
       "<rect x=\"140\" y=\"-340\" width=\"20\" height=\"20\" fill=\"#000000\" />\n",
       "<rect x=\"160\" y=\"-340\" width=\"20\" height=\"20\" fill=\"#000000\" />\n",
       "<rect x=\"180\" y=\"-340\" width=\"20\" height=\"20\" fill=\"#eeeeee\" />\n",
       "<rect x=\"200\" y=\"-340\" width=\"20\" height=\"20\" fill=\"#000000\" />\n",
       "<rect x=\"220\" y=\"-340\" width=\"20\" height=\"20\" fill=\"#000000\" />\n",
       "<rect x=\"0\" y=\"-320\" width=\"20\" height=\"20\" fill=\"#eeeeee\" />\n",
       "<rect x=\"20\" y=\"-320\" width=\"20\" height=\"20\" fill=\"#eeeeee\" />\n",
       "<rect x=\"40\" y=\"-320\" width=\"20\" height=\"20\" fill=\"#000000\" />\n",
       "<rect x=\"60\" y=\"-320\" width=\"20\" height=\"20\" fill=\"#000000\" />\n",
       "<rect x=\"80\" y=\"-320\" width=\"20\" height=\"20\" fill=\"#000000\" />\n",
       "<rect x=\"100\" y=\"-320\" width=\"20\" height=\"20\" fill=\"#000000\" />\n",
       "<rect x=\"120\" y=\"-320\" width=\"20\" height=\"20\" fill=\"#eeeeee\" />\n",
       "<rect x=\"140\" y=\"-320\" width=\"20\" height=\"20\" fill=\"#eeeeee\" />\n",
       "<rect x=\"160\" y=\"-320\" width=\"20\" height=\"20\" fill=\"#000000\" />\n",
       "<rect x=\"180\" y=\"-320\" width=\"20\" height=\"20\" fill=\"#000000\" />\n",
       "<rect x=\"200\" y=\"-320\" width=\"20\" height=\"20\" fill=\"#000000\" />\n",
       "<rect x=\"220\" y=\"-320\" width=\"20\" height=\"20\" fill=\"#000000\" />\n",
       "<rect x=\"0\" y=\"-300\" width=\"20\" height=\"20\" fill=\"#000000\" />\n",
       "<rect x=\"20\" y=\"-300\" width=\"20\" height=\"20\" fill=\"#eeeeee\" />\n",
       "<rect x=\"40\" y=\"-300\" width=\"20\" height=\"20\" fill=\"#000000\" />\n",
       "<rect x=\"60\" y=\"-300\" width=\"20\" height=\"20\" fill=\"#000000\" />\n",
       "<rect x=\"80\" y=\"-300\" width=\"20\" height=\"20\" fill=\"#000000\" />\n",
       "<rect x=\"100\" y=\"-300\" width=\"20\" height=\"20\" fill=\"#000000\" />\n",
       "<rect x=\"120\" y=\"-300\" width=\"20\" height=\"20\" fill=\"#eeeeee\" />\n",
       "<rect x=\"140\" y=\"-300\" width=\"20\" height=\"20\" fill=\"#000000\" />\n",
       "<rect x=\"160\" y=\"-300\" width=\"20\" height=\"20\" fill=\"#000000\" />\n",
       "<rect x=\"180\" y=\"-300\" width=\"20\" height=\"20\" fill=\"#000000\" />\n",
       "<rect x=\"200\" y=\"-300\" width=\"20\" height=\"20\" fill=\"#000000\" />\n",
       "<rect x=\"220\" y=\"-300\" width=\"20\" height=\"20\" fill=\"#000000\" />\n",
       "<rect x=\"0\" y=\"-280\" width=\"20\" height=\"20\" fill=\"#eeeeee\" />\n",
       "<rect x=\"20\" y=\"-280\" width=\"20\" height=\"20\" fill=\"#000000\" />\n",
       "<rect x=\"40\" y=\"-280\" width=\"20\" height=\"20\" fill=\"#000000\" />\n",
       "<rect x=\"60\" y=\"-280\" width=\"20\" height=\"20\" fill=\"#eeeeee\" />\n",
       "<rect x=\"80\" y=\"-280\" width=\"20\" height=\"20\" fill=\"#eeeeee\" />\n",
       "<rect x=\"100\" y=\"-280\" width=\"20\" height=\"20\" fill=\"#000000\" />\n",
       "<rect x=\"120\" y=\"-280\" width=\"20\" height=\"20\" fill=\"#eeeeee\" />\n",
       "<rect x=\"140\" y=\"-280\" width=\"20\" height=\"20\" fill=\"#eeeeee\" />\n",
       "<rect x=\"160\" y=\"-280\" width=\"20\" height=\"20\" fill=\"#000000\" />\n",
       "<rect x=\"180\" y=\"-280\" width=\"20\" height=\"20\" fill=\"#000000\" />\n",
       "<rect x=\"200\" y=\"-280\" width=\"20\" height=\"20\" fill=\"#000000\" />\n",
       "<rect x=\"220\" y=\"-280\" width=\"20\" height=\"20\" fill=\"#000000\" />\n",
       "<rect x=\"0\" y=\"-260\" width=\"20\" height=\"20\" fill=\"#eeeeee\" />\n",
       "<rect x=\"20\" y=\"-260\" width=\"20\" height=\"20\" fill=\"#eeeeee\" />\n",
       "<rect x=\"40\" y=\"-260\" width=\"20\" height=\"20\" fill=\"#000000\" />\n",
       "<rect x=\"60\" y=\"-260\" width=\"20\" height=\"20\" fill=\"#000000\" />\n",
       "<rect x=\"80\" y=\"-260\" width=\"20\" height=\"20\" fill=\"#eeeeee\" />\n",
       "<rect x=\"100\" y=\"-260\" width=\"20\" height=\"20\" fill=\"#000000\" />\n",
       "<rect x=\"120\" y=\"-260\" width=\"20\" height=\"20\" fill=\"#eeeeee\" />\n",
       "<rect x=\"140\" y=\"-260\" width=\"20\" height=\"20\" fill=\"#000000\" />\n",
       "<rect x=\"160\" y=\"-260\" width=\"20\" height=\"20\" fill=\"#000000\" />\n",
       "<rect x=\"180\" y=\"-260\" width=\"20\" height=\"20\" fill=\"#000000\" />\n",
       "<rect x=\"200\" y=\"-260\" width=\"20\" height=\"20\" fill=\"#000000\" />\n",
       "<rect x=\"220\" y=\"-260\" width=\"20\" height=\"20\" fill=\"#000000\" />\n",
       "<rect x=\"0\" y=\"-240\" width=\"20\" height=\"20\" fill=\"#000000\" />\n",
       "<rect x=\"20\" y=\"-240\" width=\"20\" height=\"20\" fill=\"#eeeeee\" />\n",
       "<rect x=\"40\" y=\"-240\" width=\"20\" height=\"20\" fill=\"#000000\" />\n",
       "<rect x=\"60\" y=\"-240\" width=\"20\" height=\"20\" fill=\"#eeeeee\" />\n",
       "<rect x=\"80\" y=\"-240\" width=\"20\" height=\"20\" fill=\"#000000\" />\n",
       "<rect x=\"100\" y=\"-240\" width=\"20\" height=\"20\" fill=\"#000000\" />\n",
       "<rect x=\"120\" y=\"-240\" width=\"20\" height=\"20\" fill=\"#000000\" />\n",
       "<rect x=\"140\" y=\"-240\" width=\"20\" height=\"20\" fill=\"#000000\" />\n",
       "<rect x=\"160\" y=\"-240\" width=\"20\" height=\"20\" fill=\"#000000\" />\n",
       "<rect x=\"180\" y=\"-240\" width=\"20\" height=\"20\" fill=\"#000000\" />\n",
       "<rect x=\"200\" y=\"-240\" width=\"20\" height=\"20\" fill=\"#000000\" />\n",
       "<rect x=\"220\" y=\"-240\" width=\"20\" height=\"20\" fill=\"#000000\" />\n",
       "<rect x=\"0\" y=\"-220\" width=\"20\" height=\"20\" fill=\"#eeeeee\" />\n",
       "<rect x=\"20\" y=\"-220\" width=\"20\" height=\"20\" fill=\"#000000\" />\n",
       "<rect x=\"40\" y=\"-220\" width=\"20\" height=\"20\" fill=\"#000000\" />\n",
       "<rect x=\"60\" y=\"-220\" width=\"20\" height=\"20\" fill=\"#000000\" />\n",
       "<rect x=\"80\" y=\"-220\" width=\"20\" height=\"20\" fill=\"#000000\" />\n",
       "<rect x=\"100\" y=\"-220\" width=\"20\" height=\"20\" fill=\"#000000\" />\n",
       "<rect x=\"120\" y=\"-220\" width=\"20\" height=\"20\" fill=\"#eeeeee\" />\n",
       "<rect x=\"140\" y=\"-220\" width=\"20\" height=\"20\" fill=\"#eeeeee\" />\n",
       "<rect x=\"160\" y=\"-220\" width=\"20\" height=\"20\" fill=\"#000000\" />\n",
       "<rect x=\"180\" y=\"-220\" width=\"20\" height=\"20\" fill=\"#000000\" />\n",
       "<rect x=\"200\" y=\"-220\" width=\"20\" height=\"20\" fill=\"#000000\" />\n",
       "<rect x=\"220\" y=\"-220\" width=\"20\" height=\"20\" fill=\"#000000\" />\n",
       "<rect x=\"0\" y=\"-200\" width=\"20\" height=\"20\" fill=\"#000000\" />\n",
       "<rect x=\"20\" y=\"-200\" width=\"20\" height=\"20\" fill=\"#000000\" />\n",
       "<rect x=\"40\" y=\"-200\" width=\"20\" height=\"20\" fill=\"#000000\" />\n",
       "<rect x=\"60\" y=\"-200\" width=\"20\" height=\"20\" fill=\"#eeeeee\" />\n",
       "<rect x=\"80\" y=\"-200\" width=\"20\" height=\"20\" fill=\"#eeeeee\" />\n",
       "<rect x=\"100\" y=\"-200\" width=\"20\" height=\"20\" fill=\"#000000\" />\n",
       "<rect x=\"120\" y=\"-200\" width=\"20\" height=\"20\" fill=\"#000000\" />\n",
       "<rect x=\"140\" y=\"-200\" width=\"20\" height=\"20\" fill=\"#eeeeee\" />\n",
       "<rect x=\"160\" y=\"-200\" width=\"20\" height=\"20\" fill=\"#000000\" />\n",
       "<rect x=\"180\" y=\"-200\" width=\"20\" height=\"20\" fill=\"#eeeeee\" />\n",
       "<rect x=\"200\" y=\"-200\" width=\"20\" height=\"20\" fill=\"#eeeeee\" />\n",
       "<rect x=\"220\" y=\"-200\" width=\"20\" height=\"20\" fill=\"#000000\" />\n",
       "<rect x=\"0\" y=\"-180\" width=\"20\" height=\"20\" fill=\"#000000\" />\n",
       "<rect x=\"20\" y=\"-180\" width=\"20\" height=\"20\" fill=\"#000000\" />\n",
       "<rect x=\"40\" y=\"-180\" width=\"20\" height=\"20\" fill=\"#000000\" />\n",
       "<rect x=\"60\" y=\"-180\" width=\"20\" height=\"20\" fill=\"#000000\" />\n",
       "<rect x=\"80\" y=\"-180\" width=\"20\" height=\"20\" fill=\"#eeeeee\" />\n",
       "<rect x=\"100\" y=\"-180\" width=\"20\" height=\"20\" fill=\"#000000\" />\n",
       "<rect x=\"120\" y=\"-180\" width=\"20\" height=\"20\" fill=\"#000000\" />\n",
       "<rect x=\"140\" y=\"-180\" width=\"20\" height=\"20\" fill=\"#eeeeee\" />\n",
       "<rect x=\"160\" y=\"-180\" width=\"20\" height=\"20\" fill=\"#000000\" />\n",
       "<rect x=\"180\" y=\"-180\" width=\"20\" height=\"20\" fill=\"#000000\" />\n",
       "<rect x=\"200\" y=\"-180\" width=\"20\" height=\"20\" fill=\"#eeeeee\" />\n",
       "<rect x=\"220\" y=\"-180\" width=\"20\" height=\"20\" fill=\"#000000\" />\n",
       "<rect x=\"0\" y=\"-160\" width=\"20\" height=\"20\" fill=\"#000000\" />\n",
       "<rect x=\"20\" y=\"-160\" width=\"20\" height=\"20\" fill=\"#000000\" />\n",
       "<rect x=\"40\" y=\"-160\" width=\"20\" height=\"20\" fill=\"#000000\" />\n",
       "<rect x=\"60\" y=\"-160\" width=\"20\" height=\"20\" fill=\"#eeeeee\" />\n",
       "<rect x=\"80\" y=\"-160\" width=\"20\" height=\"20\" fill=\"#000000\" />\n",
       "<rect x=\"100\" y=\"-160\" width=\"20\" height=\"20\" fill=\"#000000\" />\n",
       "<rect x=\"120\" y=\"-160\" width=\"20\" height=\"20\" fill=\"#000000\" />\n",
       "<rect x=\"140\" y=\"-160\" width=\"20\" height=\"20\" fill=\"#eeeeee\" />\n",
       "<rect x=\"160\" y=\"-160\" width=\"20\" height=\"20\" fill=\"#000000\" />\n",
       "<rect x=\"180\" y=\"-160\" width=\"20\" height=\"20\" fill=\"#eeeeee\" />\n",
       "<rect x=\"200\" y=\"-160\" width=\"20\" height=\"20\" fill=\"#000000\" />\n",
       "<rect x=\"220\" y=\"-160\" width=\"20\" height=\"20\" fill=\"#000000\" />\n",
       "<rect x=\"0\" y=\"-140\" width=\"20\" height=\"20\" fill=\"#000000\" />\n",
       "<rect x=\"20\" y=\"-140\" width=\"20\" height=\"20\" fill=\"#000000\" />\n",
       "<rect x=\"40\" y=\"-140\" width=\"20\" height=\"20\" fill=\"#000000\" />\n",
       "<rect x=\"60\" y=\"-140\" width=\"20\" height=\"20\" fill=\"#000000\" />\n",
       "<rect x=\"80\" y=\"-140\" width=\"20\" height=\"20\" fill=\"#000000\" />\n",
       "<rect x=\"100\" y=\"-140\" width=\"20\" height=\"20\" fill=\"#000000\" />\n",
       "<rect x=\"120\" y=\"-140\" width=\"20\" height=\"20\" fill=\"#000000\" />\n",
       "<rect x=\"140\" y=\"-140\" width=\"20\" height=\"20\" fill=\"#eeeeee\" />\n",
       "<rect x=\"160\" y=\"-140\" width=\"20\" height=\"20\" fill=\"#000000\" />\n",
       "<rect x=\"180\" y=\"-140\" width=\"20\" height=\"20\" fill=\"#000000\" />\n",
       "<rect x=\"200\" y=\"-140\" width=\"20\" height=\"20\" fill=\"#000000\" />\n",
       "<rect x=\"220\" y=\"-140\" width=\"20\" height=\"20\" fill=\"#000000\" />\n",
       "<rect x=\"0\" y=\"-120\" width=\"20\" height=\"20\" fill=\"#eeeeee\" />\n",
       "<rect x=\"20\" y=\"-120\" width=\"20\" height=\"20\" fill=\"#eeeeee\" />\n",
       "<rect x=\"40\" y=\"-120\" width=\"20\" height=\"20\" fill=\"#000000\" />\n",
       "<rect x=\"60\" y=\"-120\" width=\"20\" height=\"20\" fill=\"#000000\" />\n",
       "<rect x=\"80\" y=\"-120\" width=\"20\" height=\"20\" fill=\"#000000\" />\n",
       "<rect x=\"100\" y=\"-120\" width=\"20\" height=\"20\" fill=\"#000000\" />\n",
       "<rect x=\"120\" y=\"-120\" width=\"20\" height=\"20\" fill=\"#000000\" />\n",
       "<rect x=\"140\" y=\"-120\" width=\"20\" height=\"20\" fill=\"#eeeeee\" />\n",
       "<rect x=\"160\" y=\"-120\" width=\"20\" height=\"20\" fill=\"#000000\" />\n",
       "<rect x=\"180\" y=\"-120\" width=\"20\" height=\"20\" fill=\"#000000\" />\n",
       "<rect x=\"200\" y=\"-120\" width=\"20\" height=\"20\" fill=\"#000000\" />\n",
       "<rect x=\"220\" y=\"-120\" width=\"20\" height=\"20\" fill=\"#000000\" />\n",
       "<rect x=\"0\" y=\"-100\" width=\"20\" height=\"20\" fill=\"#000000\" />\n",
       "<rect x=\"20\" y=\"-100\" width=\"20\" height=\"20\" fill=\"#eeeeee\" />\n",
       "<rect x=\"40\" y=\"-100\" width=\"20\" height=\"20\" fill=\"#000000\" />\n",
       "<rect x=\"60\" y=\"-100\" width=\"20\" height=\"20\" fill=\"#eeeeee\" />\n",
       "<rect x=\"80\" y=\"-100\" width=\"20\" height=\"20\" fill=\"#eeeeee\" />\n",
       "<rect x=\"100\" y=\"-100\" width=\"20\" height=\"20\" fill=\"#000000\" />\n",
       "<rect x=\"120\" y=\"-100\" width=\"20\" height=\"20\" fill=\"#000000\" />\n",
       "<rect x=\"140\" y=\"-100\" width=\"20\" height=\"20\" fill=\"#eeeeee\" />\n",
       "<rect x=\"160\" y=\"-100\" width=\"20\" height=\"20\" fill=\"#000000\" />\n",
       "<rect x=\"180\" y=\"-100\" width=\"20\" height=\"20\" fill=\"#eeeeee\" />\n",
       "<rect x=\"200\" y=\"-100\" width=\"20\" height=\"20\" fill=\"#eeeeee\" />\n",
       "<rect x=\"220\" y=\"-100\" width=\"20\" height=\"20\" fill=\"#000000\" />\n",
       "<rect x=\"0\" y=\"-80\" width=\"20\" height=\"20\" fill=\"#000000\" />\n",
       "<rect x=\"20\" y=\"-80\" width=\"20\" height=\"20\" fill=\"#eeeeee\" />\n",
       "<rect x=\"40\" y=\"-80\" width=\"20\" height=\"20\" fill=\"#000000\" />\n",
       "<rect x=\"60\" y=\"-80\" width=\"20\" height=\"20\" fill=\"#000000\" />\n",
       "<rect x=\"80\" y=\"-80\" width=\"20\" height=\"20\" fill=\"#eeeeee\" />\n",
       "<rect x=\"100\" y=\"-80\" width=\"20\" height=\"20\" fill=\"#000000\" />\n",
       "<rect x=\"120\" y=\"-80\" width=\"20\" height=\"20\" fill=\"#000000\" />\n",
       "<rect x=\"140\" y=\"-80\" width=\"20\" height=\"20\" fill=\"#eeeeee\" />\n",
       "<rect x=\"160\" y=\"-80\" width=\"20\" height=\"20\" fill=\"#000000\" />\n",
       "<rect x=\"180\" y=\"-80\" width=\"20\" height=\"20\" fill=\"#eeeeee\" />\n",
       "<rect x=\"200\" y=\"-80\" width=\"20\" height=\"20\" fill=\"#000000\" />\n",
       "<rect x=\"220\" y=\"-80\" width=\"20\" height=\"20\" fill=\"#000000\" />\n",
       "<rect x=\"0\" y=\"-60\" width=\"20\" height=\"20\" fill=\"#000000\" />\n",
       "<rect x=\"20\" y=\"-60\" width=\"20\" height=\"20\" fill=\"#eeeeee\" />\n",
       "<rect x=\"40\" y=\"-60\" width=\"20\" height=\"20\" fill=\"#000000\" />\n",
       "<rect x=\"60\" y=\"-60\" width=\"20\" height=\"20\" fill=\"#000000\" />\n",
       "<rect x=\"80\" y=\"-60\" width=\"20\" height=\"20\" fill=\"#eeeeee\" />\n",
       "<rect x=\"100\" y=\"-60\" width=\"20\" height=\"20\" fill=\"#000000\" />\n",
       "<rect x=\"120\" y=\"-60\" width=\"20\" height=\"20\" fill=\"#eeeeee\" />\n",
       "<rect x=\"140\" y=\"-60\" width=\"20\" height=\"20\" fill=\"#000000\" />\n",
       "<rect x=\"160\" y=\"-60\" width=\"20\" height=\"20\" fill=\"#000000\" />\n",
       "<rect x=\"180\" y=\"-60\" width=\"20\" height=\"20\" fill=\"#eeeeee\" />\n",
       "<rect x=\"200\" y=\"-60\" width=\"20\" height=\"20\" fill=\"#eeeeee\" />\n",
       "<rect x=\"220\" y=\"-60\" width=\"20\" height=\"20\" fill=\"#000000\" />\n",
       "<rect x=\"0\" y=\"-40\" width=\"20\" height=\"20\" fill=\"#eeeeee\" />\n",
       "<rect x=\"20\" y=\"-40\" width=\"20\" height=\"20\" fill=\"#000000\" />\n",
       "<rect x=\"40\" y=\"-40\" width=\"20\" height=\"20\" fill=\"#000000\" />\n",
       "<rect x=\"60\" y=\"-40\" width=\"20\" height=\"20\" fill=\"#eeeeee\" />\n",
       "<rect x=\"80\" y=\"-40\" width=\"20\" height=\"20\" fill=\"#000000\" />\n",
       "<rect x=\"100\" y=\"-40\" width=\"20\" height=\"20\" fill=\"#000000\" />\n",
       "<rect x=\"120\" y=\"-40\" width=\"20\" height=\"20\" fill=\"#eeeeee\" />\n",
       "<rect x=\"140\" y=\"-40\" width=\"20\" height=\"20\" fill=\"#eeeeee\" />\n",
       "<rect x=\"160\" y=\"-40\" width=\"20\" height=\"20\" fill=\"#000000\" />\n",
       "<rect x=\"180\" y=\"-40\" width=\"20\" height=\"20\" fill=\"#eeeeee\" />\n",
       "<rect x=\"200\" y=\"-40\" width=\"20\" height=\"20\" fill=\"#000000\" />\n",
       "<rect x=\"220\" y=\"-40\" width=\"20\" height=\"20\" fill=\"#000000\" />\n",
       "<rect x=\"0\" y=\"-20\" width=\"20\" height=\"20\" fill=\"#eeeeee\" />\n",
       "<rect x=\"20\" y=\"-20\" width=\"20\" height=\"20\" fill=\"#eeeeee\" />\n",
       "<rect x=\"40\" y=\"-20\" width=\"20\" height=\"20\" fill=\"#000000\" />\n",
       "<rect x=\"60\" y=\"-20\" width=\"20\" height=\"20\" fill=\"#eeeeee\" />\n",
       "<rect x=\"80\" y=\"-20\" width=\"20\" height=\"20\" fill=\"#eeeeee\" />\n",
       "<rect x=\"100\" y=\"-20\" width=\"20\" height=\"20\" fill=\"#000000\" />\n",
       "<rect x=\"120\" y=\"-20\" width=\"20\" height=\"20\" fill=\"#000000\" />\n",
       "<rect x=\"140\" y=\"-20\" width=\"20\" height=\"20\" fill=\"#eeeeee\" />\n",
       "<rect x=\"160\" y=\"-20\" width=\"20\" height=\"20\" fill=\"#000000\" />\n",
       "<rect x=\"180\" y=\"-20\" width=\"20\" height=\"20\" fill=\"#eeeeee\" />\n",
       "<rect x=\"200\" y=\"-20\" width=\"20\" height=\"20\" fill=\"#eeeeee\" />\n",
       "<rect x=\"220\" y=\"-20\" width=\"20\" height=\"20\" fill=\"#000000\" />\n",
       "</svg>"
      ],
      "text/plain": [
       "<drawSvg.drawing.Drawing at 0x7f7540a2df40>"
      ]
     },
     "execution_count": 30,
     "metadata": {},
     "output_type": "execute_result"
    }
   ],
   "source": [
    "quilt(automaton, 20)"
   ]
  },
  {
   "cell_type": "markdown",
   "id": "approved-hopkins",
   "metadata": {},
   "source": [
    "Run that cell a few times, the result depends on the circuit you made earlier. If you used the example circuit we gave you'll spot that the third qubit in each cell is stuck in the `0` state. Try changing the circuit so that this is no longer the case."
   ]
  },
  {
   "cell_type": "markdown",
   "id": "decreased-adaptation",
   "metadata": {},
   "source": [
    "Let's use it to make music, just as we did before."
   ]
  },
  {
   "cell_type": "code",
   "execution_count": 31,
   "id": "broke-incident",
   "metadata": {},
   "outputs": [],
   "source": [
    "chord_sequence = [chord_from_bits(next(automaton)) for i in range(0,20)]"
   ]
  },
  {
   "cell_type": "code",
   "execution_count": 32,
   "id": "enormous-failure",
   "metadata": {},
   "outputs": [],
   "source": [
    "save_midi(stream_from_chords(chord_sequence), \"pqca.midi\")"
   ]
  },
  {
   "cell_type": "code",
   "execution_count": 33,
   "id": "binding-bloom",
   "metadata": {},
   "outputs": [
    {
     "data": {
      "image/png": "[encoded data removed]",
      "text/plain": [
       "<IPython.core.display.Image object>"
      ]
     },
     "execution_count": 33,
     "metadata": {},
     "output_type": "execute_result"
    }
   ],
   "source": [
    "show_score(stream_from_chords(chord_sequence))"
   ]
  },
  {
   "cell_type": "markdown",
   "id": "dated-shirt",
   "metadata": {},
   "source": [
    "If you would rather work with MusicXML than MIDI then you can use the following function to do so, provided you have [MuseScore](https://musescore.org) installed."
   ]
  },
  {
   "cell_type": "code",
   "execution_count": 34,
   "id": "animated-block",
   "metadata": {},
   "outputs": [],
   "source": [
    "def save_musicxml(stream, file=\"temp.xml\"):\n",
    "    stream.write(\"musicxml\", file)\n",
    "#save_musicxml(stream_from_chords(chord_sequence)) # requires MuseScore"
   ]
  },
  {
   "cell_type": "markdown",
   "id": "alpine-trick",
   "metadata": {},
   "source": [
    "Give the file `pqca.midi` a listen! That's music synthesised from a quantum cellular automaton. Our first output can be found as `first_pqca.midi`; we actually turned the `rest` functionality off for that one so we could hear every state in the automaton."
   ]
  },
  {
   "cell_type": "markdown",
   "id": "concrete-naples",
   "metadata": {},
   "source": [
    "That's it, thank you for reading this tutorial!"
   ]
  },
  {
   "cell_type": "markdown",
   "id": "bridal-archive",
   "metadata": {},
   "source": [
    "Detailed documentation can be found at [readthedocs.io](https://partitioned-quantum-cellular-automata.readthedocs.io/en/latest/) as well as in the docstrings of the python files themselves. The pqca module and these tutorials are available under the MIT licence, with source code available at [Hector Miller-Bakewell’s github](https://github.com/hmillerbakewell/partitioned-quantum-cellular-automata). This package was created as part of the [QuTune Project](https://iccmr-quantum.github.io/)."
   ]
  }
 ],
 "metadata": {
  "kernelspec": {
   "display_name": "QCAs-miranda",
   "language": "python",
   "name": "qcas-miranda"
  },
  "language_info": {
   "codemirror_mode": {
    "name": "ipython",
    "version": 3
   },
   "file_extension": ".py",
   "mimetype": "text/x-python",
   "name": "python",
   "nbconvert_exporter": "python",
   "pygments_lexer": "ipython3",
   "version": "3.8.10"
  }
 },
 "nbformat": 4,
 "nbformat_minor": 5
}
