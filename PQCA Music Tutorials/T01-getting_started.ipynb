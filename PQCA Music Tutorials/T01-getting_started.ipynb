{
 "cells": [
  {
   "cell_type": "markdown",
   "id": "innocent-command",
   "metadata": {},
   "source": [
    "# Getting started with Partitioned Quantum Cellular Automata"
   ]
  },
  {
   "cell_type": "markdown",
   "id": "cordless-incentive",
   "metadata": {},
   "source": [
    "`pqca` is a python package that allows for the easy construction and simulation of Partitioned Quantum Cellular Automota (PQCAs). In this tutorial we will show you how to construct a range of PQCAs. For an example where we construct a PQCA and use it to synthesise music, see `pqca_to_midi`. For a review of Quantum Cellular automata see the work of Terry Farrelly published in Quantum at [quantum-journal.org](https://doi.org/10.22331/q-2020-11-30-368)."
   ]
  },
  {
   "cell_type": "markdown",
   "id": "swedish-montana",
   "metadata": {},
   "source": [
    "We will be using the `qiskit` library for circuit specification and simulation, and the `pqca` library for automaton construction."
   ]
  },
  {
   "cell_type": "code",
   "execution_count": 1,
   "id": "republican-bobby",
   "metadata": {},
   "outputs": [],
   "source": [
    "import pqca"
   ]
  },
  {
   "cell_type": "markdown",
   "id": "strategic-corpus",
   "metadata": {},
   "source": [
    "## The state of an automaton"
   ]
  },
  {
   "cell_type": "markdown",
   "id": "threaded-cowboy",
   "metadata": {},
   "source": [
    "A cellular automaton has two properties:\n",
    " - Its current state\n",
    " - An update step that constructs the next state"
   ]
  },
  {
   "cell_type": "markdown",
   "id": "experienced-brook",
   "metadata": {},
   "source": [
    "We will be using qubit quantum cellular automatata, and so our state will be a grid of qubits.\n",
    "To start our examples; here is a grid of qubits 7 wide and 3 tall."
   ]
  },
  {
   "cell_type": "markdown",
   "id": "boring-essay",
   "metadata": {},
   "source": [
    "![A simple grid, 7 wide and 3 tall](./images/blank_7_by_3.svg)\n"
   ]
  },
  {
   "cell_type": "markdown",
   "id": "polar-tournament",
   "metadata": {},
   "source": [
    "## Specifying a partition\n",
    "\n",
    "PQCAs work by partitioning the underlying lattice of a QCA into small cells, and then the same update circuit is run on each cell. Here are two example partitions, one which partitions the grid into horizontal strips, and the other into vertical strips."
   ]
  },
  {
   "cell_type": "markdown",
   "id": "southwest-gamma",
   "metadata": {},
   "source": [
    "![The 7 by 3 grid partitioned horizontally](./images/horizontal_stripes_7_by_3.svg)"
   ]
  },
  {
   "cell_type": "markdown",
   "id": "adopted-identification",
   "metadata": {},
   "source": [
    "![The 7 by 3 grid partitioned vertically](./images/vertical_stripes_7_by_3.svg)"
   ]
  },
  {
   "cell_type": "markdown",
   "id": "adolescent-still",
   "metadata": {},
   "source": [
    "Multiple partitions, each with a different update circuit, are combined in sequence to create one large update. "
   ]
  },
  {
   "cell_type": "markdown",
   "id": "polar-carter",
   "metadata": {},
   "source": [
    "## A 1-D tesselation"
   ]
  },
  {
   "cell_type": "markdown",
   "id": "federal-asbestos",
   "metadata": {},
   "source": [
    "Here is a 1-dimensional grid of qubits 10 wide (and 1 tall)."
   ]
  },
  {
   "cell_type": "markdown",
   "id": "fifteen-drunk",
   "metadata": {},
   "source": [
    "![A simple grid, 10 wide and 1 tall](./images/blank_10_by_1.svg)\n"
   ]
  },
  {
   "cell_type": "markdown",
   "id": "hybrid-interaction",
   "metadata": {},
   "source": [
    "Let's tesselate this line with cells of width 2, as in the following diagram."
   ]
  },
  {
   "cell_type": "markdown",
   "id": "significant-baking",
   "metadata": {},
   "source": [
    "![A simple grid, 7 wide and 3 tall, partitioned so that each pair of cells (2n, 2n+1) is a different colour](./images/initial_10_by_1.svg)"
   ]
  },
  {
   "cell_type": "code",
   "execution_count": 2,
   "id": "expensive-brave",
   "metadata": {},
   "outputs": [
    {
     "name": "stdout",
     "output_type": "stream",
     "text": [
      "Tessellation(10 qubits as 5 cells, first cell: [0, 1])\n"
     ]
    }
   ],
   "source": [
    "tessellated_line = pqca.tessellation.one_dimensional(10,2)\n",
    "print(tessellated_line)"
   ]
  },
  {
   "cell_type": "markdown",
   "id": "mexican-entity",
   "metadata": {},
   "source": [
    "We can easily move this tesselation around by shifting the qubits in each cell:"
   ]
  },
  {
   "cell_type": "markdown",
   "id": "electoral-asbestos",
   "metadata": {},
   "source": [
    "![A simple grid, 7 wide and 3 tall, partitioned so that each pair of cells (2n+1, 2n+2) is a different colour](./images/shifted_10_by_1.svg)"
   ]
  },
  {
   "cell_type": "code",
   "execution_count": 3,
   "id": "potential-cradle",
   "metadata": {},
   "outputs": [
    {
     "name": "stdout",
     "output_type": "stream",
     "text": [
      "Tessellation(10 qubits as 5 cells, first cell: [1, 2])\n"
     ]
    }
   ],
   "source": [
    "print(tessellated_line.shifted_by(1))"
   ]
  },
  {
   "cell_type": "markdown",
   "id": "falling-detroit",
   "metadata": {},
   "source": [
    "You can see the cells in a tessellation by calling `tessellation.cells`."
   ]
  },
  {
   "cell_type": "code",
   "execution_count": 4,
   "id": "excellent-buying",
   "metadata": {},
   "outputs": [
    {
     "data": {
      "text/plain": [
       "[[0, 1], [2, 3], [4, 5], [6, 7], [8, 9]]"
      ]
     },
     "execution_count": 4,
     "metadata": {},
     "output_type": "execute_result"
    }
   ],
   "source": [
    "tessellated_line.cells"
   ]
  },
  {
   "cell_type": "code",
   "execution_count": 5,
   "id": "varied-bottle",
   "metadata": {},
   "outputs": [
    {
     "data": {
      "text/plain": [
       "[[1, 2], [3, 4], [5, 6], [7, 8], [9, 0]]"
      ]
     },
     "execution_count": 5,
     "metadata": {},
     "output_type": "execute_result"
    }
   ],
   "source": [
    "tessellated_line.shifted_by(1).cells"
   ]
  },
  {
   "cell_type": "markdown",
   "id": "incorporated-writing",
   "metadata": {},
   "source": [
    "## Specifying an update circuit\n",
    "\n",
    "An update circuit is specified on the first cell, and the PQCA will then tesselate the circuit onto all the other cells. Our first cell contains two qubits, and so our update circuit should use two qubits. Here is a circuit that applies a CNOT gate controlled by qubit 0 and targetting qubit 1."
   ]
  },
  {
   "cell_type": "code",
   "execution_count": 6,
   "id": "seasonal-audit",
   "metadata": {},
   "outputs": [
    {
     "data": {
      "text/html": [
       "<pre style=\"word-wrap: normal;white-space: pre;background: #fff0;line-height: 1.1;font-family: &quot;Courier New&quot;,Courier,monospace\">          \n",
       "q_0: ──■──\n",
       "     ┌─┴─┐\n",
       "q_1: ┤ X ├\n",
       "     └───┘</pre>"
      ],
      "text/plain": [
       "          \n",
       "q_0: ──■──\n",
       "     ┌─┴─┐\n",
       "q_1: ┤ X ├\n",
       "     └───┘"
      ]
     },
     "execution_count": 6,
     "metadata": {},
     "output_type": "execute_result"
    }
   ],
   "source": [
    "import qiskit\n",
    "cx_circuit = qiskit.QuantumCircuit(2)\n",
    "cx_circuit.cx(0,1)\n",
    "cx_circuit.draw()"
   ]
  },
  {
   "cell_type": "markdown",
   "id": "sitting-indiana",
   "metadata": {},
   "source": [
    "Note that measurements are not a part of the update circuit. The preparation of qubits is handled by the PQCA, and the measurement of qubits is handled by the backend (more on those in a moment)."
   ]
  },
  {
   "cell_type": "markdown",
   "id": "toxic-portland",
   "metadata": {},
   "source": [
    "## An update frame\n",
    "\n",
    "An update frame is combination of an update circuit and a tesselation of the lattice. Let's make two of these using the same circuit but on shifted tesselations:"
   ]
  },
  {
   "cell_type": "code",
   "execution_count": 7,
   "id": "unable-porter",
   "metadata": {},
   "outputs": [],
   "source": [
    "update_frame1 = pqca.UpdateFrame(tessellated_line, qiskit_circuit=cx_circuit)\n",
    "update_frame2 = pqca.UpdateFrame(tessellated_line.shifted_by(1), qiskit_circuit=cx_circuit)"
   ]
  },
  {
   "cell_type": "markdown",
   "id": "secret-czech",
   "metadata": {},
   "source": [
    "We'll draw this circuit in a moment."
   ]
  },
  {
   "cell_type": "markdown",
   "id": "tested-swimming",
   "metadata": {},
   "source": [
    "Note that our circuit is defined on qubits `0` and `1`, but the first cell in `tessellated_line.shifted_by(1)` contains qubits `1` and `2`; the PQCA will apply the circuit to the qubits in a cell _in order_, rather than by name. You can pass the UpdateFrame circuit data in `qasm` format instead of constructing a `qiskit.QuantumCircuit` if you prefer."
   ]
  },
  {
   "cell_type": "markdown",
   "id": "qualified-harrison",
   "metadata": {},
   "source": [
    "## A PQCA\n",
    "\n",
    "A Partitioned Quantum Cellular Automaton has:\n",
    " - its current state (a list of 0s and 1s)\n",
    " - an update circuit (expressed as a sequence of update frames)\n",
    " - a \"backend\" i.e. way of running or simulating the circuits\n",
    " \n",
    "For this example we will be using IBM's `Aer` simulator that runs a simulation of the update process locally. Our initial state will be 0s everywhere, except in the first position which will be a 1."
   ]
  },
  {
   "cell_type": "code",
   "execution_count": 8,
   "id": "unsigned-personality",
   "metadata": {},
   "outputs": [
    {
     "data": {
      "text/plain": [
       "[1, 0, 0, 0, 0, 0, 0, 0, 0, 0]"
      ]
     },
     "execution_count": 8,
     "metadata": {},
     "output_type": "execute_result"
    }
   ],
   "source": [
    "initial_state = [0]*10\n",
    "initial_state[0] = 1\n",
    "initial_state"
   ]
  },
  {
   "cell_type": "markdown",
   "id": "isolated-ready",
   "metadata": {},
   "source": [
    "Now let's make the automaton."
   ]
  },
  {
   "cell_type": "code",
   "execution_count": 9,
   "id": "concerned-sculpture",
   "metadata": {},
   "outputs": [
    {
     "data": {
      "text/plain": [
       "[1, 0, 0, 0, 0, 0, 0, 0, 0, 0]"
      ]
     },
     "execution_count": 9,
     "metadata": {},
     "output_type": "execute_result"
    }
   ],
   "source": [
    "automaton = pqca.Automaton(initial_state, [update_frame1, update_frame2], pqca.backend.qiskit())\n",
    "automaton.state"
   ]
  },
  {
   "cell_type": "markdown",
   "id": "aggregate-ratio",
   "metadata": {},
   "source": [
    "What will this actually do? It will run the following circuit:"
   ]
  },
  {
   "cell_type": "code",
   "execution_count": 10,
   "id": "meaningful-locking",
   "metadata": {},
   "outputs": [
    {
     "data": {
      "text/html": [
       "<pre style=\"word-wrap: normal;white-space: pre;background: #fff0;line-height: 1.1;font-family: &quot;Courier New&quot;,Courier,monospace\">               ┌───┐\n",
       "q_0: ──■───────┤ X ├\n",
       "     ┌─┴─┐     └─┬─┘\n",
       "q_1: ┤ X ├──■────┼──\n",
       "     └───┘┌─┴─┐  │  \n",
       "q_2: ──■──┤ X ├──┼──\n",
       "     ┌─┴─┐└───┘  │  \n",
       "q_3: ┤ X ├──■────┼──\n",
       "     └───┘┌─┴─┐  │  \n",
       "q_4: ──■──┤ X ├──┼──\n",
       "     ┌─┴─┐└───┘  │  \n",
       "q_5: ┤ X ├──■────┼──\n",
       "     └───┘┌─┴─┐  │  \n",
       "q_6: ──■──┤ X ├──┼──\n",
       "     ┌─┴─┐└───┘  │  \n",
       "q_7: ┤ X ├──■────┼──\n",
       "     └───┘┌─┴─┐  │  \n",
       "q_8: ──■──┤ X ├──┼──\n",
       "     ┌─┴─┐└───┘  │  \n",
       "q_9: ┤ X ├───────■──\n",
       "     └───┘          </pre>"
      ],
      "text/plain": [
       "               ┌───┐\n",
       "q_0: ──■───────┤ X ├\n",
       "     ┌─┴─┐     └─┬─┘\n",
       "q_1: ┤ X ├──■────┼──\n",
       "     └───┘┌─┴─┐  │  \n",
       "q_2: ──■──┤ X ├──┼──\n",
       "     ┌─┴─┐└───┘  │  \n",
       "q_3: ┤ X ├──■────┼──\n",
       "     └───┘┌─┴─┐  │  \n",
       "q_4: ──■──┤ X ├──┼──\n",
       "     ┌─┴─┐└───┘  │  \n",
       "q_5: ┤ X ├──■────┼──\n",
       "     └───┘┌─┴─┐  │  \n",
       "q_6: ──■──┤ X ├──┼──\n",
       "     ┌─┴─┐└───┘  │  \n",
       "q_7: ┤ X ├──■────┼──\n",
       "     └───┘┌─┴─┐  │  \n",
       "q_8: ──■──┤ X ├──┼──\n",
       "     ┌─┴─┐└───┘  │  \n",
       "q_9: ┤ X ├───────■──\n",
       "     └───┘          "
      ]
     },
     "execution_count": 10,
     "metadata": {},
     "output_type": "execute_result"
    }
   ],
   "source": [
    "automaton.update_circuit.draw()"
   ]
  },
  {
   "cell_type": "markdown",
   "id": "several-standing",
   "metadata": {},
   "source": [
    "This circuit is built from the small circuit we had above, applied to each cell in the two tesselations we gave."
   ]
  },
  {
   "cell_type": "markdown",
   "id": "indoor-repository",
   "metadata": {},
   "source": [
    "The automaton will apply this circuit to its current state, and then overwrite its state with the measured output."
   ]
  },
  {
   "cell_type": "markdown",
   "id": "thick-details",
   "metadata": {},
   "source": [
    "## Running the simulation"
   ]
  },
  {
   "cell_type": "markdown",
   "id": "divided-accordance",
   "metadata": {},
   "source": [
    "Now to run the simulation. The automaton what's know as an `iterator`, meaning that you can call `next(automaton)` to update the internal state, and return this new state."
   ]
  },
  {
   "cell_type": "code",
   "execution_count": 11,
   "id": "standard-entity",
   "metadata": {},
   "outputs": [
    {
     "data": {
      "text/plain": [
       "[1, 1, 1, 0, 0, 0, 0, 0, 0, 0]"
      ]
     },
     "execution_count": 11,
     "metadata": {},
     "output_type": "execute_result"
    }
   ],
   "source": [
    "next(automaton)"
   ]
  },
  {
   "cell_type": "code",
   "execution_count": 12,
   "id": "royal-channel",
   "metadata": {},
   "outputs": [
    {
     "data": {
      "text/plain": [
       "[[1, 0, 1, 1, 1, 0, 0, 0, 0, 0],\n",
       " [1, 1, 0, 0, 1, 1, 1, 0, 0, 0],\n",
       " [1, 0, 0, 0, 1, 0, 1, 1, 1, 0],\n",
       " [0, 1, 1, 0, 1, 1, 0, 0, 1, 1],\n",
       " [0, 1, 0, 1, 0, 0, 0, 0, 1, 0]]"
      ]
     },
     "execution_count": 12,
     "metadata": {},
     "output_type": "execute_result"
    }
   ],
   "source": [
    "[next(automaton) for x in range(5)]"
   ]
  },
  {
   "cell_type": "markdown",
   "id": "based-testament",
   "metadata": {},
   "source": [
    "What is the new state of the automaton? It's the same as the last line in the list above."
   ]
  },
  {
   "cell_type": "code",
   "execution_count": 13,
   "id": "printable-franklin",
   "metadata": {},
   "outputs": [
    {
     "data": {
      "text/plain": [
       "[0, 1, 0, 1, 0, 0, 0, 0, 1, 0]"
      ]
     },
     "execution_count": 13,
     "metadata": {},
     "output_type": "execute_result"
    }
   ],
   "source": [
    "automaton.state"
   ]
  },
  {
   "cell_type": "markdown",
   "id": "married-brooks",
   "metadata": {},
   "source": [
    "# Visualising the states"
   ]
  },
  {
   "cell_type": "markdown",
   "id": "constant-endorsement",
   "metadata": {},
   "source": [
    "Rather than a sequence of 1s and 0s we can instead represent the state of a cellular automaton using a grid of white (1) and black (0) squares.\n",
    "Here's a function that draws a line of 10 squares based on the a sequence of 10 bits.\n",
    "We are using the package `drawSvg` for this - `svg` is a web standard for constructing a drawing from constituent shapes."
   ]
  },
  {
   "cell_type": "code",
   "execution_count": 14,
   "id": "natural-desktop",
   "metadata": {},
   "outputs": [],
   "source": [
    "import drawSvg"
   ]
  },
  {
   "cell_type": "code",
   "execution_count": 15,
   "id": "defined-forum",
   "metadata": {},
   "outputs": [],
   "source": [
    "def ten_bits_to_squares(ten_bits):\n",
    "    square_size = 20 # in pixels\n",
    "    drawing = drawSvg.Drawing(square_size*10, square_size)\n",
    "    for index, bit in enumerate(ten_bits):\n",
    "        colour = '#eeeeee' if bit else '#000000'\n",
    "        rect = drawSvg.Rectangle(index*square_size,0,square_size,square_size, fill=colour)\n",
    "        drawing.append(rect)\n",
    "    return drawing"
   ]
  },
  {
   "cell_type": "markdown",
   "id": "nervous-venezuela",
   "metadata": {},
   "source": [
    "This function uses light squares for `1` (often called `on`) and dark squares of `0` (often called `off`)."
   ]
  },
  {
   "cell_type": "code",
   "execution_count": 16,
   "id": "wired-employee",
   "metadata": {},
   "outputs": [
    {
     "data": {
      "image/svg+xml": [
       "<?xml version=\"1.0\" encoding=\"UTF-8\"?>\n",
       "<svg xmlns=\"http://www.w3.org/2000/svg\" xmlns:xlink=\"http://www.w3.org/1999/xlink\"\n",
       "     width=\"200\" height=\"20\" viewBox=\"0 -20 200 20\">\n",
       "<defs>\n",
       "</defs>\n",
       "<rect x=\"0\" y=\"-20\" width=\"20\" height=\"20\" fill=\"#000000\" />\n",
       "<rect x=\"20\" y=\"-20\" width=\"20\" height=\"20\" fill=\"#eeeeee\" />\n",
       "<rect x=\"40\" y=\"-20\" width=\"20\" height=\"20\" fill=\"#000000\" />\n",
       "<rect x=\"60\" y=\"-20\" width=\"20\" height=\"20\" fill=\"#eeeeee\" />\n",
       "<rect x=\"80\" y=\"-20\" width=\"20\" height=\"20\" fill=\"#000000\" />\n",
       "<rect x=\"100\" y=\"-20\" width=\"20\" height=\"20\" fill=\"#000000\" />\n",
       "<rect x=\"120\" y=\"-20\" width=\"20\" height=\"20\" fill=\"#000000\" />\n",
       "<rect x=\"140\" y=\"-20\" width=\"20\" height=\"20\" fill=\"#000000\" />\n",
       "<rect x=\"160\" y=\"-20\" width=\"20\" height=\"20\" fill=\"#eeeeee\" />\n",
       "<rect x=\"180\" y=\"-20\" width=\"20\" height=\"20\" fill=\"#000000\" />\n",
       "</svg>"
      ],
      "text/plain": [
       "<drawSvg.drawing.Drawing at 0x7fe63d43cdf0>"
      ]
     },
     "execution_count": 16,
     "metadata": {},
     "output_type": "execute_result"
    }
   ],
   "source": [
    "ten_bits_to_squares(automaton.state)"
   ]
  },
  {
   "cell_type": "markdown",
   "id": "fantastic-antigua",
   "metadata": {},
   "source": [
    "That's just the current state, expressed as a row. Let's make this into a quilt of squares, where each row is the output of the next iteration of the automaton."
   ]
  },
  {
   "cell_type": "code",
   "execution_count": 17,
   "id": "scenic-catalyst",
   "metadata": {},
   "outputs": [],
   "source": [
    "def automaton_quilt(automaton, number_of_iterations):\n",
    "    square_size = 20 # in pixels\n",
    "    drawing = drawSvg.Drawing(square_size*10, square_size*number_of_iterations)\n",
    "    for iteration in range(number_of_iterations):\n",
    "        for index, bit in enumerate(automaton.state):\n",
    "            colour = '#eeeeee' if bit else '#000000'\n",
    "            rect = drawSvg.Rectangle(index*square_size,(number_of_iterations-iteration-1)*square_size,square_size,square_size, fill=colour)\n",
    "            drawing.append(rect)\n",
    "        next(automaton)\n",
    "    return drawing"
   ]
  },
  {
   "cell_type": "code",
   "execution_count": 18,
   "id": "noticed-population",
   "metadata": {},
   "outputs": [
    {
     "data": {
      "image/svg+xml": [
       "<?xml version=\"1.0\" encoding=\"UTF-8\"?>\n",
       "<svg xmlns=\"http://www.w3.org/2000/svg\" xmlns:xlink=\"http://www.w3.org/1999/xlink\"\n",
       "     width=\"200\" height=\"400\" viewBox=\"0 -400 200 400\">\n",
       "<defs>\n",
       "</defs>\n",
       "<rect x=\"0\" y=\"-400\" width=\"20\" height=\"20\" fill=\"#000000\" />\n",
       "<rect x=\"20\" y=\"-400\" width=\"20\" height=\"20\" fill=\"#eeeeee\" />\n",
       "<rect x=\"40\" y=\"-400\" width=\"20\" height=\"20\" fill=\"#000000\" />\n",
       "<rect x=\"60\" y=\"-400\" width=\"20\" height=\"20\" fill=\"#eeeeee\" />\n",
       "<rect x=\"80\" y=\"-400\" width=\"20\" height=\"20\" fill=\"#000000\" />\n",
       "<rect x=\"100\" y=\"-400\" width=\"20\" height=\"20\" fill=\"#000000\" />\n",
       "<rect x=\"120\" y=\"-400\" width=\"20\" height=\"20\" fill=\"#000000\" />\n",
       "<rect x=\"140\" y=\"-400\" width=\"20\" height=\"20\" fill=\"#000000\" />\n",
       "<rect x=\"160\" y=\"-400\" width=\"20\" height=\"20\" fill=\"#eeeeee\" />\n",
       "<rect x=\"180\" y=\"-400\" width=\"20\" height=\"20\" fill=\"#000000\" />\n",
       "<rect x=\"0\" y=\"-380\" width=\"20\" height=\"20\" fill=\"#eeeeee\" />\n",
       "<rect x=\"20\" y=\"-380\" width=\"20\" height=\"20\" fill=\"#eeeeee\" />\n",
       "<rect x=\"40\" y=\"-380\" width=\"20\" height=\"20\" fill=\"#eeeeee\" />\n",
       "<rect x=\"60\" y=\"-380\" width=\"20\" height=\"20\" fill=\"#eeeeee\" />\n",
       "<rect x=\"80\" y=\"-380\" width=\"20\" height=\"20\" fill=\"#eeeeee\" />\n",
       "<rect x=\"100\" y=\"-380\" width=\"20\" height=\"20\" fill=\"#000000\" />\n",
       "<rect x=\"120\" y=\"-380\" width=\"20\" height=\"20\" fill=\"#000000\" />\n",
       "<rect x=\"140\" y=\"-380\" width=\"20\" height=\"20\" fill=\"#000000\" />\n",
       "<rect x=\"160\" y=\"-380\" width=\"20\" height=\"20\" fill=\"#eeeeee\" />\n",
       "<rect x=\"180\" y=\"-380\" width=\"20\" height=\"20\" fill=\"#eeeeee\" />\n",
       "<rect x=\"0\" y=\"-360\" width=\"20\" height=\"20\" fill=\"#eeeeee\" />\n",
       "<rect x=\"20\" y=\"-360\" width=\"20\" height=\"20\" fill=\"#000000\" />\n",
       "<rect x=\"40\" y=\"-360\" width=\"20\" height=\"20\" fill=\"#eeeeee\" />\n",
       "<rect x=\"60\" y=\"-360\" width=\"20\" height=\"20\" fill=\"#000000\" />\n",
       "<rect x=\"80\" y=\"-360\" width=\"20\" height=\"20\" fill=\"#eeeeee\" />\n",
       "<rect x=\"100\" y=\"-360\" width=\"20\" height=\"20\" fill=\"#eeeeee\" />\n",
       "<rect x=\"120\" y=\"-360\" width=\"20\" height=\"20\" fill=\"#eeeeee\" />\n",
       "<rect x=\"140\" y=\"-360\" width=\"20\" height=\"20\" fill=\"#000000\" />\n",
       "<rect x=\"160\" y=\"-360\" width=\"20\" height=\"20\" fill=\"#eeeeee\" />\n",
       "<rect x=\"180\" y=\"-360\" width=\"20\" height=\"20\" fill=\"#000000\" />\n",
       "<rect x=\"0\" y=\"-340\" width=\"20\" height=\"20\" fill=\"#000000\" />\n",
       "<rect x=\"20\" y=\"-340\" width=\"20\" height=\"20\" fill=\"#eeeeee\" />\n",
       "<rect x=\"40\" y=\"-340\" width=\"20\" height=\"20\" fill=\"#000000\" />\n",
       "<rect x=\"60\" y=\"-340\" width=\"20\" height=\"20\" fill=\"#eeeeee\" />\n",
       "<rect x=\"80\" y=\"-340\" width=\"20\" height=\"20\" fill=\"#000000\" />\n",
       "<rect x=\"100\" y=\"-340\" width=\"20\" height=\"20\" fill=\"#000000\" />\n",
       "<rect x=\"120\" y=\"-340\" width=\"20\" height=\"20\" fill=\"#eeeeee\" />\n",
       "<rect x=\"140\" y=\"-340\" width=\"20\" height=\"20\" fill=\"#eeeeee\" />\n",
       "<rect x=\"160\" y=\"-340\" width=\"20\" height=\"20\" fill=\"#000000\" />\n",
       "<rect x=\"180\" y=\"-340\" width=\"20\" height=\"20\" fill=\"#eeeeee\" />\n",
       "<rect x=\"0\" y=\"-320\" width=\"20\" height=\"20\" fill=\"#eeeeee\" />\n",
       "<rect x=\"20\" y=\"-320\" width=\"20\" height=\"20\" fill=\"#eeeeee\" />\n",
       "<rect x=\"40\" y=\"-320\" width=\"20\" height=\"20\" fill=\"#eeeeee\" />\n",
       "<rect x=\"60\" y=\"-320\" width=\"20\" height=\"20\" fill=\"#eeeeee\" />\n",
       "<rect x=\"80\" y=\"-320\" width=\"20\" height=\"20\" fill=\"#eeeeee\" />\n",
       "<rect x=\"100\" y=\"-320\" width=\"20\" height=\"20\" fill=\"#000000\" />\n",
       "<rect x=\"120\" y=\"-320\" width=\"20\" height=\"20\" fill=\"#eeeeee\" />\n",
       "<rect x=\"140\" y=\"-320\" width=\"20\" height=\"20\" fill=\"#000000\" />\n",
       "<rect x=\"160\" y=\"-320\" width=\"20\" height=\"20\" fill=\"#000000\" />\n",
       "<rect x=\"180\" y=\"-320\" width=\"20\" height=\"20\" fill=\"#eeeeee\" />\n",
       "<rect x=\"0\" y=\"-300\" width=\"20\" height=\"20\" fill=\"#000000\" />\n",
       "<rect x=\"20\" y=\"-300\" width=\"20\" height=\"20\" fill=\"#000000\" />\n",
       "<rect x=\"40\" y=\"-300\" width=\"20\" height=\"20\" fill=\"#eeeeee\" />\n",
       "<rect x=\"60\" y=\"-300\" width=\"20\" height=\"20\" fill=\"#000000\" />\n",
       "<rect x=\"80\" y=\"-300\" width=\"20\" height=\"20\" fill=\"#eeeeee\" />\n",
       "<rect x=\"100\" y=\"-300\" width=\"20\" height=\"20\" fill=\"#eeeeee\" />\n",
       "<rect x=\"120\" y=\"-300\" width=\"20\" height=\"20\" fill=\"#000000\" />\n",
       "<rect x=\"140\" y=\"-300\" width=\"20\" height=\"20\" fill=\"#eeeeee\" />\n",
       "<rect x=\"160\" y=\"-300\" width=\"20\" height=\"20\" fill=\"#eeeeee\" />\n",
       "<rect x=\"180\" y=\"-300\" width=\"20\" height=\"20\" fill=\"#eeeeee\" />\n",
       "<rect x=\"0\" y=\"-280\" width=\"20\" height=\"20\" fill=\"#000000\" />\n",
       "<rect x=\"20\" y=\"-280\" width=\"20\" height=\"20\" fill=\"#000000\" />\n",
       "<rect x=\"40\" y=\"-280\" width=\"20\" height=\"20\" fill=\"#eeeeee\" />\n",
       "<rect x=\"60\" y=\"-280\" width=\"20\" height=\"20\" fill=\"#eeeeee\" />\n",
       "<rect x=\"80\" y=\"-280\" width=\"20\" height=\"20\" fill=\"#000000\" />\n",
       "<rect x=\"100\" y=\"-280\" width=\"20\" height=\"20\" fill=\"#000000\" />\n",
       "<rect x=\"120\" y=\"-280\" width=\"20\" height=\"20\" fill=\"#000000\" />\n",
       "<rect x=\"140\" y=\"-280\" width=\"20\" height=\"20\" fill=\"#eeeeee\" />\n",
       "<rect x=\"160\" y=\"-280\" width=\"20\" height=\"20\" fill=\"#000000\" />\n",
       "<rect x=\"180\" y=\"-280\" width=\"20\" height=\"20\" fill=\"#000000\" />\n",
       "<rect x=\"0\" y=\"-260\" width=\"20\" height=\"20\" fill=\"#000000\" />\n",
       "<rect x=\"20\" y=\"-260\" width=\"20\" height=\"20\" fill=\"#000000\" />\n",
       "<rect x=\"40\" y=\"-260\" width=\"20\" height=\"20\" fill=\"#eeeeee\" />\n",
       "<rect x=\"60\" y=\"-260\" width=\"20\" height=\"20\" fill=\"#000000\" />\n",
       "<rect x=\"80\" y=\"-260\" width=\"20\" height=\"20\" fill=\"#000000\" />\n",
       "<rect x=\"100\" y=\"-260\" width=\"20\" height=\"20\" fill=\"#000000\" />\n",
       "<rect x=\"120\" y=\"-260\" width=\"20\" height=\"20\" fill=\"#000000\" />\n",
       "<rect x=\"140\" y=\"-260\" width=\"20\" height=\"20\" fill=\"#eeeeee\" />\n",
       "<rect x=\"160\" y=\"-260\" width=\"20\" height=\"20\" fill=\"#eeeeee\" />\n",
       "<rect x=\"180\" y=\"-260\" width=\"20\" height=\"20\" fill=\"#000000\" />\n",
       "<rect x=\"0\" y=\"-240\" width=\"20\" height=\"20\" fill=\"#eeeeee\" />\n",
       "<rect x=\"20\" y=\"-240\" width=\"20\" height=\"20\" fill=\"#000000\" />\n",
       "<rect x=\"40\" y=\"-240\" width=\"20\" height=\"20\" fill=\"#eeeeee\" />\n",
       "<rect x=\"60\" y=\"-240\" width=\"20\" height=\"20\" fill=\"#eeeeee\" />\n",
       "<rect x=\"80\" y=\"-240\" width=\"20\" height=\"20\" fill=\"#eeeeee\" />\n",
       "<rect x=\"100\" y=\"-240\" width=\"20\" height=\"20\" fill=\"#000000\" />\n",
       "<rect x=\"120\" y=\"-240\" width=\"20\" height=\"20\" fill=\"#000000\" />\n",
       "<rect x=\"140\" y=\"-240\" width=\"20\" height=\"20\" fill=\"#eeeeee\" />\n",
       "<rect x=\"160\" y=\"-240\" width=\"20\" height=\"20\" fill=\"#000000\" />\n",
       "<rect x=\"180\" y=\"-240\" width=\"20\" height=\"20\" fill=\"#eeeeee\" />\n",
       "<rect x=\"0\" y=\"-220\" width=\"20\" height=\"20\" fill=\"#000000\" />\n",
       "<rect x=\"20\" y=\"-220\" width=\"20\" height=\"20\" fill=\"#eeeeee\" />\n",
       "<rect x=\"40\" y=\"-220\" width=\"20\" height=\"20\" fill=\"#000000\" />\n",
       "<rect x=\"60\" y=\"-220\" width=\"20\" height=\"20\" fill=\"#000000\" />\n",
       "<rect x=\"80\" y=\"-220\" width=\"20\" height=\"20\" fill=\"#eeeeee\" />\n",
       "<rect x=\"100\" y=\"-220\" width=\"20\" height=\"20\" fill=\"#eeeeee\" />\n",
       "<rect x=\"120\" y=\"-220\" width=\"20\" height=\"20\" fill=\"#eeeeee\" />\n",
       "<rect x=\"140\" y=\"-220\" width=\"20\" height=\"20\" fill=\"#eeeeee\" />\n",
       "<rect x=\"160\" y=\"-220\" width=\"20\" height=\"20\" fill=\"#eeeeee\" />\n",
       "<rect x=\"180\" y=\"-220\" width=\"20\" height=\"20\" fill=\"#eeeeee\" />\n",
       "<rect x=\"0\" y=\"-200\" width=\"20\" height=\"20\" fill=\"#000000\" />\n",
       "<rect x=\"20\" y=\"-200\" width=\"20\" height=\"20\" fill=\"#eeeeee\" />\n",
       "<rect x=\"40\" y=\"-200\" width=\"20\" height=\"20\" fill=\"#eeeeee\" />\n",
       "<rect x=\"60\" y=\"-200\" width=\"20\" height=\"20\" fill=\"#000000\" />\n",
       "<rect x=\"80\" y=\"-200\" width=\"20\" height=\"20\" fill=\"#eeeeee\" />\n",
       "<rect x=\"100\" y=\"-200\" width=\"20\" height=\"20\" fill=\"#000000\" />\n",
       "<rect x=\"120\" y=\"-200\" width=\"20\" height=\"20\" fill=\"#eeeeee\" />\n",
       "<rect x=\"140\" y=\"-200\" width=\"20\" height=\"20\" fill=\"#000000\" />\n",
       "<rect x=\"160\" y=\"-200\" width=\"20\" height=\"20\" fill=\"#eeeeee\" />\n",
       "<rect x=\"180\" y=\"-200\" width=\"20\" height=\"20\" fill=\"#000000\" />\n",
       "<rect x=\"0\" y=\"-180\" width=\"20\" height=\"20\" fill=\"#eeeeee\" />\n",
       "<rect x=\"20\" y=\"-180\" width=\"20\" height=\"20\" fill=\"#eeeeee\" />\n",
       "<rect x=\"40\" y=\"-180\" width=\"20\" height=\"20\" fill=\"#000000\" />\n",
       "<rect x=\"60\" y=\"-180\" width=\"20\" height=\"20\" fill=\"#eeeeee\" />\n",
       "<rect x=\"80\" y=\"-180\" width=\"20\" height=\"20\" fill=\"#000000\" />\n",
       "<rect x=\"100\" y=\"-180\" width=\"20\" height=\"20\" fill=\"#eeeeee\" />\n",
       "<rect x=\"120\" y=\"-180\" width=\"20\" height=\"20\" fill=\"#000000\" />\n",
       "<rect x=\"140\" y=\"-180\" width=\"20\" height=\"20\" fill=\"#eeeeee\" />\n",
       "<rect x=\"160\" y=\"-180\" width=\"20\" height=\"20\" fill=\"#000000\" />\n",
       "<rect x=\"180\" y=\"-180\" width=\"20\" height=\"20\" fill=\"#eeeeee\" />\n",
       "<rect x=\"0\" y=\"-160\" width=\"20\" height=\"20\" fill=\"#000000\" />\n",
       "<rect x=\"20\" y=\"-160\" width=\"20\" height=\"20\" fill=\"#000000\" />\n",
       "<rect x=\"40\" y=\"-160\" width=\"20\" height=\"20\" fill=\"#000000\" />\n",
       "<rect x=\"60\" y=\"-160\" width=\"20\" height=\"20\" fill=\"#eeeeee\" />\n",
       "<rect x=\"80\" y=\"-160\" width=\"20\" height=\"20\" fill=\"#eeeeee\" />\n",
       "<rect x=\"100\" y=\"-160\" width=\"20\" height=\"20\" fill=\"#eeeeee\" />\n",
       "<rect x=\"120\" y=\"-160\" width=\"20\" height=\"20\" fill=\"#eeeeee\" />\n",
       "<rect x=\"140\" y=\"-160\" width=\"20\" height=\"20\" fill=\"#eeeeee\" />\n",
       "<rect x=\"160\" y=\"-160\" width=\"20\" height=\"20\" fill=\"#eeeeee\" />\n",
       "<rect x=\"180\" y=\"-160\" width=\"20\" height=\"20\" fill=\"#eeeeee\" />\n",
       "<rect x=\"0\" y=\"-140\" width=\"20\" height=\"20\" fill=\"#000000\" />\n",
       "<rect x=\"20\" y=\"-140\" width=\"20\" height=\"20\" fill=\"#000000\" />\n",
       "<rect x=\"40\" y=\"-140\" width=\"20\" height=\"20\" fill=\"#000000\" />\n",
       "<rect x=\"60\" y=\"-140\" width=\"20\" height=\"20\" fill=\"#eeeeee\" />\n",
       "<rect x=\"80\" y=\"-140\" width=\"20\" height=\"20\" fill=\"#000000\" />\n",
       "<rect x=\"100\" y=\"-140\" width=\"20\" height=\"20\" fill=\"#000000\" />\n",
       "<rect x=\"120\" y=\"-140\" width=\"20\" height=\"20\" fill=\"#eeeeee\" />\n",
       "<rect x=\"140\" y=\"-140\" width=\"20\" height=\"20\" fill=\"#000000\" />\n",
       "<rect x=\"160\" y=\"-140\" width=\"20\" height=\"20\" fill=\"#eeeeee\" />\n",
       "<rect x=\"180\" y=\"-140\" width=\"20\" height=\"20\" fill=\"#000000\" />\n",
       "<rect x=\"0\" y=\"-120\" width=\"20\" height=\"20\" fill=\"#eeeeee\" />\n",
       "<rect x=\"20\" y=\"-120\" width=\"20\" height=\"20\" fill=\"#000000\" />\n",
       "<rect x=\"40\" y=\"-120\" width=\"20\" height=\"20\" fill=\"#000000\" />\n",
       "<rect x=\"60\" y=\"-120\" width=\"20\" height=\"20\" fill=\"#eeeeee\" />\n",
       "<rect x=\"80\" y=\"-120\" width=\"20\" height=\"20\" fill=\"#eeeeee\" />\n",
       "<rect x=\"100\" y=\"-120\" width=\"20\" height=\"20\" fill=\"#000000\" />\n",
       "<rect x=\"120\" y=\"-120\" width=\"20\" height=\"20\" fill=\"#eeeeee\" />\n",
       "<rect x=\"140\" y=\"-120\" width=\"20\" height=\"20\" fill=\"#eeeeee\" />\n",
       "<rect x=\"160\" y=\"-120\" width=\"20\" height=\"20\" fill=\"#000000\" />\n",
       "<rect x=\"180\" y=\"-120\" width=\"20\" height=\"20\" fill=\"#eeeeee\" />\n",
       "<rect x=\"0\" y=\"-100\" width=\"20\" height=\"20\" fill=\"#000000\" />\n",
       "<rect x=\"20\" y=\"-100\" width=\"20\" height=\"20\" fill=\"#eeeeee\" />\n",
       "<rect x=\"40\" y=\"-100\" width=\"20\" height=\"20\" fill=\"#eeeeee\" />\n",
       "<rect x=\"60\" y=\"-100\" width=\"20\" height=\"20\" fill=\"#eeeeee\" />\n",
       "<rect x=\"80\" y=\"-100\" width=\"20\" height=\"20\" fill=\"#000000\" />\n",
       "<rect x=\"100\" y=\"-100\" width=\"20\" height=\"20\" fill=\"#eeeeee\" />\n",
       "<rect x=\"120\" y=\"-100\" width=\"20\" height=\"20\" fill=\"#000000\" />\n",
       "<rect x=\"140\" y=\"-100\" width=\"20\" height=\"20\" fill=\"#000000\" />\n",
       "<rect x=\"160\" y=\"-100\" width=\"20\" height=\"20\" fill=\"#000000\" />\n",
       "<rect x=\"180\" y=\"-100\" width=\"20\" height=\"20\" fill=\"#eeeeee\" />\n",
       "<rect x=\"0\" y=\"-80\" width=\"20\" height=\"20\" fill=\"#eeeeee\" />\n",
       "<rect x=\"20\" y=\"-80\" width=\"20\" height=\"20\" fill=\"#eeeeee\" />\n",
       "<rect x=\"40\" y=\"-80\" width=\"20\" height=\"20\" fill=\"#000000\" />\n",
       "<rect x=\"60\" y=\"-80\" width=\"20\" height=\"20\" fill=\"#000000\" />\n",
       "<rect x=\"80\" y=\"-80\" width=\"20\" height=\"20\" fill=\"#000000\" />\n",
       "<rect x=\"100\" y=\"-80\" width=\"20\" height=\"20\" fill=\"#eeeeee\" />\n",
       "<rect x=\"120\" y=\"-80\" width=\"20\" height=\"20\" fill=\"#eeeeee\" />\n",
       "<rect x=\"140\" y=\"-80\" width=\"20\" height=\"20\" fill=\"#000000\" />\n",
       "<rect x=\"160\" y=\"-80\" width=\"20\" height=\"20\" fill=\"#000000\" />\n",
       "<rect x=\"180\" y=\"-80\" width=\"20\" height=\"20\" fill=\"#eeeeee\" />\n",
       "<rect x=\"0\" y=\"-60\" width=\"20\" height=\"20\" fill=\"#000000\" />\n",
       "<rect x=\"20\" y=\"-60\" width=\"20\" height=\"20\" fill=\"#000000\" />\n",
       "<rect x=\"40\" y=\"-60\" width=\"20\" height=\"20\" fill=\"#000000\" />\n",
       "<rect x=\"60\" y=\"-60\" width=\"20\" height=\"20\" fill=\"#000000\" />\n",
       "<rect x=\"80\" y=\"-60\" width=\"20\" height=\"20\" fill=\"#000000\" />\n",
       "<rect x=\"100\" y=\"-60\" width=\"20\" height=\"20\" fill=\"#eeeeee\" />\n",
       "<rect x=\"120\" y=\"-60\" width=\"20\" height=\"20\" fill=\"#000000\" />\n",
       "<rect x=\"140\" y=\"-60\" width=\"20\" height=\"20\" fill=\"#eeeeee\" />\n",
       "<rect x=\"160\" y=\"-60\" width=\"20\" height=\"20\" fill=\"#eeeeee\" />\n",
       "<rect x=\"180\" y=\"-60\" width=\"20\" height=\"20\" fill=\"#eeeeee\" />\n",
       "<rect x=\"0\" y=\"-40\" width=\"20\" height=\"20\" fill=\"#000000\" />\n",
       "<rect x=\"20\" y=\"-40\" width=\"20\" height=\"20\" fill=\"#000000\" />\n",
       "<rect x=\"40\" y=\"-40\" width=\"20\" height=\"20\" fill=\"#000000\" />\n",
       "<rect x=\"60\" y=\"-40\" width=\"20\" height=\"20\" fill=\"#000000\" />\n",
       "<rect x=\"80\" y=\"-40\" width=\"20\" height=\"20\" fill=\"#000000\" />\n",
       "<rect x=\"100\" y=\"-40\" width=\"20\" height=\"20\" fill=\"#eeeeee\" />\n",
       "<rect x=\"120\" y=\"-40\" width=\"20\" height=\"20\" fill=\"#eeeeee\" />\n",
       "<rect x=\"140\" y=\"-40\" width=\"20\" height=\"20\" fill=\"#eeeeee\" />\n",
       "<rect x=\"160\" y=\"-40\" width=\"20\" height=\"20\" fill=\"#000000\" />\n",
       "<rect x=\"180\" y=\"-40\" width=\"20\" height=\"20\" fill=\"#000000\" />\n",
       "<rect x=\"0\" y=\"-20\" width=\"20\" height=\"20\" fill=\"#000000\" />\n",
       "<rect x=\"20\" y=\"-20\" width=\"20\" height=\"20\" fill=\"#000000\" />\n",
       "<rect x=\"40\" y=\"-20\" width=\"20\" height=\"20\" fill=\"#000000\" />\n",
       "<rect x=\"60\" y=\"-20\" width=\"20\" height=\"20\" fill=\"#000000\" />\n",
       "<rect x=\"80\" y=\"-20\" width=\"20\" height=\"20\" fill=\"#000000\" />\n",
       "<rect x=\"100\" y=\"-20\" width=\"20\" height=\"20\" fill=\"#eeeeee\" />\n",
       "<rect x=\"120\" y=\"-20\" width=\"20\" height=\"20\" fill=\"#000000\" />\n",
       "<rect x=\"140\" y=\"-20\" width=\"20\" height=\"20\" fill=\"#000000\" />\n",
       "<rect x=\"160\" y=\"-20\" width=\"20\" height=\"20\" fill=\"#000000\" />\n",
       "<rect x=\"180\" y=\"-20\" width=\"20\" height=\"20\" fill=\"#000000\" />\n",
       "</svg>"
      ],
      "text/plain": [
       "<drawSvg.drawing.Drawing at 0x7fe63d3cfac0>"
      ]
     },
     "execution_count": 18,
     "metadata": {},
     "output_type": "execute_result"
    }
   ],
   "source": [
    "automaton_quilt(automaton, 20)"
   ]
  },
  {
   "cell_type": "markdown",
   "id": "moral-consistency",
   "metadata": {},
   "source": [
    "That's it! You've created a one-dimensional quantum cellular automaton, specified an update circuit, and visualised the output of successive runs. The rest of this document goes into how to control aspects of the automaton."
   ]
  },
  {
   "cell_type": "markdown",
   "id": "wooden-graduate",
   "metadata": {},
   "source": [
    "# Greater control"
   ]
  },
  {
   "cell_type": "markdown",
   "id": "simplified-african",
   "metadata": {},
   "source": [
    "`pqca` comes with options that allow fine tuning of both the tessellation and the backend used by the automaton."
   ]
  },
  {
   "cell_type": "markdown",
   "id": "recreational-mailing",
   "metadata": {},
   "source": [
    "## Changing the tessellation"
   ]
  },
  {
   "cell_type": "markdown",
   "id": "decreased-bennett",
   "metadata": {},
   "source": [
    "`pqca` supports partitions of a cuboid lattice of any given dimensions into cuboid cells of any given size (provided those cells fill the larger space when tessellated)."
   ]
  },
  {
   "cell_type": "code",
   "execution_count": 19,
   "id": "retired-fantasy",
   "metadata": {},
   "outputs": [
    {
     "data": {
      "text/plain": [
       "<pqca.tessellation.Tessellation at 0x7fe63d3a40a0>"
      ]
     },
     "execution_count": 19,
     "metadata": {},
     "output_type": "execute_result"
    }
   ],
   "source": [
    "pqca.tessellation.n_dimensional([4,6,5],[2,3,5])"
   ]
  },
  {
   "cell_type": "markdown",
   "id": "inappropriate-crystal",
   "metadata": {},
   "source": [
    "That's a tessellation of a lattice of shape $4 \\times 6 \\times 5$ into cells of shape $2 \\times 3 \\times 5$. The shape of the cell must divide the lattice. For cells of dimension higher than 1 the qubits are considered as being in lexicographic order when it comes to applying the update circuit."
   ]
  },
  {
   "cell_type": "code",
   "execution_count": 20,
   "id": "reliable-boards",
   "metadata": {},
   "outputs": [
    {
     "data": {
      "text/plain": [
       "[[0, 1, 2, 3], [4, 5, 6, 7]]"
      ]
     },
     "execution_count": 20,
     "metadata": {},
     "output_type": "execute_result"
    }
   ],
   "source": [
    "pqca.tessellation.n_dimensional([2,2,2],[1,2,2]).cells"
   ]
  },
  {
   "cell_type": "markdown",
   "id": "catholic-hardwood",
   "metadata": {},
   "source": [
    "Under the hood a tessellation is just a collection of cells where each qubit is used exactly once, and all the cells are the same size."
   ]
  },
  {
   "cell_type": "code",
   "execution_count": 21,
   "id": "yellow-remedy",
   "metadata": {},
   "outputs": [
    {
     "data": {
      "text/plain": [
       "[[1, 3], [0, 2]]"
      ]
     },
     "execution_count": 21,
     "metadata": {},
     "output_type": "execute_result"
    }
   ],
   "source": [
    "pqca.tessellation.Tessellation([[1,3],[0,2]]).cells"
   ]
  },
  {
   "cell_type": "markdown",
   "id": "boolean-projector",
   "metadata": {},
   "source": [
    "You can still use the `shifted_by` method to shift a tessellation around by a number of qubits, but there is a more general `update_names` method you can use if you want greater control."
   ]
  },
  {
   "cell_type": "code",
   "execution_count": 22,
   "id": "bizarre-strike",
   "metadata": {},
   "outputs": [
    {
     "data": {
      "text/plain": [
       "[[3, 1], [2, 0]]"
      ]
     },
     "execution_count": 22,
     "metadata": {},
     "output_type": "execute_result"
    }
   ],
   "source": [
    "pqca.tessellation.Tessellation([[1,3],[0,2]]).update_names(lambda x: x+2).cells"
   ]
  },
  {
   "cell_type": "markdown",
   "id": "filled-healthcare",
   "metadata": {},
   "source": [
    "## Changing the backend"
   ]
  },
  {
   "cell_type": "markdown",
   "id": "celtic-shareware",
   "metadata": {},
   "source": [
    "The default is to use qiskit's Aer simulator ([here is the API](https://qiskit.org/documentation/apidoc/aer.html?highlight=aer#)). Really a backend is a function that takes a combined preparation and update circuit, runs it, and returns a new state. `pqca.backend.qiskit` allows you to pass an optional qiskit backend, defaulting to `qasm_simulator`."
   ]
  },
  {
   "cell_type": "code",
   "execution_count": 23,
   "id": "immediate-confusion",
   "metadata": {},
   "outputs": [
    {
     "data": {
      "image/svg+xml": [
       "<?xml version=\"1.0\" encoding=\"UTF-8\"?>\n",
       "<svg xmlns=\"http://www.w3.org/2000/svg\" xmlns:xlink=\"http://www.w3.org/1999/xlink\"\n",
       "     width=\"200\" height=\"400\" viewBox=\"0 -400 200 400\">\n",
       "<defs>\n",
       "</defs>\n",
       "<rect x=\"0\" y=\"-400\" width=\"20\" height=\"20\" fill=\"#eeeeee\" />\n",
       "<rect x=\"20\" y=\"-400\" width=\"20\" height=\"20\" fill=\"#000000\" />\n",
       "<rect x=\"40\" y=\"-400\" width=\"20\" height=\"20\" fill=\"#000000\" />\n",
       "<rect x=\"60\" y=\"-400\" width=\"20\" height=\"20\" fill=\"#000000\" />\n",
       "<rect x=\"80\" y=\"-400\" width=\"20\" height=\"20\" fill=\"#000000\" />\n",
       "<rect x=\"100\" y=\"-400\" width=\"20\" height=\"20\" fill=\"#000000\" />\n",
       "<rect x=\"120\" y=\"-400\" width=\"20\" height=\"20\" fill=\"#000000\" />\n",
       "<rect x=\"140\" y=\"-400\" width=\"20\" height=\"20\" fill=\"#000000\" />\n",
       "<rect x=\"160\" y=\"-400\" width=\"20\" height=\"20\" fill=\"#000000\" />\n",
       "<rect x=\"180\" y=\"-400\" width=\"20\" height=\"20\" fill=\"#000000\" />\n",
       "<rect x=\"0\" y=\"-380\" width=\"20\" height=\"20\" fill=\"#eeeeee\" />\n",
       "<rect x=\"20\" y=\"-380\" width=\"20\" height=\"20\" fill=\"#eeeeee\" />\n",
       "<rect x=\"40\" y=\"-380\" width=\"20\" height=\"20\" fill=\"#eeeeee\" />\n",
       "<rect x=\"60\" y=\"-380\" width=\"20\" height=\"20\" fill=\"#000000\" />\n",
       "<rect x=\"80\" y=\"-380\" width=\"20\" height=\"20\" fill=\"#000000\" />\n",
       "<rect x=\"100\" y=\"-380\" width=\"20\" height=\"20\" fill=\"#000000\" />\n",
       "<rect x=\"120\" y=\"-380\" width=\"20\" height=\"20\" fill=\"#000000\" />\n",
       "<rect x=\"140\" y=\"-380\" width=\"20\" height=\"20\" fill=\"#000000\" />\n",
       "<rect x=\"160\" y=\"-380\" width=\"20\" height=\"20\" fill=\"#000000\" />\n",
       "<rect x=\"180\" y=\"-380\" width=\"20\" height=\"20\" fill=\"#000000\" />\n",
       "<rect x=\"0\" y=\"-360\" width=\"20\" height=\"20\" fill=\"#eeeeee\" />\n",
       "<rect x=\"20\" y=\"-360\" width=\"20\" height=\"20\" fill=\"#000000\" />\n",
       "<rect x=\"40\" y=\"-360\" width=\"20\" height=\"20\" fill=\"#eeeeee\" />\n",
       "<rect x=\"60\" y=\"-360\" width=\"20\" height=\"20\" fill=\"#eeeeee\" />\n",
       "<rect x=\"80\" y=\"-360\" width=\"20\" height=\"20\" fill=\"#eeeeee\" />\n",
       "<rect x=\"100\" y=\"-360\" width=\"20\" height=\"20\" fill=\"#000000\" />\n",
       "<rect x=\"120\" y=\"-360\" width=\"20\" height=\"20\" fill=\"#000000\" />\n",
       "<rect x=\"140\" y=\"-360\" width=\"20\" height=\"20\" fill=\"#000000\" />\n",
       "<rect x=\"160\" y=\"-360\" width=\"20\" height=\"20\" fill=\"#000000\" />\n",
       "<rect x=\"180\" y=\"-360\" width=\"20\" height=\"20\" fill=\"#000000\" />\n",
       "<rect x=\"0\" y=\"-340\" width=\"20\" height=\"20\" fill=\"#eeeeee\" />\n",
       "<rect x=\"20\" y=\"-340\" width=\"20\" height=\"20\" fill=\"#eeeeee\" />\n",
       "<rect x=\"40\" y=\"-340\" width=\"20\" height=\"20\" fill=\"#000000\" />\n",
       "<rect x=\"60\" y=\"-340\" width=\"20\" height=\"20\" fill=\"#000000\" />\n",
       "<rect x=\"80\" y=\"-340\" width=\"20\" height=\"20\" fill=\"#eeeeee\" />\n",
       "<rect x=\"100\" y=\"-340\" width=\"20\" height=\"20\" fill=\"#eeeeee\" />\n",
       "<rect x=\"120\" y=\"-340\" width=\"20\" height=\"20\" fill=\"#eeeeee\" />\n",
       "<rect x=\"140\" y=\"-340\" width=\"20\" height=\"20\" fill=\"#000000\" />\n",
       "<rect x=\"160\" y=\"-340\" width=\"20\" height=\"20\" fill=\"#000000\" />\n",
       "<rect x=\"180\" y=\"-340\" width=\"20\" height=\"20\" fill=\"#000000\" />\n",
       "<rect x=\"0\" y=\"-320\" width=\"20\" height=\"20\" fill=\"#eeeeee\" />\n",
       "<rect x=\"20\" y=\"-320\" width=\"20\" height=\"20\" fill=\"#000000\" />\n",
       "<rect x=\"40\" y=\"-320\" width=\"20\" height=\"20\" fill=\"#000000\" />\n",
       "<rect x=\"60\" y=\"-320\" width=\"20\" height=\"20\" fill=\"#000000\" />\n",
       "<rect x=\"80\" y=\"-320\" width=\"20\" height=\"20\" fill=\"#eeeeee\" />\n",
       "<rect x=\"100\" y=\"-320\" width=\"20\" height=\"20\" fill=\"#000000\" />\n",
       "<rect x=\"120\" y=\"-320\" width=\"20\" height=\"20\" fill=\"#eeeeee\" />\n",
       "<rect x=\"140\" y=\"-320\" width=\"20\" height=\"20\" fill=\"#eeeeee\" />\n",
       "<rect x=\"160\" y=\"-320\" width=\"20\" height=\"20\" fill=\"#eeeeee\" />\n",
       "<rect x=\"180\" y=\"-320\" width=\"20\" height=\"20\" fill=\"#000000\" />\n",
       "<rect x=\"0\" y=\"-300\" width=\"20\" height=\"20\" fill=\"#000000\" />\n",
       "<rect x=\"20\" y=\"-300\" width=\"20\" height=\"20\" fill=\"#eeeeee\" />\n",
       "<rect x=\"40\" y=\"-300\" width=\"20\" height=\"20\" fill=\"#eeeeee\" />\n",
       "<rect x=\"60\" y=\"-300\" width=\"20\" height=\"20\" fill=\"#000000\" />\n",
       "<rect x=\"80\" y=\"-300\" width=\"20\" height=\"20\" fill=\"#eeeeee\" />\n",
       "<rect x=\"100\" y=\"-300\" width=\"20\" height=\"20\" fill=\"#eeeeee\" />\n",
       "<rect x=\"120\" y=\"-300\" width=\"20\" height=\"20\" fill=\"#000000\" />\n",
       "<rect x=\"140\" y=\"-300\" width=\"20\" height=\"20\" fill=\"#000000\" />\n",
       "<rect x=\"160\" y=\"-300\" width=\"20\" height=\"20\" fill=\"#eeeeee\" />\n",
       "<rect x=\"180\" y=\"-300\" width=\"20\" height=\"20\" fill=\"#eeeeee\" />\n",
       "<rect x=\"0\" y=\"-280\" width=\"20\" height=\"20\" fill=\"#000000\" />\n",
       "<rect x=\"20\" y=\"-280\" width=\"20\" height=\"20\" fill=\"#eeeeee\" />\n",
       "<rect x=\"40\" y=\"-280\" width=\"20\" height=\"20\" fill=\"#000000\" />\n",
       "<rect x=\"60\" y=\"-280\" width=\"20\" height=\"20\" fill=\"#eeeeee\" />\n",
       "<rect x=\"80\" y=\"-280\" width=\"20\" height=\"20\" fill=\"#000000\" />\n",
       "<rect x=\"100\" y=\"-280\" width=\"20\" height=\"20\" fill=\"#000000\" />\n",
       "<rect x=\"120\" y=\"-280\" width=\"20\" height=\"20\" fill=\"#000000\" />\n",
       "<rect x=\"140\" y=\"-280\" width=\"20\" height=\"20\" fill=\"#000000\" />\n",
       "<rect x=\"160\" y=\"-280\" width=\"20\" height=\"20\" fill=\"#eeeeee\" />\n",
       "<rect x=\"180\" y=\"-280\" width=\"20\" height=\"20\" fill=\"#000000\" />\n",
       "<rect x=\"0\" y=\"-260\" width=\"20\" height=\"20\" fill=\"#eeeeee\" />\n",
       "<rect x=\"20\" y=\"-260\" width=\"20\" height=\"20\" fill=\"#eeeeee\" />\n",
       "<rect x=\"40\" y=\"-260\" width=\"20\" height=\"20\" fill=\"#eeeeee\" />\n",
       "<rect x=\"60\" y=\"-260\" width=\"20\" height=\"20\" fill=\"#eeeeee\" />\n",
       "<rect x=\"80\" y=\"-260\" width=\"20\" height=\"20\" fill=\"#eeeeee\" />\n",
       "<rect x=\"100\" y=\"-260\" width=\"20\" height=\"20\" fill=\"#000000\" />\n",
       "<rect x=\"120\" y=\"-260\" width=\"20\" height=\"20\" fill=\"#000000\" />\n",
       "<rect x=\"140\" y=\"-260\" width=\"20\" height=\"20\" fill=\"#000000\" />\n",
       "<rect x=\"160\" y=\"-260\" width=\"20\" height=\"20\" fill=\"#eeeeee\" />\n",
       "<rect x=\"180\" y=\"-260\" width=\"20\" height=\"20\" fill=\"#eeeeee\" />\n",
       "<rect x=\"0\" y=\"-240\" width=\"20\" height=\"20\" fill=\"#eeeeee\" />\n",
       "<rect x=\"20\" y=\"-240\" width=\"20\" height=\"20\" fill=\"#000000\" />\n",
       "<rect x=\"40\" y=\"-240\" width=\"20\" height=\"20\" fill=\"#eeeeee\" />\n",
       "<rect x=\"60\" y=\"-240\" width=\"20\" height=\"20\" fill=\"#000000\" />\n",
       "<rect x=\"80\" y=\"-240\" width=\"20\" height=\"20\" fill=\"#eeeeee\" />\n",
       "<rect x=\"100\" y=\"-240\" width=\"20\" height=\"20\" fill=\"#eeeeee\" />\n",
       "<rect x=\"120\" y=\"-240\" width=\"20\" height=\"20\" fill=\"#eeeeee\" />\n",
       "<rect x=\"140\" y=\"-240\" width=\"20\" height=\"20\" fill=\"#000000\" />\n",
       "<rect x=\"160\" y=\"-240\" width=\"20\" height=\"20\" fill=\"#eeeeee\" />\n",
       "<rect x=\"180\" y=\"-240\" width=\"20\" height=\"20\" fill=\"#000000\" />\n",
       "<rect x=\"0\" y=\"-220\" width=\"20\" height=\"20\" fill=\"#000000\" />\n",
       "<rect x=\"20\" y=\"-220\" width=\"20\" height=\"20\" fill=\"#eeeeee\" />\n",
       "<rect x=\"40\" y=\"-220\" width=\"20\" height=\"20\" fill=\"#000000\" />\n",
       "<rect x=\"60\" y=\"-220\" width=\"20\" height=\"20\" fill=\"#eeeeee\" />\n",
       "<rect x=\"80\" y=\"-220\" width=\"20\" height=\"20\" fill=\"#000000\" />\n",
       "<rect x=\"100\" y=\"-220\" width=\"20\" height=\"20\" fill=\"#000000\" />\n",
       "<rect x=\"120\" y=\"-220\" width=\"20\" height=\"20\" fill=\"#eeeeee\" />\n",
       "<rect x=\"140\" y=\"-220\" width=\"20\" height=\"20\" fill=\"#eeeeee\" />\n",
       "<rect x=\"160\" y=\"-220\" width=\"20\" height=\"20\" fill=\"#000000\" />\n",
       "<rect x=\"180\" y=\"-220\" width=\"20\" height=\"20\" fill=\"#eeeeee\" />\n",
       "<rect x=\"0\" y=\"-200\" width=\"20\" height=\"20\" fill=\"#eeeeee\" />\n",
       "<rect x=\"20\" y=\"-200\" width=\"20\" height=\"20\" fill=\"#eeeeee\" />\n",
       "<rect x=\"40\" y=\"-200\" width=\"20\" height=\"20\" fill=\"#eeeeee\" />\n",
       "<rect x=\"60\" y=\"-200\" width=\"20\" height=\"20\" fill=\"#eeeeee\" />\n",
       "<rect x=\"80\" y=\"-200\" width=\"20\" height=\"20\" fill=\"#eeeeee\" />\n",
       "<rect x=\"100\" y=\"-200\" width=\"20\" height=\"20\" fill=\"#000000\" />\n",
       "<rect x=\"120\" y=\"-200\" width=\"20\" height=\"20\" fill=\"#eeeeee\" />\n",
       "<rect x=\"140\" y=\"-200\" width=\"20\" height=\"20\" fill=\"#000000\" />\n",
       "<rect x=\"160\" y=\"-200\" width=\"20\" height=\"20\" fill=\"#000000\" />\n",
       "<rect x=\"180\" y=\"-200\" width=\"20\" height=\"20\" fill=\"#eeeeee\" />\n",
       "<rect x=\"0\" y=\"-180\" width=\"20\" height=\"20\" fill=\"#000000\" />\n",
       "<rect x=\"20\" y=\"-180\" width=\"20\" height=\"20\" fill=\"#000000\" />\n",
       "<rect x=\"40\" y=\"-180\" width=\"20\" height=\"20\" fill=\"#eeeeee\" />\n",
       "<rect x=\"60\" y=\"-180\" width=\"20\" height=\"20\" fill=\"#000000\" />\n",
       "<rect x=\"80\" y=\"-180\" width=\"20\" height=\"20\" fill=\"#eeeeee\" />\n",
       "<rect x=\"100\" y=\"-180\" width=\"20\" height=\"20\" fill=\"#eeeeee\" />\n",
       "<rect x=\"120\" y=\"-180\" width=\"20\" height=\"20\" fill=\"#000000\" />\n",
       "<rect x=\"140\" y=\"-180\" width=\"20\" height=\"20\" fill=\"#eeeeee\" />\n",
       "<rect x=\"160\" y=\"-180\" width=\"20\" height=\"20\" fill=\"#eeeeee\" />\n",
       "<rect x=\"180\" y=\"-180\" width=\"20\" height=\"20\" fill=\"#eeeeee\" />\n",
       "<rect x=\"0\" y=\"-160\" width=\"20\" height=\"20\" fill=\"#000000\" />\n",
       "<rect x=\"20\" y=\"-160\" width=\"20\" height=\"20\" fill=\"#000000\" />\n",
       "<rect x=\"40\" y=\"-160\" width=\"20\" height=\"20\" fill=\"#eeeeee\" />\n",
       "<rect x=\"60\" y=\"-160\" width=\"20\" height=\"20\" fill=\"#eeeeee\" />\n",
       "<rect x=\"80\" y=\"-160\" width=\"20\" height=\"20\" fill=\"#000000\" />\n",
       "<rect x=\"100\" y=\"-160\" width=\"20\" height=\"20\" fill=\"#000000\" />\n",
       "<rect x=\"120\" y=\"-160\" width=\"20\" height=\"20\" fill=\"#000000\" />\n",
       "<rect x=\"140\" y=\"-160\" width=\"20\" height=\"20\" fill=\"#eeeeee\" />\n",
       "<rect x=\"160\" y=\"-160\" width=\"20\" height=\"20\" fill=\"#000000\" />\n",
       "<rect x=\"180\" y=\"-160\" width=\"20\" height=\"20\" fill=\"#000000\" />\n",
       "<rect x=\"0\" y=\"-140\" width=\"20\" height=\"20\" fill=\"#000000\" />\n",
       "<rect x=\"20\" y=\"-140\" width=\"20\" height=\"20\" fill=\"#000000\" />\n",
       "<rect x=\"40\" y=\"-140\" width=\"20\" height=\"20\" fill=\"#eeeeee\" />\n",
       "<rect x=\"60\" y=\"-140\" width=\"20\" height=\"20\" fill=\"#000000\" />\n",
       "<rect x=\"80\" y=\"-140\" width=\"20\" height=\"20\" fill=\"#000000\" />\n",
       "<rect x=\"100\" y=\"-140\" width=\"20\" height=\"20\" fill=\"#000000\" />\n",
       "<rect x=\"120\" y=\"-140\" width=\"20\" height=\"20\" fill=\"#000000\" />\n",
       "<rect x=\"140\" y=\"-140\" width=\"20\" height=\"20\" fill=\"#eeeeee\" />\n",
       "<rect x=\"160\" y=\"-140\" width=\"20\" height=\"20\" fill=\"#eeeeee\" />\n",
       "<rect x=\"180\" y=\"-140\" width=\"20\" height=\"20\" fill=\"#000000\" />\n",
       "<rect x=\"0\" y=\"-120\" width=\"20\" height=\"20\" fill=\"#eeeeee\" />\n",
       "<rect x=\"20\" y=\"-120\" width=\"20\" height=\"20\" fill=\"#000000\" />\n",
       "<rect x=\"40\" y=\"-120\" width=\"20\" height=\"20\" fill=\"#eeeeee\" />\n",
       "<rect x=\"60\" y=\"-120\" width=\"20\" height=\"20\" fill=\"#eeeeee\" />\n",
       "<rect x=\"80\" y=\"-120\" width=\"20\" height=\"20\" fill=\"#eeeeee\" />\n",
       "<rect x=\"100\" y=\"-120\" width=\"20\" height=\"20\" fill=\"#000000\" />\n",
       "<rect x=\"120\" y=\"-120\" width=\"20\" height=\"20\" fill=\"#000000\" />\n",
       "<rect x=\"140\" y=\"-120\" width=\"20\" height=\"20\" fill=\"#eeeeee\" />\n",
       "<rect x=\"160\" y=\"-120\" width=\"20\" height=\"20\" fill=\"#000000\" />\n",
       "<rect x=\"180\" y=\"-120\" width=\"20\" height=\"20\" fill=\"#eeeeee\" />\n",
       "<rect x=\"0\" y=\"-100\" width=\"20\" height=\"20\" fill=\"#000000\" />\n",
       "<rect x=\"20\" y=\"-100\" width=\"20\" height=\"20\" fill=\"#eeeeee\" />\n",
       "<rect x=\"40\" y=\"-100\" width=\"20\" height=\"20\" fill=\"#000000\" />\n",
       "<rect x=\"60\" y=\"-100\" width=\"20\" height=\"20\" fill=\"#000000\" />\n",
       "<rect x=\"80\" y=\"-100\" width=\"20\" height=\"20\" fill=\"#eeeeee\" />\n",
       "<rect x=\"100\" y=\"-100\" width=\"20\" height=\"20\" fill=\"#eeeeee\" />\n",
       "<rect x=\"120\" y=\"-100\" width=\"20\" height=\"20\" fill=\"#eeeeee\" />\n",
       "<rect x=\"140\" y=\"-100\" width=\"20\" height=\"20\" fill=\"#eeeeee\" />\n",
       "<rect x=\"160\" y=\"-100\" width=\"20\" height=\"20\" fill=\"#eeeeee\" />\n",
       "<rect x=\"180\" y=\"-100\" width=\"20\" height=\"20\" fill=\"#eeeeee\" />\n",
       "<rect x=\"0\" y=\"-80\" width=\"20\" height=\"20\" fill=\"#000000\" />\n",
       "<rect x=\"20\" y=\"-80\" width=\"20\" height=\"20\" fill=\"#eeeeee\" />\n",
       "<rect x=\"40\" y=\"-80\" width=\"20\" height=\"20\" fill=\"#eeeeee\" />\n",
       "<rect x=\"60\" y=\"-80\" width=\"20\" height=\"20\" fill=\"#000000\" />\n",
       "<rect x=\"80\" y=\"-80\" width=\"20\" height=\"20\" fill=\"#eeeeee\" />\n",
       "<rect x=\"100\" y=\"-80\" width=\"20\" height=\"20\" fill=\"#000000\" />\n",
       "<rect x=\"120\" y=\"-80\" width=\"20\" height=\"20\" fill=\"#eeeeee\" />\n",
       "<rect x=\"140\" y=\"-80\" width=\"20\" height=\"20\" fill=\"#000000\" />\n",
       "<rect x=\"160\" y=\"-80\" width=\"20\" height=\"20\" fill=\"#eeeeee\" />\n",
       "<rect x=\"180\" y=\"-80\" width=\"20\" height=\"20\" fill=\"#000000\" />\n",
       "<rect x=\"0\" y=\"-60\" width=\"20\" height=\"20\" fill=\"#eeeeee\" />\n",
       "<rect x=\"20\" y=\"-60\" width=\"20\" height=\"20\" fill=\"#eeeeee\" />\n",
       "<rect x=\"40\" y=\"-60\" width=\"20\" height=\"20\" fill=\"#000000\" />\n",
       "<rect x=\"60\" y=\"-60\" width=\"20\" height=\"20\" fill=\"#eeeeee\" />\n",
       "<rect x=\"80\" y=\"-60\" width=\"20\" height=\"20\" fill=\"#000000\" />\n",
       "<rect x=\"100\" y=\"-60\" width=\"20\" height=\"20\" fill=\"#eeeeee\" />\n",
       "<rect x=\"120\" y=\"-60\" width=\"20\" height=\"20\" fill=\"#000000\" />\n",
       "<rect x=\"140\" y=\"-60\" width=\"20\" height=\"20\" fill=\"#eeeeee\" />\n",
       "<rect x=\"160\" y=\"-60\" width=\"20\" height=\"20\" fill=\"#000000\" />\n",
       "<rect x=\"180\" y=\"-60\" width=\"20\" height=\"20\" fill=\"#eeeeee\" />\n",
       "<rect x=\"0\" y=\"-40\" width=\"20\" height=\"20\" fill=\"#000000\" />\n",
       "<rect x=\"20\" y=\"-40\" width=\"20\" height=\"20\" fill=\"#000000\" />\n",
       "<rect x=\"40\" y=\"-40\" width=\"20\" height=\"20\" fill=\"#000000\" />\n",
       "<rect x=\"60\" y=\"-40\" width=\"20\" height=\"20\" fill=\"#eeeeee\" />\n",
       "<rect x=\"80\" y=\"-40\" width=\"20\" height=\"20\" fill=\"#eeeeee\" />\n",
       "<rect x=\"100\" y=\"-40\" width=\"20\" height=\"20\" fill=\"#eeeeee\" />\n",
       "<rect x=\"120\" y=\"-40\" width=\"20\" height=\"20\" fill=\"#eeeeee\" />\n",
       "<rect x=\"140\" y=\"-40\" width=\"20\" height=\"20\" fill=\"#eeeeee\" />\n",
       "<rect x=\"160\" y=\"-40\" width=\"20\" height=\"20\" fill=\"#eeeeee\" />\n",
       "<rect x=\"180\" y=\"-40\" width=\"20\" height=\"20\" fill=\"#eeeeee\" />\n",
       "<rect x=\"0\" y=\"-20\" width=\"20\" height=\"20\" fill=\"#000000\" />\n",
       "<rect x=\"20\" y=\"-20\" width=\"20\" height=\"20\" fill=\"#000000\" />\n",
       "<rect x=\"40\" y=\"-20\" width=\"20\" height=\"20\" fill=\"#000000\" />\n",
       "<rect x=\"60\" y=\"-20\" width=\"20\" height=\"20\" fill=\"#eeeeee\" />\n",
       "<rect x=\"80\" y=\"-20\" width=\"20\" height=\"20\" fill=\"#000000\" />\n",
       "<rect x=\"100\" y=\"-20\" width=\"20\" height=\"20\" fill=\"#000000\" />\n",
       "<rect x=\"120\" y=\"-20\" width=\"20\" height=\"20\" fill=\"#eeeeee\" />\n",
       "<rect x=\"140\" y=\"-20\" width=\"20\" height=\"20\" fill=\"#000000\" />\n",
       "<rect x=\"160\" y=\"-20\" width=\"20\" height=\"20\" fill=\"#eeeeee\" />\n",
       "<rect x=\"180\" y=\"-20\" width=\"20\" height=\"20\" fill=\"#000000\" />\n",
       "</svg>"
      ],
      "text/plain": [
       "<drawSvg.drawing.Drawing at 0x7fe5f9fd8d30>"
      ]
     },
     "execution_count": 23,
     "metadata": {},
     "output_type": "execute_result"
    }
   ],
   "source": [
    "backend = pqca.backend.qiskit(qiskit.Aer.get_backend('statevector_simulator'))\n",
    "automaton = pqca.Automaton(initial_state, [update_frame1, update_frame2], backend)\n",
    "automaton_quilt(automaton, 20)"
   ]
  },
  {
   "cell_type": "markdown",
   "id": "gorgeous-theme",
   "metadata": {},
   "source": [
    "As you can see any function that takes a circuit and returns a state will do:"
   ]
  },
  {
   "cell_type": "code",
   "execution_count": 24,
   "id": "athletic-review",
   "metadata": {},
   "outputs": [],
   "source": [
    "import random"
   ]
  },
  {
   "cell_type": "code",
   "execution_count": 25,
   "id": "numerous-sacramento",
   "metadata": {},
   "outputs": [
    {
     "data": {
      "image/svg+xml": [
       "<?xml version=\"1.0\" encoding=\"UTF-8\"?>\n",
       "<svg xmlns=\"http://www.w3.org/2000/svg\" xmlns:xlink=\"http://www.w3.org/1999/xlink\"\n",
       "     width=\"200\" height=\"400\" viewBox=\"0 -400 200 400\">\n",
       "<defs>\n",
       "</defs>\n",
       "<rect x=\"0\" y=\"-400\" width=\"20\" height=\"20\" fill=\"#eeeeee\" />\n",
       "<rect x=\"20\" y=\"-400\" width=\"20\" height=\"20\" fill=\"#000000\" />\n",
       "<rect x=\"40\" y=\"-400\" width=\"20\" height=\"20\" fill=\"#000000\" />\n",
       "<rect x=\"60\" y=\"-400\" width=\"20\" height=\"20\" fill=\"#000000\" />\n",
       "<rect x=\"80\" y=\"-400\" width=\"20\" height=\"20\" fill=\"#000000\" />\n",
       "<rect x=\"100\" y=\"-400\" width=\"20\" height=\"20\" fill=\"#000000\" />\n",
       "<rect x=\"120\" y=\"-400\" width=\"20\" height=\"20\" fill=\"#000000\" />\n",
       "<rect x=\"140\" y=\"-400\" width=\"20\" height=\"20\" fill=\"#000000\" />\n",
       "<rect x=\"160\" y=\"-400\" width=\"20\" height=\"20\" fill=\"#000000\" />\n",
       "<rect x=\"180\" y=\"-400\" width=\"20\" height=\"20\" fill=\"#000000\" />\n",
       "<rect x=\"0\" y=\"-380\" width=\"20\" height=\"20\" fill=\"#eeeeee\" />\n",
       "<rect x=\"20\" y=\"-380\" width=\"20\" height=\"20\" fill=\"#000000\" />\n",
       "<rect x=\"40\" y=\"-380\" width=\"20\" height=\"20\" fill=\"#000000\" />\n",
       "<rect x=\"60\" y=\"-380\" width=\"20\" height=\"20\" fill=\"#000000\" />\n",
       "<rect x=\"80\" y=\"-380\" width=\"20\" height=\"20\" fill=\"#eeeeee\" />\n",
       "<rect x=\"100\" y=\"-380\" width=\"20\" height=\"20\" fill=\"#eeeeee\" />\n",
       "<rect x=\"120\" y=\"-380\" width=\"20\" height=\"20\" fill=\"#eeeeee\" />\n",
       "<rect x=\"140\" y=\"-380\" width=\"20\" height=\"20\" fill=\"#000000\" />\n",
       "<rect x=\"160\" y=\"-380\" width=\"20\" height=\"20\" fill=\"#eeeeee\" />\n",
       "<rect x=\"180\" y=\"-380\" width=\"20\" height=\"20\" fill=\"#eeeeee\" />\n",
       "<rect x=\"0\" y=\"-360\" width=\"20\" height=\"20\" fill=\"#eeeeee\" />\n",
       "<rect x=\"20\" y=\"-360\" width=\"20\" height=\"20\" fill=\"#000000\" />\n",
       "<rect x=\"40\" y=\"-360\" width=\"20\" height=\"20\" fill=\"#000000\" />\n",
       "<rect x=\"60\" y=\"-360\" width=\"20\" height=\"20\" fill=\"#000000\" />\n",
       "<rect x=\"80\" y=\"-360\" width=\"20\" height=\"20\" fill=\"#eeeeee\" />\n",
       "<rect x=\"100\" y=\"-360\" width=\"20\" height=\"20\" fill=\"#eeeeee\" />\n",
       "<rect x=\"120\" y=\"-360\" width=\"20\" height=\"20\" fill=\"#eeeeee\" />\n",
       "<rect x=\"140\" y=\"-360\" width=\"20\" height=\"20\" fill=\"#eeeeee\" />\n",
       "<rect x=\"160\" y=\"-360\" width=\"20\" height=\"20\" fill=\"#eeeeee\" />\n",
       "<rect x=\"180\" y=\"-360\" width=\"20\" height=\"20\" fill=\"#000000\" />\n",
       "<rect x=\"0\" y=\"-340\" width=\"20\" height=\"20\" fill=\"#eeeeee\" />\n",
       "<rect x=\"20\" y=\"-340\" width=\"20\" height=\"20\" fill=\"#000000\" />\n",
       "<rect x=\"40\" y=\"-340\" width=\"20\" height=\"20\" fill=\"#eeeeee\" />\n",
       "<rect x=\"60\" y=\"-340\" width=\"20\" height=\"20\" fill=\"#eeeeee\" />\n",
       "<rect x=\"80\" y=\"-340\" width=\"20\" height=\"20\" fill=\"#000000\" />\n",
       "<rect x=\"100\" y=\"-340\" width=\"20\" height=\"20\" fill=\"#eeeeee\" />\n",
       "<rect x=\"120\" y=\"-340\" width=\"20\" height=\"20\" fill=\"#000000\" />\n",
       "<rect x=\"140\" y=\"-340\" width=\"20\" height=\"20\" fill=\"#000000\" />\n",
       "<rect x=\"160\" y=\"-340\" width=\"20\" height=\"20\" fill=\"#eeeeee\" />\n",
       "<rect x=\"180\" y=\"-340\" width=\"20\" height=\"20\" fill=\"#eeeeee\" />\n",
       "<rect x=\"0\" y=\"-320\" width=\"20\" height=\"20\" fill=\"#000000\" />\n",
       "<rect x=\"20\" y=\"-320\" width=\"20\" height=\"20\" fill=\"#eeeeee\" />\n",
       "<rect x=\"40\" y=\"-320\" width=\"20\" height=\"20\" fill=\"#000000\" />\n",
       "<rect x=\"60\" y=\"-320\" width=\"20\" height=\"20\" fill=\"#eeeeee\" />\n",
       "<rect x=\"80\" y=\"-320\" width=\"20\" height=\"20\" fill=\"#000000\" />\n",
       "<rect x=\"100\" y=\"-320\" width=\"20\" height=\"20\" fill=\"#000000\" />\n",
       "<rect x=\"120\" y=\"-320\" width=\"20\" height=\"20\" fill=\"#eeeeee\" />\n",
       "<rect x=\"140\" y=\"-320\" width=\"20\" height=\"20\" fill=\"#eeeeee\" />\n",
       "<rect x=\"160\" y=\"-320\" width=\"20\" height=\"20\" fill=\"#eeeeee\" />\n",
       "<rect x=\"180\" y=\"-320\" width=\"20\" height=\"20\" fill=\"#000000\" />\n",
       "<rect x=\"0\" y=\"-300\" width=\"20\" height=\"20\" fill=\"#000000\" />\n",
       "<rect x=\"20\" y=\"-300\" width=\"20\" height=\"20\" fill=\"#000000\" />\n",
       "<rect x=\"40\" y=\"-300\" width=\"20\" height=\"20\" fill=\"#eeeeee\" />\n",
       "<rect x=\"60\" y=\"-300\" width=\"20\" height=\"20\" fill=\"#eeeeee\" />\n",
       "<rect x=\"80\" y=\"-300\" width=\"20\" height=\"20\" fill=\"#000000\" />\n",
       "<rect x=\"100\" y=\"-300\" width=\"20\" height=\"20\" fill=\"#000000\" />\n",
       "<rect x=\"120\" y=\"-300\" width=\"20\" height=\"20\" fill=\"#eeeeee\" />\n",
       "<rect x=\"140\" y=\"-300\" width=\"20\" height=\"20\" fill=\"#000000\" />\n",
       "<rect x=\"160\" y=\"-300\" width=\"20\" height=\"20\" fill=\"#eeeeee\" />\n",
       "<rect x=\"180\" y=\"-300\" width=\"20\" height=\"20\" fill=\"#eeeeee\" />\n",
       "<rect x=\"0\" y=\"-280\" width=\"20\" height=\"20\" fill=\"#eeeeee\" />\n",
       "<rect x=\"20\" y=\"-280\" width=\"20\" height=\"20\" fill=\"#000000\" />\n",
       "<rect x=\"40\" y=\"-280\" width=\"20\" height=\"20\" fill=\"#000000\" />\n",
       "<rect x=\"60\" y=\"-280\" width=\"20\" height=\"20\" fill=\"#000000\" />\n",
       "<rect x=\"80\" y=\"-280\" width=\"20\" height=\"20\" fill=\"#000000\" />\n",
       "<rect x=\"100\" y=\"-280\" width=\"20\" height=\"20\" fill=\"#eeeeee\" />\n",
       "<rect x=\"120\" y=\"-280\" width=\"20\" height=\"20\" fill=\"#000000\" />\n",
       "<rect x=\"140\" y=\"-280\" width=\"20\" height=\"20\" fill=\"#eeeeee\" />\n",
       "<rect x=\"160\" y=\"-280\" width=\"20\" height=\"20\" fill=\"#000000\" />\n",
       "<rect x=\"180\" y=\"-280\" width=\"20\" height=\"20\" fill=\"#000000\" />\n",
       "<rect x=\"0\" y=\"-260\" width=\"20\" height=\"20\" fill=\"#eeeeee\" />\n",
       "<rect x=\"20\" y=\"-260\" width=\"20\" height=\"20\" fill=\"#eeeeee\" />\n",
       "<rect x=\"40\" y=\"-260\" width=\"20\" height=\"20\" fill=\"#eeeeee\" />\n",
       "<rect x=\"60\" y=\"-260\" width=\"20\" height=\"20\" fill=\"#eeeeee\" />\n",
       "<rect x=\"80\" y=\"-260\" width=\"20\" height=\"20\" fill=\"#eeeeee\" />\n",
       "<rect x=\"100\" y=\"-260\" width=\"20\" height=\"20\" fill=\"#000000\" />\n",
       "<rect x=\"120\" y=\"-260\" width=\"20\" height=\"20\" fill=\"#000000\" />\n",
       "<rect x=\"140\" y=\"-260\" width=\"20\" height=\"20\" fill=\"#eeeeee\" />\n",
       "<rect x=\"160\" y=\"-260\" width=\"20\" height=\"20\" fill=\"#eeeeee\" />\n",
       "<rect x=\"180\" y=\"-260\" width=\"20\" height=\"20\" fill=\"#000000\" />\n",
       "<rect x=\"0\" y=\"-240\" width=\"20\" height=\"20\" fill=\"#000000\" />\n",
       "<rect x=\"20\" y=\"-240\" width=\"20\" height=\"20\" fill=\"#000000\" />\n",
       "<rect x=\"40\" y=\"-240\" width=\"20\" height=\"20\" fill=\"#000000\" />\n",
       "<rect x=\"60\" y=\"-240\" width=\"20\" height=\"20\" fill=\"#000000\" />\n",
       "<rect x=\"80\" y=\"-240\" width=\"20\" height=\"20\" fill=\"#000000\" />\n",
       "<rect x=\"100\" y=\"-240\" width=\"20\" height=\"20\" fill=\"#000000\" />\n",
       "<rect x=\"120\" y=\"-240\" width=\"20\" height=\"20\" fill=\"#000000\" />\n",
       "<rect x=\"140\" y=\"-240\" width=\"20\" height=\"20\" fill=\"#000000\" />\n",
       "<rect x=\"160\" y=\"-240\" width=\"20\" height=\"20\" fill=\"#000000\" />\n",
       "<rect x=\"180\" y=\"-240\" width=\"20\" height=\"20\" fill=\"#000000\" />\n",
       "<rect x=\"0\" y=\"-220\" width=\"20\" height=\"20\" fill=\"#eeeeee\" />\n",
       "<rect x=\"20\" y=\"-220\" width=\"20\" height=\"20\" fill=\"#eeeeee\" />\n",
       "<rect x=\"40\" y=\"-220\" width=\"20\" height=\"20\" fill=\"#eeeeee\" />\n",
       "<rect x=\"60\" y=\"-220\" width=\"20\" height=\"20\" fill=\"#000000\" />\n",
       "<rect x=\"80\" y=\"-220\" width=\"20\" height=\"20\" fill=\"#eeeeee\" />\n",
       "<rect x=\"100\" y=\"-220\" width=\"20\" height=\"20\" fill=\"#eeeeee\" />\n",
       "<rect x=\"120\" y=\"-220\" width=\"20\" height=\"20\" fill=\"#000000\" />\n",
       "<rect x=\"140\" y=\"-220\" width=\"20\" height=\"20\" fill=\"#000000\" />\n",
       "<rect x=\"160\" y=\"-220\" width=\"20\" height=\"20\" fill=\"#000000\" />\n",
       "<rect x=\"180\" y=\"-220\" width=\"20\" height=\"20\" fill=\"#eeeeee\" />\n",
       "<rect x=\"0\" y=\"-200\" width=\"20\" height=\"20\" fill=\"#eeeeee\" />\n",
       "<rect x=\"20\" y=\"-200\" width=\"20\" height=\"20\" fill=\"#eeeeee\" />\n",
       "<rect x=\"40\" y=\"-200\" width=\"20\" height=\"20\" fill=\"#eeeeee\" />\n",
       "<rect x=\"60\" y=\"-200\" width=\"20\" height=\"20\" fill=\"#000000\" />\n",
       "<rect x=\"80\" y=\"-200\" width=\"20\" height=\"20\" fill=\"#eeeeee\" />\n",
       "<rect x=\"100\" y=\"-200\" width=\"20\" height=\"20\" fill=\"#000000\" />\n",
       "<rect x=\"120\" y=\"-200\" width=\"20\" height=\"20\" fill=\"#000000\" />\n",
       "<rect x=\"140\" y=\"-200\" width=\"20\" height=\"20\" fill=\"#000000\" />\n",
       "<rect x=\"160\" y=\"-200\" width=\"20\" height=\"20\" fill=\"#000000\" />\n",
       "<rect x=\"180\" y=\"-200\" width=\"20\" height=\"20\" fill=\"#000000\" />\n",
       "<rect x=\"0\" y=\"-180\" width=\"20\" height=\"20\" fill=\"#eeeeee\" />\n",
       "<rect x=\"20\" y=\"-180\" width=\"20\" height=\"20\" fill=\"#eeeeee\" />\n",
       "<rect x=\"40\" y=\"-180\" width=\"20\" height=\"20\" fill=\"#000000\" />\n",
       "<rect x=\"60\" y=\"-180\" width=\"20\" height=\"20\" fill=\"#000000\" />\n",
       "<rect x=\"80\" y=\"-180\" width=\"20\" height=\"20\" fill=\"#eeeeee\" />\n",
       "<rect x=\"100\" y=\"-180\" width=\"20\" height=\"20\" fill=\"#eeeeee\" />\n",
       "<rect x=\"120\" y=\"-180\" width=\"20\" height=\"20\" fill=\"#000000\" />\n",
       "<rect x=\"140\" y=\"-180\" width=\"20\" height=\"20\" fill=\"#000000\" />\n",
       "<rect x=\"160\" y=\"-180\" width=\"20\" height=\"20\" fill=\"#eeeeee\" />\n",
       "<rect x=\"180\" y=\"-180\" width=\"20\" height=\"20\" fill=\"#eeeeee\" />\n",
       "<rect x=\"0\" y=\"-160\" width=\"20\" height=\"20\" fill=\"#eeeeee\" />\n",
       "<rect x=\"20\" y=\"-160\" width=\"20\" height=\"20\" fill=\"#eeeeee\" />\n",
       "<rect x=\"40\" y=\"-160\" width=\"20\" height=\"20\" fill=\"#eeeeee\" />\n",
       "<rect x=\"60\" y=\"-160\" width=\"20\" height=\"20\" fill=\"#eeeeee\" />\n",
       "<rect x=\"80\" y=\"-160\" width=\"20\" height=\"20\" fill=\"#eeeeee\" />\n",
       "<rect x=\"100\" y=\"-160\" width=\"20\" height=\"20\" fill=\"#000000\" />\n",
       "<rect x=\"120\" y=\"-160\" width=\"20\" height=\"20\" fill=\"#eeeeee\" />\n",
       "<rect x=\"140\" y=\"-160\" width=\"20\" height=\"20\" fill=\"#000000\" />\n",
       "<rect x=\"160\" y=\"-160\" width=\"20\" height=\"20\" fill=\"#eeeeee\" />\n",
       "<rect x=\"180\" y=\"-160\" width=\"20\" height=\"20\" fill=\"#eeeeee\" />\n",
       "<rect x=\"0\" y=\"-140\" width=\"20\" height=\"20\" fill=\"#000000\" />\n",
       "<rect x=\"20\" y=\"-140\" width=\"20\" height=\"20\" fill=\"#eeeeee\" />\n",
       "<rect x=\"40\" y=\"-140\" width=\"20\" height=\"20\" fill=\"#eeeeee\" />\n",
       "<rect x=\"60\" y=\"-140\" width=\"20\" height=\"20\" fill=\"#eeeeee\" />\n",
       "<rect x=\"80\" y=\"-140\" width=\"20\" height=\"20\" fill=\"#eeeeee\" />\n",
       "<rect x=\"100\" y=\"-140\" width=\"20\" height=\"20\" fill=\"#000000\" />\n",
       "<rect x=\"120\" y=\"-140\" width=\"20\" height=\"20\" fill=\"#000000\" />\n",
       "<rect x=\"140\" y=\"-140\" width=\"20\" height=\"20\" fill=\"#000000\" />\n",
       "<rect x=\"160\" y=\"-140\" width=\"20\" height=\"20\" fill=\"#eeeeee\" />\n",
       "<rect x=\"180\" y=\"-140\" width=\"20\" height=\"20\" fill=\"#000000\" />\n",
       "<rect x=\"0\" y=\"-120\" width=\"20\" height=\"20\" fill=\"#eeeeee\" />\n",
       "<rect x=\"20\" y=\"-120\" width=\"20\" height=\"20\" fill=\"#000000\" />\n",
       "<rect x=\"40\" y=\"-120\" width=\"20\" height=\"20\" fill=\"#000000\" />\n",
       "<rect x=\"60\" y=\"-120\" width=\"20\" height=\"20\" fill=\"#eeeeee\" />\n",
       "<rect x=\"80\" y=\"-120\" width=\"20\" height=\"20\" fill=\"#eeeeee\" />\n",
       "<rect x=\"100\" y=\"-120\" width=\"20\" height=\"20\" fill=\"#eeeeee\" />\n",
       "<rect x=\"120\" y=\"-120\" width=\"20\" height=\"20\" fill=\"#000000\" />\n",
       "<rect x=\"140\" y=\"-120\" width=\"20\" height=\"20\" fill=\"#eeeeee\" />\n",
       "<rect x=\"160\" y=\"-120\" width=\"20\" height=\"20\" fill=\"#eeeeee\" />\n",
       "<rect x=\"180\" y=\"-120\" width=\"20\" height=\"20\" fill=\"#eeeeee\" />\n",
       "<rect x=\"0\" y=\"-100\" width=\"20\" height=\"20\" fill=\"#000000\" />\n",
       "<rect x=\"20\" y=\"-100\" width=\"20\" height=\"20\" fill=\"#000000\" />\n",
       "<rect x=\"40\" y=\"-100\" width=\"20\" height=\"20\" fill=\"#eeeeee\" />\n",
       "<rect x=\"60\" y=\"-100\" width=\"20\" height=\"20\" fill=\"#000000\" />\n",
       "<rect x=\"80\" y=\"-100\" width=\"20\" height=\"20\" fill=\"#eeeeee\" />\n",
       "<rect x=\"100\" y=\"-100\" width=\"20\" height=\"20\" fill=\"#eeeeee\" />\n",
       "<rect x=\"120\" y=\"-100\" width=\"20\" height=\"20\" fill=\"#eeeeee\" />\n",
       "<rect x=\"140\" y=\"-100\" width=\"20\" height=\"20\" fill=\"#eeeeee\" />\n",
       "<rect x=\"160\" y=\"-100\" width=\"20\" height=\"20\" fill=\"#000000\" />\n",
       "<rect x=\"180\" y=\"-100\" width=\"20\" height=\"20\" fill=\"#000000\" />\n",
       "<rect x=\"0\" y=\"-80\" width=\"20\" height=\"20\" fill=\"#000000\" />\n",
       "<rect x=\"20\" y=\"-80\" width=\"20\" height=\"20\" fill=\"#eeeeee\" />\n",
       "<rect x=\"40\" y=\"-80\" width=\"20\" height=\"20\" fill=\"#000000\" />\n",
       "<rect x=\"60\" y=\"-80\" width=\"20\" height=\"20\" fill=\"#000000\" />\n",
       "<rect x=\"80\" y=\"-80\" width=\"20\" height=\"20\" fill=\"#eeeeee\" />\n",
       "<rect x=\"100\" y=\"-80\" width=\"20\" height=\"20\" fill=\"#eeeeee\" />\n",
       "<rect x=\"120\" y=\"-80\" width=\"20\" height=\"20\" fill=\"#000000\" />\n",
       "<rect x=\"140\" y=\"-80\" width=\"20\" height=\"20\" fill=\"#eeeeee\" />\n",
       "<rect x=\"160\" y=\"-80\" width=\"20\" height=\"20\" fill=\"#eeeeee\" />\n",
       "<rect x=\"180\" y=\"-80\" width=\"20\" height=\"20\" fill=\"#eeeeee\" />\n",
       "<rect x=\"0\" y=\"-60\" width=\"20\" height=\"20\" fill=\"#eeeeee\" />\n",
       "<rect x=\"20\" y=\"-60\" width=\"20\" height=\"20\" fill=\"#000000\" />\n",
       "<rect x=\"40\" y=\"-60\" width=\"20\" height=\"20\" fill=\"#eeeeee\" />\n",
       "<rect x=\"60\" y=\"-60\" width=\"20\" height=\"20\" fill=\"#eeeeee\" />\n",
       "<rect x=\"80\" y=\"-60\" width=\"20\" height=\"20\" fill=\"#eeeeee\" />\n",
       "<rect x=\"100\" y=\"-60\" width=\"20\" height=\"20\" fill=\"#000000\" />\n",
       "<rect x=\"120\" y=\"-60\" width=\"20\" height=\"20\" fill=\"#eeeeee\" />\n",
       "<rect x=\"140\" y=\"-60\" width=\"20\" height=\"20\" fill=\"#eeeeee\" />\n",
       "<rect x=\"160\" y=\"-60\" width=\"20\" height=\"20\" fill=\"#000000\" />\n",
       "<rect x=\"180\" y=\"-60\" width=\"20\" height=\"20\" fill=\"#000000\" />\n",
       "<rect x=\"0\" y=\"-40\" width=\"20\" height=\"20\" fill=\"#eeeeee\" />\n",
       "<rect x=\"20\" y=\"-40\" width=\"20\" height=\"20\" fill=\"#000000\" />\n",
       "<rect x=\"40\" y=\"-40\" width=\"20\" height=\"20\" fill=\"#000000\" />\n",
       "<rect x=\"60\" y=\"-40\" width=\"20\" height=\"20\" fill=\"#000000\" />\n",
       "<rect x=\"80\" y=\"-40\" width=\"20\" height=\"20\" fill=\"#000000\" />\n",
       "<rect x=\"100\" y=\"-40\" width=\"20\" height=\"20\" fill=\"#eeeeee\" />\n",
       "<rect x=\"120\" y=\"-40\" width=\"20\" height=\"20\" fill=\"#eeeeee\" />\n",
       "<rect x=\"140\" y=\"-40\" width=\"20\" height=\"20\" fill=\"#eeeeee\" />\n",
       "<rect x=\"160\" y=\"-40\" width=\"20\" height=\"20\" fill=\"#000000\" />\n",
       "<rect x=\"180\" y=\"-40\" width=\"20\" height=\"20\" fill=\"#eeeeee\" />\n",
       "<rect x=\"0\" y=\"-20\" width=\"20\" height=\"20\" fill=\"#eeeeee\" />\n",
       "<rect x=\"20\" y=\"-20\" width=\"20\" height=\"20\" fill=\"#000000\" />\n",
       "<rect x=\"40\" y=\"-20\" width=\"20\" height=\"20\" fill=\"#000000\" />\n",
       "<rect x=\"60\" y=\"-20\" width=\"20\" height=\"20\" fill=\"#eeeeee\" />\n",
       "<rect x=\"80\" y=\"-20\" width=\"20\" height=\"20\" fill=\"#000000\" />\n",
       "<rect x=\"100\" y=\"-20\" width=\"20\" height=\"20\" fill=\"#eeeeee\" />\n",
       "<rect x=\"120\" y=\"-20\" width=\"20\" height=\"20\" fill=\"#eeeeee\" />\n",
       "<rect x=\"140\" y=\"-20\" width=\"20\" height=\"20\" fill=\"#000000\" />\n",
       "<rect x=\"160\" y=\"-20\" width=\"20\" height=\"20\" fill=\"#eeeeee\" />\n",
       "<rect x=\"180\" y=\"-20\" width=\"20\" height=\"20\" fill=\"#000000\" />\n",
       "</svg>"
      ],
      "text/plain": [
       "<drawSvg.drawing.Drawing at 0x7fe63d35a430>"
      ]
     },
     "execution_count": 25,
     "metadata": {},
     "output_type": "execute_result"
    }
   ],
   "source": [
    "def classical_random_backend(circuit):\n",
    "    return [random.choice([0,1]) for i in range(0,10)]\n",
    "automaton = pqca.Automaton(initial_state, [update_frame1, update_frame2], classical_random_backend)\n",
    "automaton_quilt(automaton, 20)"
   ]
  },
  {
   "cell_type": "markdown",
   "id": "encouraging-diabetes",
   "metadata": {},
   "source": [
    "If you have access to a quantum computer then you can write a function that sends the circuit off and waits for the response.\n",
    "For example if you are registered with IBM you can simply pass `provider.backend.[quantum computer name]` to `pqca.backend.qiskit` to get a backend suitable for these automata.\n",
    "\n",
    "If writing your own backend remember that __a backend is simply a function from circuits to lists of ints__."
   ]
  },
  {
   "cell_type": "markdown",
   "id": "artistic-finance",
   "metadata": {},
   "source": [
    "Thank you for reading this tutorial. For a practical application please check out the tutorial on synthesising music from a partitioned quantum cellular automaton, called `pqca_to_midi`."
   ]
  },
  {
   "cell_type": "markdown",
   "id": "challenging-flesh",
   "metadata": {},
   "source": [
    "Detailed documentation can be found at [readthedocs.io](https://partitioned-quantum-cellular-automata.readthedocs.io/en/latest/) as well as in the docstrings of the python files themselves. The pqca module and these tutorials are available under the MIT licence, with source code available at [Hector Miller-Bakewell’s github](https://github.com/hmillerbakewell/partitioned-quantum-cellular-automata). This package was created as part of the [QuTune Project](https://iccmr-quantum.github.io/)."
   ]
  }
 ],
 "metadata": {
  "kernelspec": {
   "display_name": "QCAs-miranda",
   "language": "python",
   "name": "qcas-miranda"
  },
  "language_info": {
   "codemirror_mode": {
    "name": "ipython",
    "version": 3
   },
   "file_extension": ".py",
   "mimetype": "text/x-python",
   "name": "python",
   "nbconvert_exporter": "python",
   "pygments_lexer": "ipython3",
   "version": "3.8.10"
  }
 },
 "nbformat": 4,
 "nbformat_minor": 5
}
