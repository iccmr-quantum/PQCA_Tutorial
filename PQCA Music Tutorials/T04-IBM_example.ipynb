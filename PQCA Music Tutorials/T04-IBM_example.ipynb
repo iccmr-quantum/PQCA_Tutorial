{
 "cells": [
  {
   "cell_type": "markdown",
   "id": "smaller-person",
   "metadata": {},
   "source": [
    "# An example running on an IBM quantum computer"
   ]
  },
  {
   "cell_type": "markdown",
   "id": "federal-valley",
   "metadata": {},
   "source": [
    "## Setting up the quantun computer"
   ]
  },
  {
   "cell_type": "code",
   "execution_count": 1,
   "id": "mature-kruger",
   "metadata": {},
   "outputs": [],
   "source": [
    "import qiskit"
   ]
  },
  {
   "cell_type": "code",
   "execution_count": 2,
   "id": "coated-array",
   "metadata": {},
   "outputs": [],
   "source": [
    "from getpass import getpass"
   ]
  },
  {
   "cell_type": "code",
   "execution_count": null,
   "id": "architectural-rolling",
   "metadata": {},
   "outputs": [],
   "source": [
    "try:\n",
    "    with open(\"IBM_token.txt\") as file:\n",
    "        api_token = file.read()\n",
    "except FileNotFoundError:\n",
    "    api_token = input(\"Please enter your IBM API token here, or store it in 'IBM_token.txt'\")"
   ]
  },
  {
   "cell_type": "code",
   "execution_count": null,
   "id": "genuine-surveillance",
   "metadata": {},
   "outputs": [],
   "source": [
    "from qiskit import IBMQ\n",
    "provider = IBMQ.enable_account(api_token)"
   ]
  },
  {
   "cell_type": "code",
   "execution_count": null,
   "id": "internal-allah",
   "metadata": {},
   "outputs": [],
   "source": [
    "provider = IBMQ.get_provider(hub='ibm-q-research', group='plymouth-1', project='qutune')"
   ]
  },
  {
   "cell_type": "markdown",
   "id": "protecting-shark",
   "metadata": {},
   "source": [
    "## Setting up the composer"
   ]
  },
  {
   "cell_type": "code",
   "execution_count": 57,
   "id": "shared-manual",
   "metadata": {},
   "outputs": [],
   "source": [
    "example_six_bits = [0,0,0,1,0,0]"
   ]
  },
  {
   "cell_type": "markdown",
   "id": "scientific-spanking",
   "metadata": {},
   "source": [
    "We will go through how to turn these 7 bits into music first, and then show how to set up the PQCA."
   ]
  },
  {
   "cell_type": "code",
   "execution_count": 11,
   "id": "golden-geology",
   "metadata": {},
   "outputs": [
    {
     "name": "stderr",
     "output_type": "stream",
     "text": [
      "music21: Certain music21 functions might need the optional package matplotlib;\n",
      "                  if you run into errors, install it by following the instructions at\n",
      "                  http://mit.edu/music21/doc/installing/installAdditional.html\n"
     ]
    }
   ],
   "source": [
    "import music21\n",
    "import musical_scales\n",
    "import pqca\n",
    "import qiskit"
   ]
  },
  {
   "cell_type": "markdown",
   "id": "south-gazette",
   "metadata": {},
   "source": [
    "`music21` may be showing a warning about potentially needing `matplotlib` - we will not require this functionality."
   ]
  },
  {
   "cell_type": "markdown",
   "id": "primary-naples",
   "metadata": {},
   "source": [
    "## From bits to a chord of notes"
   ]
  },
  {
   "cell_type": "markdown",
   "id": "smoking-vegetable",
   "metadata": {},
   "source": [
    "We will split this bitstring into four parts.\n",
    " - Bits 0 and 1 denote the mode\n",
    " - Bits 2-5 determine which notes are in the chord"
   ]
  },
  {
   "cell_type": "markdown",
   "id": "minute-enhancement",
   "metadata": {},
   "source": [
    "An example mode is \"A major\", and if our bitstring indicated we should play notes 1, 2, and 3 in this mode then our chord would be \"A B C#\"."
   ]
  },
  {
   "cell_type": "markdown",
   "id": "parallel-package",
   "metadata": {},
   "source": [
    "We will be using the `musical_scales` package for easy access to these modes and notes."
   ]
  },
  {
   "cell_type": "code",
   "execution_count": 7,
   "id": "supported-newsletter",
   "metadata": {},
   "outputs": [],
   "source": [
    "from musical_scales import scale"
   ]
  },
  {
   "cell_type": "markdown",
   "id": "interracial-stephen",
   "metadata": {},
   "source": [
    "Let's break our bitstring up into the sections we declared above."
   ]
  },
  {
   "cell_type": "code",
   "execution_count": 58,
   "id": "biological-twenty",
   "metadata": {},
   "outputs": [],
   "source": [
    "def bit_breakdown(six_bits_long):\n",
    "    \"\"\"Break our seven bits into two segments.\"\"\"\n",
    "    return {\n",
    "            \"scale\": six_bits_long[0:2],\n",
    "            \"notes\": six_bits_long[2:6]\n",
    "    }"
   ]
  },
  {
   "cell_type": "markdown",
   "id": "demographic-trace",
   "metadata": {},
   "source": [
    "And here's an example of this breakdown in action:"
   ]
  },
  {
   "cell_type": "code",
   "execution_count": 60,
   "id": "armed-baker",
   "metadata": {},
   "outputs": [
    {
     "data": {
      "text/plain": [
       "{'scale': [0, 0], 'notes': [0, 1, 0, 0]}"
      ]
     },
     "execution_count": 60,
     "metadata": {},
     "output_type": "execute_result"
    }
   ],
   "source": [
    "bit_breakdown(example_six_bits)"
   ]
  },
  {
   "cell_type": "markdown",
   "id": "intense-sterling",
   "metadata": {},
   "source": [
    "As in our tutorial we will use the following 4 doo-wop chords:\n",
    " - E major\n",
    " - B major\n",
    " - C# harmonic minor\n",
    " - A major"
   ]
  },
  {
   "cell_type": "code",
   "execution_count": 13,
   "id": "clinical-belfast",
   "metadata": {},
   "outputs": [],
   "source": [
    "modes_to_choose_from = [\n",
    "    (\"E\", \"major\"), (\"B\", \"major\"), (\"C#\", \"harmonic minor\"), (\"A\", \"major\")\n",
    "]\n",
    "def bits_to_scale_data(mode_bits, modes = modes_to_choose_from):\n",
    "    def note_mode_pair_to_object(note_mode_pair):\n",
    "        note, mode = note_mode_pair\n",
    "        return {\"fundamental\": note, \"mode\": mode}\n",
    "    \n",
    "    if mode_bits[0]:\n",
    "        if mode_bits[1]:\n",
    "            return note_mode_pair_to_object(modes[0])\n",
    "        return note_mode_pair_to_object(modes[1])\n",
    "    if mode_bits[1]:\n",
    "        return note_mode_pair_to_object(modes[2])\n",
    "    return note_mode_pair_to_object(modes[3])"
   ]
  },
  {
   "cell_type": "markdown",
   "id": "placed-furniture",
   "metadata": {},
   "source": [
    "This is enough information for someone to sit down and work out the chord on a piano. We want this music to be stored as a MIDI file so our computers can play it for us. We will be using the `music21` package to handle MIDI creation."
   ]
  },
  {
   "cell_type": "code",
   "execution_count": 61,
   "id": "broken-climb",
   "metadata": {},
   "outputs": [],
   "source": [
    "def chord_from_bits(bits, note_lengths=[\"quarter\",\"eighth\"]):\n",
    "    breakdown = bit_breakdown(bits)\n",
    "    scale_data = bits_to_scale_data(breakdown[\"scale\"])\n",
    "    scale_notes = scale(scale_data[\"fundamental\"], scale_data[\"mode\"])\n",
    "    list_of_notes = [str(note) for index, note in enumerate(scale_notes[0:1] + scale_notes[2:5])\n",
    "           if breakdown[\"notes\"][index]]\n",
    "    this_chord = music21.chord.Chord(list_of_notes)\n",
    "    this_chord.duration = music21.duration.Duration(\"half\")\n",
    "    return this_chord"
   ]
  },
  {
   "cell_type": "code",
   "execution_count": 62,
   "id": "worse-cycling",
   "metadata": {},
   "outputs": [
    {
     "data": {
      "text/plain": [
       "<music21.chord.Chord C#4>"
      ]
     },
     "execution_count": 62,
     "metadata": {},
     "output_type": "execute_result"
    }
   ],
   "source": [
    "chord_from_bits(example_six_bits)"
   ]
  },
  {
   "cell_type": "markdown",
   "id": "challenging-modern",
   "metadata": {},
   "source": [
    "### (Non-quantum) example bits"
   ]
  },
  {
   "cell_type": "markdown",
   "id": "developing-peoples",
   "metadata": {},
   "source": [
    "Our first demonstration will use a _classical_ bitstream generator. We will replace this with a partitioned quantum cellular automaton later on."
   ]
  },
  {
   "cell_type": "code",
   "execution_count": 63,
   "id": "canadian-liechtenstein",
   "metadata": {},
   "outputs": [],
   "source": [
    "import random"
   ]
  },
  {
   "cell_type": "code",
   "execution_count": 64,
   "id": "chemical-property",
   "metadata": {},
   "outputs": [],
   "source": [
    "class Bit_Generator:\n",
    "    def __next__(self):\n",
    "        return [random.random() > 0.5 for i in range(0,12)]\n",
    "BG = Bit_Generator()"
   ]
  },
  {
   "cell_type": "markdown",
   "id": "little-minutes",
   "metadata": {},
   "source": [
    "This just generates 12 bits as a time each time we call `next(BG)`, with each entry in the sequence having a 50/50 chance of being 0 or 1. With our classical bitstream generator we can generate sequences of chords."
   ]
  },
  {
   "cell_type": "code",
   "execution_count": 65,
   "id": "proper-minimum",
   "metadata": {},
   "outputs": [],
   "source": [
    "chord_sequence = [chord_from_bits(next(BG)) for i in range(0,20)]"
   ]
  },
  {
   "cell_type": "markdown",
   "id": "entertaining-tissue",
   "metadata": {},
   "source": [
    "A `stream` is how music21 handles a sequence of chords."
   ]
  },
  {
   "cell_type": "code",
   "execution_count": 66,
   "id": "expressed-present",
   "metadata": {},
   "outputs": [],
   "source": [
    "instrumentation = music21.instrument.Vibraphone() # Vibraphone\n",
    "\n",
    "#instrumentation = music21.instrument.instrumentFromMidiProgram(24) # Acoustic Nylon Guitar\n",
    "#instrumentation = music21.instrument.Harpsichord() # Harpsichord\n",
    "def stream_from_chords(chords, instrument=instrumentation):\n",
    "    stream = music21.stream.Stream()\n",
    "    stream.insert(0, instrument)\n",
    "    for chord in chords:\n",
    "        stream.append(chord)\n",
    "    return stream"
   ]
  },
  {
   "cell_type": "markdown",
   "id": "developing-kernel",
   "metadata": {},
   "source": [
    "That's all the data we need, so write it to a MIDI file.\n",
    "    "
   ]
  },
  {
   "cell_type": "code",
   "execution_count": 67,
   "id": "settled-consortium",
   "metadata": {},
   "outputs": [],
   "source": [
    "def save_midi(stream, output_midi_file=\"temp.midi\"):\n",
    "    stream.write(\"midi\",output_midi_file)"
   ]
  },
  {
   "cell_type": "code",
   "execution_count": 68,
   "id": "timely-shower",
   "metadata": {},
   "outputs": [],
   "source": [
    "save_midi(stream_from_chords(chord_sequence)) # Saves to \"temp.midi\" by default"
   ]
  },
  {
   "cell_type": "markdown",
   "id": "above-discretion",
   "metadata": {},
   "source": [
    "To draw the score we'll need access to `ipython`'s `Image` class:"
   ]
  },
  {
   "cell_type": "code",
   "execution_count": 69,
   "id": "taken-brown",
   "metadata": {},
   "outputs": [],
   "source": [
    "from IPython.display import Image"
   ]
  },
  {
   "cell_type": "code",
   "execution_count": 70,
   "id": "hungry-reference",
   "metadata": {},
   "outputs": [],
   "source": [
    "def show_score(stream):\n",
    "    return Image(stream.write(\"lily.png\"))"
   ]
  },
  {
   "cell_type": "code",
   "execution_count": 71,
   "id": "continuous-rates",
   "metadata": {},
   "outputs": [
    {
     "data": {
      "image/png": "[encoded data removed]",
      "text/plain": [
       "<IPython.core.display.Image object>"
      ]
     },
     "execution_count": 71,
     "metadata": {},
     "output_type": "execute_result"
    }
   ],
   "source": [
    "show_score(stream_from_chords(chord_sequence))"
   ]
  },
  {
   "cell_type": "markdown",
   "id": "pharmaceutical-final",
   "metadata": {},
   "source": [
    "# Drawing the states"
   ]
  },
  {
   "cell_type": "markdown",
   "id": "french-lease",
   "metadata": {},
   "source": [
    "Many people find it easier to imagine the state of a cellular automaton as a sequence of squares (white for 1, black for 0).\n",
    "This was discussed a little in the Getting Started tutorial, and we will use similar code here to represent what is going on with our `Bit_Generator`."
   ]
  },
  {
   "cell_type": "code",
   "execution_count": 53,
   "id": "literary-trash",
   "metadata": {},
   "outputs": [],
   "source": [
    "import drawSvg\n",
    "def quilt(list_of_list_of_bits):\n",
    "    # This code just draws things, understanding it isn't necessary for the tutorial\n",
    "    if len(list_of_list_of_bits) == 0:\n",
    "        return\n",
    "    square_size = 20 # in pixels\n",
    "    number_of_iterations = len(list_of_list_of_bits)\n",
    "    number_of_bits = len(list_of_list_of_bits[0])\n",
    "    drawing = drawSvg.Drawing(square_size*number_of_bits, square_size*number_of_iterations)\n",
    "    for iteration, list_of_bits in enumerate(list_of_list_of_bits):\n",
    "        for index, bit in enumerate(list_of_bits):\n",
    "            colour = '#eeeeee' if bit else '#000000'\n",
    "            rect = drawSvg.Rectangle(index*square_size,(number_of_iterations-iteration-1)*square_size,square_size,square_size, fill=colour)\n",
    "            drawing.append(rect)\n",
    "    return drawing"
   ]
  },
  {
   "cell_type": "markdown",
   "id": "animated-return",
   "metadata": {},
   "source": [
    "Let's call on `BG` 20 times, drawing each result as a new row in the quilt."
   ]
  },
  {
   "cell_type": "code",
   "execution_count": 72,
   "id": "supposed-house",
   "metadata": {},
   "outputs": [
    {
     "data": {
      "image/svg+xml": [
       "<?xml version=\"1.0\" encoding=\"UTF-8\"?>\n",
       "<svg xmlns=\"http://www.w3.org/2000/svg\" xmlns:xlink=\"http://www.w3.org/1999/xlink\"\n",
       "     width=\"120\" height=\"40\" viewBox=\"0 -40 120 40\">\n",
       "<defs>\n",
       "</defs>\n",
       "<rect x=\"0\" y=\"-40\" width=\"20\" height=\"20\" fill=\"#000000\" />\n",
       "<rect x=\"20\" y=\"-40\" width=\"20\" height=\"20\" fill=\"#000000\" />\n",
       "<rect x=\"40\" y=\"-40\" width=\"20\" height=\"20\" fill=\"#000000\" />\n",
       "<rect x=\"60\" y=\"-40\" width=\"20\" height=\"20\" fill=\"#eeeeee\" />\n",
       "<rect x=\"80\" y=\"-40\" width=\"20\" height=\"20\" fill=\"#eeeeee\" />\n",
       "<rect x=\"100\" y=\"-40\" width=\"20\" height=\"20\" fill=\"#eeeeee\" />\n",
       "<rect x=\"0\" y=\"-20\" width=\"20\" height=\"20\" fill=\"#eeeeee\" />\n",
       "<rect x=\"20\" y=\"-20\" width=\"20\" height=\"20\" fill=\"#000000\" />\n",
       "<rect x=\"40\" y=\"-20\" width=\"20\" height=\"20\" fill=\"#eeeeee\" />\n",
       "<rect x=\"60\" y=\"-20\" width=\"20\" height=\"20\" fill=\"#000000\" />\n",
       "<rect x=\"80\" y=\"-20\" width=\"20\" height=\"20\" fill=\"#eeeeee\" />\n",
       "<rect x=\"100\" y=\"-20\" width=\"20\" height=\"20\" fill=\"#000000\" />\n",
       "</svg>"
      ],
      "text/plain": [
       "<drawSvg.drawing.Drawing at 0x7f64e0a202e0>"
      ]
     },
     "execution_count": 72,
     "metadata": {},
     "output_type": "execute_result"
    }
   ],
   "source": [
    "quilt([[0,0,0,1,1,1], [1,0,1,0,1,0]])"
   ]
  },
  {
   "cell_type": "markdown",
   "id": "younger-communication",
   "metadata": {},
   "source": [
    "# Making it quantum"
   ]
  },
  {
   "cell_type": "code",
   "execution_count": 100,
   "id": "negative-pressure",
   "metadata": {},
   "outputs": [],
   "source": [
    "import pqca"
   ]
  },
  {
   "cell_type": "code",
   "execution_count": 101,
   "id": "alpha-trace",
   "metadata": {},
   "outputs": [],
   "source": [
    "num_qubits = 6\n",
    "tessellated_line = pqca.tessellation.one_dimensional(num_qubits,2)"
   ]
  },
  {
   "cell_type": "code",
   "execution_count": 102,
   "id": "promotional-population",
   "metadata": {},
   "outputs": [
    {
     "name": "stdout",
     "output_type": "stream",
     "text": [
      "Tessellation(6 qubits as 3 cells, first cell: [0, 1])\n"
     ]
    }
   ],
   "source": [
    "print(tessellated_line)"
   ]
  },
  {
   "cell_type": "markdown",
   "id": "voluntary-stevens",
   "metadata": {},
   "source": [
    "With this partition in place we can specify an update circuit that will be applied to each cell of 2 qubits. Here's an example circuit."
   ]
  },
  {
   "cell_type": "code",
   "execution_count": 103,
   "id": "opponent-regulation",
   "metadata": {},
   "outputs": [
    {
     "data": {
      "text/html": [
       "<pre style=\"word-wrap: normal;white-space: pre;background: #fff0;line-height: 1.1;font-family: &quot;Courier New&quot;,Courier,monospace\">     ┌───┐     \n",
       "q_0: ┤ H ├──■──\n",
       "     └───┘┌─┴─┐\n",
       "q_1: ─────┤ X ├\n",
       "          └───┘</pre>"
      ],
      "text/plain": [
       "     ┌───┐     \n",
       "q_0: ┤ H ├──■──\n",
       "     └───┘┌─┴─┐\n",
       "q_1: ─────┤ X ├\n",
       "          └───┘"
      ]
     },
     "execution_count": 103,
     "metadata": {},
     "output_type": "execute_result"
    }
   ],
   "source": [
    "import qiskit\n",
    "two_cell_circuit = qiskit.QuantumCircuit(2)\n",
    "two_cell_circuit.h(0)\n",
    "two_cell_circuit.cx(0,1)\n",
    "two_cell_circuit.draw()"
   ]
  },
  {
   "cell_type": "code",
   "execution_count": 104,
   "id": "electronic-pottery",
   "metadata": {},
   "outputs": [],
   "source": [
    "update_frame_1 = pqca.UpdateFrame(tessellated_line, qiskit_circuit=two_cell_circuit)"
   ]
  },
  {
   "cell_type": "code",
   "execution_count": 105,
   "id": "rolled-floating",
   "metadata": {},
   "outputs": [
    {
     "data": {
      "text/html": [
       "<pre style=\"word-wrap: normal;white-space: pre;background: #fff0;line-height: 1.1;font-family: &quot;Courier New&quot;,Courier,monospace\">     ┌───┐\n",
       "q_0: ┤ H ├\n",
       "     └───┘\n",
       "q_1: ──■──\n",
       "       │  \n",
       "q_2: ──■──\n",
       "          </pre>"
      ],
      "text/plain": [
       "     ┌───┐\n",
       "q_0: ┤ H ├\n",
       "     └───┘\n",
       "q_1: ──■──\n",
       "       │  \n",
       "q_2: ──■──\n",
       "          "
      ]
     },
     "execution_count": 105,
     "metadata": {},
     "output_type": "execute_result"
    }
   ],
   "source": [
    "three_cell_circuit = qiskit.QuantumCircuit(3)\n",
    "three_cell_circuit.h(0)\n",
    "three_cell_circuit.cz(1,2)\n",
    "three_cell_circuit.draw()"
   ]
  },
  {
   "cell_type": "code",
   "execution_count": 106,
   "id": "derived-richards",
   "metadata": {},
   "outputs": [],
   "source": [
    "update_frame_2 = pqca.UpdateFrame(pqca.tessellation.one_dimensional(num_qubits,3), qiskit_circuit=three_cell_circuit)"
   ]
  },
  {
   "cell_type": "markdown",
   "id": "smoking-fluid",
   "metadata": {},
   "source": [
    "An automaton has a starting state and way of updating that state. For our automaton we will need to provide:\n",
    " - An initial state\n",
    " - A list of update frames\n",
    " - A circuit simulator\n",
    " "
   ]
  },
  {
   "cell_type": "code",
   "execution_count": 107,
   "id": "unknown-industry",
   "metadata": {},
   "outputs": [],
   "source": [
    "initial_state = [0]*num_qubits\n",
    "initial_state[0] = 1"
   ]
  },
  {
   "cell_type": "markdown",
   "id": "meaningful-sweden",
   "metadata": {},
   "source": [
    "That's our initial state done, and we only have one update frame, so let's make the automaton."
   ]
  },
  {
   "cell_type": "code",
   "execution_count": 108,
   "id": "nominated-persian",
   "metadata": {},
   "outputs": [],
   "source": [
    "def backend(circuit: qiskit.QuantumCircuit):\n",
    "    \"\"\"Run the circuit on IBM jakarta.\"\"\"\n",
    "    circuit.measure_all()\n",
    "    results = qiskit.execute(circuit, provider.backend.ibmq_jakarta, shots=1).result()\n",
    "    if results.success:\n",
    "        final_state_as_string = list(results.get_counts(circuit).keys())[0]\n",
    "        return [int(x) for x in final_state_as_string[::-1]]\n",
    "    raise exceptions.BackendError(results.status)"
   ]
  },
  {
   "cell_type": "code",
   "execution_count": 109,
   "id": "native-entry",
   "metadata": {},
   "outputs": [],
   "source": [
    "automaton = pqca.Automaton(initial_state, [update_frame_1, update_frame_2], backend)"
   ]
  },
  {
   "cell_type": "markdown",
   "id": "sacred-referral",
   "metadata": {},
   "source": [
    "An automaton only knows its current state and how to update that state. Here's our starting state:"
   ]
  },
  {
   "cell_type": "code",
   "execution_count": 110,
   "id": "soviet-debut",
   "metadata": {},
   "outputs": [
    {
     "data": {
      "text/plain": [
       "[1, 0, 0, 0, 0, 0]"
      ]
     },
     "execution_count": 110,
     "metadata": {},
     "output_type": "execute_result"
    }
   ],
   "source": [
    "automaton.state"
   ]
  },
  {
   "cell_type": "markdown",
   "id": "protected-genesis",
   "metadata": {},
   "source": [
    "But what will it actually do? Well, the full update circuit can be accessed via `automaton.update_circuit`."
   ]
  },
  {
   "cell_type": "code",
   "execution_count": 111,
   "id": "golden-annex",
   "metadata": {},
   "outputs": [
    {
     "data": {
      "text/html": [
       "<pre style=\"word-wrap: normal;white-space: pre;background: #fff0;line-height: 1.1;font-family: &quot;Courier New&quot;,Courier,monospace\">     ┌───┐     ┌───┐\n",
       "q_0: ┤ H ├──■──┤ H ├\n",
       "     └───┘┌─┴─┐└───┘\n",
       "q_1: ─────┤ X ├──■──\n",
       "     ┌───┐└───┘  │  \n",
       "q_2: ┤ H ├──■────■──\n",
       "     └───┘┌─┴─┐┌───┐\n",
       "q_3: ─────┤ X ├┤ H ├\n",
       "     ┌───┐└───┘└───┘\n",
       "q_4: ┤ H ├──■────■──\n",
       "     └───┘┌─┴─┐  │  \n",
       "q_5: ─────┤ X ├──■──\n",
       "          └───┘     </pre>"
      ],
      "text/plain": [
       "     ┌───┐     ┌───┐\n",
       "q_0: ┤ H ├──■──┤ H ├\n",
       "     └───┘┌─┴─┐└───┘\n",
       "q_1: ─────┤ X ├──■──\n",
       "     ┌───┐└───┘  │  \n",
       "q_2: ┤ H ├──■────■──\n",
       "     └───┘┌─┴─┐┌───┐\n",
       "q_3: ─────┤ X ├┤ H ├\n",
       "     ┌───┐└───┘└───┘\n",
       "q_4: ┤ H ├──■────■──\n",
       "     └───┘┌─┴─┐  │  \n",
       "q_5: ─────┤ X ├──■──\n",
       "          └───┘     "
      ]
     },
     "execution_count": 111,
     "metadata": {},
     "output_type": "execute_result"
    }
   ],
   "source": [
    "automaton.update_circuit.draw()"
   ]
  },
  {
   "cell_type": "markdown",
   "id": "facial-complexity",
   "metadata": {},
   "source": [
    "The automaton will create a circuit that:\n",
    " - Initialises the qubits (based on current state)\n",
    " - Applies the update_circuit\n",
    " - Measures the qubits\n",
    "\n",
    "The automaton will then update its state with the newly measured results."
   ]
  },
  {
   "cell_type": "markdown",
   "id": "usual-behalf",
   "metadata": {},
   "source": [
    "## Actually running it"
   ]
  },
  {
   "cell_type": "markdown",
   "id": "north-philosophy",
   "metadata": {},
   "source": [
    "Let's make our PQCA into an iterator that updates and returns its state as a sequence of 6 bits each time it is called for."
   ]
  },
  {
   "cell_type": "code",
   "execution_count": 112,
   "id": "brilliant-exploration",
   "metadata": {},
   "outputs": [],
   "source": [
    "class Qubit_Generator:\n",
    "    def __next__(self):\n",
    "        return automaton.iterate(1)[0]\n",
    "QBG = Qubit_Generator()"
   ]
  },
  {
   "cell_type": "markdown",
   "id": "detailed-commissioner",
   "metadata": {},
   "source": [
    "What does the output look like?"
   ]
  },
  {
   "cell_type": "code",
   "execution_count": 113,
   "id": "split-module",
   "metadata": {},
   "outputs": [
    {
     "data": {
      "text/plain": [
       "[1, 0, 1, 1, 0, 0]"
      ]
     },
     "execution_count": 113,
     "metadata": {},
     "output_type": "execute_result"
    }
   ],
   "source": [
    "next(QBG)"
   ]
  },
  {
   "cell_type": "markdown",
   "id": "quick-extra",
   "metadata": {},
   "source": [
    "Just as with the classical bit generator we can draw a quilt of squares, with each row representing a new state of the automaton."
   ]
  },
  {
   "cell_type": "code",
   "execution_count": 114,
   "id": "august-journey",
   "metadata": {},
   "outputs": [],
   "source": [
    "state_sequence = [next(QBG) for _ in range(24)]"
   ]
  },
  {
   "cell_type": "code",
   "execution_count": 115,
   "id": "hundred-treasurer",
   "metadata": {},
   "outputs": [
    {
     "data": {
      "image/svg+xml": [
       "<?xml version=\"1.0\" encoding=\"UTF-8\"?>\n",
       "<svg xmlns=\"http://www.w3.org/2000/svg\" xmlns:xlink=\"http://www.w3.org/1999/xlink\"\n",
       "     width=\"120\" height=\"480\" viewBox=\"0 -480 120 480\">\n",
       "<defs>\n",
       "</defs>\n",
       "<rect x=\"0\" y=\"-480\" width=\"20\" height=\"20\" fill=\"#000000\" />\n",
       "<rect x=\"20\" y=\"-480\" width=\"20\" height=\"20\" fill=\"#eeeeee\" />\n",
       "<rect x=\"40\" y=\"-480\" width=\"20\" height=\"20\" fill=\"#000000\" />\n",
       "<rect x=\"60\" y=\"-480\" width=\"20\" height=\"20\" fill=\"#eeeeee\" />\n",
       "<rect x=\"80\" y=\"-480\" width=\"20\" height=\"20\" fill=\"#eeeeee\" />\n",
       "<rect x=\"100\" y=\"-480\" width=\"20\" height=\"20\" fill=\"#000000\" />\n",
       "<rect x=\"0\" y=\"-460\" width=\"20\" height=\"20\" fill=\"#000000\" />\n",
       "<rect x=\"20\" y=\"-460\" width=\"20\" height=\"20\" fill=\"#eeeeee\" />\n",
       "<rect x=\"40\" y=\"-460\" width=\"20\" height=\"20\" fill=\"#000000\" />\n",
       "<rect x=\"60\" y=\"-460\" width=\"20\" height=\"20\" fill=\"#eeeeee\" />\n",
       "<rect x=\"80\" y=\"-460\" width=\"20\" height=\"20\" fill=\"#eeeeee\" />\n",
       "<rect x=\"100\" y=\"-460\" width=\"20\" height=\"20\" fill=\"#eeeeee\" />\n",
       "<rect x=\"0\" y=\"-440\" width=\"20\" height=\"20\" fill=\"#eeeeee\" />\n",
       "<rect x=\"20\" y=\"-440\" width=\"20\" height=\"20\" fill=\"#000000\" />\n",
       "<rect x=\"40\" y=\"-440\" width=\"20\" height=\"20\" fill=\"#000000\" />\n",
       "<rect x=\"60\" y=\"-440\" width=\"20\" height=\"20\" fill=\"#eeeeee\" />\n",
       "<rect x=\"80\" y=\"-440\" width=\"20\" height=\"20\" fill=\"#eeeeee\" />\n",
       "<rect x=\"100\" y=\"-440\" width=\"20\" height=\"20\" fill=\"#000000\" />\n",
       "<rect x=\"0\" y=\"-420\" width=\"20\" height=\"20\" fill=\"#eeeeee\" />\n",
       "<rect x=\"20\" y=\"-420\" width=\"20\" height=\"20\" fill=\"#000000\" />\n",
       "<rect x=\"40\" y=\"-420\" width=\"20\" height=\"20\" fill=\"#000000\" />\n",
       "<rect x=\"60\" y=\"-420\" width=\"20\" height=\"20\" fill=\"#eeeeee\" />\n",
       "<rect x=\"80\" y=\"-420\" width=\"20\" height=\"20\" fill=\"#000000\" />\n",
       "<rect x=\"100\" y=\"-420\" width=\"20\" height=\"20\" fill=\"#000000\" />\n",
       "<rect x=\"0\" y=\"-400\" width=\"20\" height=\"20\" fill=\"#000000\" />\n",
       "<rect x=\"20\" y=\"-400\" width=\"20\" height=\"20\" fill=\"#000000\" />\n",
       "<rect x=\"40\" y=\"-400\" width=\"20\" height=\"20\" fill=\"#eeeeee\" />\n",
       "<rect x=\"60\" y=\"-400\" width=\"20\" height=\"20\" fill=\"#000000\" />\n",
       "<rect x=\"80\" y=\"-400\" width=\"20\" height=\"20\" fill=\"#000000\" />\n",
       "<rect x=\"100\" y=\"-400\" width=\"20\" height=\"20\" fill=\"#eeeeee\" />\n",
       "<rect x=\"0\" y=\"-380\" width=\"20\" height=\"20\" fill=\"#000000\" />\n",
       "<rect x=\"20\" y=\"-380\" width=\"20\" height=\"20\" fill=\"#000000\" />\n",
       "<rect x=\"40\" y=\"-380\" width=\"20\" height=\"20\" fill=\"#eeeeee\" />\n",
       "<rect x=\"60\" y=\"-380\" width=\"20\" height=\"20\" fill=\"#eeeeee\" />\n",
       "<rect x=\"80\" y=\"-380\" width=\"20\" height=\"20\" fill=\"#000000\" />\n",
       "<rect x=\"100\" y=\"-380\" width=\"20\" height=\"20\" fill=\"#eeeeee\" />\n",
       "<rect x=\"0\" y=\"-360\" width=\"20\" height=\"20\" fill=\"#000000\" />\n",
       "<rect x=\"20\" y=\"-360\" width=\"20\" height=\"20\" fill=\"#000000\" />\n",
       "<rect x=\"40\" y=\"-360\" width=\"20\" height=\"20\" fill=\"#eeeeee\" />\n",
       "<rect x=\"60\" y=\"-360\" width=\"20\" height=\"20\" fill=\"#eeeeee\" />\n",
       "<rect x=\"80\" y=\"-360\" width=\"20\" height=\"20\" fill=\"#eeeeee\" />\n",
       "<rect x=\"100\" y=\"-360\" width=\"20\" height=\"20\" fill=\"#000000\" />\n",
       "<rect x=\"0\" y=\"-340\" width=\"20\" height=\"20\" fill=\"#eeeeee\" />\n",
       "<rect x=\"20\" y=\"-340\" width=\"20\" height=\"20\" fill=\"#eeeeee\" />\n",
       "<rect x=\"40\" y=\"-340\" width=\"20\" height=\"20\" fill=\"#eeeeee\" />\n",
       "<rect x=\"60\" y=\"-340\" width=\"20\" height=\"20\" fill=\"#eeeeee\" />\n",
       "<rect x=\"80\" y=\"-340\" width=\"20\" height=\"20\" fill=\"#000000\" />\n",
       "<rect x=\"100\" y=\"-340\" width=\"20\" height=\"20\" fill=\"#000000\" />\n",
       "<rect x=\"0\" y=\"-320\" width=\"20\" height=\"20\" fill=\"#000000\" />\n",
       "<rect x=\"20\" y=\"-320\" width=\"20\" height=\"20\" fill=\"#eeeeee\" />\n",
       "<rect x=\"40\" y=\"-320\" width=\"20\" height=\"20\" fill=\"#000000\" />\n",
       "<rect x=\"60\" y=\"-320\" width=\"20\" height=\"20\" fill=\"#000000\" />\n",
       "<rect x=\"80\" y=\"-320\" width=\"20\" height=\"20\" fill=\"#eeeeee\" />\n",
       "<rect x=\"100\" y=\"-320\" width=\"20\" height=\"20\" fill=\"#eeeeee\" />\n",
       "<rect x=\"0\" y=\"-300\" width=\"20\" height=\"20\" fill=\"#eeeeee\" />\n",
       "<rect x=\"20\" y=\"-300\" width=\"20\" height=\"20\" fill=\"#000000\" />\n",
       "<rect x=\"40\" y=\"-300\" width=\"20\" height=\"20\" fill=\"#eeeeee\" />\n",
       "<rect x=\"60\" y=\"-300\" width=\"20\" height=\"20\" fill=\"#000000\" />\n",
       "<rect x=\"80\" y=\"-300\" width=\"20\" height=\"20\" fill=\"#000000\" />\n",
       "<rect x=\"100\" y=\"-300\" width=\"20\" height=\"20\" fill=\"#eeeeee\" />\n",
       "<rect x=\"0\" y=\"-280\" width=\"20\" height=\"20\" fill=\"#000000\" />\n",
       "<rect x=\"20\" y=\"-280\" width=\"20\" height=\"20\" fill=\"#eeeeee\" />\n",
       "<rect x=\"40\" y=\"-280\" width=\"20\" height=\"20\" fill=\"#eeeeee\" />\n",
       "<rect x=\"60\" y=\"-280\" width=\"20\" height=\"20\" fill=\"#000000\" />\n",
       "<rect x=\"80\" y=\"-280\" width=\"20\" height=\"20\" fill=\"#eeeeee\" />\n",
       "<rect x=\"100\" y=\"-280\" width=\"20\" height=\"20\" fill=\"#000000\" />\n",
       "<rect x=\"0\" y=\"-260\" width=\"20\" height=\"20\" fill=\"#eeeeee\" />\n",
       "<rect x=\"20\" y=\"-260\" width=\"20\" height=\"20\" fill=\"#000000\" />\n",
       "<rect x=\"40\" y=\"-260\" width=\"20\" height=\"20\" fill=\"#000000\" />\n",
       "<rect x=\"60\" y=\"-260\" width=\"20\" height=\"20\" fill=\"#000000\" />\n",
       "<rect x=\"80\" y=\"-260\" width=\"20\" height=\"20\" fill=\"#eeeeee\" />\n",
       "<rect x=\"100\" y=\"-260\" width=\"20\" height=\"20\" fill=\"#eeeeee\" />\n",
       "<rect x=\"0\" y=\"-240\" width=\"20\" height=\"20\" fill=\"#000000\" />\n",
       "<rect x=\"20\" y=\"-240\" width=\"20\" height=\"20\" fill=\"#000000\" />\n",
       "<rect x=\"40\" y=\"-240\" width=\"20\" height=\"20\" fill=\"#000000\" />\n",
       "<rect x=\"60\" y=\"-240\" width=\"20\" height=\"20\" fill=\"#000000\" />\n",
       "<rect x=\"80\" y=\"-240\" width=\"20\" height=\"20\" fill=\"#000000\" />\n",
       "<rect x=\"100\" y=\"-240\" width=\"20\" height=\"20\" fill=\"#eeeeee\" />\n",
       "<rect x=\"0\" y=\"-220\" width=\"20\" height=\"20\" fill=\"#000000\" />\n",
       "<rect x=\"20\" y=\"-220\" width=\"20\" height=\"20\" fill=\"#eeeeee\" />\n",
       "<rect x=\"40\" y=\"-220\" width=\"20\" height=\"20\" fill=\"#eeeeee\" />\n",
       "<rect x=\"60\" y=\"-220\" width=\"20\" height=\"20\" fill=\"#eeeeee\" />\n",
       "<rect x=\"80\" y=\"-220\" width=\"20\" height=\"20\" fill=\"#eeeeee\" />\n",
       "<rect x=\"100\" y=\"-220\" width=\"20\" height=\"20\" fill=\"#000000\" />\n",
       "<rect x=\"0\" y=\"-200\" width=\"20\" height=\"20\" fill=\"#000000\" />\n",
       "<rect x=\"20\" y=\"-200\" width=\"20\" height=\"20\" fill=\"#000000\" />\n",
       "<rect x=\"40\" y=\"-200\" width=\"20\" height=\"20\" fill=\"#000000\" />\n",
       "<rect x=\"60\" y=\"-200\" width=\"20\" height=\"20\" fill=\"#000000\" />\n",
       "<rect x=\"80\" y=\"-200\" width=\"20\" height=\"20\" fill=\"#000000\" />\n",
       "<rect x=\"100\" y=\"-200\" width=\"20\" height=\"20\" fill=\"#eeeeee\" />\n",
       "<rect x=\"0\" y=\"-180\" width=\"20\" height=\"20\" fill=\"#000000\" />\n",
       "<rect x=\"20\" y=\"-180\" width=\"20\" height=\"20\" fill=\"#000000\" />\n",
       "<rect x=\"40\" y=\"-180\" width=\"20\" height=\"20\" fill=\"#eeeeee\" />\n",
       "<rect x=\"60\" y=\"-180\" width=\"20\" height=\"20\" fill=\"#eeeeee\" />\n",
       "<rect x=\"80\" y=\"-180\" width=\"20\" height=\"20\" fill=\"#000000\" />\n",
       "<rect x=\"100\" y=\"-180\" width=\"20\" height=\"20\" fill=\"#eeeeee\" />\n",
       "<rect x=\"0\" y=\"-160\" width=\"20\" height=\"20\" fill=\"#000000\" />\n",
       "<rect x=\"20\" y=\"-160\" width=\"20\" height=\"20\" fill=\"#eeeeee\" />\n",
       "<rect x=\"40\" y=\"-160\" width=\"20\" height=\"20\" fill=\"#000000\" />\n",
       "<rect x=\"60\" y=\"-160\" width=\"20\" height=\"20\" fill=\"#000000\" />\n",
       "<rect x=\"80\" y=\"-160\" width=\"20\" height=\"20\" fill=\"#000000\" />\n",
       "<rect x=\"100\" y=\"-160\" width=\"20\" height=\"20\" fill=\"#eeeeee\" />\n",
       "<rect x=\"0\" y=\"-140\" width=\"20\" height=\"20\" fill=\"#eeeeee\" />\n",
       "<rect x=\"20\" y=\"-140\" width=\"20\" height=\"20\" fill=\"#eeeeee\" />\n",
       "<rect x=\"40\" y=\"-140\" width=\"20\" height=\"20\" fill=\"#000000\" />\n",
       "<rect x=\"60\" y=\"-140\" width=\"20\" height=\"20\" fill=\"#eeeeee\" />\n",
       "<rect x=\"80\" y=\"-140\" width=\"20\" height=\"20\" fill=\"#000000\" />\n",
       "<rect x=\"100\" y=\"-140\" width=\"20\" height=\"20\" fill=\"#eeeeee\" />\n",
       "<rect x=\"0\" y=\"-120\" width=\"20\" height=\"20\" fill=\"#eeeeee\" />\n",
       "<rect x=\"20\" y=\"-120\" width=\"20\" height=\"20\" fill=\"#000000\" />\n",
       "<rect x=\"40\" y=\"-120\" width=\"20\" height=\"20\" fill=\"#eeeeee\" />\n",
       "<rect x=\"60\" y=\"-120\" width=\"20\" height=\"20\" fill=\"#000000\" />\n",
       "<rect x=\"80\" y=\"-120\" width=\"20\" height=\"20\" fill=\"#000000\" />\n",
       "<rect x=\"100\" y=\"-120\" width=\"20\" height=\"20\" fill=\"#eeeeee\" />\n",
       "<rect x=\"0\" y=\"-100\" width=\"20\" height=\"20\" fill=\"#eeeeee\" />\n",
       "<rect x=\"20\" y=\"-100\" width=\"20\" height=\"20\" fill=\"#000000\" />\n",
       "<rect x=\"40\" y=\"-100\" width=\"20\" height=\"20\" fill=\"#000000\" />\n",
       "<rect x=\"60\" y=\"-100\" width=\"20\" height=\"20\" fill=\"#eeeeee\" />\n",
       "<rect x=\"80\" y=\"-100\" width=\"20\" height=\"20\" fill=\"#eeeeee\" />\n",
       "<rect x=\"100\" y=\"-100\" width=\"20\" height=\"20\" fill=\"#000000\" />\n",
       "<rect x=\"0\" y=\"-80\" width=\"20\" height=\"20\" fill=\"#000000\" />\n",
       "<rect x=\"20\" y=\"-80\" width=\"20\" height=\"20\" fill=\"#000000\" />\n",
       "<rect x=\"40\" y=\"-80\" width=\"20\" height=\"20\" fill=\"#000000\" />\n",
       "<rect x=\"60\" y=\"-80\" width=\"20\" height=\"20\" fill=\"#eeeeee\" />\n",
       "<rect x=\"80\" y=\"-80\" width=\"20\" height=\"20\" fill=\"#000000\" />\n",
       "<rect x=\"100\" y=\"-80\" width=\"20\" height=\"20\" fill=\"#000000\" />\n",
       "<rect x=\"0\" y=\"-60\" width=\"20\" height=\"20\" fill=\"#eeeeee\" />\n",
       "<rect x=\"20\" y=\"-60\" width=\"20\" height=\"20\" fill=\"#000000\" />\n",
       "<rect x=\"40\" y=\"-60\" width=\"20\" height=\"20\" fill=\"#eeeeee\" />\n",
       "<rect x=\"60\" y=\"-60\" width=\"20\" height=\"20\" fill=\"#000000\" />\n",
       "<rect x=\"80\" y=\"-60\" width=\"20\" height=\"20\" fill=\"#eeeeee\" />\n",
       "<rect x=\"100\" y=\"-60\" width=\"20\" height=\"20\" fill=\"#eeeeee\" />\n",
       "<rect x=\"0\" y=\"-40\" width=\"20\" height=\"20\" fill=\"#000000\" />\n",
       "<rect x=\"20\" y=\"-40\" width=\"20\" height=\"20\" fill=\"#000000\" />\n",
       "<rect x=\"40\" y=\"-40\" width=\"20\" height=\"20\" fill=\"#000000\" />\n",
       "<rect x=\"60\" y=\"-40\" width=\"20\" height=\"20\" fill=\"#000000\" />\n",
       "<rect x=\"80\" y=\"-40\" width=\"20\" height=\"20\" fill=\"#eeeeee\" />\n",
       "<rect x=\"100\" y=\"-40\" width=\"20\" height=\"20\" fill=\"#eeeeee\" />\n",
       "<rect x=\"0\" y=\"-20\" width=\"20\" height=\"20\" fill=\"#000000\" />\n",
       "<rect x=\"20\" y=\"-20\" width=\"20\" height=\"20\" fill=\"#eeeeee\" />\n",
       "<rect x=\"40\" y=\"-20\" width=\"20\" height=\"20\" fill=\"#eeeeee\" />\n",
       "<rect x=\"60\" y=\"-20\" width=\"20\" height=\"20\" fill=\"#000000\" />\n",
       "<rect x=\"80\" y=\"-20\" width=\"20\" height=\"20\" fill=\"#eeeeee\" />\n",
       "<rect x=\"100\" y=\"-20\" width=\"20\" height=\"20\" fill=\"#000000\" />\n",
       "</svg>"
      ],
      "text/plain": [
       "<drawSvg.drawing.Drawing at 0x7f65342a6940>"
      ]
     },
     "execution_count": 115,
     "metadata": {},
     "output_type": "execute_result"
    }
   ],
   "source": [
    "quilt(state_sequence)"
   ]
  },
  {
   "cell_type": "markdown",
   "id": "saved-cylinder",
   "metadata": {},
   "source": [
    "Let's use it to make music, just as we did before."
   ]
  },
  {
   "cell_type": "code",
   "execution_count": 119,
   "id": "impossible-plate",
   "metadata": {},
   "outputs": [],
   "source": [
    "chord_sequence = [chord_from_bits(state) for state in state_sequence]"
   ]
  },
  {
   "cell_type": "code",
   "execution_count": 120,
   "id": "amended-integral",
   "metadata": {},
   "outputs": [],
   "source": [
    "save_midi(stream_from_chords(chord_sequence), \"ibm_pqca.midi\")"
   ]
  },
  {
   "cell_type": "code",
   "execution_count": 121,
   "id": "dental-tobago",
   "metadata": {},
   "outputs": [
    {
     "data": {
      "image/png": "[encoded data removed]",
      "text/plain": [
       "<IPython.core.display.Image object>"
      ]
     },
     "execution_count": 121,
     "metadata": {},
     "output_type": "execute_result"
    }
   ],
   "source": [
    "show_score(stream_from_chords(chord_sequence))"
   ]
  },
  {
   "cell_type": "markdown",
   "id": "balanced-meditation",
   "metadata": {},
   "source": [
    "If you would rather work with MusicXML than MIDI then you can use the following function to do so, provided you have [MuseScore](https://musescore.org) installed."
   ]
  },
  {
   "cell_type": "code",
   "execution_count": null,
   "id": "finished-grenada",
   "metadata": {},
   "outputs": [],
   "source": []
  },
  {
   "cell_type": "code",
   "execution_count": 125,
   "id": "monetary-combining",
   "metadata": {},
   "outputs": [
    {
     "data": {
      "text/plain": [
       "PosixPath('ibm_pqca.png')"
      ]
     },
     "execution_count": 125,
     "metadata": {},
     "output_type": "execute_result"
    }
   ],
   "source": [
    "stream_from_chords(chord_sequence).write(\"lily.png\", fp=\"ibm_pqca\")"
   ]
  },
  {
   "cell_type": "code",
   "execution_count": 122,
   "id": "administrative-finish",
   "metadata": {},
   "outputs": [],
   "source": [
    "def save_musicxml(stream, file=\"temp.xml\"):\n",
    "    stream.write(\"musicxml\", file)\n",
    "#save_musicxml(stream_from_chords(chord_sequence)) # requires MuseScore"
   ]
  },
  {
   "cell_type": "code",
   "execution_count": 123,
   "id": "false-display",
   "metadata": {},
   "outputs": [],
   "source": [
    "save_musicxml(stream_from_chords(chord_sequence), \"ibm_pqca.xml\")"
   ]
  }
 ],
 "metadata": {
  "kernelspec": {
   "display_name": "Python 3.8",
   "language": "python",
   "name": "pqca"
  },
  "language_info": {
   "codemirror_mode": {
    "name": "ipython",
    "version": 3
   },
   "file_extension": ".py",
   "mimetype": "text/x-python",
   "name": "python",
   "nbconvert_exporter": "python",
   "pygments_lexer": "ipython3",
   "version": "3.7.7"
  }
 },
 "nbformat": 4,
 "nbformat_minor": 5
}
